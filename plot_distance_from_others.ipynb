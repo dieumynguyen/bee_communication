{
 "cells": [
  {
   "cell_type": "markdown",
   "metadata": {},
   "source": [
    "### Get distance_from_others data from combined_replicates/"
   ]
  },
  {
   "cell_type": "code",
   "execution_count": 422,
   "metadata": {},
   "outputs": [
    {
     "name": "stderr",
     "output_type": "stream",
     "text": [
      "/Users/dieumynguyen/anaconda3/lib/python3.6/site-packages/ipykernel_launcher.py:6: UserWarning:\n",
      "\n",
      "\n",
      "This call to matplotlib.use() has no effect because the backend has already\n",
      "been chosen; matplotlib.use() must be called *before* pylab, matplotlib.pyplot,\n",
      "or matplotlib.backends is imported for the first time.\n",
      "\n",
      "The backend was *originally* set to 'module://ipykernel.pylab.backend_inline' by the following code:\n",
      "  File \"/Users/dieumynguyen/anaconda3/lib/python3.6/runpy.py\", line 193, in _run_module_as_main\n",
      "    \"__main__\", mod_spec)\n",
      "  File \"/Users/dieumynguyen/anaconda3/lib/python3.6/runpy.py\", line 85, in _run_code\n",
      "    exec(code, run_globals)\n",
      "  File \"/Users/dieumynguyen/anaconda3/lib/python3.6/site-packages/ipykernel_launcher.py\", line 16, in <module>\n",
      "    app.launch_new_instance()\n",
      "  File \"/Users/dieumynguyen/anaconda3/lib/python3.6/site-packages/traitlets/config/application.py\", line 658, in launch_instance\n",
      "    app.start()\n",
      "  File \"/Users/dieumynguyen/anaconda3/lib/python3.6/site-packages/ipykernel/kernelapp.py\", line 478, in start\n",
      "    self.io_loop.start()\n",
      "  File \"/Users/dieumynguyen/anaconda3/lib/python3.6/site-packages/zmq/eventloop/ioloop.py\", line 177, in start\n",
      "    super(ZMQIOLoop, self).start()\n",
      "  File \"/Users/dieumynguyen/anaconda3/lib/python3.6/site-packages/tornado/ioloop.py\", line 888, in start\n",
      "    handler_func(fd_obj, events)\n",
      "  File \"/Users/dieumynguyen/anaconda3/lib/python3.6/site-packages/tornado/stack_context.py\", line 277, in null_wrapper\n",
      "    return fn(*args, **kwargs)\n",
      "  File \"/Users/dieumynguyen/anaconda3/lib/python3.6/site-packages/zmq/eventloop/zmqstream.py\", line 440, in _handle_events\n",
      "    self._handle_recv()\n",
      "  File \"/Users/dieumynguyen/anaconda3/lib/python3.6/site-packages/zmq/eventloop/zmqstream.py\", line 472, in _handle_recv\n",
      "    self._run_callback(callback, msg)\n",
      "  File \"/Users/dieumynguyen/anaconda3/lib/python3.6/site-packages/zmq/eventloop/zmqstream.py\", line 414, in _run_callback\n",
      "    callback(*args, **kwargs)\n",
      "  File \"/Users/dieumynguyen/anaconda3/lib/python3.6/site-packages/tornado/stack_context.py\", line 277, in null_wrapper\n",
      "    return fn(*args, **kwargs)\n",
      "  File \"/Users/dieumynguyen/anaconda3/lib/python3.6/site-packages/ipykernel/kernelbase.py\", line 283, in dispatcher\n",
      "    return self.dispatch_shell(stream, msg)\n",
      "  File \"/Users/dieumynguyen/anaconda3/lib/python3.6/site-packages/ipykernel/kernelbase.py\", line 233, in dispatch_shell\n",
      "    handler(stream, idents, msg)\n",
      "  File \"/Users/dieumynguyen/anaconda3/lib/python3.6/site-packages/ipykernel/kernelbase.py\", line 399, in execute_request\n",
      "    user_expressions, allow_stdin)\n",
      "  File \"/Users/dieumynguyen/anaconda3/lib/python3.6/site-packages/ipykernel/ipkernel.py\", line 208, in do_execute\n",
      "    res = shell.run_cell(code, store_history=store_history, silent=silent)\n",
      "  File \"/Users/dieumynguyen/anaconda3/lib/python3.6/site-packages/ipykernel/zmqshell.py\", line 537, in run_cell\n",
      "    return super(ZMQInteractiveShell, self).run_cell(*args, **kwargs)\n",
      "  File \"/Users/dieumynguyen/anaconda3/lib/python3.6/site-packages/IPython/core/interactiveshell.py\", line 2728, in run_cell\n",
      "    interactivity=interactivity, compiler=compiler, result=result)\n",
      "  File \"/Users/dieumynguyen/anaconda3/lib/python3.6/site-packages/IPython/core/interactiveshell.py\", line 2850, in run_ast_nodes\n",
      "    if self.run_code(code, result):\n",
      "  File \"/Users/dieumynguyen/anaconda3/lib/python3.6/site-packages/IPython/core/interactiveshell.py\", line 2910, in run_code\n",
      "    exec(code_obj, self.user_global_ns, self.user_ns)\n",
      "  File \"<ipython-input-245-f7a64a7ffa77>\", line 7, in <module>\n",
      "    get_ipython().run_line_magic('matplotlib', 'inline')\n",
      "  File \"/Users/dieumynguyen/anaconda3/lib/python3.6/site-packages/IPython/core/interactiveshell.py\", line 2095, in run_line_magic\n",
      "    result = fn(*args,**kwargs)\n",
      "  File \"<decorator-gen-107>\", line 2, in matplotlib\n",
      "  File \"/Users/dieumynguyen/anaconda3/lib/python3.6/site-packages/IPython/core/magic.py\", line 187, in <lambda>\n",
      "    call = lambda f, *a, **k: f(*a, **k)\n",
      "  File \"/Users/dieumynguyen/anaconda3/lib/python3.6/site-packages/IPython/core/magics/pylab.py\", line 99, in matplotlib\n",
      "    gui, backend = self.shell.enable_matplotlib(args.gui)\n",
      "  File \"/Users/dieumynguyen/anaconda3/lib/python3.6/site-packages/IPython/core/interactiveshell.py\", line 2978, in enable_matplotlib\n",
      "    pt.activate_matplotlib(backend)\n",
      "  File \"/Users/dieumynguyen/anaconda3/lib/python3.6/site-packages/IPython/core/pylabtools.py\", line 308, in activate_matplotlib\n",
      "    matplotlib.pyplot.switch_backend(backend)\n",
      "  File \"/Users/dieumynguyen/anaconda3/lib/python3.6/site-packages/matplotlib/pyplot.py\", line 232, in switch_backend\n",
      "    matplotlib.use(newbackend, warn=False, force=True)\n",
      "  File \"/Users/dieumynguyen/anaconda3/lib/python3.6/site-packages/matplotlib/__init__.py\", line 1305, in use\n",
      "    reload(sys.modules['matplotlib.backends'])\n",
      "  File \"/Users/dieumynguyen/anaconda3/lib/python3.6/importlib/__init__.py\", line 166, in reload\n",
      "    _bootstrap._exec(spec, module)\n",
      "  File \"/Users/dieumynguyen/anaconda3/lib/python3.6/site-packages/matplotlib/backends/__init__.py\", line 14, in <module>\n",
      "    line for line in traceback.format_stack()\n",
      "\n",
      "\n",
      "\n"
     ]
    }
   ],
   "source": [
    "# Imports\n",
    "import json\n",
    "import numpy as np\n",
    "import plotly.plotly as py\n",
    "import matplotlib as mpl\n",
    "mpl.use('Agg')\n",
    "%matplotlib inline\n",
    "from matplotlib import cycler\n",
    "import matplotlib.pyplot as plt\n",
    "import seaborn as sns\n",
    "import plotly.graph_objs as go\n",
    "import os\n",
    "import glob2\n",
    "import re"
   ]
  },
  {
   "cell_type": "code",
   "execution_count": 423,
   "metadata": {},
   "outputs": [],
   "source": [
    "with open(\"combined_replicates/Q0.01_W0.005_D0.05_T0.001.json\", \"r\") as f:\n",
    "    data = json.load(f)"
   ]
  },
  {
   "cell_type": "code",
   "execution_count": 424,
   "metadata": {},
   "outputs": [
    {
     "data": {
      "text/plain": [
       "8160"
      ]
     },
     "execution_count": 424,
     "metadata": {},
     "output_type": "execute_result"
    }
   ],
   "source": [
    "len(data[0][\"Replicate 1\"][\"distance_from_others\"])"
   ]
  },
  {
   "cell_type": "code",
   "execution_count": 425,
   "metadata": {},
   "outputs": [
    {
     "data": {
      "text/plain": [
       "2"
      ]
     },
     "execution_count": 425,
     "metadata": {},
     "output_type": "execute_result"
    }
   ],
   "source": [
    "len(data)"
   ]
  },
  {
   "cell_type": "markdown",
   "metadata": {},
   "source": [
    "### Get distances to 49 others for 1 bee over 160 timesteps"
   ]
  },
  {
   "cell_type": "code",
   "execution_count": 426,
   "metadata": {},
   "outputs": [],
   "source": [
    "def get_data_1_bee(data, replicate_i, bee_start_i):\n",
    "    # Loop over 50 lists in 1 timestep\n",
    "    # Each list is 1 bee and its distance to 49 other bees at this timestep\n",
    "    # List of 160 lists, each list has 50 values\n",
    "    one_bee_160_t = []\n",
    "    # Loop over 160 timesteps here\n",
    "    for bee in range(bee_start_i, 8160, 51):  # for other bees: every 101?\n",
    "        dist_to_49_others = data[replicate_i][\"Replicate {}\".format(replicate_i+1)][\"distance_from_others\"][bee][\"distances\"]\n",
    "        one_bee_160_t.append(dist_to_49_others)\n",
    "\n",
    "    return one_bee_160_t\n",
    "    # bees_dict[\"Bee {}\".format(i+1)] = dist_to_49_others"
   ]
  },
  {
   "cell_type": "code",
   "execution_count": 427,
   "metadata": {
    "scrolled": true
   },
   "outputs": [
    {
     "name": "stdout",
     "output_type": "stream",
     "text": [
      "160\n"
     ]
    }
   ],
   "source": [
    "# Test function\n",
    "# print(len(one_bee_160_t))\n",
    "# print(one_bee_160_t)\n",
    "bee_over_time = get_data_1_bee(data, 0, 0)\n",
    "print(len(bee_over_time))\n",
    "# bee_over_time[0]"
   ]
  },
  {
   "cell_type": "markdown",
   "metadata": {},
   "source": [
    "### Threshold nearest neighbors at max = 2 distance units "
   ]
  },
  {
   "cell_type": "code",
   "execution_count": 428,
   "metadata": {},
   "outputs": [],
   "source": [
    "def get_avg_neighbor_distances(data_list):\n",
    "    # Loop over each timestep list\n",
    "    # List of 160 floats for 1 bee\n",
    "    nearest_neighbors = []\n",
    "\n",
    "    for t_list in data_list:\n",
    "        # 160 avg values for distance to nearest neighbors\n",
    "        avg_list = []\n",
    "        for val in t_list:\n",
    "            if val <= 2:\n",
    "                avg_list.append(val)\n",
    "                # print(val)\n",
    "        nearest_neighbors.append(np.mean(avg_list))\n",
    "\n",
    "    return nearest_neighbors"
   ]
  },
  {
   "cell_type": "code",
   "execution_count": 429,
   "metadata": {},
   "outputs": [
    {
     "data": {
      "text/plain": [
       "[1.417915863048579,\n",
       " 1.4202862837829588,\n",
       " 1.4170239166854897,\n",
       " 1.4200563596448819,\n",
       " 1.4263809879890688,\n",
       " 1.4321902285083998,\n",
       " 1.4340166615384,\n",
       " 1.4390302598828217,\n",
       " 1.4310859966090166,\n",
       " 1.433105442852127,\n",
       " 1.4354469182977134,\n",
       " 1.436090695983289,\n",
       " 1.4317081335001336,\n",
       " 1.4242849697403477,\n",
       " 1.4192203350835015,\n",
       " 1.4226348602219507,\n",
       " 1.4351763798104096,\n",
       " 1.4330269733653351,\n",
       " 1.431996913557818,\n",
       " 1.430559478987933,\n",
       " 1.4214361311085695,\n",
       " 1.4171652092020974,\n",
       " 1.420486328233545,\n",
       " 1.418842202177914,\n",
       " 1.4217902015615278,\n",
       " 1.4239695332738866,\n",
       " 1.4317209270840847,\n",
       " 1.4371829222813972,\n",
       " 1.4444349929702132,\n",
       " 1.4246632146703462,\n",
       " 1.4207279264172925,\n",
       " 1.4127479020929943,\n",
       " 1.4060772575849163,\n",
       " 1.4084567170799245,\n",
       " 1.4005970959067175,\n",
       " 1.3948822141346633,\n",
       " 1.3912616864907543,\n",
       " 1.387226451757845,\n",
       " 1.3779395913196875,\n",
       " 1.3810058080839247,\n",
       " 1.3852838988840044,\n",
       " 1.3810077914556367,\n",
       " 1.3816506592447217,\n",
       " 1.3831858677279592,\n",
       " 1.388983388991614,\n",
       " 1.3953098994975135,\n",
       " 1.4343218454075228,\n",
       " 1.443533433850691,\n",
       " 1.454043863214459,\n",
       " 1.4385709336730355,\n",
       " 1.4484190342658725,\n",
       " 1.4612121707782988,\n",
       " 1.4687803225542637,\n",
       " 1.478031236434295,\n",
       " 1.4639376487967277,\n",
       " 1.4745392781631563,\n",
       " 1.5122425078485446,\n",
       " 1.498410129634716,\n",
       " 1.4059922836506276,\n",
       " 1.372255486245453,\n",
       " 1.2779304175055397,\n",
       " 1.2871943557263477,\n",
       " 1.2313633286274228,\n",
       " 1.239766936185548,\n",
       " 1.2440217489573167,\n",
       " 1.247998489984073,\n",
       " 1.175992762507111,\n",
       " 1.0904889406928482,\n",
       " 1.0864961788512322,\n",
       " 1.0863194348359813,\n",
       " 1.0830579015228503,\n",
       " 1.0771163878594952,\n",
       " 1.0739688404903303,\n",
       " 1.0736241441845777,\n",
       " 1.074361310678074,\n",
       " 0.9540485675503774,\n",
       " 0.947057069172922,\n",
       " 0.9394373891181894,\n",
       " 0.9352621502658949,\n",
       " 0.9238727103021716,\n",
       " 0.913013418996676,\n",
       " 0.9077621814714316,\n",
       " 0.7397672286352224,\n",
       " 0.7326913355773884,\n",
       " 0.7225091637810739,\n",
       " 0.7104340940469338,\n",
       " 0.7055853796232272,\n",
       " 0.7007873551100298,\n",
       " 0.6894330787028279,\n",
       " 0.8401427828211288,\n",
       " 0.8282695846678357,\n",
       " 0.8151987252399489,\n",
       " 0.8072043837541276,\n",
       " 0.7922857337552736,\n",
       " 0.7781709248360519,\n",
       " 0.7695107349141826,\n",
       " 0.7634159473277814,\n",
       " 0.8943606865165822,\n",
       " 0.8892196316871748,\n",
       " 0.8864805149219964,\n",
       " 0.7425522516252859,\n",
       " 0.7388586792661341,\n",
       " 0.7351757192829296,\n",
       " 0.7321858982376196,\n",
       " 0.729602414585441,\n",
       " 0.7228399082547385,\n",
       " 0.5381340401582897,\n",
       " 0.5334566108838328,\n",
       " 0.523831994924728,\n",
       " 0.5181423037609559,\n",
       " 0.5104156500706829,\n",
       " 0.5033290862486587,\n",
       " 0.4959629985650586,\n",
       " 0.49265475190889785,\n",
       " 0.48945788988757766,\n",
       " 0.4916019615276707,\n",
       " 0.48432620571767526,\n",
       " 0.482551999431122,\n",
       " 0.4794263568405637,\n",
       " 0.47637447325511467,\n",
       " 0.4762503121560524,\n",
       " 0.21999852541483075,\n",
       " 0.2116652698090116,\n",
       " 0.20499868869725626,\n",
       " 0.19833208526538462,\n",
       " 0.18833218959183964,\n",
       " 0.18166556207113152,\n",
       " 0.17666564136561047,\n",
       " 0.16999906188625794,\n",
       " 0.16499915622586703,\n",
       " 0.15999925972958842,\n",
       " 0.1516661025185536,\n",
       " 0.14666616904121169,\n",
       " 0.13666638843333023,\n",
       " 0.12999998061919937,\n",
       " 0.12166685311723772,\n",
       " 0.11666696801876471,\n",
       " 0.11000055389809953,\n",
       " 0.10666736196874353,\n",
       " 0.09833435083571267,\n",
       " 0.0933345355428205,\n",
       " 0.08666852249553646,\n",
       " 0.07666942874602588,\n",
       " 0.07000315471141247,\n",
       " 0.0600046884711798,\n",
       " 0.0533387386039359,\n",
       " 0.04334188792861248,\n",
       " 0.03668210731801942,\n",
       " 0.026709983275290505,\n",
       " 0.023423231596242614,\n",
       " 0.02355151340797601,\n",
       " 0.017308292363857433,\n",
       " 0.020028544996680504,\n",
       " 0.018362741428004967,\n",
       " 0.01772836079786193,\n",
       " 0.016705792842399172,\n",
       " 0.020028544996680504,\n",
       " 0.020028544996680504,\n",
       " 0.020028544996680504,\n",
       " 0.020028544996680504]"
      ]
     },
     "execution_count": 429,
     "metadata": {},
     "output_type": "execute_result"
    }
   ],
   "source": [
    "# Test\n",
    "get_avg_neighbor_distances(bee_over_time)"
   ]
  },
  {
   "cell_type": "markdown",
   "metadata": {},
   "source": [
    "### Use get_data_1_bee & get_avg_neighbor_distances to get 50 lists for 50 bees -- in 1 replicate  -- later average over all 10 replicates"
   ]
  },
  {
   "cell_type": "code",
   "execution_count": 430,
   "metadata": {},
   "outputs": [],
   "source": [
    "def get_distances_50_bees(data, replicate_i):\n",
    "    # List of 50 lists \n",
    "    neighbor_distances_all_bees = [] \n",
    "\n",
    "    for i in range(51):\n",
    "        # print(i)\n",
    "        one_bee = get_data_1_bee(data, replicate_i, i)\n",
    "        avg_distances = get_avg_neighbor_distances(one_bee)\n",
    "        neighbor_distances_all_bees.append(avg_distances)\n",
    "        \n",
    "    return neighbor_distances_all_bees"
   ]
  },
  {
   "cell_type": "code",
   "execution_count": 431,
   "metadata": {},
   "outputs": [],
   "source": [
    "# Test\n",
    "# get_distances_50_bees(data, 1)"
   ]
  },
  {
   "cell_type": "code",
   "execution_count": 432,
   "metadata": {
    "scrolled": true
   },
   "outputs": [],
   "source": [
    "def all_bees_all_time(data, replicate_i):\n",
    "    ''' For 1 replicate swarm, get list of all bees avg distance\n",
    "    from nearest neighbors over all 160 timesteps '''\n",
    "\n",
    "    # Avg over all 50 bees for each of 160 timesteps\n",
    "    # Get a list of 160 values\n",
    "    all_distances = get_distances_50_bees(data, replicate_i)\n",
    "\n",
    "    all_bees_over_time = []\n",
    "    for i in range(160):\n",
    "        # For each timestep, i, get values of each of the 50 bees at that i \n",
    "        one_t = [item[i] for item in all_distances]\n",
    "        # Get the avg of of all bees at the timestep\n",
    "        avg_all_bees = np.mean(one_t)\n",
    "        all_bees_over_time.append(avg_all_bees)\n",
    "        \n",
    "    return all_bees_over_time"
   ]
  },
  {
   "cell_type": "code",
   "execution_count": 433,
   "metadata": {},
   "outputs": [
    {
     "data": {
      "text/plain": [
       "[1.1443354443125366,\n",
       " 1.146064093338625,\n",
       " 1.1406952117956335,\n",
       " 1.1382347576758263,\n",
       " 1.1373210248513943,\n",
       " 1.1213128576318134,\n",
       " 1.1310401695307342,\n",
       " 1.150538434142367,\n",
       " 1.1402530947032892,\n",
       " 1.1315640157990536,\n",
       " 1.133763248581359,\n",
       " 1.1276489646310293,\n",
       " 1.121047658851818,\n",
       " 1.140434804832558,\n",
       " 1.1204207538447613,\n",
       " 1.1244247107006375,\n",
       " 1.1294664424702217,\n",
       " 1.1394886359277443,\n",
       " 1.1466829581624183,\n",
       " 1.1442243231140679,\n",
       " 1.146293984802749,\n",
       " 1.1410817348587279,\n",
       " 1.1343763838106844,\n",
       " 1.1435715721288175,\n",
       " 1.1390964544948894,\n",
       " 1.1317386210807543,\n",
       " 1.1295828080535972,\n",
       " 1.1425019190441668,\n",
       " 1.1421769377302053,\n",
       " 1.1417973393297813,\n",
       " 1.132860332331469,\n",
       " 1.1455199485148326,\n",
       " 1.1507765475510114,\n",
       " 1.1515020916653687,\n",
       " 1.1505224943502415,\n",
       " 1.1500438738057817,\n",
       " 1.1550029567198945,\n",
       " 1.1485419936294108,\n",
       " 1.1478934950870912,\n",
       " 1.1524395323290595,\n",
       " 1.1589795534156329,\n",
       " 1.1593867489964367,\n",
       " 1.1581152927075595,\n",
       " 1.160010161603105,\n",
       " 1.1575804652435002,\n",
       " 1.155245098184478,\n",
       " 1.1556647093585521,\n",
       " 1.1590930165754199,\n",
       " 1.16234510110596,\n",
       " 1.1678521397589743,\n",
       " 1.1715930435265762,\n",
       " 1.1759430859906292,\n",
       " 1.1790638987415558,\n",
       " 1.1782232034313007,\n",
       " 1.1822450670786895,\n",
       " 1.1763321479348725,\n",
       " 1.1772208151189882,\n",
       " 1.1686046673048953,\n",
       " 1.1580920808970425,\n",
       " 1.1536931029216382,\n",
       " 1.1352420107507546,\n",
       " 1.1235076383198248,\n",
       " 1.1150811204308753,\n",
       " 1.1169455204266392,\n",
       " 1.111373806878958,\n",
       " 1.0999561798737936,\n",
       " 1.0957426849149072,\n",
       " 1.081348403857999,\n",
       " 1.0735589486105122,\n",
       " 1.08327199139957,\n",
       " 1.073630550795886,\n",
       " 1.0720404724724857,\n",
       " 1.0719799867856818,\n",
       " 1.061741990106806,\n",
       " 1.0553276712467705,\n",
       " 1.0414478353264562,\n",
       " 1.038253090313344,\n",
       " 1.0355164331035822,\n",
       " 1.0424179782910958,\n",
       " 1.0247459997304007,\n",
       " 1.0223492451684657,\n",
       " 1.0136971861214243,\n",
       " 0.9966890548211385,\n",
       " 0.9944413680669594,\n",
       " 0.9906325726164422,\n",
       " 0.9830350311795608,\n",
       " 0.9751751072816615,\n",
       " 0.9723150075192999,\n",
       " 0.9688695422487372,\n",
       " 0.9821684998142609,\n",
       " 0.9743331358698698,\n",
       " 0.9697045734610342,\n",
       " 0.9621562344756746,\n",
       " 0.9545988141073974,\n",
       " 0.9299931965886883,\n",
       " 0.912619149865023,\n",
       " 0.9140611877910926,\n",
       " 0.9230379292234503,\n",
       " 0.9230394050881049,\n",
       " 0.9182908807305111,\n",
       " 0.8998090029882959,\n",
       " 0.8820847475406097,\n",
       " 0.8806707408163699,\n",
       " 0.8634388351621874,\n",
       " 0.8688916425725774,\n",
       " 0.870819749455412,\n",
       " 0.8551437872230686,\n",
       " 0.8486483404030138,\n",
       " 0.8387651740559422,\n",
       " 0.8283858267604968,\n",
       " 0.8222994111029633,\n",
       " 0.8172571884248151,\n",
       " 0.8134027080507625,\n",
       " 0.8095800984023314,\n",
       " 0.8129423817200183,\n",
       " 0.8158992003507959,\n",
       " 0.8150284576232001,\n",
       " 0.8135400928827475,\n",
       " 0.8134400632739214,\n",
       " 0.8187702419483512,\n",
       " 0.8251330361210316,\n",
       " 0.814655802456617,\n",
       " 0.8043668122232805,\n",
       " 0.8143650143970237,\n",
       " 0.8175060480568336,\n",
       " 0.8223909955032344,\n",
       " 0.8188518901415374,\n",
       " 0.828585624054182,\n",
       " 0.8278179030886232,\n",
       " 0.818149903903738,\n",
       " 0.8113967930167189,\n",
       " 0.8082807716802877,\n",
       " 0.8086130961422553,\n",
       " 0.809445747802642,\n",
       " 0.809217184722657,\n",
       " 0.8123654801502488,\n",
       " 0.8082847527618031,\n",
       " 0.8061260056119995,\n",
       " 0.8030420371551097,\n",
       " 0.7951820114991963,\n",
       " 0.8024619311742544,\n",
       " 0.8002535468713056,\n",
       " 0.8059783261195108,\n",
       " 0.8009352548796564,\n",
       " 0.7898959022936103,\n",
       " 0.7880093808690917,\n",
       " 0.7895853035800477,\n",
       " 0.7913535960233112,\n",
       " 0.7885256619947465,\n",
       " 0.7815286006510134,\n",
       " 0.7844607439850942,\n",
       " 0.7870878934911675,\n",
       " 0.7865764557746312,\n",
       " 0.7807364234955572,\n",
       " 0.7797715745958186,\n",
       " 0.7794565248239052,\n",
       " 0.7744478394716947,\n",
       " 0.773930205417072,\n",
       " 0.7730199952692505,\n",
       " 0.7662331501364231]"
      ]
     },
     "execution_count": 433,
     "metadata": {},
     "output_type": "execute_result"
    }
   ],
   "source": [
    "# Test\n",
    "all_bees_all_time(data, 0)"
   ]
  },
  {
   "cell_type": "markdown",
   "metadata": {},
   "source": [
    "### Average over all replicates in JSON"
   ]
  },
  {
   "cell_type": "code",
   "execution_count": 434,
   "metadata": {},
   "outputs": [],
   "source": [
    "# Get all replicates' lists into a list\n",
    "all_replicates = []\n",
    "for i in range(len(data)):\n",
    "    one_replicate_data = all_bees_all_time(data, i)\n",
    "    all_replicates.append(one_replicate_data)"
   ]
  },
  {
   "cell_type": "code",
   "execution_count": 435,
   "metadata": {
    "scrolled": true
   },
   "outputs": [],
   "source": [
    "# Store means of 10 replicates\n",
    "all_reps_avgs = []\n",
    "\n",
    "# Also get min and max for range in plotting \n",
    "mins = []; maxes = []\n",
    "\n",
    "for i in range(160):\n",
    "    one_timestep = [item[i] for item in all_replicates]\n",
    "    # Get the avg of of all bees at the timestep\n",
    "    avg_all_reps_all_bees = np.mean(one_timestep)\n",
    "    min_val = min(one_timestep)\n",
    "    max_val = max(one_timestep)\n",
    "    \n",
    "    all_reps_avgs.append(avg_all_reps_all_bees)\n",
    "    mins.append(min_val)\n",
    "    maxes.append(max_val)\n"
   ]
  },
  {
   "cell_type": "code",
   "execution_count": 436,
   "metadata": {},
   "outputs": [],
   "source": [
    "def avg_all_replicates(data_json):\n",
    "    # Get all replicates' lists into a list\n",
    "    all_replicates = []\n",
    "    for i in range(len(data_json)):\n",
    "        one_replicate_data = all_bees_all_time(data_json, i)\n",
    "        all_replicates.append(one_replicate_data)\n",
    "        \n",
    "    # Store means of 10 replicates\n",
    "    all_reps_avgs = []\n",
    "\n",
    "    # Also get min and max for range in plotting \n",
    "    mins = np.min(all_replicates, axis=0)\n",
    "    maxs = np.max(all_replicates, axis=0)\n",
    "    \n",
    "    data = {\n",
    "        \"_all\" : all_replicates,\n",
    "        \"_min\" : mins,\n",
    "        \"_max\" : maxs\n",
    "    }\n",
    "\n",
    "    return data"
   ]
  },
  {
   "cell_type": "code",
   "execution_count": 441,
   "metadata": {},
   "outputs": [],
   "source": [
    "SIM_DATA = True"
   ]
  },
  {
   "cell_type": "code",
   "execution_count": 446,
   "metadata": {},
   "outputs": [],
   "source": [
    "if SIM_DATA:\n",
    "    real_seed = np.array(avg_all_replicates(data)[\"_all\"])\n",
    "    all_data = np.array([[ele + np.random.uniform(-0.05, .05) for ele in real_seed[np.random.randint(real_seed.shape[0])]] for _ in range(10)])\n",
    "    min_data = np.min(new_data, axis=0)\n",
    "    max_data = np.max(new_data, axis=0)\n",
    "    \n",
    "    _data = {\"_all\" : all_data, \"_min\" : min_data, \"_max\" : max_data}\n",
    "else:\n",
    "    _data = avg_all_replicates(data)\n",
    "    "
   ]
  },
  {
   "cell_type": "markdown",
   "metadata": {},
   "source": [
    "- Colorbrewer: http://colorbrewer2.org/#type=sequential&scheme=YlGnBu&n=5\n",
    "- tsplot: https://seaborn.pydata.org/generated/seaborn.tsplot.html"
   ]
  },
  {
   "cell_type": "code",
   "execution_count": 447,
   "metadata": {},
   "outputs": [],
   "source": [
    "def plot_me(_all, _min, _max):\n",
    "    fig, ax = plt.subplots(1, figsize=(12, 5))\n",
    "    \n",
    "    # Setup minmax bounds\n",
    "    ax.plot(_min, color='#2c7fb8', alpha=0.5)\n",
    "    ax.plot(_max, color='#41b6c4', alpha=0.5)\n",
    "    \n",
    "    # Fill between minmax bounds\n",
    "    ax.fill_between([i for i in range(len(_min))], _min, _max, \n",
    "                    where = _max >= _min, facecolor='#ffffcc', alpha=0.25, interpolate=True)\n",
    "\n",
    "    # Average with stds 68 and 95\n",
    "    g = sns.tsplot(data=_all, estimator=np.mean, color=\"#253494\", alpha=0.5, ci=[68, 95], ax=ax, err_kws={\"color\" : \"#a1dab4\", \"alpha\" : 0.55})\n",
    "    g.lines[2].set_linewidth(4)"
   ]
  },
  {
   "cell_type": "code",
   "execution_count": 448,
   "metadata": {},
   "outputs": [
    {
     "name": "stderr",
     "output_type": "stream",
     "text": [
      "/Users/dieumynguyen/anaconda3/lib/python3.6/site-packages/seaborn/timeseries.py:183: UserWarning:\n",
      "\n",
      "The tsplot function is deprecated and will be removed or replaced (in a substantially altered version) in a future release.\n",
      "\n"
     ]
    },
    {
     "data": {
      "image/png": "[encoded data removed]",
      "text/plain": [
       "<matplotlib.figure.Figure at 0x1a245f79b0>"
      ]
     },
     "metadata": {},
     "output_type": "display_data"
    }
   ],
   "source": [
    "plot_me(**_data)"
   ]
  },
  {
   "cell_type": "code",
   "execution_count": null,
   "metadata": {},
   "outputs": [],
   "source": []
  }
 ],
 "metadata": {
  "kernelspec": {
   "display_name": "Python 3",
   "language": "python",
   "name": "python3"
  },
  "language_info": {
   "codemirror_mode": {
    "name": "ipython",
    "version": 3
   },
   "file_extension": ".py",
   "mimetype": "text/x-python",
   "name": "python",
   "nbconvert_exporter": "python",
   "pygments_lexer": "ipython3",
   "version": "3.6.4"
  }
 },
 "nbformat": 4,
 "nbformat_minor": 2
}
