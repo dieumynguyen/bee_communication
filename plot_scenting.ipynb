{
 "cells": [
  {
   "cell_type": "markdown",
   "metadata": {},
   "source": [
    "### Plot number of scenting bees over time"
   ]
  },
  {
   "cell_type": "code",
   "execution_count": 1,
   "metadata": {},
   "outputs": [],
   "source": [
    "# Imports\n",
    "import json\n",
    "import numpy as np\n",
    "import plotly.plotly as py\n",
    "import matplotlib as mpl\n",
    "mpl.use('Agg')\n",
    "%matplotlib inline\n",
    "from matplotlib import cycler\n",
    "import matplotlib.pyplot as plt\n",
    "import seaborn as sns\n",
    "import plotly.graph_objs as go\n",
    "import os\n",
    "import glob2\n",
    "import re"
   ]
  },
  {
   "cell_type": "code",
   "execution_count": 33,
   "metadata": {},
   "outputs": [],
   "source": [
    "plt.style.use('seaborn-white')\n",
    "\n",
    "plt.rcParams['font.sans-serif'] = \"Tahoma\"\n",
    "plt.rcParams['font.family'] = \"sans-serif\"\n",
    "plt.rcParams['font.size'] = 14\n",
    "plt.rcParams['axes.labelsize'] = 14\n",
    "plt.rcParams['axes.labelweight'] = 'normal'\n",
    "plt.rcParams['xtick.labelsize'] = 14\n",
    "plt.rcParams['ytick.labelsize'] = 14\n",
    "plt.rcParams['legend.fontsize'] = 10\n",
    "plt.rcParams['figure.titlesize'] = 14\n",
    "plt.rcParams['lines.linewidth'] = 2\n",
    "params = {\"ytick.color\" : \"#535956\",\n",
    "          \"xtick.color\" : \"#535956\",\n",
    "          \"axes.labelcolor\" : \"#535956\",\n",
    "          \"axes.edgecolor\" : \"#535956\",\n",
    "          \"text.color\": \"#535956\"}\n",
    "plt.rcParams.update(params)"
   ]
  },
  {
   "cell_type": "markdown",
   "metadata": {},
   "source": [
    "### Load in JSON from combine_replicates.py and pull out position_history data"
   ]
  },
  {
   "cell_type": "code",
   "execution_count": 24,
   "metadata": {},
   "outputs": [],
   "source": [
    "def get_position_data(param_set_json):\n",
    "\n",
    "    ''' Load in each JSON created by combine_replicates.py and position_history data '''\n",
    "\n",
    "    with open(\"combined_replicates/\" + param_set_json, \"r\") as f:\n",
    "        data = json.load(f)\n",
    "\n",
    "    sample_length = len(data[0][\"Replicate {}\".format(1)][\"position_history\"])\n",
    "\n",
    "    all_distances = {}\n",
    "    for j in range(len(data)):  # Loop over each replicate\n",
    "   \n",
    "        # Loop over 50 workers\n",
    "        for i in range(1, 51):\n",
    "            position = data[j][\"Replicate {}\".format(j+1)][\"position_history\"][\"worker_{}\".format(i)]\n",
    "            all_distances[\"worker_{}\".format(i)] = position\n",
    "\n",
    "\n",
    "    # Write truncated data to JSON\n",
    "    start_char = \"j\"\n",
    "    filename = f.name\n",
    "    name = filename[20:filename.index(start_char)]\n",
    "\n",
    "    with open('position_data/{}json'.format(name), 'w') as outfile:\n",
    "        json.dump(all_distances, outfile)\n",
    "\n",
    "    return None"
   ]
  },
  {
   "cell_type": "code",
   "execution_count": 26,
   "metadata": {},
   "outputs": [],
   "source": [
    "# Test function\n",
    "# get_position_data(\"Q0.15_W0.4_D0.2_T0.005_wb1.json\")"
   ]
  },
  {
   "cell_type": "markdown",
   "metadata": {},
   "source": [
    "### Plot average number of scenting bees (across all replicates) over time"
   ]
  },
  {
   "cell_type": "code",
   "execution_count": 27,
   "metadata": {},
   "outputs": [],
   "source": [
    "with open(\"position_data/Q0.15_W0.4_D0.2_T0.005_wb1.json\", \"r\") as f:\n",
    "    position_data = json.load(f)"
   ]
  },
  {
   "cell_type": "code",
   "execution_count": 29,
   "metadata": {},
   "outputs": [
    {
     "data": {
      "text/plain": [
       "50"
      ]
     },
     "execution_count": 29,
     "metadata": {},
     "output_type": "execute_result"
    }
   ],
   "source": [
    "len(position_data)"
   ]
  },
  {
   "cell_type": "code",
   "execution_count": 32,
   "metadata": {},
   "outputs": [
    {
     "data": {
      "text/plain": [
       "{'found_queen_direction': False,\n",
       " 'scenting': False,\n",
       " 'x': -2.1306307674526614,\n",
       " 'y': -0.06328343833462213}"
      ]
     },
     "execution_count": 32,
     "metadata": {},
     "output_type": "execute_result"
    }
   ],
   "source": [
    "# Each timestep data of 1 bee\n",
    "position_data[\"worker_1\"][0]"
   ]
  },
  {
   "cell_type": "code",
   "execution_count": 43,
   "metadata": {},
   "outputs": [],
   "source": [
    "# Get list of one bee's scenting over 160 timesteps\n",
    "scenting_1_bee = []\n",
    "for i in range(1, 51):\n",
    "    scenting = position_data[\"worker_1\"][i][\"scenting\"]\n",
    "    scenting_1_bee.append(scenting)"
   ]
  },
  {
   "cell_type": "markdown",
   "metadata": {},
   "source": [
    "______"
   ]
  },
  {
   "cell_type": "code",
   "execution_count": 36,
   "metadata": {},
   "outputs": [],
   "source": [
    "def standardize_filenames(fname, start_char):\n",
    "    fig_name = fname[13:fname.index(start_char)-1]\n",
    "    split_list = fig_name.split(\"_\")\n",
    "    # print(split_list)\n",
    "\n",
    "    new_name = \"\"\n",
    "    for i in range(len(split_list)):\n",
    "        if len(split_list[i][1:]) > 5:\n",
    "            if int(split_list[i][6]) <= 5:\n",
    "                round_down = split_list[i][1:6]\n",
    "                new_name += split_list[i][0] + round_down + \"_\"\n",
    "                # print(round_down)\n",
    "            else:\n",
    "                round_up = str(float(split_list[i][1:6]) + 0.001)\n",
    "                new_name += split_list[i][0] + round_up + \"_\"\n",
    "                # print(round_up)\n",
    "\n",
    "        else:\n",
    "            new_name += split_list[i] + \"_\"\n",
    "\n",
    "    # print(new_name)\n",
    "\n",
    "    if new_name[-1] == \"_\":\n",
    "        new_name = new_name[:-1]\n",
    "\n",
    "    # print(new_name)\n",
    "\n",
    "    return new_name"
   ]
  },
  {
   "cell_type": "code",
   "execution_count": 35,
   "metadata": {},
   "outputs": [],
   "source": [
    "\n",
    "def plot_avg_distances(data_json):\n",
    "\n",
    "    ''' For each replicate in a set of parameters, open that cumulative\n",
    "    JSON and plot each replicate as a line in a single plot.\n",
    "    '''\n",
    "\n",
    "    with open(\"avg_distance_data/\" + data_json, \"r\") as f:\n",
    "        data = json.load(f)\n",
    "\n",
    "    fig = plt.figure()\n",
    "    ax = plt.axes([0.1, 0.1, 0.6, 0.75])  # try\n",
    "\n",
    "    # Standardize file names\n",
    "    fname = f.name\n",
    "    start_char = \"j\"\n",
    "    fig_name = standardize_filenames(fname, start_char)\n",
    "\n",
    "    # Plotting\n",
    "    ax.spines['right'].set_visible(False)\n",
    "    ax.spines['top'].set_visible(False)\n",
    "\n",
    "    for i, d in enumerate(data):\n",
    "        ax.plot(d, label='Swarm {}'.format(i+1))\n",
    "\n",
    "        plt.xlim(0, 160)\n",
    "        plt.ylim(0, 5)\n",
    "\n",
    "        plt.legend(bbox_to_anchor=(1.05, 1), loc=2, borderaxespad=0.)\n",
    "\n",
    "        plt.xlabel('Time (step)')\n",
    "        plt.ylabel('Average distance to queen')\n",
    "        plt.title('{}'.format(fig_name))\n",
    "\n",
    "        # plt.tight_layout()\n",
    "        plt.savefig(\"figures/scenting_bees/{}.pdf\".format(fig_name), transparent=True)\n",
    "        "
   ]
  },
  {
   "cell_type": "code",
   "execution_count": null,
   "metadata": {},
   "outputs": [],
   "source": [
    "plot_avg_distances(\"Q0.15_W0.4_D0.2_T0.005_wb1.json\")"
   ]
  }
 ],
 "metadata": {
  "kernelspec": {
   "display_name": "Python 3",
   "language": "python",
   "name": "python3"
  },
  "language_info": {
   "codemirror_mode": {
    "name": "ipython",
    "version": 3
   },
   "file_extension": ".py",
   "mimetype": "text/x-python",
   "name": "python",
   "nbconvert_exporter": "python",
   "pygments_lexer": "ipython3",
   "version": "3.6.4"
  }
 },
 "nbformat": 4,
 "nbformat_minor": 2
}
