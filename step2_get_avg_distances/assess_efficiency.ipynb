{
 "cells": [
  {
   "cell_type": "markdown",
   "metadata": {},
   "source": [
    "### Goal: Get data from avg_distance_data/ and 1) find swarms that have average (over all bees) distance from queen  <0.1 and 2) the time step when those swarms reaches this plateau."
   ]
  },
  {
   "cell_type": "code",
   "execution_count": 1,
   "metadata": {},
   "outputs": [],
   "source": [
    "# Imports\n",
    "import json\n",
    "import numpy as np\n",
    "import plotly.plotly as py\n",
    "import matplotlib as mpl\n",
    "from matplotlib import cycler\n",
    "import matplotlib.pyplot as plt\n",
    "import seaborn as sns\n",
    "import plotly.graph_objs as go\n",
    "import os\n",
    "import glob2\n",
    "import re\n",
    "import pandas as pd"
   ]
  },
  {
   "cell_type": "code",
   "execution_count": 2,
   "metadata": {},
   "outputs": [],
   "source": [
    "# # Try on this data of 2 Replicates\n",
    "# with open(\"avg_distance_data/Q0.15_W0.1_D0.1_T0.5_wb3.json\", \"r\") as f:\n",
    "#     data = json.load(f)"
   ]
  },
  {
   "cell_type": "code",
   "execution_count": 2,
   "metadata": {},
   "outputs": [],
   "source": [
    "# len(data), len(data[0])"
   ]
  },
  {
   "cell_type": "markdown",
   "metadata": {},
   "source": [
    "Iterate over each of the 10 replicates. Find time step (index) of the first instance of the min value of data[replicate_i]"
   ]
  },
  {
   "cell_type": "code",
   "execution_count": 3,
   "metadata": {},
   "outputs": [],
   "source": [
    "def get_all_reps_mins(json_file):\n",
    "    \n",
    "    with open(\"avg_distance_data/{}\".format(json_file), \"r\") as f:\n",
    "        data = json.load(f)\n",
    "    \n",
    "    all_reps_mins = []\n",
    "    for rep_i in range(len(data)):\n",
    "        # print(\"Replicate {}:\".format(rep_i))\n",
    "        min_val = np.min(data[rep_i])\n",
    "        min_i = np.argmin(data[rep_i])\n",
    "        # print(min_val, min_i)\n",
    "        min_tuple = (min_val, min_i)\n",
    "        all_reps_mins.append(min_tuple)\n",
    "\n",
    "    return all_reps_mins\n",
    "\n",
    "# get_all_reps_mins(\"Q0.15_W0.001_D0.25_T0.5_wb1.json\")"
   ]
  },
  {
   "cell_type": "markdown",
   "metadata": {},
   "source": [
    "Check if min_val > 0.03. If so, add to list; if not, replace it with NaN."
   ]
  },
  {
   "cell_type": "code",
   "execution_count": 4,
   "metadata": {},
   "outputs": [],
   "source": [
    "def check_min(json_file, max_dist):\n",
    "    \n",
    "    all_reps_mins = get_all_reps_mins(json_file)\n",
    "    \n",
    "    min_vals = []; min_indices = []\n",
    "    time_data = {}\n",
    "\n",
    "    for i, tup in enumerate(all_reps_mins):\n",
    "        if tup[0] <= max_dist:\n",
    "            min_vals.append(tup[0])\n",
    "            min_indices.append(tup[1])\n",
    "        else: \n",
    "            min_vals.append(tup[0])\n",
    "            min_indices.append(np.nan)\n",
    "\n",
    "        time_data[\"min_vals\"] = min_vals\n",
    "        time_data[\"min_indices\"] = min_indices\n",
    "        \n",
    "    return time_data\n",
    "\n",
    "# time_data = check_min(\"Q0.15_W0.1_D0.55_T0.5_wb1.json\", max_dist=0.1)\n",
    "# time_data"
   ]
  },
  {
   "cell_type": "markdown",
   "metadata": {},
   "source": [
    "If at least 6/10 of replicates != NaN, get average. Else, NaN for this set of params."
   ]
  },
  {
   "cell_type": "code",
   "execution_count": 5,
   "metadata": {},
   "outputs": [],
   "source": [
    "def get_set_avg(json_file, max_dist, success_proportion):\n",
    "    \n",
    "    time_data = check_min(json_file, max_dist)\n",
    "    \n",
    "    param_set_avg = 0\n",
    "\n",
    "    count_successes = 0\n",
    "    # sum(value != np.nan for value in time_data[\"min_indices\"]) \n",
    "    for val in time_data[\"min_indices\"]:\n",
    "        if type(val) != type(np.nan):\n",
    "            count_successes += 1\n",
    "    # print(\"Not NaNs: {}\".format(count_successes))\n",
    "    \n",
    "    if count_successes > success_proportion:\n",
    "        param_set_avg = int(round(np.nanmean(time_data[\"min_indices\"])))\n",
    "    else: param_set_avg = np.nan\n",
    "\n",
    "    return param_set_avg\n",
    "    \n",
    "# get_set_avg(\"Q0.15_W0.005_D0.25_T0.5_wb1.json\", max_dist=0.1, success_proportion=5)"
   ]
  },
  {
   "cell_type": "markdown",
   "metadata": {},
   "source": [
    "Write this avg value of all 84 sets of params to a json."
   ]
  },
  {
   "cell_type": "code",
   "execution_count": 62,
   "metadata": {},
   "outputs": [],
   "source": [
    "# Get all file names:\n",
    "all_jsons = list(map(lambda x : x.split(\"/\")[-1], glob2.glob(\"avg_distance_data/*T0.005*.json\")))\n",
    "\n",
    "# Store avgs for all 84 jsons\n",
    "store_avgs = {}\n",
    "for j_file in all_jsons:\n",
    "    store_avgs[j_file[:-5]] = get_set_avg(j_file, max_dist=0.2, success_proportion=5) "
   ]
  },
  {
   "cell_type": "code",
   "execution_count": null,
   "metadata": {},
   "outputs": [],
   "source": []
  },
  {
   "cell_type": "code",
   "execution_count": 63,
   "metadata": {
    "scrolled": true
   },
   "outputs": [],
   "source": [
    "# len(store_avgs), store_avgs"
   ]
  },
  {
   "cell_type": "code",
   "execution_count": 64,
   "metadata": {},
   "outputs": [
    {
     "name": "stdout",
     "output_type": "stream",
     "text": [
      "Q = [0.15]\n",
      "W = [0.0005, 0.001, 0.005, 0.01, 0.05, 0.1, 0.5]\n",
      "D = [0.005, 0.01, 0.05, 0.1, 0.5, 1.0]\n",
      "T = [0.005, 0.5]\n"
     ]
    }
   ],
   "source": [
    "# Four params and their values, each is a np array\n",
    "queen_bee_concentrations = [0.15]\n",
    "print(\"Q = {}\".format(queen_bee_concentrations))\n",
    "\n",
    "worker_bee_concentrations = [0.0005, 0.001, 0.005, 0.01, 0.05, 0.1, 0.5]\n",
    "print(\"W = {}\".format(worker_bee_concentrations))\n",
    "\n",
    "diffusion_coefficients = [0.005, 0.01, 0.05, 0.1, 0.5, 1.0]\n",
    "print(\"D = {}\".format(diffusion_coefficients))\n",
    "\n",
    "worker_bee_thresholds = [0.005, 0.5]\n",
    "print(\"T = {}\".format(worker_bee_thresholds))\n"
   ]
  },
  {
   "cell_type": "code",
   "execution_count": 65,
   "metadata": {},
   "outputs": [],
   "source": [
    "def all_W_1_D(D_val):\n",
    "    # For 1 D vs. all W values\n",
    "    avgs_list = []\n",
    "    for param_set in store_avgs:\n",
    "        if \"D{}\".format(D_val) in param_set:\n",
    "            avgs = store_avgs[param_set]\n",
    "            print(param_set)\n",
    "            print(avgs)\n",
    "            avgs_list.append(avgs)\n",
    "\n",
    "    return avgs_list\n",
    "\n",
    "# all_W_1_D(D_val=0.25)"
   ]
  },
  {
   "cell_type": "code",
   "execution_count": 66,
   "metadata": {},
   "outputs": [
    {
     "name": "stdout",
     "output_type": "stream",
     "text": [
      "Q0.15_W0.0005_D0.005_T0.0050_wb1\n",
      "nan\n",
      "Q0.15_W0.0010_D0.005_T0.0050_wb1\n",
      "nan\n",
      "Q0.15_W0.0050_D0.005_T0.0050_wb1\n",
      "nan\n",
      "Q0.15_W0.0100_D0.005_T0.0050_wb1\n",
      "nan\n",
      "Q0.15_W0.0500_D0.005_T0.0050_wb1\n",
      "nan\n",
      "Q0.15_W0.1000_D0.005_T0.0050_wb1\n",
      "nan\n",
      "Q0.15_W0.5000_D0.005_T0.0050_wb1\n",
      "nan\n",
      "Q0.15_W0.0005_D0.010_T0.0050_wb1\n",
      "nan\n",
      "Q0.15_W0.0010_D0.010_T0.0050_wb1\n",
      "nan\n",
      "Q0.15_W0.0050_D0.010_T0.0050_wb1\n",
      "nan\n",
      "Q0.15_W0.0100_D0.010_T0.0050_wb1\n",
      "nan\n",
      "Q0.15_W0.0500_D0.010_T0.0050_wb1\n",
      "nan\n",
      "Q0.15_W0.1000_D0.010_T0.0050_wb1\n",
      "nan\n",
      "Q0.15_W0.5000_D0.010_T0.0050_wb1\n",
      "nan\n",
      "Q0.15_W0.0005_D0.050_T0.0050_wb1\n",
      "298\n",
      "Q0.15_W0.0010_D0.050_T0.0050_wb1\n",
      "309\n",
      "Q0.15_W0.0050_D0.050_T0.0050_wb1\n",
      "312\n",
      "Q0.15_W0.0100_D0.050_T0.0050_wb1\n",
      "314\n",
      "Q0.15_W0.0500_D0.050_T0.0050_wb1\n",
      "314\n",
      "Q0.15_W0.1000_D0.050_T0.0050_wb1\n",
      "314\n",
      "Q0.15_W0.5000_D0.050_T0.0050_wb1\n",
      "315\n",
      "Q0.15_W0.0005_D0.100_T0.0050_wb1\n",
      "281\n",
      "Q0.15_W0.0010_D0.100_T0.0050_wb1\n",
      "289\n",
      "Q0.15_W0.0050_D0.100_T0.0050_wb1\n",
      "295\n",
      "Q0.15_W0.0100_D0.100_T0.0050_wb1\n",
      "304\n",
      "Q0.15_W0.0500_D0.100_T0.0050_wb1\n",
      "310\n",
      "Q0.15_W0.1000_D0.100_T0.0050_wb1\n",
      "311\n",
      "Q0.15_W0.5000_D0.100_T0.0050_wb1\n",
      "318\n",
      "Q0.15_W0.0005_D0.500_T0.0050_wb1\n",
      "230\n",
      "Q0.15_W0.0010_D0.500_T0.0050_wb1\n",
      "198\n",
      "Q0.15_W0.0050_D0.500_T0.0050_wb1\n",
      "197\n",
      "Q0.15_W0.0100_D0.500_T0.0050_wb1\n",
      "257\n",
      "Q0.15_W0.0500_D0.500_T0.0050_wb1\n",
      "297\n",
      "Q0.15_W0.1000_D0.500_T0.0050_wb1\n",
      "314\n",
      "Q0.15_W0.5000_D0.500_T0.0050_wb1\n",
      "nan\n",
      "Q0.15_W0.0005_D1.000_T0.0050_wb1\n",
      "213\n",
      "Q0.15_W0.0010_D1.000_T0.0050_wb1\n",
      "167\n",
      "Q0.15_W0.0050_D1.000_T0.0050_wb1\n",
      "180\n",
      "Q0.15_W0.0100_D1.000_T0.0050_wb1\n",
      "180\n",
      "Q0.15_W0.0500_D1.000_T0.0050_wb1\n",
      "228\n",
      "Q0.15_W0.1000_D1.000_T0.0050_wb1\n",
      "301\n",
      "Q0.15_W0.5000_D1.000_T0.0050_wb1\n",
      "nan\n"
     ]
    }
   ],
   "source": [
    "data = {}\n",
    "for i, d in enumerate(diffusion_coefficients):\n",
    "    all_W = all_W_1_D(d)\n",
    "    data[d] = all_W\n",
    "\n",
    "# data"
   ]
  },
  {
   "cell_type": "code",
   "execution_count": 67,
   "metadata": {},
   "outputs": [
    {
     "data": {
      "text/html": [
       "<div>\n",
       "<style scoped>\n",
       "    .dataframe tbody tr th:only-of-type {\n",
       "        vertical-align: middle;\n",
       "    }\n",
       "\n",
       "    .dataframe tbody tr th {\n",
       "        vertical-align: top;\n",
       "    }\n",
       "\n",
       "    .dataframe thead th {\n",
       "        text-align: right;\n",
       "    }\n",
       "</style>\n",
       "<table border=\"1\" class=\"dataframe\">\n",
       "  <thead>\n",
       "    <tr style=\"text-align: right;\">\n",
       "      <th></th>\n",
       "      <th>0.005</th>\n",
       "      <th>0.01</th>\n",
       "      <th>0.05</th>\n",
       "      <th>0.1</th>\n",
       "      <th>0.5</th>\n",
       "      <th>1.0</th>\n",
       "    </tr>\n",
       "  </thead>\n",
       "  <tbody>\n",
       "    <tr>\n",
       "      <th>0.0005</th>\n",
       "      <td>NaN</td>\n",
       "      <td>NaN</td>\n",
       "      <td>298</td>\n",
       "      <td>281</td>\n",
       "      <td>230.0</td>\n",
       "      <td>213.0</td>\n",
       "    </tr>\n",
       "    <tr>\n",
       "      <th>0.0010</th>\n",
       "      <td>NaN</td>\n",
       "      <td>NaN</td>\n",
       "      <td>309</td>\n",
       "      <td>289</td>\n",
       "      <td>198.0</td>\n",
       "      <td>167.0</td>\n",
       "    </tr>\n",
       "    <tr>\n",
       "      <th>0.0050</th>\n",
       "      <td>NaN</td>\n",
       "      <td>NaN</td>\n",
       "      <td>312</td>\n",
       "      <td>295</td>\n",
       "      <td>197.0</td>\n",
       "      <td>180.0</td>\n",
       "    </tr>\n",
       "    <tr>\n",
       "      <th>0.0100</th>\n",
       "      <td>NaN</td>\n",
       "      <td>NaN</td>\n",
       "      <td>314</td>\n",
       "      <td>304</td>\n",
       "      <td>257.0</td>\n",
       "      <td>180.0</td>\n",
       "    </tr>\n",
       "    <tr>\n",
       "      <th>0.0500</th>\n",
       "      <td>NaN</td>\n",
       "      <td>NaN</td>\n",
       "      <td>314</td>\n",
       "      <td>310</td>\n",
       "      <td>297.0</td>\n",
       "      <td>228.0</td>\n",
       "    </tr>\n",
       "    <tr>\n",
       "      <th>0.1000</th>\n",
       "      <td>NaN</td>\n",
       "      <td>NaN</td>\n",
       "      <td>314</td>\n",
       "      <td>311</td>\n",
       "      <td>314.0</td>\n",
       "      <td>301.0</td>\n",
       "    </tr>\n",
       "    <tr>\n",
       "      <th>0.5000</th>\n",
       "      <td>NaN</td>\n",
       "      <td>NaN</td>\n",
       "      <td>315</td>\n",
       "      <td>318</td>\n",
       "      <td>NaN</td>\n",
       "      <td>NaN</td>\n",
       "    </tr>\n",
       "  </tbody>\n",
       "</table>\n",
       "</div>"
      ],
      "text/plain": [
       "        0.005  0.010  0.050  0.100  0.500  1.000\n",
       "0.0005    NaN    NaN    298    281  230.0  213.0\n",
       "0.0010    NaN    NaN    309    289  198.0  167.0\n",
       "0.0050    NaN    NaN    312    295  197.0  180.0\n",
       "0.0100    NaN    NaN    314    304  257.0  180.0\n",
       "0.0500    NaN    NaN    314    310  297.0  228.0\n",
       "0.1000    NaN    NaN    314    311  314.0  301.0\n",
       "0.5000    NaN    NaN    315    318    NaN    NaN"
      ]
     },
     "execution_count": 67,
     "metadata": {},
     "output_type": "execute_result"
    }
   ],
   "source": [
    "df = pd.DataFrame(data, index=worker_bee_concentrations)\n",
    "df"
   ]
  },
  {
   "cell_type": "code",
   "execution_count": 68,
   "metadata": {},
   "outputs": [],
   "source": [
    "df2 = df.fillna(0)"
   ]
  },
  {
   "cell_type": "code",
   "execution_count": 69,
   "metadata": {},
   "outputs": [],
   "source": [
    "df2 = df2.astype(np.int)"
   ]
  },
  {
   "cell_type": "code",
   "execution_count": 70,
   "metadata": {},
   "outputs": [
    {
     "data": {
      "text/html": [
       "<div>\n",
       "<style scoped>\n",
       "    .dataframe tbody tr th:only-of-type {\n",
       "        vertical-align: middle;\n",
       "    }\n",
       "\n",
       "    .dataframe tbody tr th {\n",
       "        vertical-align: top;\n",
       "    }\n",
       "\n",
       "    .dataframe thead th {\n",
       "        text-align: right;\n",
       "    }\n",
       "</style>\n",
       "<table border=\"1\" class=\"dataframe\">\n",
       "  <thead>\n",
       "    <tr style=\"text-align: right;\">\n",
       "      <th></th>\n",
       "      <th>0.005</th>\n",
       "      <th>0.01</th>\n",
       "      <th>0.05</th>\n",
       "      <th>0.1</th>\n",
       "      <th>0.5</th>\n",
       "      <th>1.0</th>\n",
       "    </tr>\n",
       "  </thead>\n",
       "  <tbody>\n",
       "    <tr>\n",
       "      <th>0.0005</th>\n",
       "      <td>0</td>\n",
       "      <td>0</td>\n",
       "      <td>298</td>\n",
       "      <td>281</td>\n",
       "      <td>230</td>\n",
       "      <td>213</td>\n",
       "    </tr>\n",
       "    <tr>\n",
       "      <th>0.0010</th>\n",
       "      <td>0</td>\n",
       "      <td>0</td>\n",
       "      <td>309</td>\n",
       "      <td>289</td>\n",
       "      <td>198</td>\n",
       "      <td>167</td>\n",
       "    </tr>\n",
       "    <tr>\n",
       "      <th>0.0050</th>\n",
       "      <td>0</td>\n",
       "      <td>0</td>\n",
       "      <td>312</td>\n",
       "      <td>295</td>\n",
       "      <td>197</td>\n",
       "      <td>180</td>\n",
       "    </tr>\n",
       "    <tr>\n",
       "      <th>0.0100</th>\n",
       "      <td>0</td>\n",
       "      <td>0</td>\n",
       "      <td>314</td>\n",
       "      <td>304</td>\n",
       "      <td>257</td>\n",
       "      <td>180</td>\n",
       "    </tr>\n",
       "    <tr>\n",
       "      <th>0.0500</th>\n",
       "      <td>0</td>\n",
       "      <td>0</td>\n",
       "      <td>314</td>\n",
       "      <td>310</td>\n",
       "      <td>297</td>\n",
       "      <td>228</td>\n",
       "    </tr>\n",
       "    <tr>\n",
       "      <th>0.1000</th>\n",
       "      <td>0</td>\n",
       "      <td>0</td>\n",
       "      <td>314</td>\n",
       "      <td>311</td>\n",
       "      <td>314</td>\n",
       "      <td>301</td>\n",
       "    </tr>\n",
       "    <tr>\n",
       "      <th>0.5000</th>\n",
       "      <td>0</td>\n",
       "      <td>0</td>\n",
       "      <td>315</td>\n",
       "      <td>318</td>\n",
       "      <td>0</td>\n",
       "      <td>0</td>\n",
       "    </tr>\n",
       "  </tbody>\n",
       "</table>\n",
       "</div>"
      ],
      "text/plain": [
       "        0.005  0.010  0.050  0.100  0.500  1.000\n",
       "0.0005      0      0    298    281    230    213\n",
       "0.0010      0      0    309    289    198    167\n",
       "0.0050      0      0    312    295    197    180\n",
       "0.0100      0      0    314    304    257    180\n",
       "0.0500      0      0    314    310    297    228\n",
       "0.1000      0      0    314    311    314    301\n",
       "0.5000      0      0    315    318      0      0"
      ]
     },
     "execution_count": 70,
     "metadata": {},
     "output_type": "execute_result"
    }
   ],
   "source": [
    "df2"
   ]
  },
  {
   "cell_type": "code",
   "execution_count": 71,
   "metadata": {},
   "outputs": [
    {
     "data": {
      "text/plain": [
       "array([[  0,   0, 298, 281, 230, 213],\n",
       "       [  0,   0, 309, 289, 198, 167],\n",
       "       [  0,   0, 312, 295, 197, 180],\n",
       "       [  0,   0, 314, 304, 257, 180],\n",
       "       [  0,   0, 314, 310, 297, 228],\n",
       "       [  0,   0, 314, 311, 314, 301],\n",
       "       [  0,   0, 315, 318,   0,   0]])"
      ]
     },
     "execution_count": 71,
     "metadata": {},
     "output_type": "execute_result"
    }
   ],
   "source": [
    "df2.values"
   ]
  },
  {
   "cell_type": "code",
   "execution_count": 72,
   "metadata": {},
   "outputs": [
    {
     "data": {
      "image/png": "[encoded data removed]",
      "text/plain": [
       "<matplotlib.figure.Figure at 0x1a12ec7390>"
      ]
     },
     "metadata": {},
     "output_type": "display_data"
    }
   ],
   "source": [
    "cmap = sns.cubehelix_palette(as_cmap=True, light=.9)\n",
    "sns.set(font_scale = 1.5)\n",
    "\n",
    "mask = df.isnull()\n",
    "ax = sns.heatmap(df2, mask=mask, linewidths=.1,\n",
    "                 cmap=cmap, annot=False, fmt=\"d\", annot_kws={\"size\": 13},\n",
    "                 cbar_kws={'label': 'Time to plateau (step)'},\n",
    "                 vmin=170, vmax=320)\n",
    "ax.invert_yaxis()\n",
    "ax.set_xlabel(\"Diffusion coefficient\")\n",
    "ax.set_ylabel(\"Worker concentration\")\n",
    "ax.set_title('Time and task efficiency of swarms')\n",
    "plt.savefig('/Users/dieumynguyen/Desktop/Projects/bee_communication/figures/time_efficiency/Threshold0.005_time_efficiency.pdf', bbox_inches='tight') "
   ]
  },
  {
   "cell_type": "code",
   "execution_count": null,
   "metadata": {},
   "outputs": [],
   "source": []
  },
  {
   "cell_type": "code",
   "execution_count": null,
   "metadata": {},
   "outputs": [],
   "source": []
  }
 ],
 "metadata": {
  "kernelspec": {
   "display_name": "Python 3",
   "language": "python",
   "name": "python3"
  },
  "language_info": {
   "codemirror_mode": {
    "name": "ipython",
    "version": 3
   },
   "file_extension": ".py",
   "mimetype": "text/x-python",
   "name": "python",
   "nbconvert_exporter": "python",
   "pygments_lexer": "ipython3",
   "version": "3.6.4"
  }
 },
 "nbformat": 4,
 "nbformat_minor": 2
}
