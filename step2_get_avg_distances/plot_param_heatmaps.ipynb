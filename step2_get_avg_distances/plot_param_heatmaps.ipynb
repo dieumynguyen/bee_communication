{
 "cells": [
  {
   "cell_type": "code",
   "execution_count": 1,
   "metadata": {},
   "outputs": [],
   "source": [
    "import numpy as np\n",
    "import glob2\n",
    "import matplotlib.pyplot as plt\n",
    "import os\n",
    "import json\n",
    "import itertools\n",
    "import pandas as pd\n",
    "import seaborn as sns"
   ]
  },
  {
   "cell_type": "code",
   "execution_count": 2,
   "metadata": {},
   "outputs": [
    {
     "name": "stdout",
     "output_type": "stream",
     "text": [
      "Q = [0.15]\n",
      "W = [0.0005, 0.001, 0.005, 0.01, 0.05, 0.1, 0.5]\n",
      "D = [0.005, 0.01, 0.05, 0.1, 0.5, 1.0]\n",
      "T = [0.005, 0.5]\n"
     ]
    }
   ],
   "source": [
    "# Four params and their values, each is a np array\n",
    "queen_bee_concentrations = [0.15]\n",
    "print(\"Q = {}\".format(queen_bee_concentrations))\n",
    "\n",
    "worker_bee_concentrations = [0.0005, 0.001, 0.005, 0.01, 0.05, 0.1, 0.5]\n",
    "print(\"W = {}\".format(worker_bee_concentrations))\n",
    "\n",
    "diffusion_coefficients = [0.005, 0.01, 0.05, 0.1, 0.5, 1.0]\n",
    "print(\"D = {}\".format(diffusion_coefficients))\n",
    "\n",
    "worker_bee_thresholds = [0.005, 0.5]\n",
    "print(\"T = {}\".format(worker_bee_thresholds))\n"
   ]
  },
  {
   "cell_type": "code",
   "execution_count": 3,
   "metadata": {},
   "outputs": [],
   "source": [
    "# Get names of all 64 json's\n",
    "json_list = list(map(lambda x : x.split(\"/\")[-1], glob2.glob(\"avg_distance_data/*.json\")))"
   ]
  },
  {
   "cell_type": "code",
   "execution_count": 4,
   "metadata": {},
   "outputs": [],
   "source": [
    "def get_matching_filenames(json_list, param_1, param_2, value_1, value_2):\n",
    "    matching_json_names = []\n",
    "    for i in range(len(json_list)):\n",
    "        if (json_list[i].find(param_1+str(value_1)) != -1) and (json_list[i].find(param_2+str(value_2)) != -1):\n",
    "            matching_json_names.append(json_list[i])\n",
    "    \n",
    "    return matching_json_names"
   ]
  },
  {
   "cell_type": "code",
   "execution_count": 5,
   "metadata": {},
   "outputs": [],
   "source": [
    "# # Test above function on 1 set of param pair values\n",
    "# names = get_matching_filenames(json_list, \"Q\", \"W\", 0.01, 0.005)\n",
    "# print(names)"
   ]
  },
  {
   "cell_type": "code",
   "execution_count": 6,
   "metadata": {},
   "outputs": [],
   "source": [
    "def get_ending_distances(json_file):\n",
    "    # Get the 10 ending values of a single json\n",
    "    with open(\"avg_distance_data/\" + json_file, \"r\") as f:\n",
    "        data = json.load(f)\n",
    "        # print(data)\n",
    "        \n",
    "    # For 1 JSON of 10 replicate swarms: going through its 10 lists\n",
    "    dist_list = []\n",
    "    for i in range(len(data)):\n",
    "        ending_dist = data[i][-1]\n",
    "        dist_list.append(ending_dist)\n",
    "        \n",
    "    dist_avg = np.median(dist_list)\n",
    "    dist_var = np.var(dist_list)\n",
    "    \n",
    "    return dist_avg, dist_var"
   ]
  },
  {
   "cell_type": "code",
   "execution_count": 8,
   "metadata": {},
   "outputs": [
    {
     "name": "stdout",
     "output_type": "stream",
     "text": [
      "(0.07914835067243417, 0.03221073233807765)\n"
     ]
    }
   ],
   "source": [
    "# Testing above function\n",
    "x = get_ending_distances(\"Q0.15_W0.1_D0.1_T0.5_wb3.json\")\n",
    "print(x)"
   ]
  },
  {
   "cell_type": "code",
   "execution_count": 9,
   "metadata": {},
   "outputs": [],
   "source": [
    "def get_mean_var(json_list, param_1, param_2, value_1, value_2):\n",
    "\n",
    "    # Load in a json list and get ending value of each list, then average and variance those 160 values\n",
    "    \n",
    "    # param_pair_distances = []\n",
    "    # print(len(param_pair_distances))\n",
    "    # print(param_pair_distances[0])\n",
    "\n",
    "    averages = []\n",
    "    variances = []\n",
    "    \n",
    "    names = get_matching_filenames(json_list, param_1, param_2, value_1, value_2)\n",
    "\n",
    "    for n in names:\n",
    "        # print(n)\n",
    "        distance_tuple = get_ending_distances(n)\n",
    "        # print(distance_tuple)\n",
    "        averages.append(distance_tuple[0])\n",
    "        variances.append(distance_tuple[1])\n",
    "\n",
    "#     # Merge lists in param_pair_distances\n",
    "#     merged = list(itertools.chain.from_iterable(param_pair_distances))\n",
    "#     # print(merged)\n",
    "#     merged_mean = np.mean(merged)\n",
    "#     # print(merged_mean)\n",
    "#     merged_var = np.var(merged)\n",
    "#     # print(merged_var)\n",
    "    \n",
    "#     return merged_mean, merged_var\n",
    "    return np.median(averages), np.median(variances)\n"
   ]
  },
  {
   "cell_type": "code",
   "execution_count": 10,
   "metadata": {},
   "outputs": [
    {
     "data": {
      "text/plain": [
       "(0.058323946097636914, 1.50218567376738e-05)"
      ]
     },
     "execution_count": 10,
     "metadata": {},
     "output_type": "execute_result"
    }
   ],
   "source": [
    "# Test above function\n",
    "get_mean_var(json_list, \"W\", \"D\", 0.0005, 0.5)"
   ]
  },
  {
   "cell_type": "code",
   "execution_count": 11,
   "metadata": {},
   "outputs": [
    {
     "data": {
      "text/plain": [
       "(0.05886192635617797, 2.279001352327634e-05)"
      ]
     },
     "execution_count": 11,
     "metadata": {},
     "output_type": "execute_result"
    }
   ],
   "source": [
    "# Test above function\n",
    "get_mean_var(json_list, \"W\", \"T\", 0.01, 0.005)"
   ]
  },
  {
   "cell_type": "code",
   "execution_count": 12,
   "metadata": {},
   "outputs": [],
   "source": [
    "# Iterate through different pairs of params and their values\n",
    "\n",
    "def compare_params(json_list, param_1, param_2, list_1, value_2):\n",
    "    # Create one column for a W values against 4 queen values\n",
    "    all_averages = []\n",
    "    all_variances = []\n",
    "    for item in list_1:\n",
    "        # print(item)\n",
    "        mean_var = get_mean_var(json_list, param_1, param_2, item, value_2)\n",
    "        # print(mean_var)\n",
    "        all_averages.append(mean_var[0])\n",
    "        all_variances.append(mean_var[1]) \n",
    "        \n",
    "    return all_averages, all_variances"
   ]
  },
  {
   "cell_type": "code",
   "execution_count": 13,
   "metadata": {
    "scrolled": false
   },
   "outputs": [
    {
     "data": {
      "text/plain": [
       "([1.1596981783709976,\n",
       "  1.1534456913915432,\n",
       "  1.1465451161782563,\n",
       "  1.1695521684626464,\n",
       "  1.1573745672355316,\n",
       "  1.1297177494068658,\n",
       "  0.06073428254240691],\n",
       " [0.009191629414820159,\n",
       "  0.0029339032043601996,\n",
       "  0.007866773589555719,\n",
       "  0.010293305122506731,\n",
       "  0.017979548703649265,\n",
       "  0.0965144989414807,\n",
       "  0.0014657060813114274])"
      ]
     },
     "execution_count": 13,
     "metadata": {},
     "output_type": "execute_result"
    }
   ],
   "source": [
    "# Test\n",
    "compare_params(json_list, \"W\", \"D\", worker_bee_concentrations, 0.05)\n",
    "# test_variances = compare_params(json_list, \"Q\", \"W\", queen_bee_concentrations, 0.005)\n",
    "# test_means"
   ]
  },
  {
   "cell_type": "markdown",
   "metadata": {},
   "source": [
    "## Returning DF "
   ]
  },
  {
   "cell_type": "code",
   "execution_count": 14,
   "metadata": {},
   "outputs": [],
   "source": [
    "def get_dataframe(json_list, param_1, list_1, param_2, list_2, avg_or_var, index_array):\n",
    "    \n",
    "    # Get 4 lists of values contained in cumulative list\n",
    "    vals_list = []\n",
    "    for val in list_2:\n",
    "        if avg_or_var == \"avg\":\n",
    "            x = compare_params(json_list, param_1, param_2, list_1, val)[0]\n",
    "            vals_list.append(x)\n",
    "        elif avg_or_var == \"var\":\n",
    "            x = compare_params(json_list, param_1, param_2, list_1, val)[1]\n",
    "            vals_list.append(x)\n",
    "        \n",
    "    # Turn into dict\n",
    "    data = {}\n",
    "    for i, key in enumerate(list_2):\n",
    "        if len(str(key)) > 7:\n",
    "            key = \"{0:.5f}\".format(key)\n",
    "            # print(key, type(key))\n",
    "            data[key] = vals_list[i]\n",
    "        else:\n",
    "            # print(key, type(key))\n",
    "            data[key] = vals_list[i]\n",
    "            \n",
    "    # Truncate labels in index_array\n",
    "    new_index_array = []\n",
    "    for j, label in enumerate(index_array):\n",
    "        if len(str(label)) > 7:\n",
    "            new_index_array.append(\"{0:.4f}\".format(label))\n",
    "        else:\n",
    "            new_index_array.append(label)\n",
    "        \n",
    "            \n",
    "    # Turn into dataframe \n",
    "    df = pd.DataFrame(data, index=[new_index_array])\n",
    "\n",
    "    return df\n"
   ]
  },
  {
   "cell_type": "markdown",
   "metadata": {},
   "source": [
    "### Queen vs Worker"
   ]
  },
  {
   "cell_type": "code",
   "execution_count": 15,
   "metadata": {},
   "outputs": [],
   "source": [
    "# Q_W_avg_df = get_dataframe(json_list, \"Q\", queen_bee_concentrations, \"W\", worker_bee_concentrations, \"avg\", [0.01, 0.173, 0.34, 0.5])\n",
    "# print(\"Q_W_avg_df:\")\n",
    "# print(Q_W_avg_df)\n",
    "# print(\"\\n\")\n",
    "\n",
    "# Q_W_var_df = get_dataframe(json_list, \"Q\", queen_bee_concentrations, \"W\", worker_bee_concentrations, \"var\", [0.01, 0.173, 0.34, 0.5])\n",
    "# print(\"Q_W_var_df:\")\n",
    "# print(Q_W_var_df)\n",
    "# print(\"\\n\")"
   ]
  },
  {
   "cell_type": "markdown",
   "metadata": {},
   "source": [
    "### Queen vs Coefficient"
   ]
  },
  {
   "cell_type": "code",
   "execution_count": 16,
   "metadata": {
    "scrolled": true
   },
   "outputs": [],
   "source": [
    "# Q_D_avg_df = get_dataframe(json_list, \"Q\", queen_bee_concentrations, \"D\", diffusion_coefficients, \"avg\", [0.01, 0.173, 0.34, 0.5])\n",
    "# print(\"Q_D_avg_df:\")\n",
    "# print(Q_D_avg_df)\n",
    "# print(\"\\n\")\n",
    "\n",
    "# Q_D_var_df = get_dataframe(json_list, \"Q\", queen_bee_concentrations, \"D\", diffusion_coefficients, \"var\", [0.01, 0.173, 0.34, 0.5])\n",
    "# print(\"Q_D_var_df:\")\n",
    "# print(Q_D_var_df)\n",
    "# print(\"\\n\")"
   ]
  },
  {
   "cell_type": "markdown",
   "metadata": {},
   "source": [
    "### Queen vs Threshold"
   ]
  },
  {
   "cell_type": "code",
   "execution_count": 17,
   "metadata": {
    "scrolled": true
   },
   "outputs": [],
   "source": [
    "# Q_T_avg_df = get_dataframe(json_list, \"Q\", queen_bee_concentrations, \"T\", worker_bee_thresholds, \"avg\", [0.01, 0.173, 0.34, 0.5])\n",
    "# print(\"Q_T_avg_df:\")\n",
    "# print(Q_T_avg_df)\n",
    "# print(\"\\n\")\n",
    "\n",
    "# Q_T_var_df = get_dataframe(json_list, \"Q\", queen_bee_concentrations, \"T\", worker_bee_thresholds, \"var\", [0.01, 0.173, 0.34, 0.5])\n",
    "# print(\"Q_T_var_df:\")\n",
    "# print(Q_T_var_df)\n",
    "# print(\"\\n\")"
   ]
  },
  {
   "cell_type": "markdown",
   "metadata": {},
   "source": [
    "### Worker vs Coefficient"
   ]
  },
  {
   "cell_type": "code",
   "execution_count": 18,
   "metadata": {},
   "outputs": [],
   "source": [
    "# W_D_avg_df = get_dataframe(json_list, \"W\", worker_bee_concentrations, \"D\", diffusion_coefficients, \"avg\", worker_bee_concentrations)\n",
    "# print(\"W_D_avg_df:\")\n",
    "# print(W_D_avg_df)\n",
    "# print(\"\\n\")\n",
    "\n",
    "# W_D_var_df = get_dataframe(json_list, \"W\", worker_bee_concentrations, \"D\", diffusion_coefficients, \"var\", worker_bee_concentrations)\n",
    "# print(\"W_D_var_df:\")\n",
    "# print(W_D_var_df)\n",
    "# print(\"\\n\")"
   ]
  },
  {
   "cell_type": "markdown",
   "metadata": {},
   "source": [
    "### Worker vs Threshold"
   ]
  },
  {
   "cell_type": "code",
   "execution_count": 19,
   "metadata": {},
   "outputs": [],
   "source": [
    "# W_T_avg_df = get_dataframe(json_list, \"W\", worker_bee_concentrations, \"T\", worker_bee_thresholds, \"avg\", worker_bee_concentrations)\n",
    "# print(\"W_T_avg_df:\")\n",
    "# print(W_T_avg_df)\n",
    "# print(\"\\n\")\n",
    "\n",
    "# W_T_var_df = get_dataframe(json_list, \"W\", worker_bee_concentrations, \"T\", worker_bee_thresholds, \"var\", worker_bee_concentrations)\n",
    "# print(\"W_T_var_df:\")\n",
    "# print(W_T_var_df)\n",
    "# print(\"\\n\")"
   ]
  },
  {
   "cell_type": "markdown",
   "metadata": {},
   "source": [
    "### Coefficient vs Threshold"
   ]
  },
  {
   "cell_type": "code",
   "execution_count": 20,
   "metadata": {},
   "outputs": [],
   "source": [
    "# D_T_avg_df = get_dataframe(json_list, \"D\", diffusion_coefficients, \"T\", worker_bee_thresholds, \"avg\", diffusion_coefficients)\n",
    "# print(\"D_T_avg_df:\")\n",
    "# print(D_T_avg_df)\n",
    "# print(\"\\n\")\n",
    "\n",
    "# D_T_var_df = get_dataframe(json_list, \"D\", diffusion_coefficients, \"T\", worker_bee_thresholds, \"var\", diffusion_coefficients)\n",
    "# print(\"D_T_var_df:\")\n",
    "# print(D_T_var_df)\n",
    "# print(\"\\n\")"
   ]
  },
  {
   "cell_type": "markdown",
   "metadata": {},
   "source": [
    "## Plotting heatmap from dataframe for a pair of params"
   ]
  },
  {
   "cell_type": "code",
   "execution_count": 21,
   "metadata": {},
   "outputs": [],
   "source": [
    "def plot_heatmap(df_avg, df_var, x_label, y_label, filename, t_value):\n",
    "    \n",
    "    sns.set(font_scale = 1.5)\n",
    "    \n",
    "    fig, (ax1, ax2) = plt.subplots(1, 2, sharex=True, sharey=False, figsize=(15,4))\n",
    "    \n",
    "    sns.heatmap(df_avg, cmap=\"Greens\", cbar_kws={'label': ''}, ax=ax1, vmin=0, vmax=4)\n",
    "    ax1.set_xlabel(x_label)\n",
    "    ax1.set_ylabel(y_label)\n",
    "    ax1.set_title('Average distance from queen')\n",
    "    \n",
    "    sns.heatmap(df_var, cmap=\"Blues\", cbar_kws={'label': ''}, ax=ax2, vmin=0, vmax=2)\n",
    "    ax2.set_xlabel(x_label)\n",
    "    ax2.set_ylabel(y_label)\n",
    "    ax2.set_title('Variance distance from queen')\n",
    "\n",
    "    ax1.invert_yaxis()\n",
    "    ax2.invert_yaxis()\n",
    "    \n",
    "    # ax1.set_xticks(x_ticks)\n",
    "\n",
    "    fig.text(0.5, 1.0, \"Worker activation threshold = {}\".format(t_value), ha='center', va='center')\n",
    "    # fig.text(-0.02, -0.1, y_label, ha='center', va='center')\n",
    "    \n",
    "    \n",
    "    plt.subplots_adjust(top=0.88)\n",
    "    \n",
    "    plt.savefig('/Users/dieumynguyen/Desktop/Projects/bee_communication/figures/param_heatmap/{}.pdf'.format(filename), bbox_inches='tight')\n",
    "    "
   ]
  },
  {
   "cell_type": "markdown",
   "metadata": {},
   "source": [
    "## Re-plotting with 3 free parameters while Q is fixed"
   ]
  },
  {
   "cell_type": "code",
   "execution_count": 22,
   "metadata": {},
   "outputs": [
    {
     "data": {
      "text/plain": [
       "[0.005, 0.5]"
      ]
     },
     "execution_count": 22,
     "metadata": {},
     "output_type": "execute_result"
    }
   ],
   "source": [
    "worker_bee_thresholds"
   ]
  },
  {
   "cell_type": "code",
   "execution_count": 23,
   "metadata": {},
   "outputs": [],
   "source": [
    "# Get names of all json's for a single T value - do this 4 times - each T has 16 files\n",
    "\n",
    "jsons_T_1 = list(map(lambda x : x.split(\"/\")[-1], glob2.glob(\"avg_distance_data/*T{}*.json\".format(worker_bee_thresholds[0]))))\n",
    "jsons_T_2 = list(map(lambda x : x.split(\"/\")[-1], glob2.glob(\"avg_distance_data/*T{}*.json\".format(worker_bee_thresholds[1]))))\n",
    "# jsons_T_3 = list(map(lambda x : x.split(\"/\")[-1], glob2.glob(\"avg_distance_data/*T{}*.json\".format(worker_bee_thresholds[2]))))\n",
    "# jsons_T_4 = list(map(lambda x : x.split(\"/\")[-1], glob2.glob(\"avg_distance_data/*T{}*.json\".format(worker_bee_thresholds[3]))))\n"
   ]
  },
  {
   "cell_type": "code",
   "execution_count": 24,
   "metadata": {},
   "outputs": [],
   "source": [
    "# print(len(jsons_T_2))\n",
    "# jsons_T_2"
   ]
  },
  {
   "cell_type": "markdown",
   "metadata": {},
   "source": [
    "### T = 0.005 heatmaps for W vs D"
   ]
  },
  {
   "cell_type": "code",
   "execution_count": 25,
   "metadata": {},
   "outputs": [
    {
     "name": "stdout",
     "output_type": "stream",
     "text": [
      "W_D_avg_df:\n",
      "           0.005     0.010     0.050     0.100     0.500     1.000\n",
      "0.0005  2.258535  2.300566  0.060554  0.058133  0.057388  0.056918\n",
      "0.0010  2.306483  2.335819  0.064118  0.057408  0.059196  0.055827\n",
      "0.0050  1.845194  0.120863  0.058179  0.056860  0.056276  0.055872\n",
      "0.0100  1.825894  0.073032  0.058283  0.057499  0.056476  0.059441\n",
      "0.0500  0.084146  0.067400  0.059831  0.058113  0.057501  0.058164\n",
      "0.1000  0.076976  0.066073  0.059373  0.058392  0.055271  0.056501\n",
      "0.5000  0.083405  0.061556  0.057190  0.057708  0.056058  0.060964\n",
      "\n",
      "\n",
      "W_D_var_df:\n",
      "           0.005     0.010     0.050     0.100     0.500     1.000\n",
      "0.0005  0.021148  0.036880  0.000026  0.000015  0.000015  0.000016\n",
      "0.0010  0.035838  0.103965  0.000020  0.000010  0.000016  0.000018\n",
      "0.0050  0.305123  0.780878  0.000017  0.000020  0.000016  0.000012\n",
      "0.0100  0.664111  0.157164  0.000006  0.000009  0.000022  0.000023\n",
      "0.0500  0.898958  0.002681  0.000012  0.000008  0.000027  0.000013\n",
      "0.1000  0.344357  0.000063  0.000008  0.000013  0.000021  0.000015\n",
      "0.5000  0.323082  0.000060  0.000010  0.000024  0.000013  0.000025\n",
      "\n",
      "\n"
     ]
    }
   ],
   "source": [
    "W_D_avg_df_2 = get_dataframe(jsons_T_1, \"W\", worker_bee_concentrations, \"D\", diffusion_coefficients, \"avg\", worker_bee_concentrations)\n",
    "print(\"W_D_avg_df:\")\n",
    "print(W_D_avg_df_2)\n",
    "print(\"\\n\")\n",
    "\n",
    "W_D_var_df_2 = get_dataframe(jsons_T_1, \"W\", worker_bee_concentrations, \"D\", diffusion_coefficients, \"var\", worker_bee_concentrations)\n",
    "print(\"W_D_var_df:\")\n",
    "print(W_D_var_df_2)\n",
    "print(\"\\n\")"
   ]
  },
  {
   "cell_type": "code",
   "execution_count": 26,
   "metadata": {},
   "outputs": [
    {
     "data": {
      "image/png": "[encoded data removed]",
      "text/plain": [
       "<matplotlib.figure.Figure at 0x10d145898>"
      ]
     },
     "metadata": {},
     "output_type": "display_data"
    }
   ],
   "source": [
    "plot_heatmap(W_D_avg_df_2, W_D_var_df_2, 'Diffusion coefficient', 'Worker concentration', \n",
    "             \"Threshold0.005_Worker_Coefficient\", 0.005)\n"
   ]
  },
  {
   "cell_type": "markdown",
   "metadata": {},
   "source": [
    "### T = 0.5 heatmaps for W vs D"
   ]
  },
  {
   "cell_type": "code",
   "execution_count": 27,
   "metadata": {},
   "outputs": [
    {
     "name": "stdout",
     "output_type": "stream",
     "text": [
      "W_D_avg_df:\n",
      "           0.005     0.010     0.050     0.100     0.500     1.000\n",
      "0.0005  2.367280  2.325344  2.258842  2.256263  0.059260  0.056501\n",
      "0.0010  2.275097  2.321435  2.242774  2.281444  0.054265  0.055302\n",
      "0.0050  2.337681  2.350750  2.234911  2.312960  0.057338  0.057705\n",
      "0.0100  2.376882  2.332414  2.280821  2.342627  0.057844  0.057247\n",
      "0.0500  2.264317  2.285741  2.254918  2.248183  0.060531  0.055693\n",
      "0.1000  2.357936  2.277034  2.200062  0.079148  0.059364  0.059466\n",
      "0.5000  2.389268  2.128069  0.064279  0.058154  0.057433  0.058113\n",
      "\n",
      "\n",
      "W_D_var_df:\n",
      "           0.005     0.010     0.050     0.100     0.500     1.000\n",
      "0.0005  0.020934  0.031493  0.018357  0.296889  0.000015  0.000018\n",
      "0.0010  0.016513  0.033217  0.005848  0.103490  0.000019  0.000012\n",
      "0.0050  0.030816  0.026176  0.015717  0.228528  0.000012  0.000010\n",
      "0.0100  0.018309  0.018067  0.020580  0.252567  0.000018  0.000018\n",
      "0.0500  0.015592  0.012354  0.035947  0.377086  0.000024  0.000018\n",
      "0.1000  0.027589  0.033687  0.193021  0.032211  0.000019  0.000022\n",
      "0.5000  0.094520  0.790388  0.002922  0.000020  0.000014  0.000016\n",
      "\n",
      "\n"
     ]
    }
   ],
   "source": [
    "W_D_avg_df_5 = get_dataframe(jsons_T_2, \"W\", worker_bee_concentrations, \"D\", diffusion_coefficients, \"avg\", worker_bee_concentrations)\n",
    "print(\"W_D_avg_df:\")\n",
    "print(W_D_avg_df_5)\n",
    "print(\"\\n\")\n",
    "\n",
    "W_D_var_df_5 = get_dataframe(jsons_T_2, \"W\", worker_bee_concentrations, \"D\", diffusion_coefficients, \"var\", worker_bee_concentrations)\n",
    "print(\"W_D_var_df:\")\n",
    "print(W_D_var_df_5)\n",
    "print(\"\\n\")"
   ]
  },
  {
   "cell_type": "code",
   "execution_count": 28,
   "metadata": {},
   "outputs": [
    {
     "data": {
      "image/png": "[encoded data removed]",
      "text/plain": [
       "<matplotlib.figure.Figure at 0x1a16c56fd0>"
      ]
     },
     "metadata": {},
     "output_type": "display_data"
    }
   ],
   "source": [
    "plot_heatmap(W_D_avg_df_5, W_D_var_df_5, 'Diffusion coefficient', 'Worker concentration', \n",
    "             \"Threshold0.5_Worker_Coefficient\", 0.5)\n"
   ]
  },
  {
   "cell_type": "code",
   "execution_count": null,
   "metadata": {},
   "outputs": [],
   "source": []
  }
 ],
 "metadata": {
  "kernelspec": {
   "display_name": "Python 3",
   "language": "python",
   "name": "python3"
  },
  "language_info": {
   "codemirror_mode": {
    "name": "ipython",
    "version": 3
   },
   "file_extension": ".py",
   "mimetype": "text/x-python",
   "name": "python",
   "nbconvert_exporter": "python",
   "pygments_lexer": "ipython3",
   "version": "3.6.4"
  }
 },
 "nbformat": 4,
 "nbformat_minor": 2
}
