{
 "cells": [
  {
   "cell_type": "code",
   "execution_count": 1,
   "metadata": {},
   "outputs": [],
   "source": [
    "import numpy as np\n",
    "import glob2\n",
    "import matplotlib.pyplot as plt\n",
    "import os\n",
    "import json\n",
    "import itertools\n",
    "import pandas as pd\n",
    "import seaborn as sns"
   ]
  },
  {
   "cell_type": "code",
   "execution_count": 2,
   "metadata": {},
   "outputs": [
    {
     "name": "stdout",
     "output_type": "stream",
     "text": [
      "Q = [0.15]\n",
      "W = [0.0005, 0.001, 0.005, 0.01, 0.05, 0.1, 0.5]\n",
      "D = [0.05, 0.15, 0.25, 0.35, 0.45, 0.55]\n",
      "T = [0.005, 0.5]\n"
     ]
    }
   ],
   "source": [
    "# Four params and their values, each is a np array\n",
    "queen_bee_concentrations = [0.15]\n",
    "print(\"Q = {}\".format(queen_bee_concentrations))\n",
    "\n",
    "worker_bee_concentrations = [0.0005, 0.001, 0.005, 0.01, 0.05, 0.1, 0.5]\n",
    "print(\"W = {}\".format(worker_bee_concentrations))\n",
    "\n",
    "diffusion_coefficients = [0.05, 0.15, 0.25, 0.35, 0.45, 0.55]\n",
    "print(\"D = {}\".format(diffusion_coefficients))\n",
    "\n",
    "worker_bee_thresholds = [0.005, 0.5]\n",
    "print(\"T = {}\".format(worker_bee_thresholds))\n"
   ]
  },
  {
   "cell_type": "code",
   "execution_count": 3,
   "metadata": {},
   "outputs": [],
   "source": [
    "# Get names of all 64 json's\n",
    "json_list = list(map(lambda x : x.split(\"/\")[-1], glob2.glob(\"avg_distance_data/*.json\")))"
   ]
  },
  {
   "cell_type": "code",
   "execution_count": 4,
   "metadata": {},
   "outputs": [],
   "source": [
    "def get_matching_filenames(json_list, param_1, param_2, value_1, value_2):\n",
    "    matching_json_names = []\n",
    "    for i in range(len(json_list)):\n",
    "        if (json_list[i].find(param_1+str(value_1)) != -1) and (json_list[i].find(param_2+str(value_2)) != -1):\n",
    "            matching_json_names.append(json_list[i])\n",
    "    \n",
    "    return matching_json_names"
   ]
  },
  {
   "cell_type": "code",
   "execution_count": 5,
   "metadata": {},
   "outputs": [],
   "source": [
    "# # Test above function on 1 set of param pair values\n",
    "# names = get_matching_filenames(json_list, \"Q\", \"W\", 0.01, 0.005)\n",
    "# print(names)"
   ]
  },
  {
   "cell_type": "code",
   "execution_count": 5,
   "metadata": {},
   "outputs": [],
   "source": [
    "def get_ending_distances(json_file):\n",
    "    # Get the 10 ending values of a single json\n",
    "    with open(\"avg_distance_data/\" + json_file, \"r\") as f:\n",
    "        data = json.load(f)\n",
    "        # print(data)\n",
    "        \n",
    "    # For 1 JSON of 10 replicate swarms: going through its 10 lists\n",
    "    dist_list = []\n",
    "    for i in range(len(data)):\n",
    "        ending_dist = data[i][-1]\n",
    "        dist_list.append(ending_dist)\n",
    "        \n",
    "    dist_avg = np.median(dist_list)\n",
    "    dist_var = np.var(dist_list)\n",
    "    \n",
    "    return dist_avg, dist_var"
   ]
  },
  {
   "cell_type": "code",
   "execution_count": 6,
   "metadata": {},
   "outputs": [
    {
     "name": "stdout",
     "output_type": "stream",
     "text": [
      "(2.435429815265645, 0.08844758971370141)\n"
     ]
    }
   ],
   "source": [
    "# Testing above function\n",
    "x = get_ending_distances(\"Q0.15_W0.1_D0.05_T0.5_wb1.json\")\n",
    "print(x)"
   ]
  },
  {
   "cell_type": "code",
   "execution_count": 7,
   "metadata": {},
   "outputs": [],
   "source": [
    "def get_mean_var(json_list, param_1, param_2, value_1, value_2):\n",
    "\n",
    "    # Load in a json list and get ending value of each list, then average and variance those 160 values\n",
    "    \n",
    "    # param_pair_distances = []\n",
    "    # print(len(param_pair_distances))\n",
    "    # print(param_pair_distances[0])\n",
    "\n",
    "    averages = []\n",
    "    variances = []\n",
    "    \n",
    "    names = get_matching_filenames(json_list, param_1, param_2, value_1, value_2)\n",
    "\n",
    "    for n in names:\n",
    "        # print(n)\n",
    "        distance_tuple = get_ending_distances(n)\n",
    "        # print(distance_tuple)\n",
    "        averages.append(distance_tuple[0])\n",
    "        variances.append(distance_tuple[1])\n",
    "\n",
    "#     # Merge lists in param_pair_distances\n",
    "#     merged = list(itertools.chain.from_iterable(param_pair_distances))\n",
    "#     # print(merged)\n",
    "#     merged_mean = np.mean(merged)\n",
    "#     # print(merged_mean)\n",
    "#     merged_var = np.var(merged)\n",
    "#     # print(merged_var)\n",
    "    \n",
    "#     return merged_mean, merged_var\n",
    "    return np.median(averages), np.median(variances)\n"
   ]
  },
  {
   "cell_type": "code",
   "execution_count": 8,
   "metadata": {},
   "outputs": [
    {
     "data": {
      "text/plain": [
       "(0.020853766375632934, 5.3944650012867005e-06)"
      ]
     },
     "execution_count": 8,
     "metadata": {},
     "output_type": "execute_result"
    }
   ],
   "source": [
    "# Test above function\n",
    "get_mean_var(json_list, \"W\", \"D\", 0.0005, 0.5)"
   ]
  },
  {
   "cell_type": "code",
   "execution_count": 9,
   "metadata": {},
   "outputs": [
    {
     "data": {
      "text/plain": [
       "(0.02344787019535091, 8.066055397973722e-06)"
      ]
     },
     "execution_count": 9,
     "metadata": {},
     "output_type": "execute_result"
    }
   ],
   "source": [
    "# Test above function\n",
    "get_mean_var(json_list, \"W\", \"T\", 0.01, 0.005)"
   ]
  },
  {
   "cell_type": "code",
   "execution_count": 10,
   "metadata": {},
   "outputs": [],
   "source": [
    "# Iterate through different pairs of params and their values\n",
    "\n",
    "def compare_params(json_list, param_1, param_2, list_1, value_2):\n",
    "    # Create one column for a W values against 4 queen values\n",
    "    all_averages = []\n",
    "    all_variances = []\n",
    "    for item in list_1:\n",
    "        # print(item)\n",
    "        mean_var = get_mean_var(json_list, param_1, param_2, item, value_2)\n",
    "        # print(mean_var)\n",
    "        all_averages.append(mean_var[0])\n",
    "        all_variances.append(mean_var[1]) \n",
    "        \n",
    "    return all_averages, all_variances"
   ]
  },
  {
   "cell_type": "code",
   "execution_count": 11,
   "metadata": {
    "scrolled": false
   },
   "outputs": [
    {
     "data": {
      "text/plain": [
       "([1.2992460091140237,\n",
       "  1.2301294964939669,\n",
       "  1.2152541531605439,\n",
       "  1.2089772455412322,\n",
       "  1.2390108753070959,\n",
       "  1.231776530370568,\n",
       "  0.02920456256133007],\n",
       " [0.008763967265732848,\n",
       "  0.0068383370939127,\n",
       "  0.021014040881859597,\n",
       "  0.022380538894175184,\n",
       "  0.3536233686837498,\n",
       "  0.04422617763411466,\n",
       "  0.3845137929636813])"
      ]
     },
     "execution_count": 11,
     "metadata": {},
     "output_type": "execute_result"
    }
   ],
   "source": [
    "# Test\n",
    "compare_params(json_list, \"W\", \"D\", worker_bee_concentrations, 0.05)\n",
    "# test_variances = compare_params(json_list, \"Q\", \"W\", queen_bee_concentrations, 0.005)\n",
    "# test_means"
   ]
  },
  {
   "cell_type": "markdown",
   "metadata": {},
   "source": [
    "## Returning DF "
   ]
  },
  {
   "cell_type": "code",
   "execution_count": 12,
   "metadata": {},
   "outputs": [],
   "source": [
    "def get_dataframe(json_list, param_1, list_1, param_2, list_2, avg_or_var, index_array):\n",
    "    \n",
    "    # Get 4 lists of values contained in cumulative list\n",
    "    vals_list = []\n",
    "    for val in list_2:\n",
    "        if avg_or_var == \"avg\":\n",
    "            x = compare_params(json_list, param_1, param_2, list_1, val)[0]\n",
    "            vals_list.append(x)\n",
    "        elif avg_or_var == \"var\":\n",
    "            x = compare_params(json_list, param_1, param_2, list_1, val)[1]\n",
    "            vals_list.append(x)\n",
    "        \n",
    "    # Turn into dict\n",
    "    data = {}\n",
    "    for i, key in enumerate(list_2):\n",
    "        if len(str(key)) > 7:\n",
    "            key = \"{0:.5f}\".format(key)\n",
    "            # print(key, type(key))\n",
    "            data[key] = vals_list[i]\n",
    "        else:\n",
    "            # print(key, type(key))\n",
    "            data[key] = vals_list[i]\n",
    "            \n",
    "    # Truncate labels in index_array\n",
    "    new_index_array = []\n",
    "    for j, label in enumerate(index_array):\n",
    "        if len(str(label)) > 7:\n",
    "            new_index_array.append(\"{0:.4f}\".format(label))\n",
    "        else:\n",
    "            new_index_array.append(label)\n",
    "        \n",
    "            \n",
    "    # Turn into dataframe \n",
    "    df = pd.DataFrame(data, index=[new_index_array])\n",
    "\n",
    "    return df\n"
   ]
  },
  {
   "cell_type": "markdown",
   "metadata": {},
   "source": [
    "### Queen vs Worker"
   ]
  },
  {
   "cell_type": "code",
   "execution_count": 13,
   "metadata": {},
   "outputs": [],
   "source": [
    "# Q_W_avg_df = get_dataframe(json_list, \"Q\", queen_bee_concentrations, \"W\", worker_bee_concentrations, \"avg\", [0.01, 0.173, 0.34, 0.5])\n",
    "# print(\"Q_W_avg_df:\")\n",
    "# print(Q_W_avg_df)\n",
    "# print(\"\\n\")\n",
    "\n",
    "# Q_W_var_df = get_dataframe(json_list, \"Q\", queen_bee_concentrations, \"W\", worker_bee_concentrations, \"var\", [0.01, 0.173, 0.34, 0.5])\n",
    "# print(\"Q_W_var_df:\")\n",
    "# print(Q_W_var_df)\n",
    "# print(\"\\n\")"
   ]
  },
  {
   "cell_type": "markdown",
   "metadata": {},
   "source": [
    "### Queen vs Coefficient"
   ]
  },
  {
   "cell_type": "code",
   "execution_count": 14,
   "metadata": {
    "scrolled": true
   },
   "outputs": [],
   "source": [
    "# Q_D_avg_df = get_dataframe(json_list, \"Q\", queen_bee_concentrations, \"D\", diffusion_coefficients, \"avg\", [0.01, 0.173, 0.34, 0.5])\n",
    "# print(\"Q_D_avg_df:\")\n",
    "# print(Q_D_avg_df)\n",
    "# print(\"\\n\")\n",
    "\n",
    "# Q_D_var_df = get_dataframe(json_list, \"Q\", queen_bee_concentrations, \"D\", diffusion_coefficients, \"var\", [0.01, 0.173, 0.34, 0.5])\n",
    "# print(\"Q_D_var_df:\")\n",
    "# print(Q_D_var_df)\n",
    "# print(\"\\n\")"
   ]
  },
  {
   "cell_type": "markdown",
   "metadata": {},
   "source": [
    "### Queen vs Threshold"
   ]
  },
  {
   "cell_type": "code",
   "execution_count": 15,
   "metadata": {
    "scrolled": true
   },
   "outputs": [],
   "source": [
    "# Q_T_avg_df = get_dataframe(json_list, \"Q\", queen_bee_concentrations, \"T\", worker_bee_thresholds, \"avg\", [0.01, 0.173, 0.34, 0.5])\n",
    "# print(\"Q_T_avg_df:\")\n",
    "# print(Q_T_avg_df)\n",
    "# print(\"\\n\")\n",
    "\n",
    "# Q_T_var_df = get_dataframe(json_list, \"Q\", queen_bee_concentrations, \"T\", worker_bee_thresholds, \"var\", [0.01, 0.173, 0.34, 0.5])\n",
    "# print(\"Q_T_var_df:\")\n",
    "# print(Q_T_var_df)\n",
    "# print(\"\\n\")"
   ]
  },
  {
   "cell_type": "markdown",
   "metadata": {},
   "source": [
    "### Worker vs Coefficient"
   ]
  },
  {
   "cell_type": "code",
   "execution_count": 16,
   "metadata": {},
   "outputs": [],
   "source": [
    "# W_D_avg_df = get_dataframe(json_list, \"W\", worker_bee_concentrations, \"D\", diffusion_coefficients, \"avg\", worker_bee_concentrations)\n",
    "# print(\"W_D_avg_df:\")\n",
    "# print(W_D_avg_df)\n",
    "# print(\"\\n\")\n",
    "\n",
    "# W_D_var_df = get_dataframe(json_list, \"W\", worker_bee_concentrations, \"D\", diffusion_coefficients, \"var\", worker_bee_concentrations)\n",
    "# print(\"W_D_var_df:\")\n",
    "# print(W_D_var_df)\n",
    "# print(\"\\n\")"
   ]
  },
  {
   "cell_type": "markdown",
   "metadata": {},
   "source": [
    "### Worker vs Threshold"
   ]
  },
  {
   "cell_type": "code",
   "execution_count": 17,
   "metadata": {},
   "outputs": [],
   "source": [
    "# W_T_avg_df = get_dataframe(json_list, \"W\", worker_bee_concentrations, \"T\", worker_bee_thresholds, \"avg\", worker_bee_concentrations)\n",
    "# print(\"W_T_avg_df:\")\n",
    "# print(W_T_avg_df)\n",
    "# print(\"\\n\")\n",
    "\n",
    "# W_T_var_df = get_dataframe(json_list, \"W\", worker_bee_concentrations, \"T\", worker_bee_thresholds, \"var\", worker_bee_concentrations)\n",
    "# print(\"W_T_var_df:\")\n",
    "# print(W_T_var_df)\n",
    "# print(\"\\n\")"
   ]
  },
  {
   "cell_type": "markdown",
   "metadata": {},
   "source": [
    "### Coefficient vs Threshold"
   ]
  },
  {
   "cell_type": "code",
   "execution_count": 20,
   "metadata": {},
   "outputs": [],
   "source": [
    "# D_T_avg_df = get_dataframe(json_list, \"D\", diffusion_coefficients, \"T\", worker_bee_thresholds, \"avg\", diffusion_coefficients)\n",
    "# print(\"D_T_avg_df:\")\n",
    "# print(D_T_avg_df)\n",
    "# print(\"\\n\")\n",
    "\n",
    "# D_T_var_df = get_dataframe(json_list, \"D\", diffusion_coefficients, \"T\", worker_bee_thresholds, \"var\", diffusion_coefficients)\n",
    "# print(\"D_T_var_df:\")\n",
    "# print(D_T_var_df)\n",
    "# print(\"\\n\")"
   ]
  },
  {
   "cell_type": "markdown",
   "metadata": {},
   "source": [
    "## Plotting heatmap from dataframe for a pair of params"
   ]
  },
  {
   "cell_type": "code",
   "execution_count": 18,
   "metadata": {},
   "outputs": [],
   "source": [
    "def plot_heatmap(df_avg, df_var, x_label, y_label, filename, t_value):\n",
    "    \n",
    "    sns.set(font_scale = 1.5)\n",
    "    \n",
    "    fig, (ax1, ax2) = plt.subplots(1, 2, sharex=True, sharey=False, figsize=(15,4))\n",
    "    \n",
    "    sns.heatmap(df_avg, cmap=\"Greens\", cbar_kws={'label': ''}, ax=ax1, vmin=0, vmax=4)\n",
    "    ax1.set_xlabel(x_label)\n",
    "    ax1.set_ylabel(y_label)\n",
    "    ax1.set_title('Average distance from queen')\n",
    "    \n",
    "    sns.heatmap(df_var, cmap=\"Blues\", cbar_kws={'label': ''}, ax=ax2, vmin=0, vmax=2)\n",
    "    ax2.set_xlabel(x_label)\n",
    "    ax2.set_ylabel(y_label)\n",
    "    ax2.set_title('Variance distance from queen')\n",
    "\n",
    "    ax1.invert_yaxis()\n",
    "    ax2.invert_yaxis()\n",
    "    \n",
    "    # ax1.set_xticks(x_ticks)\n",
    "\n",
    "    fig.text(0.5, 1.0, \"Worker activation threshold = {}\".format(t_value), ha='center', va='center')\n",
    "    # fig.text(-0.02, -0.1, y_label, ha='center', va='center')\n",
    "    \n",
    "    \n",
    "    plt.subplots_adjust(top=0.88)\n",
    "    \n",
    "    plt.savefig('/Users/dieumynguyen/Desktop/Projects/bee_communication/figures/param_heatmap/{}.pdf'.format(filename), bbox_inches='tight')\n",
    "    "
   ]
  },
  {
   "cell_type": "markdown",
   "metadata": {},
   "source": [
    "## Re-plotting with 3 free parameters while Q is fixed"
   ]
  },
  {
   "cell_type": "code",
   "execution_count": 19,
   "metadata": {},
   "outputs": [
    {
     "data": {
      "text/plain": [
       "[0.005, 0.5]"
      ]
     },
     "execution_count": 19,
     "metadata": {},
     "output_type": "execute_result"
    }
   ],
   "source": [
    "worker_bee_thresholds"
   ]
  },
  {
   "cell_type": "code",
   "execution_count": 20,
   "metadata": {},
   "outputs": [],
   "source": [
    "# Get names of all json's for a single T value - do this 4 times - each T has 16 files\n",
    "\n",
    "jsons_T_1 = list(map(lambda x : x.split(\"/\")[-1], glob2.glob(\"avg_distance_data/*T{}*.json\".format(worker_bee_thresholds[0]))))\n",
    "jsons_T_2 = list(map(lambda x : x.split(\"/\")[-1], glob2.glob(\"avg_distance_data/*T{}*.json\".format(worker_bee_thresholds[1]))))\n",
    "# jsons_T_3 = list(map(lambda x : x.split(\"/\")[-1], glob2.glob(\"avg_distance_data/*T{}*.json\".format(worker_bee_thresholds[2]))))\n",
    "# jsons_T_4 = list(map(lambda x : x.split(\"/\")[-1], glob2.glob(\"avg_distance_data/*T{}*.json\".format(worker_bee_thresholds[3]))))\n"
   ]
  },
  {
   "cell_type": "code",
   "execution_count": 29,
   "metadata": {},
   "outputs": [],
   "source": [
    "# print(len(jsons_T_2))\n",
    "# jsons_T_2"
   ]
  },
  {
   "cell_type": "markdown",
   "metadata": {},
   "source": [
    "### T = 0.005 heatmaps for W vs D"
   ]
  },
  {
   "cell_type": "code",
   "execution_count": 21,
   "metadata": {},
   "outputs": [
    {
     "name": "stdout",
     "output_type": "stream",
     "text": [
      "W_D_avg_df:\n",
      "            0.05      0.15      0.25      0.35      0.45      0.55\n",
      "0.0005  0.030630  0.020163  0.021538  0.021456  0.021213  0.020637\n",
      "0.0010  0.029782  0.022225  0.020973  0.023107  0.020694  0.021360\n",
      "0.0050  0.027428  0.023869  0.023584  0.021817  0.022136  0.021012\n",
      "0.0100  0.028849  0.020860  0.022605  0.023442  0.024544  0.023453\n",
      "0.0500  0.029147  0.024796  0.023155  0.023943  0.027205  0.025828\n",
      "0.1000  0.028123  0.023298  0.024974  0.025360  0.025188  0.026667\n",
      "0.5000  0.028619  0.023870  0.025728  0.027871  0.026003  0.026626\n",
      "\n",
      "\n",
      "W_D_var_df:\n",
      "            0.05      0.15      0.25      0.35      0.45      0.55\n",
      "0.0005  0.000007  0.000003  0.000006  0.000006  0.000004  0.000006\n",
      "0.0010  0.000013  0.000006  0.000004  0.000002  0.000003  0.000002\n",
      "0.0050  0.000004  0.000004  0.000006  0.000009  0.000006  0.000013\n",
      "0.0100  0.000007  0.000010  0.000012  0.000003  0.000009  0.000006\n",
      "0.0500  0.664383  0.000005  0.000005  0.000006  0.000010  0.000012\n",
      "0.1000  0.000005  0.000006  0.000007  0.000010  0.000004  0.000007\n",
      "0.5000  0.000011  0.000015  0.000009  0.000010  0.000004  0.000006\n",
      "\n",
      "\n"
     ]
    }
   ],
   "source": [
    "W_D_avg_df_2 = get_dataframe(jsons_T_1, \"W\", worker_bee_concentrations, \"D\", diffusion_coefficients, \"avg\", worker_bee_concentrations)\n",
    "print(\"W_D_avg_df:\")\n",
    "print(W_D_avg_df_2)\n",
    "print(\"\\n\")\n",
    "\n",
    "W_D_var_df_2 = get_dataframe(jsons_T_1, \"W\", worker_bee_concentrations, \"D\", diffusion_coefficients, \"var\", worker_bee_concentrations)\n",
    "print(\"W_D_var_df:\")\n",
    "print(W_D_var_df_2)\n",
    "print(\"\\n\")"
   ]
  },
  {
   "cell_type": "code",
   "execution_count": 22,
   "metadata": {},
   "outputs": [
    {
     "data": {
      "image/png": "[encoded data removed]",
      "text/plain": [
       "<matplotlib.figure.Figure at 0x116ad64a8>"
      ]
     },
     "metadata": {},
     "output_type": "display_data"
    }
   ],
   "source": [
    "plot_heatmap(W_D_avg_df_2, W_D_var_df_2, 'Diffusion coefficient', 'Worker concentration', \n",
    "             \"Threshold0.005_Worker_Coefficient\", 0.005)\n"
   ]
  },
  {
   "cell_type": "markdown",
   "metadata": {},
   "source": [
    "### T = 0.5 heatmaps for W vs D"
   ]
  },
  {
   "cell_type": "code",
   "execution_count": 23,
   "metadata": {},
   "outputs": [
    {
     "name": "stdout",
     "output_type": "stream",
     "text": [
      "W_D_avg_df:\n",
      "            0.05      0.15      0.25      0.35      0.45      0.55\n",
      "0.0005  2.567862  1.089125  0.029755  0.025274  0.023305  0.021071\n",
      "0.0010  2.430477  1.084291  0.032855  0.025105  0.023043  0.020694\n",
      "0.0050  2.403080  0.733121  0.032568  0.026312  0.023427  0.022076\n",
      "0.0100  2.389106  0.718843  0.030222  0.022592  0.022719  0.021029\n",
      "0.0500  2.448874  0.195656  0.023748  0.022060  0.024186  0.023496\n",
      "0.1000  2.435430  0.024166  0.025924  0.024929  0.026034  0.024683\n",
      "0.5000  0.029790  0.024899  0.024064  0.026212  0.028384  0.026002\n",
      "\n",
      "\n",
      "W_D_var_df:\n",
      "            0.05      0.15      0.25      0.35      0.45      0.55\n",
      "0.0005  0.017521  0.178956  0.000004  0.000011  0.000004  0.000005\n",
      "0.0010  0.013664  0.344185  0.007735  0.000006  0.000008  0.000008\n",
      "0.0050  0.042024  0.219073  0.012017  0.000004  0.000007  0.000002\n",
      "0.0100  0.044754  0.398847  0.000006  0.000013  0.000006  0.000007\n",
      "0.0500  0.042864  0.268812  0.000015  0.000004  0.000015  0.000005\n",
      "0.1000  0.088448  0.000014  0.000014  0.000008  0.000022  0.000002\n",
      "0.5000  0.769017  0.000009  0.000005  0.000006  0.000008  0.000014\n",
      "\n",
      "\n"
     ]
    }
   ],
   "source": [
    "W_D_avg_df_5 = get_dataframe(jsons_T_2, \"W\", worker_bee_concentrations, \"D\", diffusion_coefficients, \"avg\", worker_bee_concentrations)\n",
    "print(\"W_D_avg_df:\")\n",
    "print(W_D_avg_df_5)\n",
    "print(\"\\n\")\n",
    "\n",
    "W_D_var_df_5 = get_dataframe(jsons_T_2, \"W\", worker_bee_concentrations, \"D\", diffusion_coefficients, \"var\", worker_bee_concentrations)\n",
    "print(\"W_D_var_df:\")\n",
    "print(W_D_var_df_5)\n",
    "print(\"\\n\")"
   ]
  },
  {
   "cell_type": "code",
   "execution_count": 24,
   "metadata": {},
   "outputs": [
    {
     "data": {
      "image/png": "[encoded data removed]",
      "text/plain": [
       "<matplotlib.figure.Figure at 0x1a20663eb8>"
      ]
     },
     "metadata": {},
     "output_type": "display_data"
    }
   ],
   "source": [
    "plot_heatmap(W_D_avg_df_5, W_D_var_df_5, 'Diffusion coefficient', 'Worker concentration', \n",
    "             \"Threshold0.5_Worker_Coefficient\", 0.5)\n"
   ]
  },
  {
   "cell_type": "code",
   "execution_count": null,
   "metadata": {},
   "outputs": [],
   "source": []
  }
 ],
 "metadata": {
  "kernelspec": {
   "display_name": "Python 3",
   "language": "python",
   "name": "python3"
  },
  "language_info": {
   "codemirror_mode": {
    "name": "ipython",
    "version": 3
   },
   "file_extension": ".py",
   "mimetype": "text/x-python",
   "name": "python",
   "nbconvert_exporter": "python",
   "pygments_lexer": "ipython3",
   "version": "3.6.4"
  }
 },
 "nbformat": 4,
 "nbformat_minor": 2
}
