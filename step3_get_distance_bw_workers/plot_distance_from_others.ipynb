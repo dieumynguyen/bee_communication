{
 "cells": [
  {
   "cell_type": "code",
   "execution_count": 6,
   "metadata": {},
   "outputs": [],
   "source": [
    "# Stylesheet\n",
    "plt.style.use('seaborn-white')\n",
    "\n",
    "plt.rcParams['font.sans-serif'] = \"Tahoma\"\n",
    "plt.rcParams['font.family'] = \"sans-serif\"\n",
    "plt.rcParams['font.size'] = 14\n",
    "plt.rcParams['axes.labelsize'] = 14\n",
    "plt.rcParams['axes.labelweight'] = 'normal'\n",
    "plt.rcParams['xtick.labelsize'] = 14\n",
    "plt.rcParams['ytick.labelsize'] = 14\n",
    "plt.rcParams['legend.fontsize'] = 14\n",
    "plt.rcParams['figure.titlesize'] = 14\n",
    "plt.rcParams['lines.linewidth'] = 3\n",
    "params = {\"ytick.color\" : \"#535956\",\n",
    "          \"xtick.color\" : \"#535956\",\n",
    "          \"axes.labelcolor\" : \"#535956\",\n",
    "          \"axes.edgecolor\" : \"#535956\",\n",
    "          \"text.color\": \"#535956\"}\n",
    "plt.rcParams.update(params)"
   ]
  },
  {
   "cell_type": "markdown",
   "metadata": {},
   "source": [
    "### Get distance_from_others data from combined_replicates/"
   ]
  },
  {
   "cell_type": "code",
   "execution_count": 5,
   "metadata": {},
   "outputs": [],
   "source": [
    "# Imports\n",
    "import json\n",
    "import numpy as np\n",
    "import plotly.plotly as py\n",
    "import matplotlib as mpl\n",
    "# mpl.use('Agg')\n",
    "# %matplotlib inline\n",
    "from matplotlib import cycler\n",
    "import matplotlib.pyplot as plt\n",
    "import seaborn as sns\n",
    "import plotly.graph_objs as go\n",
    "import os\n",
    "import glob2\n",
    "import re"
   ]
  },
  {
   "cell_type": "code",
   "execution_count": 3,
   "metadata": {},
   "outputs": [],
   "source": [
    "# Try on this data of 2 Replicates\n",
    "with open(\"distance_bw_workers/Q0.15_W0.5_D1.0_T0.5_wb3.json\", \"r\") as f:\n",
    "    data = json.load(f)"
   ]
  },
  {
   "cell_type": "code",
   "execution_count": 4,
   "metadata": {},
   "outputs": [
    {
     "data": {
      "text/plain": [
       "(17, 16320, 51)"
      ]
     },
     "execution_count": 4,
     "metadata": {},
     "output_type": "execute_result"
    }
   ],
   "source": [
    "len(data), len(data[0]), len(data[0][0][\"distances\"])"
   ]
  },
  {
   "cell_type": "code",
   "execution_count": 7,
   "metadata": {},
   "outputs": [],
   "source": [
    "# data[0][0]"
   ]
  },
  {
   "cell_type": "markdown",
   "metadata": {},
   "source": [
    "### Get distances to 49 others for 1 bee over 160 timesteps"
   ]
  },
  {
   "cell_type": "code",
   "execution_count": 7,
   "metadata": {},
   "outputs": [],
   "source": [
    "def get_data_1_bee(data, replicate_i, bee_start_i):\n",
    "    # Loop over 50 lists in 1 timestep\n",
    "    # Each list is 1 bee and its distance to 49 other bees at this timestep\n",
    "    # List of 160 lists, each list has 50 values\n",
    "    one_bee_160_t = []\n",
    "    \n",
    "    # Loop over 160 timesteps here\n",
    "    # number_of_distances = len(data[0][\"Replicate 1\"][\"distance_from_others\"])\n",
    "    number_of_distances = len(data[0])\n",
    "    \n",
    "    for bee in range(bee_start_i, number_of_distances, 51):  # for other bees: every 101?\n",
    "        # dist_to_49_others = data[replicate_i][\"Replicate {}\".format(replicate_i+1)][\"distance_from_others\"][bee][\"distances\"]\n",
    "        dist_to_49_others = data[replicate_i][bee][\"distances\"]\n",
    "        one_bee_160_t.append(dist_to_49_others)\n",
    "\n",
    "    return one_bee_160_t\n"
   ]
  },
  {
   "cell_type": "code",
   "execution_count": 8,
   "metadata": {
    "scrolled": true
   },
   "outputs": [],
   "source": [
    "# Test function\n",
    "# print(len(one_bee_160_t))\n",
    "# print(one_bee_160_t)\n",
    "bee_over_time = get_data_1_bee(data, 0, 0)\n",
    "# print(len(bee_over_time))\n",
    "# bee_over_time[0]"
   ]
  },
  {
   "cell_type": "markdown",
   "metadata": {},
   "source": [
    "### Threshold nearest neighbors at max = 2 distance units "
   ]
  },
  {
   "cell_type": "code",
   "execution_count": 9,
   "metadata": {},
   "outputs": [],
   "source": [
    "def get_avg_neighbor_distances(data_list):\n",
    "    # Loop over each timestep list\n",
    "    # List of 160 floats for 1 bee's average distance from neighbors over time\n",
    "    nearest_neighbors = []\n",
    "\n",
    "    for t_list in data_list:\n",
    "        # 160 avg values for distance to nearest neighbors\n",
    "        # Threshold nearest neighbors at max = 2 distance units\n",
    "        avg_list = []\n",
    "        for val in t_list:\n",
    "            if val <= 2:\n",
    "                avg_list.append(val)\n",
    "                # print(val)\n",
    "        nearest_neighbors.append(np.mean(avg_list))\n",
    "\n",
    "    return nearest_neighbors"
   ]
  },
  {
   "cell_type": "code",
   "execution_count": 10,
   "metadata": {
    "scrolled": true
   },
   "outputs": [],
   "source": [
    "# # Test\n",
    "# print(len(get_avg_neighbor_distances(bee_over_time)))\n",
    "# get_avg_neighbor_distances(bee_over_time)"
   ]
  },
  {
   "cell_type": "markdown",
   "metadata": {},
   "source": [
    "### Use get_data_1_bee & get_avg_neighbor_distances to get 50 lists for 50 bees -- in 1 replicate  -- later average over all 10 replicates"
   ]
  },
  {
   "cell_type": "code",
   "execution_count": 11,
   "metadata": {},
   "outputs": [],
   "source": [
    "def get_distances_50_bees(data, replicate_i):\n",
    "    # List of 50 lists \n",
    "    neighbor_distances_all_bees = [] \n",
    "\n",
    "    for i in range(51):\n",
    "        # print(i)\n",
    "        one_bee = get_data_1_bee(data, replicate_i, i)\n",
    "        avg_distances = get_avg_neighbor_distances(one_bee)\n",
    "        neighbor_distances_all_bees.append(avg_distances)\n",
    "        \n",
    "    return neighbor_distances_all_bees"
   ]
  },
  {
   "cell_type": "code",
   "execution_count": 12,
   "metadata": {},
   "outputs": [],
   "source": [
    "# Test\n",
    "# get_distances_50_bees(data, 1)"
   ]
  },
  {
   "cell_type": "code",
   "execution_count": 13,
   "metadata": {
    "scrolled": true
   },
   "outputs": [],
   "source": [
    "def all_bees_all_time(data, replicate_i):\n",
    "    ''' For 1 replicate swarm, get list of all bees avg distance\n",
    "    from nearest neighbors over all 160 timesteps '''\n",
    "\n",
    "    # Avg over all 50 bees for each of 160 timesteps\n",
    "    # Get a list of 160 values\n",
    "    all_distances = get_distances_50_bees(data, replicate_i)\n",
    "    \n",
    "    all_bees_over_time = []\n",
    "    for i in range(320):\n",
    "        # For each timestep, i, get values of each of the 50 bees at that i \n",
    "        one_t = [item[i] for item in all_distances]\n",
    "        # Get the avg of of all bees at the timestep\n",
    "        avg_all_bees = np.mean(one_t)\n",
    "        all_bees_over_time.append(avg_all_bees)\n",
    "        \n",
    "    return all_bees_over_time"
   ]
  },
  {
   "cell_type": "code",
   "execution_count": 14,
   "metadata": {},
   "outputs": [],
   "source": [
    "# Test\n",
    "# all_bees_all_time(data, 1)"
   ]
  },
  {
   "cell_type": "markdown",
   "metadata": {},
   "source": [
    "### Average over all replicates in JSON"
   ]
  },
  {
   "cell_type": "code",
   "execution_count": 15,
   "metadata": {},
   "outputs": [],
   "source": [
    "# # Get all replicates' lists into a list\n",
    "# all_replicates = []\n",
    "# for i in range(len(data)):\n",
    "#     one_replicate_data = all_bees_all_time(data, i)\n",
    "#     all_replicates.append(one_replicate_data)"
   ]
  },
  {
   "cell_type": "code",
   "execution_count": 16,
   "metadata": {
    "scrolled": true
   },
   "outputs": [],
   "source": [
    "# # Store means of 10 replicates\n",
    "# all_reps_avgs = []\n",
    "\n",
    "# # Also get min and max for range in plotting \n",
    "# mins = []; maxes = []\n",
    "# #\n",
    "# for i in range(160):\n",
    "#     one_timestep = [item[i] for item in all_replicates]\n",
    "#     # Get the avg of of all bees at the timestep\n",
    "#     avg_all_reps_all_bees = np.mean(one_timestep)\n",
    "#     min_val = min(one_timestep)\n",
    "#     max_val = max(one_timestep)\n",
    "    \n",
    "#     all_reps_avgs.append(avg_all_reps_all_bees)\n",
    "#     mins.append(min_val)\n",
    "#     maxes.append(max_val)\n"
   ]
  },
  {
   "cell_type": "code",
   "execution_count": 17,
   "metadata": {},
   "outputs": [],
   "source": [
    "def avg_all_replicates(data_json):\n",
    "    # Get all replicates' lists into a list\n",
    "    all_replicates = []\n",
    "    for i in range(len(data_json)):\n",
    "        one_replicate_data = all_bees_all_time(data_json, i)\n",
    "        all_replicates.append(one_replicate_data)\n",
    "        \n",
    "    # Store means of 10 replicates\n",
    "    all_reps_avgs = []\n",
    "\n",
    "    # Also get min and max for range in plotting \n",
    "    mins = np.min(all_replicates, axis=0)\n",
    "    maxs = np.max(all_replicates, axis=0)\n",
    "    \n",
    "    data = {\n",
    "        \"all\" : all_replicates,\n",
    "        \"min\" : mins,\n",
    "        \"max\" : maxs\n",
    "    }\n",
    "\n",
    "    return data"
   ]
  },
  {
   "cell_type": "code",
   "execution_count": 18,
   "metadata": {},
   "outputs": [],
   "source": [
    "# with open(\"combined_replicates/Q0.15_W0.01_D0.35_T0.5_wb1.json\", \"r\") as f:\n",
    "#     data = json.load(f)"
   ]
  },
  {
   "cell_type": "markdown",
   "metadata": {},
   "source": [
    "- Colorbrewer: http://colorbrewer2.org/#type=sequential&scheme=YlGnBu&n=5\n",
    "- tsplot: https://seaborn.pydata.org/generated/seaborn.tsplot.html"
   ]
  },
  {
   "cell_type": "code",
   "execution_count": 19,
   "metadata": {},
   "outputs": [],
   "source": [
    "def plot_me(json_name):\n",
    "    \n",
    "    with open(\"distance_bw_workers/{}\".format(json_name), \"r\") as f:\n",
    "        json_data = json.load(f)\n",
    "    \n",
    "    bee_data = avg_all_replicates(json_data)\n",
    "    \n",
    "    \n",
    "    # sns.set_context(\"poster\", rc={\"font.size\":8,\"axes.titlesize\":8,\"axes.labelsize\":5})\n",
    "    # sns.set_context(\"poster\", rc={'text.color': \"#2eaf53\"})\n",
    "\n",
    "    \n",
    "    fig, ax = plt.subplots(1, figsize=(8, 5))\n",
    "    sns.set(font_scale = 1.5)\n",
    "    sns.set_style(\"whitegrid\", {'axes.grid' : False, 'text.color': '#535956', \n",
    "                                'axes.labelcolor': '#535956', \n",
    "                                'xtick.color': '#535956',\n",
    "                                'ytick.color': '#535956',\n",
    "                                'axes.linewidth': 1.5,\n",
    "                               'axes.edgecolor': '#535956'})\n",
    "    \n",
    "    ax.spines['right'].set_visible(False)\n",
    "    ax.spines['top'].set_visible(False)\n",
    "\n",
    "    # sns.set_style(\"whitegrid\")\n",
    "    \n",
    "    # Setup minmax bounds\n",
    "    ax.plot(bee_data[\"min\"], color='#2c7fb8', alpha=0.2)\n",
    "    ax.plot(bee_data[\"max\"], color='#2c7fb8', alpha=0.2)\n",
    "    \n",
    "    # Fill between minmax bounds\n",
    "    ax.fill_between([i for i in range(len(bee_data[\"min\"]))], bee_data[\"min\"], bee_data[\"max\"], \n",
    "                    where = bee_data[\"max\"] >= bee_data[\"min\"], facecolor='#2c7fb8', alpha=0.15, interpolate=True)\n",
    "\n",
    "    # Average with stds 68 and 95\n",
    "    g = sns.tsplot(data=bee_data[\"all\"], estimator=np.mean, color=\"#2eaf53\", alpha=0.8, ci=[68, 95], ax=ax, err_kws={\"color\" : \"#a1dab4\", \"alpha\" : 0.})\n",
    "    g.lines[2].set_linewidth(3)\n",
    "    g.set(ylim=(0,2))\n",
    "    \n",
    "    processed_fname = json_name[:-5]\n",
    "    \n",
    "    ax.set(xlabel='Time (step)', ylabel='Distance')\n",
    "    plt.title(\"Distance between workers over time \\n ({})\".format(processed_fname))\n",
    "    plt.savefig('/Users/dieumynguyen/Desktop/Projects/bee_communication/figures/distance_bw_workers/{}.pdf'.format(processed_fname))\n",
    "    \n",
    "    plt.close()"
   ]
  },
  {
   "cell_type": "code",
   "execution_count": 20,
   "metadata": {},
   "outputs": [],
   "source": [
    "# plot_me(\"Q0.15_W0.01_D0.35_T0.5_wb1.json\")\n",
    "# plt.show()"
   ]
  },
  {
   "cell_type": "code",
   "execution_count": 23,
   "metadata": {
    "scrolled": true
   },
   "outputs": [
    {
     "name": "stdout",
     "output_type": "stream",
     "text": [
      "1. Plotting distance bw workers for: Q0.15_W0.0005_D0.005_T0.005_wb3.json\n"
     ]
    },
    {
     "name": "stderr",
     "output_type": "stream",
     "text": [
      "/Users/dieumynguyen/anaconda3/lib/python3.6/site-packages/seaborn/timeseries.py:183: UserWarning:\n",
      "\n",
      "The tsplot function is deprecated and will be removed or replaced (in a substantially altered version) in a future release.\n",
      "\n"
     ]
    },
    {
     "name": "stdout",
     "output_type": "stream",
     "text": [
      "2. Plotting distance bw workers for: Q0.15_W0.0005_D0.005_T0.5_wb3.json\n",
      "3. Plotting distance bw workers for: Q0.15_W0.0005_D0.01_T0.005_wb3.json\n",
      "4. Plotting distance bw workers for: Q0.15_W0.0005_D0.01_T0.5_wb3.json\n",
      "5. Plotting distance bw workers for: Q0.15_W0.0005_D0.05_T0.005_wb3.json\n",
      "6. Plotting distance bw workers for: Q0.15_W0.0005_D0.05_T0.5_wb3.json\n",
      "7. Plotting distance bw workers for: Q0.15_W0.0005_D0.1_T0.005_wb3.json\n",
      "8. Plotting distance bw workers for: Q0.15_W0.0005_D0.1_T0.5_wb3.json\n",
      "9. Plotting distance bw workers for: Q0.15_W0.0005_D0.5_T0.005_wb3.json\n",
      "10. Plotting distance bw workers for: Q0.15_W0.0005_D0.5_T0.5_wb3.json\n",
      "11. Plotting distance bw workers for: Q0.15_W0.0005_D1.0_T0.005_wb3.json\n",
      "12. Plotting distance bw workers for: Q0.15_W0.0005_D1.0_T0.5_wb3.json\n",
      "13. Plotting distance bw workers for: Q0.15_W0.001_D0.005_T0.005_wb3.json\n",
      "14. Plotting distance bw workers for: Q0.15_W0.001_D0.005_T0.5_wb3.json\n",
      "15. Plotting distance bw workers for: Q0.15_W0.001_D0.01_T0.005_wb3.json\n",
      "16. Plotting distance bw workers for: Q0.15_W0.001_D0.01_T0.5_wb3.json\n",
      "17. Plotting distance bw workers for: Q0.15_W0.001_D0.05_T0.005_wb3.json\n",
      "18. Plotting distance bw workers for: Q0.15_W0.001_D0.05_T0.5_wb3.json\n",
      "19. Plotting distance bw workers for: Q0.15_W0.001_D0.1_T0.005_wb3.json\n",
      "20. Plotting distance bw workers for: Q0.15_W0.001_D0.1_T0.5_wb3.json\n",
      "21. Plotting distance bw workers for: Q0.15_W0.001_D0.5_T0.005_wb3.json\n",
      "22. Plotting distance bw workers for: Q0.15_W0.001_D0.5_T0.5_wb3.json\n",
      "23. Plotting distance bw workers for: Q0.15_W0.001_D1.0_T0.005_wb3.json\n",
      "24. Plotting distance bw workers for: Q0.15_W0.001_D1.0_T0.5_wb3.json\n",
      "25. Plotting distance bw workers for: Q0.15_W0.005_D0.005_T0.005_wb3.json\n",
      "26. Plotting distance bw workers for: Q0.15_W0.005_D0.005_T0.5_wb3.json\n",
      "27. Plotting distance bw workers for: Q0.15_W0.005_D0.01_T0.005_wb3.json\n",
      "28. Plotting distance bw workers for: Q0.15_W0.005_D0.01_T0.5_wb3.json\n",
      "29. Plotting distance bw workers for: Q0.15_W0.005_D0.05_T0.005_wb3.json\n",
      "30. Plotting distance bw workers for: Q0.15_W0.005_D0.05_T0.5_wb3.json\n",
      "31. Plotting distance bw workers for: Q0.15_W0.005_D0.1_T0.005_wb3.json\n",
      "32. Plotting distance bw workers for: Q0.15_W0.005_D0.1_T0.5_wb3.json\n",
      "33. Plotting distance bw workers for: Q0.15_W0.005_D0.5_T0.005_wb3.json\n",
      "34. Plotting distance bw workers for: Q0.15_W0.005_D0.5_T0.5_wb3.json\n",
      "35. Plotting distance bw workers for: Q0.15_W0.005_D1.0_T0.005_wb3.json\n",
      "36. Plotting distance bw workers for: Q0.15_W0.005_D1.0_T0.5_wb3.json\n",
      "37. Plotting distance bw workers for: Q0.15_W0.01_D0.005_T0.005_wb3.json\n",
      "38. Plotting distance bw workers for: Q0.15_W0.01_D0.005_T0.5_wb3.json\n",
      "39. Plotting distance bw workers for: Q0.15_W0.01_D0.01_T0.005_wb3.json\n",
      "40. Plotting distance bw workers for: Q0.15_W0.01_D0.01_T0.5_wb3.json\n",
      "41. Plotting distance bw workers for: Q0.15_W0.01_D0.05_T0.005_wb3.json\n",
      "42. Plotting distance bw workers for: Q0.15_W0.01_D0.05_T0.5_wb3.json\n",
      "43. Plotting distance bw workers for: Q0.15_W0.01_D0.1_T0.005_wb3.json\n",
      "44. Plotting distance bw workers for: Q0.15_W0.01_D0.1_T0.5_wb3.json\n",
      "45. Plotting distance bw workers for: Q0.15_W0.01_D0.5_T0.005_wb3.json\n",
      "46. Plotting distance bw workers for: Q0.15_W0.01_D0.5_T0.5_wb3.json\n",
      "47. Plotting distance bw workers for: Q0.15_W0.01_D1.0_T0.005_wb3.json\n",
      "48. Plotting distance bw workers for: Q0.15_W0.01_D1.0_T0.5_wb3.json\n",
      "49. Plotting distance bw workers for: Q0.15_W0.05_D0.005_T0.005_wb3.json\n",
      "50. Plotting distance bw workers for: Q0.15_W0.05_D0.005_T0.5_wb3.json\n",
      "51. Plotting distance bw workers for: Q0.15_W0.05_D0.01_T0.005_wb3.json\n",
      "52. Plotting distance bw workers for: Q0.15_W0.05_D0.01_T0.5_wb3.json\n",
      "53. Plotting distance bw workers for: Q0.15_W0.05_D0.05_T0.005_wb3.json\n",
      "54. Plotting distance bw workers for: Q0.15_W0.05_D0.05_T0.5_wb3.json\n",
      "55. Plotting distance bw workers for: Q0.15_W0.05_D0.1_T0.005_wb3.json\n",
      "56. Plotting distance bw workers for: Q0.15_W0.05_D0.1_T0.5_wb3.json\n",
      "57. Plotting distance bw workers for: Q0.15_W0.05_D0.5_T0.005_wb3.json\n",
      "58. Plotting distance bw workers for: Q0.15_W0.05_D0.5_T0.5_wb3.json\n",
      "59. Plotting distance bw workers for: Q0.15_W0.05_D1.0_T0.005_wb3.json\n",
      "60. Plotting distance bw workers for: Q0.15_W0.05_D1.0_T0.5_wb3.json\n",
      "61. Plotting distance bw workers for: Q0.15_W0.1_D0.005_T0.005_wb3.json\n",
      "62. Plotting distance bw workers for: Q0.15_W0.1_D0.005_T0.5_wb3.json\n",
      "63. Plotting distance bw workers for: Q0.15_W0.1_D0.01_T0.005_wb3.json\n",
      "64. Plotting distance bw workers for: Q0.15_W0.1_D0.01_T0.5_wb3.json\n",
      "65. Plotting distance bw workers for: Q0.15_W0.1_D0.05_T0.005_wb3.json\n",
      "66. Plotting distance bw workers for: Q0.15_W0.1_D0.05_T0.5_wb3.json\n",
      "67. Plotting distance bw workers for: Q0.15_W0.1_D0.1_T0.005_wb3.json\n",
      "68. Plotting distance bw workers for: Q0.15_W0.1_D0.1_T0.5_wb3.json\n",
      "69. Plotting distance bw workers for: Q0.15_W0.1_D0.5_T0.005_wb3.json\n",
      "70. Plotting distance bw workers for: Q0.15_W0.1_D0.5_T0.5_wb3.json\n",
      "71. Plotting distance bw workers for: Q0.15_W0.1_D1.0_T0.005_wb3.json\n",
      "72. Plotting distance bw workers for: Q0.15_W0.1_D1.0_T0.5_wb3.json\n",
      "73. Plotting distance bw workers for: Q0.15_W0.5_D0.005_T0.005_wb3.json\n",
      "74. Plotting distance bw workers for: Q0.15_W0.5_D0.005_T0.5_wb3.json\n",
      "75. Plotting distance bw workers for: Q0.15_W0.5_D0.01_T0.005_wb3.json\n",
      "76. Plotting distance bw workers for: Q0.15_W0.5_D0.01_T0.5_wb3.json\n",
      "77. Plotting distance bw workers for: Q0.15_W0.5_D0.05_T0.005_wb3.json\n",
      "78. Plotting distance bw workers for: Q0.15_W0.5_D0.05_T0.5_wb3.json\n",
      "79. Plotting distance bw workers for: Q0.15_W0.5_D0.1_T0.005_wb3.json\n",
      "80. Plotting distance bw workers for: Q0.15_W0.5_D0.1_T0.5_wb3.json\n",
      "81. Plotting distance bw workers for: Q0.15_W0.5_D0.5_T0.005_wb3.json\n",
      "82. Plotting distance bw workers for: Q0.15_W0.5_D0.5_T0.5_wb3.json\n",
      "83. Plotting distance bw workers for: Q0.15_W0.5_D1.0_T0.005_wb3.json\n",
      "84. Plotting distance bw workers for: Q0.15_W0.5_D1.0_T0.5_wb3.json\n"
     ]
    }
   ],
   "source": [
    "# Iterate through all (256) JSON's and produce 1 figure each\n",
    "reps_list = list(map(lambda x : x.split(\"/\")[-1], glob2.glob(\"distance_bw_workers/*.json\")))\n",
    "\n",
    "for i, r in enumerate(reps_list):\n",
    "    print(\"{}. Plotting distance bw workers for: {}\".format(i+1, r))\n",
    "    plot_me(r)"
   ]
  },
  {
   "cell_type": "code",
   "execution_count": null,
   "metadata": {},
   "outputs": [],
   "source": []
  },
  {
   "cell_type": "code",
   "execution_count": null,
   "metadata": {},
   "outputs": [],
   "source": []
  }
 ],
 "metadata": {
  "kernelspec": {
   "display_name": "Python 3",
   "language": "python",
   "name": "python3"
  },
  "language_info": {
   "codemirror_mode": {
    "name": "ipython",
    "version": 3
   },
   "file_extension": ".py",
   "mimetype": "text/x-python",
   "name": "python",
   "nbconvert_exporter": "python",
   "pygments_lexer": "ipython3",
   "version": "3.6.4"
  }
 },
 "nbformat": 4,
 "nbformat_minor": 2
}
