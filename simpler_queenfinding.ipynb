{
 "cells": [
  {
   "cell_type": "code",
   "execution_count": 321,
   "metadata": {},
   "outputs": [],
   "source": [
    "import numpy as np\n",
    "import matplotlib.pyplot as plt\n",
    "import seaborn as sns\n",
    "import random\n",
    "import operator\n",
    "from matplotlib import animation, rc\n",
    "from IPython.display import HTML"
   ]
  },
  {
   "cell_type": "markdown",
   "metadata": {},
   "source": [
    "Intialize scatter plot of bees in arena."
   ]
  },
  {
   "cell_type": "code",
   "execution_count": 330,
   "metadata": {},
   "outputs": [],
   "source": [
    "def initialize_bees(min_x, max_x, delta_x):\n",
    "    # Define array of floats spaced by the delta_x; select positions from here\n",
    "    x_or_y_array = list(np.arange(min_x, max_x, delta_x))\n",
    "    \n",
    "    # Random xy positions for bees; sampled from x_or_y_array\n",
    "    X = random.sample(x_or_y_array, 2)\n",
    "    Y = random.sample(x_or_y_array, 2)\n",
    "\n",
    "    # Start X and Y arrays with queen whose xy is (0,0)\n",
    "    X.insert(0, 0); Y.insert(0, 0)\n",
    "\n",
    "    return X, Y    "
   ]
  },
  {
   "cell_type": "code",
   "execution_count": 335,
   "metadata": {},
   "outputs": [
    {
     "data": {
      "text/plain": [
       "([0, 1.739999999999899, -0.7800000000000473],\n",
       " [0, 2.029999999999893, -1.7200000000000273])"
      ]
     },
     "execution_count": 335,
     "metadata": {},
     "output_type": "execute_result"
    }
   ],
   "source": [
    "# Define bounds of global arena and size of a cell (step size of a worker too)\n",
    "min_x = -3; max_x = 3; delta_x = 0.01\n",
    "\n",
    "X, Y = initialize_bees(min_x, max_x, delta_x)\n",
    "X, Y"
   ]
  },
  {
   "cell_type": "code",
   "execution_count": 336,
   "metadata": {},
   "outputs": [
    {
     "data": {
      "image/png": "[encoded data removed]",
      "text/plain": [
       "<matplotlib.figure.Figure at 0x1c1c045978>"
      ]
     },
     "metadata": {},
     "output_type": "display_data"
    }
   ],
   "source": [
    "plt.scatter(X[0], Y[0], c=\"orange\", s=200)\n",
    "plt.scatter(X[1:], Y[1:], c=\"g\", s=50, alpha=0.6)\n",
    "plt.xlim(-3, 3); plt.ylim(-3, 3)\n",
    "plt.show()"
   ]
  },
  {
   "cell_type": "code",
   "execution_count": null,
   "metadata": {},
   "outputs": [],
   "source": [
    "def move_bees():\n",
    "    "
   ]
  },
  {
   "cell_type": "code",
   "execution_count": 319,
   "metadata": {},
   "outputs": [
    {
     "name": "stdout",
     "output_type": "stream",
     "text": [
      "1\n",
      "2\n"
     ]
    },
    {
     "data": {
      "text/plain": [
       "([0, -0.010000000000063736, -1.1500000000000394],\n",
       " [0, -0.8400000000000463, -2.6500000000000075])"
      ]
     },
     "execution_count": 319,
     "metadata": {},
     "output_type": "execute_result"
    }
   ],
   "source": [
    "# Let workers move around in random directions by delta_x step size\n",
    "# Randomly choose +, -, or not change current position\n",
    "operators = [operator.add, operator.sub]\n",
    "step_size = [delta_x, 0]    # can multiple delta_x by a random scalar\n",
    "\n",
    "# New list of X and Y positions for next timestep after worker movement\n",
    "X_moved = []; Y_moved = []\n",
    "\n",
    "for bee_i in range(1,len(X)):\n",
    "    print(bee_i)\n",
    "    random_x_direction = random.choice(operators)\n",
    "    random_x_stepsize = random.choice(step_size)\n",
    "    \n",
    "    random_y_direction = random.choice(operators)\n",
    "    random_y_stepsize = random.choice(step_size)\n",
    "    \n",
    "    new_x = random_x_direction(X[bee_i], random_x_stepsize)\n",
    "    new_y = random_y_direction(Y[bee_i], random_y_stepsize)\n",
    "    \n",
    "    X_moved.append(new_x)\n",
    "    Y_moved.append(new_y)\n",
    "\n",
    "X_moved.insert(0, 0); Y_moved.insert(0, 0)\n",
    "X_moved, Y_moved"
   ]
  },
  {
   "cell_type": "code",
   "execution_count": 320,
   "metadata": {},
   "outputs": [
    {
     "data": {
      "image/png": "[encoded data removed]",
      "text/plain": [
       "<matplotlib.figure.Figure at 0x1c1bde7ba8>"
      ]
     },
     "metadata": {},
     "output_type": "display_data"
    }
   ],
   "source": [
    "plt.scatter(X_moved[0], Y_moved[0], c=\"orange\", s=200)\n",
    "plt.scatter(X_moved[1:], Y_moved[1:], c=\"g\", s=50, alpha=0.6)\n",
    "plt.xlim(-3, 3); plt.ylim(-3, 3)\n",
    "plt.show()"
   ]
  },
  {
   "cell_type": "code",
   "execution_count": null,
   "metadata": {},
   "outputs": [],
   "source": []
  },
  {
   "cell_type": "code",
   "execution_count": null,
   "metadata": {},
   "outputs": [],
   "source": []
  },
  {
   "cell_type": "code",
   "execution_count": null,
   "metadata": {},
   "outputs": [],
   "source": []
  },
  {
   "cell_type": "code",
   "execution_count": null,
   "metadata": {},
   "outputs": [],
   "source": []
  }
 ],
 "metadata": {
  "kernelspec": {
   "display_name": "Python 3",
   "language": "python",
   "name": "python3"
  },
  "language_info": {
   "codemirror_mode": {
    "name": "ipython",
    "version": 3
   },
   "file_extension": ".py",
   "mimetype": "text/x-python",
   "name": "python",
   "nbconvert_exporter": "python",
   "pygments_lexer": "ipython3",
   "version": "3.6.4"
  }
 },
 "nbformat": 4,
 "nbformat_minor": 2
}
