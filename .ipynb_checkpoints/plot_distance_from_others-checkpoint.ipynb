{
 "cells": [
  {
   "cell_type": "markdown",
   "metadata": {},
   "source": [
    "### Get distance_from_others data from combined_replicates/"
   ]
  },
  {
   "cell_type": "code",
   "execution_count": 454,
   "metadata": {},
   "outputs": [],
   "source": [
    "# Imports\n",
    "import json\n",
    "import numpy as np\n",
    "import plotly.plotly as py\n",
    "import matplotlib as mpl\n",
    "# mpl.use('Agg')\n",
    "%matplotlib inline\n",
    "from matplotlib import cycler\n",
    "import matplotlib.pyplot as plt\n",
    "import seaborn as sns\n",
    "import plotly.graph_objs as go\n",
    "import os\n",
    "import glob2\n",
    "import re"
   ]
  },
  {
   "cell_type": "code",
   "execution_count": 423,
   "metadata": {},
   "outputs": [],
   "source": [
    "with open(\"combined_replicates/Q0.01_W0.005_D0.05_T0.001.json\", \"r\") as f:\n",
    "    data = json.load(f)"
   ]
  },
  {
   "cell_type": "code",
   "execution_count": 424,
   "metadata": {},
   "outputs": [
    {
     "data": {
      "text/plain": [
       "8160"
      ]
     },
     "execution_count": 424,
     "metadata": {},
     "output_type": "execute_result"
    }
   ],
   "source": [
    "len(data[0][\"Replicate 1\"][\"distance_from_others\"])"
   ]
  },
  {
   "cell_type": "code",
   "execution_count": 425,
   "metadata": {},
   "outputs": [
    {
     "data": {
      "text/plain": [
       "2"
      ]
     },
     "execution_count": 425,
     "metadata": {},
     "output_type": "execute_result"
    }
   ],
   "source": [
    "len(data)"
   ]
  },
  {
   "cell_type": "markdown",
   "metadata": {},
   "source": [
    "### Get distances to 49 others for 1 bee over 160 timesteps"
   ]
  },
  {
   "cell_type": "code",
   "execution_count": 426,
   "metadata": {},
   "outputs": [],
   "source": [
    "def get_data_1_bee(data, replicate_i, bee_start_i):\n",
    "    # Loop over 50 lists in 1 timestep\n",
    "    # Each list is 1 bee and its distance to 49 other bees at this timestep\n",
    "    # List of 160 lists, each list has 50 values\n",
    "    one_bee_160_t = []\n",
    "    # Loop over 160 timesteps here\n",
    "    for bee in range(bee_start_i, 8160, 51):  # for other bees: every 101?\n",
    "        dist_to_49_others = data[replicate_i][\"Replicate {}\".format(replicate_i+1)][\"distance_from_others\"][bee][\"distances\"]\n",
    "        one_bee_160_t.append(dist_to_49_others)\n",
    "\n",
    "    return one_bee_160_t\n",
    "    # bees_dict[\"Bee {}\".format(i+1)] = dist_to_49_others"
   ]
  },
  {
   "cell_type": "code",
   "execution_count": 427,
   "metadata": {
    "scrolled": true
   },
   "outputs": [
    {
     "name": "stdout",
     "output_type": "stream",
     "text": [
      "160\n"
     ]
    }
   ],
   "source": [
    "# Test function\n",
    "# print(len(one_bee_160_t))\n",
    "# print(one_bee_160_t)\n",
    "bee_over_time = get_data_1_bee(data, 0, 0)\n",
    "print(len(bee_over_time))\n",
    "# bee_over_time[0]"
   ]
  },
  {
   "cell_type": "markdown",
   "metadata": {},
   "source": [
    "### Threshold nearest neighbors at max = 2 distance units "
   ]
  },
  {
   "cell_type": "code",
   "execution_count": 428,
   "metadata": {},
   "outputs": [],
   "source": [
    "def get_avg_neighbor_distances(data_list):\n",
    "    # Loop over each timestep list\n",
    "    # List of 160 floats for 1 bee\n",
    "    nearest_neighbors = []\n",
    "\n",
    "    for t_list in data_list:\n",
    "        # 160 avg values for distance to nearest neighbors\n",
    "        avg_list = []\n",
    "        for val in t_list:\n",
    "            if val <= 2:\n",
    "                avg_list.append(val)\n",
    "                # print(val)\n",
    "        nearest_neighbors.append(np.mean(avg_list))\n",
    "\n",
    "    return nearest_neighbors"
   ]
  },
  {
   "cell_type": "code",
   "execution_count": 467,
   "metadata": {},
   "outputs": [],
   "source": [
    "# Test\n",
    "# get_avg_neighbor_distances(bee_over_time)"
   ]
  },
  {
   "cell_type": "markdown",
   "metadata": {},
   "source": [
    "### Use get_data_1_bee & get_avg_neighbor_distances to get 50 lists for 50 bees -- in 1 replicate  -- later average over all 10 replicates"
   ]
  },
  {
   "cell_type": "code",
   "execution_count": 430,
   "metadata": {},
   "outputs": [],
   "source": [
    "def get_distances_50_bees(data, replicate_i):\n",
    "    # List of 50 lists \n",
    "    neighbor_distances_all_bees = [] \n",
    "\n",
    "    for i in range(51):\n",
    "        # print(i)\n",
    "        one_bee = get_data_1_bee(data, replicate_i, i)\n",
    "        avg_distances = get_avg_neighbor_distances(one_bee)\n",
    "        neighbor_distances_all_bees.append(avg_distances)\n",
    "        \n",
    "    return neighbor_distances_all_bees"
   ]
  },
  {
   "cell_type": "code",
   "execution_count": 431,
   "metadata": {},
   "outputs": [],
   "source": [
    "# Test\n",
    "# get_distances_50_bees(data, 1)"
   ]
  },
  {
   "cell_type": "code",
   "execution_count": 432,
   "metadata": {
    "scrolled": true
   },
   "outputs": [],
   "source": [
    "def all_bees_all_time(data, replicate_i):\n",
    "    ''' For 1 replicate swarm, get list of all bees avg distance\n",
    "    from nearest neighbors over all 160 timesteps '''\n",
    "\n",
    "    # Avg over all 50 bees for each of 160 timesteps\n",
    "    # Get a list of 160 values\n",
    "    all_distances = get_distances_50_bees(data, replicate_i)\n",
    "\n",
    "    all_bees_over_time = []\n",
    "    for i in range(160):\n",
    "        # For each timestep, i, get values of each of the 50 bees at that i \n",
    "        one_t = [item[i] for item in all_distances]\n",
    "        # Get the avg of of all bees at the timestep\n",
    "        avg_all_bees = np.mean(one_t)\n",
    "        all_bees_over_time.append(avg_all_bees)\n",
    "        \n",
    "    return all_bees_over_time"
   ]
  },
  {
   "cell_type": "code",
   "execution_count": 468,
   "metadata": {},
   "outputs": [],
   "source": [
    "# Test\n",
    "# all_bees_all_time(data, 0)"
   ]
  },
  {
   "cell_type": "markdown",
   "metadata": {},
   "source": [
    "### Average over all replicates in JSON"
   ]
  },
  {
   "cell_type": "code",
   "execution_count": 434,
   "metadata": {},
   "outputs": [],
   "source": [
    "# Get all replicates' lists into a list\n",
    "all_replicates = []\n",
    "for i in range(len(data)):\n",
    "    one_replicate_data = all_bees_all_time(data, i)\n",
    "    all_replicates.append(one_replicate_data)"
   ]
  },
  {
   "cell_type": "code",
   "execution_count": 435,
   "metadata": {
    "scrolled": true
   },
   "outputs": [],
   "source": [
    "# Store means of 10 replicates\n",
    "all_reps_avgs = []\n",
    "\n",
    "# Also get min and max for range in plotting \n",
    "mins = []; maxes = []\n",
    "\n",
    "for i in range(160):\n",
    "    one_timestep = [item[i] for item in all_replicates]\n",
    "    # Get the avg of of all bees at the timestep\n",
    "    avg_all_reps_all_bees = np.mean(one_timestep)\n",
    "    min_val = min(one_timestep)\n",
    "    max_val = max(one_timestep)\n",
    "    \n",
    "    all_reps_avgs.append(avg_all_reps_all_bees)\n",
    "    mins.append(min_val)\n",
    "    maxes.append(max_val)\n"
   ]
  },
  {
   "cell_type": "code",
   "execution_count": 436,
   "metadata": {},
   "outputs": [],
   "source": [
    "def avg_all_replicates(data_json):\n",
    "    # Get all replicates' lists into a list\n",
    "    all_replicates = []\n",
    "    for i in range(len(data_json)):\n",
    "        one_replicate_data = all_bees_all_time(data_json, i)\n",
    "        all_replicates.append(one_replicate_data)\n",
    "        \n",
    "    # Store means of 10 replicates\n",
    "    all_reps_avgs = []\n",
    "\n",
    "    # Also get min and max for range in plotting \n",
    "    mins = np.min(all_replicates, axis=0)\n",
    "    maxs = np.max(all_replicates, axis=0)\n",
    "    \n",
    "    data = {\n",
    "        \"_all\" : all_replicates,\n",
    "        \"_min\" : mins,\n",
    "        \"_max\" : maxs\n",
    "    }\n",
    "\n",
    "    return data"
   ]
  },
  {
   "cell_type": "code",
   "execution_count": 449,
   "metadata": {},
   "outputs": [],
   "source": [
    "SIM_DATA = False"
   ]
  },
  {
   "cell_type": "code",
   "execution_count": 450,
   "metadata": {},
   "outputs": [],
   "source": [
    "if SIM_DATA:\n",
    "    real_seed = np.array(avg_all_replicates(data)[\"_all\"])\n",
    "    all_data = np.array([[ele + np.random.uniform(-0.05, .05) for ele in real_seed[np.random.randint(real_seed.shape[0])]] for _ in range(10)])\n",
    "    min_data = np.min(new_data, axis=0)\n",
    "    max_data = np.max(new_data, axis=0)\n",
    "    \n",
    "    _data = {\"_all\" : all_data, \"_min\" : min_data, \"_max\" : max_data}\n",
    "else:\n",
    "    _data = avg_all_replicates(data)\n",
    "    "
   ]
  },
  {
   "cell_type": "markdown",
   "metadata": {},
   "source": [
    "- Colorbrewer: http://colorbrewer2.org/#type=sequential&scheme=YlGnBu&n=5\n",
    "- tsplot: https://seaborn.pydata.org/generated/seaborn.tsplot.html"
   ]
  },
  {
   "cell_type": "code",
   "execution_count": 519,
   "metadata": {},
   "outputs": [],
   "source": [
    "def plot_me(_all, _min, _max):\n",
    "    fig, ax = plt.subplots(1, figsize=(8, 5))\n",
    "    sns.set(font_scale = 1.5)\n",
    "    sns.set_style(\"whitegrid\", {'axes.grid' : False})\n",
    "    \n",
    "#     ax.spines['right'].set_visible(False)\n",
    "#     ax.spines['top'].set_visible(False)\n",
    "\n",
    "    # sns.set_style(\"whitegrid\")\n",
    "    \n",
    "    # Setup minmax bounds\n",
    "    ax.plot(_min, color='#2c7fb8', alpha=0.)\n",
    "    ax.plot(_max, color='#41b6c4', alpha=0.)\n",
    "    \n",
    "    # Fill between minmax bounds\n",
    "    ax.fill_between([i for i in range(len(_min))], _min, _max, \n",
    "                    where = _max >= _min, facecolor='#ffffcc', alpha=0.1, interpolate=True)\n",
    "\n",
    "    # Average with stds 68 and 95\n",
    "    g = sns.tsplot(data=_all, estimator=np.mean, color=\"#253494\", alpha=0.8, ci=[68, 95], ax=ax, err_kws={\"color\" : \"#a1dab4\", \"alpha\" : 0.25})\n",
    "    g.lines[2].set_linewidth(3)\n",
    "    g.set(ylim=(0,2))\n",
    "    \n",
    "\n",
    "    \n",
    "    ax.set(xlabel='Time', ylabel='Distance')\n",
    "    plt.title(\"Distance between workers over time \\n (Q0.01_W0.005_D0.05_T0.001)\")\n",
    "    \n",
    "    "
   ]
  },
  {
   "cell_type": "code",
   "execution_count": 520,
   "metadata": {},
   "outputs": [
    {
     "name": "stderr",
     "output_type": "stream",
     "text": [
      "/Users/dieumynguyen/anaconda3/lib/python3.6/site-packages/seaborn/timeseries.py:183: UserWarning:\n",
      "\n",
      "The tsplot function is deprecated and will be removed or replaced (in a substantially altered version) in a future release.\n",
      "\n"
     ]
    },
    {
     "data": {
      "image/png": "[encoded data removed]",
      "text/plain": [
       "<matplotlib.figure.Figure at 0x1a18178b70>"
      ]
     },
     "metadata": {},
     "output_type": "display_data"
    }
   ],
   "source": [
    "plot_me(**_data)"
   ]
  },
  {
   "cell_type": "code",
   "execution_count": null,
   "metadata": {},
   "outputs": [],
   "source": []
  }
 ],
 "metadata": {
  "kernelspec": {
   "display_name": "Python 3",
   "language": "python",
   "name": "python3"
  },
  "language_info": {
   "codemirror_mode": {
    "name": "ipython",
    "version": 3
   },
   "file_extension": ".py",
   "mimetype": "text/x-python",
   "name": "python",
   "nbconvert_exporter": "python",
   "pygments_lexer": "ipython3",
   "version": "3.6.4"
  }
 },
 "nbformat": 4,
 "nbformat_minor": 2
}
