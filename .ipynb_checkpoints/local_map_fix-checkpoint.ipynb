{
 "cells": [
  {
   "cell_type": "code",
   "execution_count": 10,
   "metadata": {},
   "outputs": [],
   "source": [
    "# Imports\n",
    "import json\n",
    "import numpy as np\n",
    "import plotly.plotly as py\n",
    "import matplotlib as mpl\n",
    "mpl.use('Agg')\n",
    "from matplotlib import cycler\n",
    "import matplotlib.pyplot as plt\n",
    "import seaborn as sns\n",
    "import plotly.graph_objs as go\n",
    "import os\n",
    "import glob2\n",
    "import re\n",
    "import h5py\n",
    "\n",
    "from IPython.display import display"
   ]
  },
  {
   "cell_type": "markdown",
   "metadata": {},
   "source": [
    "<b> Using saved local map data..."
   ]
  },
  {
   "cell_type": "markdown",
   "metadata": {},
   "source": [
    "### ISSUE 1:\n",
    "\n",
    "Why are bias_x and bias_y changing while bee is scenting? Should emit based on initial calculation before first timestep of scenting. \n",
    "\n",
    "<B> FIX: Upon activation when threshold is met, bee stands still and emits in 1 direction for the (6) timesteps of scenting. Indented for line 181 in Bees.py."
   ]
  },
  {
   "cell_type": "code",
   "execution_count": 3,
   "metadata": {},
   "outputs": [],
   "source": [
    "experiment_dir = \"experiments/07M_17D-20H_45M_11S_Q0.15_W0.15_D0.25_T0.001_wb1/experiment0\""
   ]
  },
  {
   "cell_type": "code",
   "execution_count": 4,
   "metadata": {},
   "outputs": [],
   "source": [
    "with open(experiment_dir + \"/data/measurements.json\", \"r\") as f:\n",
    "    measurements = json.load(f)"
   ]
  },
  {
   "cell_type": "code",
   "execution_count": 16,
   "metadata": {},
   "outputs": [
    {
     "data": {
      "text/plain": [
       "[{'bias_x': 0.0,\n",
       "  'bias_y': -0.9999999989999999,\n",
       "  'found_queen_direction': True,\n",
       "  'local_map': [[0.0020428671224579057,\n",
       "    0.0022588464730266206,\n",
       "    0.0024951635354296627],\n",
       "   [0.0020438888114149936, 0.0022599761786603733, 0.0024964114291385845],\n",
       "   [0.0020428671224579325, 0.0022588464730266505, 0.002495163535429696]],\n",
       "  'scenting': True,\n",
       "  'x': 0.0,\n",
       "  'y': -1.0},\n",
       " {'bias_x': 0.0,\n",
       "  'bias_y': 0.9999999989999999,\n",
       "  'found_queen_direction': True,\n",
       "  'local_map': [[0.6534640544532948, 0.642321652443168, 0.6289194741759708],\n",
       "   [0.6547641715046739, 0.6435987826789523, 0.6301690442404114],\n",
       "   [0.653464054453328, 0.6423216524432007, 0.6289194741760028]],\n",
       "  'scenting': True,\n",
       "  'x': 0.0,\n",
       "  'y': -1.0},\n",
       " {'bias_x': 0.0,\n",
       "  'bias_y': -0.9999999989999999,\n",
       "  'found_queen_direction': True,\n",
       "  'local_map': [[1.0691031195796403, 1.0753687116802664, 1.0786948882324097],\n",
       "   [1.0707905713878327, 1.0770758880433065, 1.0804165296709212],\n",
       "   [1.0691031195796834, 1.07536871168031, 1.0786948882324534]],\n",
       "  'scenting': True,\n",
       "  'x': 0.0,\n",
       "  'y': -1.0},\n",
       " {'bias_x': 0.0,\n",
       "  'bias_y': 0.9999999989999999,\n",
       "  'found_queen_direction': True,\n",
       "  'local_map': [[1.4216356938273393, 1.4132886766843908, 1.40169370963637],\n",
       "   [1.423584278768908, 1.4152189149096448, 1.403600133230638],\n",
       "   [1.421635693827389, 1.4132886766844404, 1.4016937096364184]],\n",
       "  'scenting': True,\n",
       "  'x': 0.0,\n",
       "  'y': -1.0},\n",
       " {'bias_x': 0.0,\n",
       "  'bias_y': -0.9999999989999999,\n",
       "  'found_queen_direction': True,\n",
       "  'local_map': [[1.684699416731436, 1.6927004556508085, 1.6972895657688187],\n",
       "   [1.6867459980062822, 1.6947686260947612, 1.699373773533355],\n",
       "   [1.6846994167314882, 1.6927004556508614, 1.697289565768872]],\n",
       "  'scenting': True,\n",
       "  'x': 0.0,\n",
       "  'y': -1.0},\n",
       " {'bias_x': 0.0,\n",
       "  'bias_y': 0.9999999989999999,\n",
       "  'found_queen_direction': True,\n",
       "  'local_map': [[1.9387594361659768, 1.9316859591677558, 1.9211141919810384],\n",
       "   [1.9409385501899574, 1.9338476543105667, 1.923252878394592],\n",
       "   [1.9387594361660323, 1.9316859591678117, 1.9211141919810932]],\n",
       "  'scenting': True,\n",
       "  'x': 0.0,\n",
       "  'y': -1.0}]"
      ]
     },
     "execution_count": 16,
     "metadata": {},
     "output_type": "execute_result"
    }
   ],
   "source": [
    "# While worker is scenting; position is constant during these 6 timesteps.\n",
    "measurements['position_history']['worker_2'][4:4+6]"
   ]
  },
  {
   "cell_type": "markdown",
   "metadata": {},
   "source": [
    "<b> See if FIX worked: Yes."
   ]
  },
  {
   "cell_type": "code",
   "execution_count": 75,
   "metadata": {},
   "outputs": [
    {
     "name": "stdout",
     "output_type": "stream",
     "text": [
      "TIMESTEP 4... {'x': -0.95, 'y': -0.05, 'found_queen_direction': True, 'scenting': True, 'bias_x': -0.7071067806865474, 'bias_y': -0.7071067806865474, 'local_map': [[0.0032849593286873964, 0.0033030763811287794, 0.0033179737186395434], [0.0036141412317188034, 0.003634073772634546, 0.0036504639547808794], [0.003972335742761969, 0.003994243781116634, 0.004012258380490575]]} \n",
      "\n",
      "TIMESTEP 5... {'x': -0.95, 'y': -0.05, 'found_queen_direction': True, 'scenting': True, 'bias_x': -0.7071067806865474, 'bias_y': -0.7071067806865474, 'local_map': [[0.0032849593286873964, 0.0033030763811287794, 0.0033179737186395434], [0.0036141412317188034, 0.003634073772634546, 0.0036504639547808794], [0.003972335742761969, 0.003994243781116634, 0.004012258380490575]]} \n",
      "\n",
      "TIMESTEP 6... {'x': -0.95, 'y': -0.05, 'found_queen_direction': True, 'scenting': True, 'bias_x': -0.7071067806865474, 'bias_y': -0.7071067806865474, 'local_map': [[0.0032849593286873964, 0.0033030763811287794, 0.0033179737186395434], [0.0036141412317188034, 0.003634073772634546, 0.0036504639547808794], [0.003972335742761969, 0.003994243781116634, 0.004012258380490575]]} \n",
      "\n",
      "TIMESTEP 7... {'x': -0.95, 'y': -0.05, 'found_queen_direction': True, 'scenting': True, 'bias_x': -0.7071067806865474, 'bias_y': -0.7071067806865474, 'local_map': [[0.0032849593286873964, 0.0033030763811287794, 0.0033179737186395434], [0.0036141412317188034, 0.003634073772634546, 0.0036504639547808794], [0.003972335742761969, 0.003994243781116634, 0.004012258380490575]]} \n",
      "\n",
      "TIMESTEP 8... {'x': -0.95, 'y': -0.05, 'found_queen_direction': True, 'scenting': True, 'bias_x': -0.7071067806865474, 'bias_y': -0.7071067806865474, 'local_map': [[0.0032849593286873964, 0.0033030763811287794, 0.0033179737186395434], [0.0036141412317188034, 0.003634073772634546, 0.0036504639547808794], [0.003972335742761969, 0.003994243781116634, 0.004012258380490575]]} \n",
      "\n",
      "TIMESTEP 9... {'x': -0.95, 'y': -0.05, 'found_queen_direction': True, 'scenting': True, 'bias_x': -0.7071067806865474, 'bias_y': -0.7071067806865474, 'local_map': [[0.0032849593286873964, 0.0033030763811287794, 0.0033179737186395434], [0.0036141412317188034, 0.003634073772634546, 0.0036504639547808794], [0.003972335742761969, 0.003994243781116634, 0.004012258380490575]]} \n",
      "\n"
     ]
    }
   ],
   "source": [
    "experiment_dir2 = \"experiments/moving_07M_18D-16H_21M_31S_Q0.15_W0.15_D0.25_T0.001_wb1/experiment0\"\n",
    "with open(experiment_dir2 + \"/data/measurements.json\", \"r\") as f:\n",
    "    measurements2 = json.load(f)\n",
    "    \n",
    "# While worker is scenting; position is constant during these 6 timesteps.\n",
    "worker = \"worker_4\"\n",
    "for t_i, t in enumerate(measurements2['position_history'][worker]):\n",
    "    if t[\"scenting\"]:\n",
    "        print(\"TIMESTEP {}... {} \\n\".format(t_i, t))"
   ]
  },
  {
   "cell_type": "markdown",
   "metadata": {},
   "source": [
    "### ISSUE 2:\n",
    "\n",
    "Adjusted indices not correct. (Mysteriously, still works sometimes. Why?)\n",
    "\n",
    "<B> FIX: New mapping between array indices and theoretical map with bounds [-1,1] "
   ]
  },
  {
   "cell_type": "markdown",
   "metadata": {},
   "source": [
    "--- With old adjusted indices:"
   ]
  },
  {
   "cell_type": "code",
   "execution_count": 78,
   "metadata": {},
   "outputs": [
    {
     "data": {
      "text/plain": [
       "array([[0.00328496, 0.00330308, 0.00331797],\n",
       "       [0.00361414, 0.00363407, 0.00365046],\n",
       "       [0.00397234, 0.00399424, 0.00401226]])"
      ]
     },
     "execution_count": 78,
     "metadata": {},
     "output_type": "execute_result"
    }
   ],
   "source": [
    "# Initial local map that activated scenting (when x,y of worker > T)\n",
    "local_map = measurements2['position_history']['worker_4'][4]['local_map']\n",
    "local_map = np.array(local_map)\n",
    "local_map"
   ]
  },
  {
   "cell_type": "code",
   "execution_count": 79,
   "metadata": {},
   "outputs": [
    {
     "data": {
      "text/plain": [
       "0.003634073772634546"
      ]
     },
     "execution_count": 79,
     "metadata": {},
     "output_type": "execute_result"
    }
   ],
   "source": [
    "# Concentration @ where bee is\n",
    "current_c = local_map[1][1]\n",
    "current_c"
   ]
  },
  {
   "cell_type": "markdown",
   "metadata": {},
   "source": [
    "Shown in array above, max index (before adjusted) is..."
   ]
  },
  {
   "cell_type": "code",
   "execution_count": 103,
   "metadata": {},
   "outputs": [
    {
     "data": {
      "text/plain": [
       "(0.004012258380490575, [array([2]), array([2])])"
      ]
     },
     "execution_count": 103,
     "metadata": {},
     "output_type": "execute_result"
    }
   ],
   "source": [
    "max_concentration = np.max(local_map[np.where(local_map > current_c)])\n",
    "max_concentration_indices = list(np.where(local_map == max_concentration))\n",
    "\n",
    "max_concentration, max_concentration_indices"
   ]
  },
  {
   "cell_type": "markdown",
   "metadata": {},
   "source": [
    "Before, we adjusted indices this way below, which is wrong. \n",
    "\n",
    "Wrong adjusted indices: 1,1. Wrong scenting direction: -1,-1\n",
    "\n",
    "Correct max direction: 1, -1. Correct scenting direction: -1,1"
   ]
  },
  {
   "cell_type": "code",
   "execution_count": 131,
   "metadata": {},
   "outputs": [
    {
     "data": {
      "text/plain": [
       "{'x': 1, 'y': 1}"
      ]
     },
     "execution_count": 131,
     "metadata": {},
     "output_type": "execute_result"
    }
   ],
   "source": [
    "adjusted_indices_orig = [int(i)-1 for i in max_concentration_indices]\n",
    "\n",
    "directions_to_queen_orig = { \"x\" : adjusted_indices_orig[0], \"y\": adjusted_indices_orig[1] }\n",
    "directions_to_queen_orig"
   ]
  },
  {
   "cell_type": "markdown",
   "metadata": {},
   "source": [
    "Now, make correct mapping between array indices and array bounded by [-1,1]"
   ]
  },
  {
   "cell_type": "code",
   "execution_count": 132,
   "metadata": {},
   "outputs": [
    {
     "data": {
      "text/plain": [
       "(2, 2)"
      ]
     },
     "execution_count": 132,
     "metadata": {},
     "output_type": "execute_result"
    }
   ],
   "source": [
    "max_concentration_indices_tup = tuple([int(index) for index in max_concentration_indices])\n",
    "max_concentration_indices_tup"
   ]
  },
  {
   "cell_type": "code",
   "execution_count": 133,
   "metadata": {},
   "outputs": [],
   "source": [
    "# Dictionary of original indices : adjusted indices\n",
    "mapping_dict = {\n",
    "                (0,0): (-1,1),\n",
    "                (1,0): (-1,0),\n",
    "                (2,0): (-1,-1),\n",
    "                (0,1): (0,1),\n",
    "                (1,1): (0,0),\n",
    "                (2,1): (0,-1),\n",
    "                (0,2): (1,1),\n",
    "                (1,2): (1, 0),\n",
    "                (2,2): (1,-1),\n",
    "               }"
   ]
  },
  {
   "cell_type": "code",
   "execution_count": 138,
   "metadata": {},
   "outputs": [
    {
     "name": "stdout",
     "output_type": "stream",
     "text": [
      "(1, -1)\n"
     ]
    }
   ],
   "source": [
    "adjusted_indices = (0,0)\n",
    "\n",
    "if max_concentration_indices_tup in mapping_dict.keys():\n",
    "    adjusted_indices =  mapping_dict[max_concentration_indices_tup]\n",
    "    print(adjusted_indices)"
   ]
  },
  {
   "cell_type": "markdown",
   "metadata": {},
   "source": [
    "Now see if this prints the correct direction for scenting... Yes. "
   ]
  },
  {
   "cell_type": "code",
   "execution_count": 140,
   "metadata": {},
   "outputs": [
    {
     "data": {
      "text/plain": [
       "{'x': 1, 'y': -1}"
      ]
     },
     "execution_count": 140,
     "metadata": {},
     "output_type": "execute_result"
    }
   ],
   "source": [
    "directions_to_queen = { \"x\" : adjusted_indices[0], \"y\": adjusted_indices[1] }\n",
    "directions_to_queen"
   ]
  },
  {
   "cell_type": "code",
   "execution_count": 141,
   "metadata": {},
   "outputs": [],
   "source": [
    "if (directions_to_queen[\"x\"] > 0):\n",
    "    bias_direction_x = -1\n",
    "elif (directions_to_queen[\"x\"] == 0):\n",
    "    bias_direction_x = 0\n",
    "else:\n",
    "    bias_direction_x = 1\n",
    "\n",
    "if (directions_to_queen[\"y\"] > 0):\n",
    "    bias_direction_y = -1\n",
    "elif (directions_to_queen[\"y\"] == 0):\n",
    "    bias_direction_y = 0\n",
    "else:\n",
    "    bias_direction_y = 1"
   ]
  },
  {
   "cell_type": "code",
   "execution_count": 142,
   "metadata": {},
   "outputs": [
    {
     "data": {
      "text/plain": [
       "(-1, 1)"
      ]
     },
     "execution_count": 142,
     "metadata": {},
     "output_type": "execute_result"
    }
   ],
   "source": [
    "bias_direction_x, bias_direction_y"
   ]
  },
  {
   "cell_type": "code",
   "execution_count": 143,
   "metadata": {},
   "outputs": [
    {
     "data": {
      "text/plain": [
       "1.4142135633730952"
      ]
     },
     "execution_count": 143,
     "metadata": {},
     "output_type": "execute_result"
    }
   ],
   "source": [
    "magn = np.sqrt(bias_direction_x**2 + bias_direction_y**2) + 1e-9\n",
    "magn"
   ]
  },
  {
   "cell_type": "code",
   "execution_count": 144,
   "metadata": {},
   "outputs": [],
   "source": [
    "w_b = 1\n",
    "\n",
    "# Update bias - unit vectors\n",
    "bias_x = w_b * (bias_direction_x / float(magn))\n",
    "bias_y = w_b * (bias_direction_y / float(magn))"
   ]
  },
  {
   "cell_type": "code",
   "execution_count": 145,
   "metadata": {},
   "outputs": [
    {
     "data": {
      "text/plain": [
       "(-0.7071067806865474, 0.7071067806865474)"
      ]
     },
     "execution_count": 145,
     "metadata": {},
     "output_type": "execute_result"
    }
   ],
   "source": [
    "bias_x, bias_y"
   ]
  },
  {
   "cell_type": "code",
   "execution_count": null,
   "metadata": {},
   "outputs": [],
   "source": []
  },
  {
   "cell_type": "code",
   "execution_count": null,
   "metadata": {},
   "outputs": [],
   "source": []
  },
  {
   "cell_type": "code",
   "execution_count": 149,
   "metadata": {},
   "outputs": [
    {
     "data": {
      "text/plain": [
       "array([[0.01083315, 0.8836065 , 0.83887648],\n",
       "       [0.94978114, 0.69694358, 0.14110976],\n",
       "       [0.86154208, 0.08327307, 0.36780014]])"
      ]
     },
     "execution_count": 149,
     "metadata": {},
     "output_type": "execute_result"
    }
   ],
   "source": [
    "test_array = np.random.rand(3,3)\n",
    "test_array"
   ]
  },
  {
   "cell_type": "code",
   "execution_count": 152,
   "metadata": {},
   "outputs": [
    {
     "data": {
      "text/plain": [
       "0.08327306824555747"
      ]
     },
     "execution_count": 152,
     "metadata": {},
     "output_type": "execute_result"
    }
   ],
   "source": [
    "test_array[2,1]"
   ]
  },
  {
   "cell_type": "code",
   "execution_count": null,
   "metadata": {},
   "outputs": [],
   "source": []
  },
  {
   "cell_type": "code",
   "execution_count": null,
   "metadata": {},
   "outputs": [],
   "source": []
  },
  {
   "cell_type": "markdown",
   "metadata": {},
   "source": [
    "<b> Michael's attempt at fixing the adjusted indices... Not sure if it works!"
   ]
  },
  {
   "cell_type": "code",
   "execution_count": 96,
   "metadata": {},
   "outputs": [],
   "source": [
    "mapper = np.zeros((3, 3, 2))\n",
    "mapper[0,:,1] = 1\n",
    "mapper[1,:,1] = 0\n",
    "mapper[2,:,1] = -1\n",
    "\n",
    "mapper[:,0,0] = -1\n",
    "mapper[:,1,0] = 0\n",
    "mapper[:,2,0] = 1"
   ]
  },
  {
   "cell_type": "code",
   "execution_count": 133,
   "metadata": {},
   "outputs": [
    {
     "data": {
      "text/plain": [
       "array([[0.23998572, 0.20021564, 0.72147306],\n",
       "       [0.42808672, 0.        , 0.1854638 ],\n",
       "       [0.21078409, 0.7930467 , 0.42853327]])"
      ]
     },
     "execution_count": 133,
     "metadata": {},
     "output_type": "execute_result"
    }
   ],
   "source": [
    "x = np.random.random((3, 3))\n",
    "x[1,1] = 0\n",
    "x"
   ]
  },
  {
   "cell_type": "code",
   "execution_count": 134,
   "metadata": {},
   "outputs": [],
   "source": [
    "idx = np.unravel_index(x.argmax(), x.shape)"
   ]
  },
  {
   "cell_type": "code",
   "execution_count": 135,
   "metadata": {},
   "outputs": [
    {
     "data": {
      "text/plain": [
       "(2, 1)"
      ]
     },
     "execution_count": 135,
     "metadata": {},
     "output_type": "execute_result"
    }
   ],
   "source": [
    "idx"
   ]
  },
  {
   "cell_type": "code",
   "execution_count": 141,
   "metadata": {},
   "outputs": [
    {
     "data": {
      "text/plain": [
       "array([ 0., -1.])"
      ]
     },
     "execution_count": 141,
     "metadata": {},
     "output_type": "execute_result"
    }
   ],
   "source": [
    "vector_to_queen = mapper[idx]\n",
    "vector_to_queen"
   ]
  },
  {
   "cell_type": "code",
   "execution_count": 137,
   "metadata": {},
   "outputs": [
    {
     "data": {
      "text/plain": [
       "array([-0.,  1.])"
      ]
     },
     "execution_count": 137,
     "metadata": {},
     "output_type": "execute_result"
    }
   ],
   "source": [
    "direction_away_from_queen = -mapper[idx]\n",
    "direction_away_from_queen"
   ]
  },
  {
   "cell_type": "code",
   "execution_count": 142,
   "metadata": {},
   "outputs": [
    {
     "data": {
      "text/plain": [
       "1.0"
      ]
     },
     "execution_count": 142,
     "metadata": {},
     "output_type": "execute_result"
    }
   ],
   "source": [
    "np.linalg.norm(direction_away_from_queen)"
   ]
  },
  {
   "cell_type": "code",
   "execution_count": 138,
   "metadata": {},
   "outputs": [
    {
     "data": {
      "text/plain": [
       "1.0"
      ]
     },
     "execution_count": 138,
     "metadata": {},
     "output_type": "execute_result"
    }
   ],
   "source": [
    "np.sqrt(direction_away_from_queen[0]**2 + direction_away_from_queen[1]**2)"
   ]
  },
  {
   "cell_type": "code",
   "execution_count": 139,
   "metadata": {},
   "outputs": [
    {
     "data": {
      "text/plain": [
       "-0.0"
      ]
     },
     "execution_count": 139,
     "metadata": {},
     "output_type": "execute_result"
    }
   ],
   "source": [
    "direction_away_from_queen[0]/1.0"
   ]
  },
  {
   "cell_type": "code",
   "execution_count": 140,
   "metadata": {},
   "outputs": [
    {
     "data": {
      "text/plain": [
       "1.0"
      ]
     },
     "execution_count": 140,
     "metadata": {},
     "output_type": "execute_result"
    }
   ],
   "source": [
    "direction_away_from_queen[1]/1.0"
   ]
  },
  {
   "cell_type": "code",
   "execution_count": 84,
   "metadata": {},
   "outputs": [
    {
     "data": {
      "text/plain": [
       "array([-1,  2])"
      ]
     },
     "execution_count": 84,
     "metadata": {},
     "output_type": "execute_result"
    }
   ],
   "source": [
    "np.array(idx)"
   ]
  },
  {
   "cell_type": "code",
   "execution_count": 79,
   "metadata": {},
   "outputs": [
    {
     "data": {
      "text/plain": [
       "0.9798661659343952"
      ]
     },
     "execution_count": 79,
     "metadata": {},
     "output_type": "execute_result"
    }
   ],
   "source": [
    "max_c = x[idx]\n",
    "max_c"
   ]
  },
  {
   "cell_type": "code",
   "execution_count": 80,
   "metadata": {},
   "outputs": [
    {
     "data": {
      "text/plain": [
       "[-1, 0]"
      ]
     },
     "execution_count": 80,
     "metadata": {},
     "output_type": "execute_result"
    }
   ],
   "source": [
    "idx_a = [int(i)-1 for i in idx]\n",
    "idx_a"
   ]
  },
  {
   "cell_type": "code",
   "execution_count": 71,
   "metadata": {},
   "outputs": [
    {
     "data": {
      "text/plain": [
       "{'x': 0, 'y': -1}"
      ]
     },
     "execution_count": 71,
     "metadata": {},
     "output_type": "execute_result"
    }
   ],
   "source": [
    "directions_to_queen = { \"x\" : idx_a[1], \"y\": idx_a[0] }\n",
    "directions_to_queen"
   ]
  },
  {
   "cell_type": "code",
   "execution_count": 72,
   "metadata": {},
   "outputs": [
    {
     "data": {
      "text/plain": [
       "(0, -1)"
      ]
     },
     "execution_count": 72,
     "metadata": {},
     "output_type": "execute_result"
    }
   ],
   "source": [
    "if (directions_to_queen[\"x\"] > 0):\n",
    "    bias_direction_x = 1\n",
    "elif (directions_to_queen[\"x\"] == 0):\n",
    "    bias_direction_x = 0\n",
    "else:\n",
    "    bias_direction_x = -1\n",
    "\n",
    "if (directions_to_queen[\"y\"] > 0):\n",
    "    bias_direction_y = 1\n",
    "elif (directions_to_queen[\"y\"] == 0):\n",
    "    bias_direction_y = 0\n",
    "else:\n",
    "    bias_direction_y = -1\n",
    "bias_direction_x, bias_direction_y"
   ]
  },
  {
   "cell_type": "code",
   "execution_count": 73,
   "metadata": {},
   "outputs": [
    {
     "data": {
      "text/plain": [
       "[1, 0]"
      ]
     },
     "execution_count": 73,
     "metadata": {},
     "output_type": "execute_result"
    }
   ],
   "source": [
    "zz = [int(i)+1 for i in [bias_direction_x, bias_direction_y]]\n",
    "zz"
   ]
  },
  {
   "cell_type": "code",
   "execution_count": 69,
   "metadata": {},
   "outputs": [
    {
     "data": {
      "text/plain": [
       "0.47050230394699133"
      ]
     },
     "execution_count": 69,
     "metadata": {},
     "output_type": "execute_result"
    }
   ],
   "source": [
    "x[2, 1]"
   ]
  },
  {
   "cell_type": "code",
   "execution_count": 76,
   "metadata": {},
   "outputs": [
    {
     "data": {
      "text/plain": [
       "1.0"
      ]
     },
     "execution_count": 76,
     "metadata": {},
     "output_type": "execute_result"
    }
   ],
   "source": [
    "np.sqrt(zz[0]**2 + zz[1]**2)"
   ]
  },
  {
   "cell_type": "code",
   "execution_count": 74,
   "metadata": {},
   "outputs": [
    {
     "data": {
      "text/plain": [
       "1.0"
      ]
     },
     "execution_count": 74,
     "metadata": {},
     "output_type": "execute_result"
    }
   ],
   "source": [
    "np.linalg.norm(zz)"
   ]
  }
 ],
 "metadata": {
  "kernelspec": {
   "display_name": "Python 3",
   "language": "python",
   "name": "python3"
  },
  "language_info": {
   "codemirror_mode": {
    "name": "ipython",
    "version": 3
   },
   "file_extension": ".py",
   "mimetype": "text/x-python",
   "name": "python",
   "nbconvert_exporter": "python",
   "pygments_lexer": "ipython3",
   "version": "3.6.4"
  }
 },
 "nbformat": 4,
 "nbformat_minor": 2
}
