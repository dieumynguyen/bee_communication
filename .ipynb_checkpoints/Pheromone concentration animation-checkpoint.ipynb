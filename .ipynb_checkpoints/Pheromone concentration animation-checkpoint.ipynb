{
 "cells": [
  {
   "cell_type": "code",
   "execution_count": 2,
   "metadata": {},
   "outputs": [
    {
     "name": "stderr",
     "output_type": "stream",
     "text": [
      "/Users/dieumynguyen/anaconda3/lib/python3.6/site-packages/h5py/__init__.py:36: FutureWarning:\n",
      "\n",
      "Conversion of the second argument of issubdtype from `float` to `np.floating` is deprecated. In future, it will be treated as `np.float64 == np.dtype(float).type`.\n",
      "\n"
     ]
    }
   ],
   "source": [
    "import json\n",
    "import numpy as np\n",
    "import plotly.plotly as py\n",
    "import matplotlib as mpl\n",
    "from matplotlib import cycler\n",
    "import matplotlib.pyplot as plt\n",
    "import seaborn as sns\n",
    "import plotly.graph_objs as go\n",
    "import os\n",
    "import glob2\n",
    "import re\n",
    "from IPython.display import display\n",
    "import h5py\n",
    "import numpy as np\n",
    "%matplotlib inline\n",
    "import sys\n",
    "import random\n",
    "from functools import partial\n",
    "import matplotlib.patches as mpatches\n",
    "import matplotlib"
   ]
  },
  {
   "cell_type": "code",
   "execution_count": 22,
   "metadata": {},
   "outputs": [
    {
     "name": "stdout",
     "output_type": "stream",
     "text": [
      "Creating thread for \n",
      "\n",
      "Experiment 1/1 - iteration 0 --- Queen Concentration: 0.15 -- Worker Concentration: 0.02 -- Diffussion Coefficient: 0.3 -- Worker Bee Threshold: 0.005\n",
      "Timestep 320/320"
     ]
    }
   ],
   "source": [
    "# !rm -r experiments/*\n",
    "!python main.py"
   ]
  },
  {
   "cell_type": "code",
   "execution_count": 23,
   "metadata": {},
   "outputs": [
    {
     "name": "stdout",
     "output_type": "stream",
     "text": [
      "/Users/dieumynguyen/Desktop/Projects/bee_communication/experiments/12M_03D-12H_37M_37S\r\n",
      "Combining all replicates of set: experiment0_Q0.15_W0.02_D0.3_T0.005_wb0\r\n"
     ]
    }
   ],
   "source": [
    "!rm step1_combine_replicates/combined_replicates/*\n",
    "!python step1_combine_replicates/combine_replicates.py"
   ]
  },
  {
   "cell_type": "code",
   "execution_count": 24,
   "metadata": {},
   "outputs": [
    {
     "name": "stdout",
     "output_type": "stream",
     "text": [
      "Getting position data for: Q0.15_W0.02_D0.3_T0.005_wb0.json\r\n"
     ]
    }
   ],
   "source": [
    "!rm step4_position_data_scenting/position_data/*\n",
    "!python step4_position_data_scenting/get_position.py"
   ]
  },
  {
   "cell_type": "code",
   "execution_count": 25,
   "metadata": {},
   "outputs": [],
   "source": [
    "root_dir = \"experiments/12M_03D-12H_37M_37S/experiment0_Q0.15_W0.02_D0.3_T0.005_wb0/data/concentration_maps/\"\n",
    "file = root_dir + \"concentration_map_history_000.h5\"\n"
   ]
  },
  {
   "cell_type": "code",
   "execution_count": 26,
   "metadata": {},
   "outputs": [],
   "source": [
    "f = h5py.File(file, \"r\")"
   ]
  },
  {
   "cell_type": "code",
   "execution_count": 27,
   "metadata": {
    "scrolled": true
   },
   "outputs": [
    {
     "data": {
      "text/plain": [
       "KeysView(<HDF5 file \"concentration_map_history_000.h5\" (mode r)>)"
      ]
     },
     "execution_count": 27,
     "metadata": {},
     "output_type": "execute_result"
    }
   ],
   "source": [
    "f.keys()"
   ]
  },
  {
   "cell_type": "code",
   "execution_count": 28,
   "metadata": {},
   "outputs": [],
   "source": [
    "dset = f.get('concentration_map_history')"
   ]
  },
  {
   "cell_type": "code",
   "execution_count": 29,
   "metadata": {},
   "outputs": [
    {
     "data": {
      "text/plain": [
       "(601, 601)"
      ]
     },
     "execution_count": 29,
     "metadata": {},
     "output_type": "execute_result"
    }
   ],
   "source": [
    "dset.shape"
   ]
  },
  {
   "cell_type": "code",
   "execution_count": 30,
   "metadata": {},
   "outputs": [],
   "source": [
    "t_0 = np.array(dset)"
   ]
  },
  {
   "cell_type": "code",
   "execution_count": 31,
   "metadata": {},
   "outputs": [
    {
     "data": {
      "text/plain": [
       "2.9724850618227656e-131"
      ]
     },
     "execution_count": 31,
     "metadata": {},
     "output_type": "execute_result"
    }
   ],
   "source": [
    "np.min(t_0)"
   ]
  },
  {
   "cell_type": "code",
   "execution_count": 32,
   "metadata": {},
   "outputs": [],
   "source": [
    "# min of last t\n",
    "# np.min(t_0)"
   ]
  },
  {
   "cell_type": "markdown",
   "metadata": {},
   "source": [
    "Find max over all timesteps"
   ]
  },
  {
   "cell_type": "code",
   "execution_count": 33,
   "metadata": {},
   "outputs": [
    {
     "data": {
      "text/plain": [
       "320"
      ]
     },
     "execution_count": 33,
     "metadata": {},
     "output_type": "execute_result"
    }
   ],
   "source": [
    "# All concentration matrices file names\n",
    "filenames = glob2.glob(root_dir + \"*\")\n",
    "len(filenames)"
   ]
  },
  {
   "cell_type": "code",
   "execution_count": 34,
   "metadata": {},
   "outputs": [
    {
     "data": {
      "text/plain": [
       "1.0256367111443432"
      ]
     },
     "execution_count": 34,
     "metadata": {},
     "output_type": "execute_result"
    }
   ],
   "source": [
    "max_concentration = 0\n",
    "for file in filenames:\n",
    "    f = h5py.File(file, \"r\")\n",
    "    dset = f.get(\"concentration_map_history\")\n",
    "    dset_np = np.array(dset)\n",
    "    if np.max(dset_np) > max_concentration:\n",
    "        max_concentration = np.max(dset_np)\n",
    "        # print(max_concentration, file)\n",
    "max_concentration"
   ]
  },
  {
   "cell_type": "code",
   "execution_count": null,
   "metadata": {},
   "outputs": [],
   "source": [
    "# # Random xy\n",
    "# x = partial(random.sample, range(10, 600), 10)\n",
    "# x_pos = [x() for _ in range(80)]\n",
    "# y = partial(random.sample, range(10, 600), 10)\n",
    "# y_pos = [y() for _ in range(80)]\n",
    "# x_pos[0], y_pos[0]"
   ]
  },
  {
   "cell_type": "code",
   "execution_count": 35,
   "metadata": {},
   "outputs": [
    {
     "name": "stderr",
     "output_type": "stream",
     "text": [
      "/Users/dieumynguyen/anaconda3/lib/python3.6/site-packages/matplotlib/cbook/__init__.py:2400: UserWarning:\n",
      "\n",
      "Saw kwargs ['mec', 'markeredgecolor'] which are all aliases for 'markeredgecolor'.  Kept value from 'markeredgecolor'\n",
      "\n"
     ]
    },
    {
     "data": {
      "image/png": "[encoded data removed]",
      "text/plain": [
       "<matplotlib.figure.Figure at 0x1a0d4f1518>"
      ]
     },
     "metadata": {},
     "output_type": "display_data"
    }
   ],
   "source": [
    "# Say, \"the default sans-serif font is COMIC SANS\"\n",
    "matplotlib.rcParams['font.sans-serif'] = \"Arial\"\n",
    "# Then, \"ALWAYS use sans-serif fonts\"\n",
    "matplotlib.rcParams['font.family'] = \"sans-serif\"\n",
    "\n",
    "# Example single plot\n",
    "plt.imshow(t_0, vmin=0, \n",
    "           vmax=max_concentration, \n",
    "           interpolation='nearest', \n",
    "           cmap=plt.cm.get_cmap('Greens'),\n",
    "           alpha = 0.7)\n",
    "cbar = plt.colorbar()\n",
    "cbar.set_label('Pheromone concentration', rotation=90)\n",
    "\n",
    "colors = [\"red\", \"#323339\", \"blue\", \"orange\"]\n",
    "plt.scatter([300, 300, 500, 240, 165], [300, 300, 500, 250, 140], c=colors, s=50,\n",
    "           alpha=0.8, edgecolors='black')\n",
    "\n",
    "texts = [\"Queen\", \"Worker - random walk\", \"Worker - scenting\", \"Worker - walking\"]\n",
    "patches = [ plt.plot([],[], marker=\"o\", ms=5, ls=\"\", mec=None, color=colors[i], \n",
    "            markeredgecolor=\"black\",\n",
    "            label=\"{:s}\".format(texts[i]) )[0]  for i in range(len(texts)) ]\n",
    "plt.legend(handles=patches, bbox_to_anchor=(0.5, -0.21), \n",
    "           loc='center', ncol=2, numpoints=1, labelspacing=0.3,\n",
    "           fontsize='small', fancybox=\"True\",\n",
    "           handletextpad=0, columnspacing=0)\n",
    "plt.xlabel(\"x\")\n",
    "plt.ylabel(\"y\")\n",
    "\n",
    "# plt.title(\"t = {}/{}\".format(file[-4:-3], len(x_pos)))\n",
    "plt.show()"
   ]
  },
  {
   "cell_type": "code",
   "execution_count": 36,
   "metadata": {},
   "outputs": [],
   "source": [
    "# Reading in position_data to get positions of bees\n",
    "# For 1 timestep and x number of bees:\n",
    "position_data_path = \"step4_position_data_scenting/position_data/Q0.15_W0.02_D0.3_T0.005_wb0.json\"\n",
    "with open(position_data_path, \"r\") as f:\n",
    "    pos_data = json.load(f)\n"
   ]
  },
  {
   "cell_type": "code",
   "execution_count": 37,
   "metadata": {},
   "outputs": [],
   "source": [
    "def convert_xy_to_index(input_coord, input_low, input_high,\n",
    "                        output_low, output_high):\n",
    "    index = ((input_coord - input_low) / (input_high - input_low)) * (output_high - output_low) + output_low\n",
    "    return index"
   ]
  },
  {
   "cell_type": "code",
   "execution_count": 41,
   "metadata": {
    "scrolled": true
   },
   "outputs": [],
   "source": [
    "x_pos = [[] for i in range(320)]  # len of 80 lists, each list has 10 bees\n",
    "y_pos = [[] for i in range(320)]\n",
    "scenting = [[] for i in range(320)] # scenting = T\n",
    "# walking = [[] for i in range(80)]  # found_queen_direction = T and scenting = F\n",
    "\n",
    "for i, file in enumerate(filenames): # Each timestep, i\n",
    "    for worker_i in range(1, 51):\n",
    "        x = pos_data[0]['worker_{}'.format(worker_i)][i]['x']\n",
    "        x = convert_xy_to_index(x, -3, 3, 0, 600)\n",
    "        x_pos[i].append(x)\n",
    "        \n",
    "        y = pos_data[0]['worker_{}'.format(worker_i)][i]['y']\n",
    "        y = convert_xy_to_index(y, -3, 3, 0, 600)\n",
    "        y_pos[i].append(y)\n",
    "        \n",
    "        scent = pos_data[0]['worker_{}'.format(worker_i)][i]['scenting']\n",
    "        found_queen_dir = pos_data[0]['worker_{}'.format(worker_i)][i]['found_queen_direction']\n",
    "        if scent == True:\n",
    "            scenting[i].append(\"blue\")\n",
    "        else:\n",
    "            if found_queen_dir == True:\n",
    "                scenting[i].append(\"orange\")\n",
    "            else: \n",
    "                scenting[i].append(\"#323339\")        "
   ]
  },
  {
   "cell_type": "code",
   "execution_count": 42,
   "metadata": {},
   "outputs": [
    {
     "name": "stderr",
     "output_type": "stream",
     "text": [
      "/Users/dieumynguyen/anaconda3/lib/python3.6/site-packages/matplotlib/cbook/__init__.py:2400: UserWarning:\n",
      "\n",
      "Saw kwargs ['mec', 'markeredgecolor'] which are all aliases for 'markeredgecolor'.  Kept value from 'markeredgecolor'\n",
      "\n"
     ]
    }
   ],
   "source": [
    "# Animation for all heatmaps\n",
    "my_dpi=200\n",
    "\n",
    "for i, file in enumerate(filenames):\n",
    "    \n",
    "    # print(file[44:44+24])\n",
    "    fig = plt.figure(dpi=my_dpi)\n",
    "    \n",
    "    # Read h5 data file\n",
    "    f = h5py.File(file, \"r\")\n",
    "    dset = f.get(\"concentration_map_history\")\n",
    "    dset_np = np.array(dset)\n",
    "    \n",
    "    # Plot heatmap and scatter\n",
    "    plt.imshow(dset_np, vmin=0, vmax=max_concentration, interpolation='nearest', cmap=\"Greens\")\n",
    "    cbar = plt.colorbar()\n",
    "    cbar.set_label('Pheromone concentration', rotation=90)\n",
    "\n",
    "    # Get bee positions\n",
    "    plt.scatter([300], [300], c=\"red\", s=80, edgecolors='black') # Queen\n",
    "    # Color workers based on behavior\n",
    "    plt.scatter(x_pos[i], y_pos[i], color=scenting[i], s=30,\n",
    "               alpha=0.8, edgecolors='black')\n",
    "    \n",
    "    colors = [\"red\", \"#323339\", \"blue\", \"orange\"]\n",
    "    texts = [\"Queen\", \"Worker - random walk\", \"Worker - scenting\", \"Worker - walking\"]\n",
    "    patches = [ plt.plot([],[], marker=\"o\", ms=5, ls=\"\", mec=None, color=colors[i], \n",
    "                 markeredgecolor=\"black\", label=\"{:s}\".format(texts[i]) )[0]  for i in range(len(texts)) ]\n",
    "    plt.legend(handles=patches, bbox_to_anchor=(0.5, -0.22), \n",
    "               loc='center', ncol=2, numpoints=1, labelspacing=0.3,\n",
    "               fontsize='small', fancybox=\"True\",\n",
    "               handletextpad=0, columnspacing=0)\n",
    "\n",
    "    # Add titles (main and on axis)\n",
    "    plt.xlabel(\"x\")\n",
    "    plt.ylabel(\"y\")\n",
    "    plt.title(\"{} \\nDecay rate = 3.0 \\nt = {}/{}\".format(file[44:-57], i+1, len(x_pos)))\n",
    "    plt.ylim(0, 600)\n",
    "    plt.xlim(0, 600)\n",
    "    \n",
    "    # Save image of each timestep\n",
    "    filename='test_converging3/test_converging_t{}.png'.format(str(i+1).zfill(3))\n",
    "    plt.savefig(filename, dpi=96, bbox_inches='tight')\n",
    "    \n",
    "    plt.close()"
   ]
  },
  {
   "cell_type": "code",
   "execution_count": 43,
   "metadata": {},
   "outputs": [],
   "source": [
    "!convert -delay 25 test_converging3/test_converging*.png test_converging3/Q0.15_W0.02_D0.3_T0.005_wb0_decay3.gif\n"
   ]
  },
  {
   "cell_type": "code",
   "execution_count": null,
   "metadata": {},
   "outputs": [],
   "source": []
  }
 ],
 "metadata": {
  "kernelspec": {
   "display_name": "Python 3",
   "language": "python",
   "name": "python3"
  }
 },
 "nbformat": 4,
 "nbformat_minor": 2
}
