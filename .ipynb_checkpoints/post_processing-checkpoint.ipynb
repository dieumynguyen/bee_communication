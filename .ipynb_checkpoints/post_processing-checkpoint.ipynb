{
 "cells": [
  {
   "cell_type": "markdown",
   "metadata": {},
   "source": [
    "Sample code on small test dataset for processing and visualizing experimental results, to be adapted into scripts for Fiji.\n",
    "\n",
    "Updated: June 03, 2018 for parameter sweep #2"
   ]
  },
  {
   "cell_type": "code",
   "execution_count": 17,
   "metadata": {},
   "outputs": [],
   "source": [
    "# Imports\n",
    "import json\n",
    "import numpy as np\n",
    "import plotly.plotly as py\n",
    "import matplotlib as mpl\n",
    "mpl.use('Agg')\n",
    "from matplotlib import cycler\n",
    "import matplotlib.pyplot as plt\n",
    "import seaborn as sns\n",
    "import plotly.graph_objs as go\n",
    "import os\n",
    "import glob2\n",
    "import re\n",
    "\n",
    "from IPython.display import display"
   ]
  },
  {
   "cell_type": "markdown",
   "metadata": {},
   "source": [
    "## I. Create combine_replicates.py"
   ]
  },
  {
   "cell_type": "markdown",
   "metadata": {},
   "source": [
    "### Load in data from a single set of parameters: distance_from_queen, distance_from_others, position_history"
   ]
  },
  {
   "cell_type": "code",
   "execution_count": 38,
   "metadata": {},
   "outputs": [],
   "source": [
    "def load_config_measurements(experiment_dir, replicate_i):\n",
    "\n",
    "    ''' This function loads in data from a single experiment given \n",
    "    the directory path and replicate number. Returns a dictionary \n",
    "    of a single replicate containing: model parameter configurations, \n",
    "    distance from queen & from other workers. \n",
    "    '''\n",
    "    \n",
    "    ### Load config.json\n",
    "    with open(experiment_dir + \"/config.json\", \"r\") as f:\n",
    "        config_dict = json.load(f)\n",
    "        \n",
    "    # Pull out params of interest from config.json\n",
    "    D = config_dict['diffusion_coefficient']\n",
    "    Q = config_dict['swarm_parameters']['queen_bee_concentration']\n",
    "    W = config_dict['swarm_parameters']['worker_bee_concentration']\n",
    "    T = config_dict['swarm_parameters']['worker_bee_threshold']\n",
    "    \n",
    "    ### Load measurements.json\n",
    "    try:\n",
    "        with open(experiment_dir + \"/data/measurements.json\", \"r\") as f:\n",
    "            measurements = json.load(f)\n",
    "    except Exception as e:\n",
    "        print(\"Function failing at: {}\".format(experiment_dir))\n",
    "        raise e\n",
    "        \n",
    "    else:    \n",
    "        # Pull out params of interest from measurements.json\n",
    "        distance_from_queen = measurements['distance_from_queen']\n",
    "        distance_from_others = measurements['distance_from_others']\n",
    "        position_history = measurements['position_history']\n",
    "\n",
    "        # Create dict \n",
    "        parameters = ['diffusion_coefficient', 'queen_bee_concentration',\n",
    "             'worker_bee_concentration', 'worker_bee_threshold',\n",
    "             'distance_from_queen', 'distance_from_others', 'position_history']\n",
    "        values = [D, Q, W, T, distance_from_queen, distance_from_others, position_history]\n",
    "        experiment_dict = dict(zip([p for p in parameters], values))\n",
    "        outer_dict = {\"Replicate {}\".format(replicate_i) : experiment_dict}\n",
    "    \n",
    "    return outer_dict"
   ]
  },
  {
   "cell_type": "code",
   "execution_count": 37,
   "metadata": {},
   "outputs": [
    {
     "name": "stdout",
     "output_type": "stream",
     "text": [
      "dict_keys(['Replicate 1'])\n",
      "dict_keys(['diffusion_coefficient', 'queen_bee_concentration', 'worker_bee_concentration', 'worker_bee_threshold', 'distance_from_queen', 'distance_from_others', 'position_history'])\n"
     ]
    }
   ],
   "source": [
    "# Test above function\n",
    "experiment_dir = \"experiments/06M_02D-17H_41M_47S/experiment0_Q0.15_W0.4_D0.35_T0.4_wb1\"\n",
    "d = load_config_measurements(experiment_dir, 1)\n",
    "print(d.keys())\n",
    "print(d[\"Replicate 1\"].keys())"
   ]
  },
  {
   "cell_type": "markdown",
   "metadata": {},
   "source": [
    "### Store all (10) replicates of a single set of parameters in a list. Save to a JSON file. Ultimately, total: 256 JSON files of different parameter combinations. \n",
    "\n",
    "Parameter sweep #2: 64 total JSON files; 15 replicates of each set of params"
   ]
  },
  {
   "cell_type": "code",
   "execution_count": 26,
   "metadata": {},
   "outputs": [
    {
     "data": {
      "text/plain": [
       "['experiments/06M_02D-17H_41M_47S/experiment0_Q0.15_W0.4_D0.35_T0.4_wb1',\n",
       " 'experiments/06M_02D-17H_41M_47S/experiment1_Q0.15_W0.4_D0.35_T0.4_wb2',\n",
       " 'experiments/06M_02D-17H_41M_48S/experiment0_Q0.15_W0.4_D0.35_T0.4_wb1',\n",
       " 'experiments/06M_02D-17H_41M_48S/experiment1_Q0.15_W0.4_D0.35_T0.4_wb2']"
      ]
     },
     "execution_count": 26,
     "metadata": {},
     "output_type": "execute_result"
    }
   ],
   "source": [
    "# All data folders: ultimately 64 * 15 = 960\n",
    "data_folders = glob2.glob(\"experiments/*/*\")\n",
    "data_folders\n",
    "\n",
    "# Other ways:\n",
    "# data_folders = list(map(lambda x : x.split(\"/\")[-1], glob2.glob(\"experiments/run*/*\")))\n",
    "# data_folders = [ele.split(\"/\")[-1] for ele in glob2.glob(\"experiments/run*/*\")]"
   ]
  },
  {
   "cell_type": "code",
   "execution_count": 27,
   "metadata": {},
   "outputs": [
    {
     "data": {
      "text/plain": [
       "['experiment0_Q0.15_W0.4_D0.35_T0.4_wb1',\n",
       " 'experiment1_Q0.15_W0.4_D0.35_T0.4_wb2']"
      ]
     },
     "execution_count": 27,
     "metadata": {},
     "output_type": "execute_result"
    }
   ],
   "source": [
    "# List of 256 unique sets of parameters; use any experimental folder\n",
    "sets_list = next(os.walk('experiments/06M_02D-17H_41M_47S/'))[1]\n",
    "sets_list"
   ]
  },
  {
   "cell_type": "code",
   "execution_count": 39,
   "metadata": {},
   "outputs": [],
   "source": [
    "def combine_replicates(data_folders, param_set):\n",
    "    ''' This function finds replicates of a set of parameters across\n",
    "    all experiment runs. Iteratively calls the function \n",
    "    \"load_config_measurements\" to create a dictionary for a single \n",
    "    replicate. Then combine all replicates' data into a list, and write\n",
    "    to a JSON file for further data analysis. Will run this 64 times for\n",
    "    64 sets. \n",
    "    '''\n",
    "    \n",
    "    # List to contain all replicates\n",
    "    all_replicates = []\n",
    "    \n",
    "    # If find the param_set in a data_folders[i], get the index of\n",
    "    # that data_folders[i] \n",
    "    data_folder_i = []\n",
    "    for i in range(len(data_folders)):\n",
    "        found_index = data_folders[i].find(param_set)\n",
    "        if found_index != -1:\n",
    "            # print(i)\n",
    "            data_folder_i.append(i)\n",
    "            \n",
    "    # Load data using \"load_config_measurements\"\n",
    "    for j in range(len(data_folder_i)):\n",
    "        data = load_config_measurements(data_folders[data_folder_i[j]], j+1)\n",
    "        all_replicates.append(data)\n",
    "    \n",
    "    # Truncate string \"param_set\" to save as name for json file\n",
    "    start_char = \"Q\"\n",
    "    truncate_name = param_set[param_set.index(start_char):]\n",
    "    \n",
    "    # Write the cumulative list containing all replicates to JSON\n",
    "    with open('combined_replicates/{}.json'.format(truncate_name), 'w') as outfile:\n",
    "        json.dump(all_replicates, outfile)\n",
    "    \n",
    "    return None"
   ]
  },
  {
   "cell_type": "code",
   "execution_count": 40,
   "metadata": {},
   "outputs": [],
   "source": [
    "# Test above function using 2 lists below: save 2 JSON files\n",
    "for k in sets_list:\n",
    "    save_lists_json = combine_replicates(data_folders, k)"
   ]
  },
  {
   "cell_type": "markdown",
   "metadata": {},
   "source": [
    "Combine the 2 functions above into a combine_replicates.py to run on Fiji on 64 x 15 experimental sets."
   ]
  },
  {
   "cell_type": "markdown",
   "metadata": {},
   "source": [
    "## II. Create get_avg_distance_data.py"
   ]
  },
  {
   "cell_type": "markdown",
   "metadata": {},
   "source": [
    "### Modify the JSONs from \"combined_replicates\" to scp from fiji and plot in local computer instead"
   ]
  },
  {
   "cell_type": "code",
   "execution_count": 71,
   "metadata": {},
   "outputs": [],
   "source": [
    "def get_distances(param_set_json):\n",
    "    \n",
    "    ''' Load in each JSON created by combine_replicates.py and only pull out avg distances \n",
    "    or distances from others later '''\n",
    "    \n",
    "    with open(\"combined_replicates/\" + param_set_json, \"r\") as f:\n",
    "        data = json.load(f)\n",
    "            \n",
    "    sample_length = len(data[0][\"Replicate {}\".format(1)][\"distance_from_queen\"])\n",
    "    \n",
    "    all_distances = []\n",
    "    for j in range(len(data)):  # Loop over each replicate\n",
    "        avg_distance = []\n",
    "        for i in range(sample_length):    # Loop over all the 160 averages/values/lists\n",
    "            avg_distance.append(data[j][\"Replicate {}\".format(j+1)][\"distance_from_queen\"][i][\"average\"])\n",
    "        all_distances.append(avg_distance)\n",
    "    \n",
    "    \n",
    "    # Write truncated data to JSON\n",
    "    start_char = \"j\"\n",
    "    filename = f.name\n",
    "    name = filename[20:filename.index(start_char)]\n",
    "    \n",
    "    with open('avg_distance_data/{}json'.format(name), 'w') as outfile:\n",
    "        json.dump(all_distances, outfile)\n",
    "    \n",
    "    return None"
   ]
  },
  {
   "cell_type": "code",
   "execution_count": 72,
   "metadata": {},
   "outputs": [],
   "source": [
    "# Test above function on all JSON's in dir\n",
    "get_distances(\"Q0.15_W0.4_D0.35_T0.4_wb1.json\")"
   ]
  },
  {
   "cell_type": "code",
   "execution_count": 73,
   "metadata": {},
   "outputs": [
    {
     "name": "stdout",
     "output_type": "stream",
     "text": [
      "Getting avg distances for: Q0.15_W0.4_D0.35_T0.4_wb1.json\n",
      "Getting avg distances for: Q0.15_W0.4_D0.35_T0.4_wb2.json\n"
     ]
    }
   ],
   "source": [
    "# Iterate through all (256) JSON's and produce 1 JSON each \n",
    "reps_list = list(map(lambda x : x.split(\"/\")[-1], glob2.glob(\"combined_replicates/*\")))\n",
    "\n",
    "for r in reps_list:\n",
    "    print(\"Getting avg distances for: {}\".format(r))\n",
    "    get_distances(r)"
   ]
  },
  {
   "cell_type": "markdown",
   "metadata": {},
   "source": [
    "## III. Visualizations"
   ]
  },
  {
   "cell_type": "markdown",
   "metadata": {},
   "source": [
    "### Visual I. Workers' average distance from the queen"
   ]
  },
  {
   "cell_type": "markdown",
   "metadata": {},
   "source": [
    "For each replicate in a set of parameters, open that cumulative JSON and plot each replicate as a line in a single plot."
   ]
  },
  {
   "cell_type": "code",
   "execution_count": 74,
   "metadata": {},
   "outputs": [],
   "source": [
    "plt.style.use('seaborn-white')\n",
    "\n",
    "plt.rcParams['font.sans-serif'] = \"Tahoma\"\n",
    "plt.rcParams['font.family'] = \"sans-serif\"\n",
    "plt.rcParams['font.size'] = 14\n",
    "plt.rcParams['axes.labelsize'] = 14\n",
    "plt.rcParams['axes.labelweight'] = 'normal'\n",
    "plt.rcParams['xtick.labelsize'] = 14\n",
    "plt.rcParams['ytick.labelsize'] = 14\n",
    "plt.rcParams['legend.fontsize'] = 14\n",
    "plt.rcParams['figure.titlesize'] = 14\n",
    "plt.rcParams['lines.linewidth'] = 3\n",
    "params = {\"ytick.color\" : \"#535956\",\n",
    "          \"xtick.color\" : \"#535956\",\n",
    "          \"axes.labelcolor\" : \"#535956\",\n",
    "          \"axes.edgecolor\" : \"#535956\",\n",
    "          \"text.color\": \"#535956\"}\n",
    "plt.rcParams.update(params)"
   ]
  },
  {
   "cell_type": "code",
   "execution_count": null,
   "metadata": {},
   "outputs": [],
   "source": [
    "def plot_avg_distances(data_json):\n",
    "    \n",
    "    ''' For each replicate in a set of parameters, open that cumulative \n",
    "    JSON and plot each replicate as a line in a single plot.\n",
    "    '''\n",
    "    \n",
    "    with open(\"avg_distance_data/\" + data_json, \"r\") as f:\n",
    "        data = json.load(f)\n",
    "        \n",
    "    fig = plt.figure(figsize=(6,4))\n",
    "    ax = plt.axes()\n",
    "\n",
    "    start_char = \"j\"\n",
    "    filename = f.name\n",
    "    fig_name = filename[18:filename.index(start_char)]\n",
    "\n",
    "    ax.spines['right'].set_visible(False)\n",
    "    ax.spines['top'].set_visible(False)\n",
    "\n",
    "    for i, d in enumerate(data):\n",
    "        ax.plot(d, label='Swarm {}'.format(i+1))\n",
    "\n",
    "        plt.xlim(0, 160)\n",
    "        plt.ylim(0, 5)\n",
    "\n",
    "        plt.legend()\n",
    "\n",
    "        plt.xlabel('Time (step)')\n",
    "        plt.ylabel('Average distance to queen')\n",
    "        plt.title('{}'.format(fig_name[:-1]))\n",
    "\n",
    "        plt.tight_layout()\n",
    "        plt.savefig(\"figures/distance_to_queen/{}pdf\".format(fig_name), transparent=True)\n",
    "\n",
    "    plt.close()"
   ]
  },
  {
   "cell_type": "code",
   "execution_count": null,
   "metadata": {
    "scrolled": true
   },
   "outputs": [],
   "source": [
    "# Iterate through all (256) JSON's and produce 1 figure each \n",
    "reps_list = list(map(lambda x : x.split(\"/\")[-1], glob2.glob(\"combined_replicates/*\")))\n",
    "\n",
    "for r in reps_list:\n",
    "    print(\"Plotting average distance to queen for: {}\".format(r))\n",
    "    plot_avg_distances(r)"
   ]
  },
  {
   "cell_type": "markdown",
   "metadata": {},
   "source": [
    "### Visual II. 2D phase diagram showing the end distances of swarms"
   ]
  },
  {
   "cell_type": "markdown",
   "metadata": {},
   "source": [
    "### Visuals III. Distance between workers over time"
   ]
  }
 ],
 "metadata": {
  "kernelspec": {
   "display_name": "Python 3",
   "language": "python",
   "name": "python3"
  },
  "language_info": {
   "codemirror_mode": {
    "name": "ipython",
    "version": 3
   },
   "file_extension": ".py",
   "mimetype": "text/x-python",
   "name": "python",
   "nbconvert_exporter": "python",
   "pygments_lexer": "ipython3",
   "version": "3.6.4"
  }
 },
 "nbformat": 4,
 "nbformat_minor": 2
}
