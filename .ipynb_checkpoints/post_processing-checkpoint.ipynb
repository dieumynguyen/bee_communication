{
 "cells": [
  {
   "cell_type": "code",
   "execution_count": 79,
   "metadata": {
    "collapsed": true
   },
   "outputs": [],
   "source": [
    "# Imports\n",
    "import json\n",
    "import numpy as np\n",
    "import plotly.plotly as py\n",
    "import matplotlib.pyplot as plt\n",
    "import seaborn as sns\n",
    "import plotly.graph_objs as go"
   ]
  },
  {
   "cell_type": "code",
   "execution_count": 46,
   "metadata": {
    "collapsed": true
   },
   "outputs": [],
   "source": [
    "experiment_dir = \"experiments/05M_24D-16H_04M_42S/experiment0_Q0.01_W0.005_D0.05_T0.001/\""
   ]
  },
  {
   "cell_type": "code",
   "execution_count": 47,
   "metadata": {},
   "outputs": [],
   "source": [
    "# Load config.json\n",
    "with open(experiment_dir + \"config.json\", \"r\") as f:\n",
    "    config_dict = json.load(f)"
   ]
  },
  {
   "cell_type": "code",
   "execution_count": 48,
   "metadata": {
    "collapsed": true
   },
   "outputs": [],
   "source": [
    "parameters = ['diffusion_coefficient', 'queen_bee_concentration',\n",
    "             'worker_bee_concentration', 'worker_bee_threshold']"
   ]
  },
  {
   "cell_type": "code",
   "execution_count": 49,
   "metadata": {
    "collapsed": true
   },
   "outputs": [],
   "source": [
    "D = config_dict['diffusion_coefficient']\n",
    "Q = config_dict['swarm_parameters']['queen_bee_concentration']\n",
    "W = config_dict['swarm_parameters']['worker_bee_concentration']\n",
    "T = config_dict['swarm_parameters']['worker_bee_threshold']\n",
    "values = [D, Q, W, T]"
   ]
  },
  {
   "cell_type": "code",
   "execution_count": 50,
   "metadata": {},
   "outputs": [
    {
     "data": {
      "text/plain": [
       "{'diffusion_coefficient': 0.05,\n",
       " 'queen_bee_concentration': 0.01,\n",
       " 'worker_bee_concentration': 0.005,\n",
       " 'worker_bee_threshold': 0.001}"
      ]
     },
     "execution_count": 50,
     "metadata": {},
     "output_type": "execute_result"
    }
   ],
   "source": [
    "params = dict(zip([p for p in parameters], values))\n",
    "params"
   ]
  },
  {
   "cell_type": "code",
   "execution_count": 72,
   "metadata": {
    "collapsed": true
   },
   "outputs": [],
   "source": [
    "# Load measurements.json\n",
    "with open(experiment_dir + \"data/measurements.json\", \"r\") as f:\n",
    "    measurements = json.load(f)"
   ]
  },
  {
   "cell_type": "markdown",
   "metadata": {},
   "source": [
    "### I. Workers' average distance from the queen"
   ]
  },
  {
   "cell_type": "code",
   "execution_count": 64,
   "metadata": {},
   "outputs": [],
   "source": [
    "# Get average distance from queen over time of a single swarm\n",
    "average_distances = []\n",
    "for avg in measurements['distance_from_queen']:\n",
    "    average_distances.append(avg['average'])    "
   ]
  },
  {
   "cell_type": "code",
   "execution_count": 68,
   "metadata": {},
   "outputs": [
    {
     "data": {
      "image/png": "[encoded data removed]",
      "text/plain": [
       "<matplotlib.figure.Figure at 0x1182337f0>"
      ]
     },
     "metadata": {},
     "output_type": "display_data"
    }
   ],
   "source": [
    "plt.plot(average_distances)\n",
    "plt.xlabel('Timesteps')\n",
    "plt.ylabel('Average distance')\n",
    "plt.title('Swarm average distance from queen over time')\n",
    "plt.show()"
   ]
  },
  {
   "cell_type": "markdown",
   "metadata": {},
   "source": [
    "### II. 2D phase diagram showing the plateau values of swarms"
   ]
  },
  {
   "cell_type": "code",
   "execution_count": 111,
   "metadata": {},
   "outputs": [],
   "source": [
    "queen_concentration = [0.01, 0.255, 0.5]\n",
    "worker_concentration = [0.005, 0.2525, 0.5]\n",
    "swarm_end_distance = np.random.random((3, 3))"
   ]
  },
  {
   "cell_type": "code",
   "execution_count": 112,
   "metadata": {},
   "outputs": [
    {
     "data": {
      "image/png": "[encoded data removed]",
      "text/plain": [
       "<matplotlib.figure.Figure at 0x113b71b70>"
      ]
     },
     "metadata": {},
     "output_type": "display_data"
    }
   ],
   "source": [
    "fig, ax = plt.subplots()\n",
    "#im = ax.imshow(swarm_end_distance)\n",
    "\n",
    "# We want to show all ticks...\n",
    "ax.set_xticks(np.arange(len(worker_concentration)))\n",
    "ax.set_yticks(np.arange(len(queen_concentration)))\n",
    "# ... and label them with the respective list entries\n",
    "ax.set_xticklabels(worker_concentration)\n",
    "ax.set_yticklabels(queen_concentration)\n",
    "\n",
    "heatmap = ax.pcolor(swarm_end_distance, cmap=plt.cm.Blues)\n",
    "\n",
    "# put the major ticks at the middle of each cell\n",
    "ax.set_xticks(np.arange(swarm_end_distance.shape[0])+0.5, minor=False)\n",
    "ax.set_yticks(np.arange(swarm_end_distance.shape[1])+0.5, minor=False)\n",
    "\n",
    "fig.colorbar(heatmap)\n",
    "fig.tight_layout()\n",
    "plt.show()"
   ]
  },
  {
   "cell_type": "markdown",
   "metadata": {},
   "source": [
    "### III. Distance between workers over time"
   ]
  },
  {
   "cell_type": "code",
   "execution_count": null,
   "metadata": {
    "collapsed": true
   },
   "outputs": [],
   "source": []
  },
  {
   "cell_type": "code",
   "execution_count": null,
   "metadata": {
    "collapsed": true
   },
   "outputs": [],
   "source": []
  }
 ],
 "metadata": {
  "kernelspec": {
   "display_name": "Python 3",
   "language": "python",
   "name": "python3"
  },
  "language_info": {
   "codemirror_mode": {
    "name": "ipython",
    "version": 3
   },
   "file_extension": ".py",
   "mimetype": "text/x-python",
   "name": "python",
   "nbconvert_exporter": "python",
   "pygments_lexer": "ipython3",
   "version": "3.6.2"
  }
 },
 "nbformat": 4,
 "nbformat_minor": 2
}
