{
 "cells": [
  {
   "cell_type": "code",
   "execution_count": 25,
   "metadata": {},
   "outputs": [],
   "source": [
    "import numpy as np\n",
    "import glob2\n",
    "import matplotlib.pyplot as plt\n",
    "import os\n",
    "import json\n",
    "import itertools\n",
    "import pandas as pd\n",
    "import seaborn as sns"
   ]
  },
  {
   "cell_type": "code",
   "execution_count": 159,
   "metadata": {},
   "outputs": [],
   "source": [
    "# Four params and their values, each is a np array\n",
    "queen_bee_concentrations = np.linspace(0.01, 0.5, 4)\n",
    "worker_bee_concentrations = np.linspace(0.005, 0.5, 4)\n",
    "diffusion_coefficients = np.linspace(0.05, 0.5, 4)\n",
    "worker_bee_thresholds = np.linspace(0.001, 0.005, 4)"
   ]
  },
  {
   "cell_type": "code",
   "execution_count": 184,
   "metadata": {},
   "outputs": [
    {
     "data": {
      "text/plain": [
       "['Q0.01_W0.005_D0.05_T0.001.json',\n",
       " 'Q0.01_W0.005_D0.05_T0.002333333333333333.json',\n",
       " 'Q0.01_W0.005_D0.05_T0.0036666666666666666.json',\n",
       " 'Q0.01_W0.005_D0.05_T0.005.json',\n",
       " 'Q0.01_W0.005_D0.2_T0.001.json',\n",
       " 'Q0.01_W0.005_D0.2_T0.002333333333333333.json',\n",
       " 'Q0.01_W0.005_D0.2_T0.0036666666666666666.json',\n",
       " 'Q0.01_W0.005_D0.2_T0.005.json',\n",
       " 'Q0.01_W0.005_D0.35_T0.001.json',\n",
       " 'Q0.01_W0.005_D0.35_T0.002333333333333333.json',\n",
       " 'Q0.01_W0.005_D0.35_T0.0036666666666666666.json',\n",
       " 'Q0.01_W0.005_D0.35_T0.005.json',\n",
       " 'Q0.01_W0.005_D0.5_T0.001.json',\n",
       " 'Q0.01_W0.005_D0.5_T0.002333333333333333.json',\n",
       " 'Q0.01_W0.005_D0.5_T0.0036666666666666666.json',\n",
       " 'Q0.01_W0.005_D0.5_T0.005.json',\n",
       " 'Q0.01_W0.17_D0.05_T0.001.json',\n",
       " 'Q0.01_W0.17_D0.05_T0.002333333333333333.json',\n",
       " 'Q0.01_W0.17_D0.05_T0.0036666666666666666.json',\n",
       " 'Q0.01_W0.17_D0.05_T0.005.json',\n",
       " 'Q0.01_W0.17_D0.2_T0.001.json',\n",
       " 'Q0.01_W0.17_D0.2_T0.002333333333333333.json',\n",
       " 'Q0.01_W0.17_D0.2_T0.0036666666666666666.json',\n",
       " 'Q0.01_W0.17_D0.2_T0.005.json',\n",
       " 'Q0.01_W0.17_D0.35_T0.001.json',\n",
       " 'Q0.01_W0.17_D0.35_T0.002333333333333333.json',\n",
       " 'Q0.01_W0.17_D0.35_T0.0036666666666666666.json',\n",
       " 'Q0.01_W0.17_D0.35_T0.005.json',\n",
       " 'Q0.01_W0.17_D0.5_T0.001.json',\n",
       " 'Q0.01_W0.17_D0.5_T0.002333333333333333.json',\n",
       " 'Q0.01_W0.17_D0.5_T0.0036666666666666666.json',\n",
       " 'Q0.01_W0.17_D0.5_T0.005.json',\n",
       " 'Q0.01_W0.335_D0.05_T0.001.json',\n",
       " 'Q0.01_W0.335_D0.05_T0.002333333333333333.json',\n",
       " 'Q0.01_W0.335_D0.05_T0.0036666666666666666.json',\n",
       " 'Q0.01_W0.335_D0.05_T0.005.json',\n",
       " 'Q0.01_W0.335_D0.2_T0.001.json',\n",
       " 'Q0.01_W0.335_D0.2_T0.002333333333333333.json',\n",
       " 'Q0.01_W0.335_D0.2_T0.0036666666666666666.json',\n",
       " 'Q0.01_W0.335_D0.2_T0.005.json',\n",
       " 'Q0.01_W0.335_D0.35_T0.001.json',\n",
       " 'Q0.01_W0.335_D0.35_T0.002333333333333333.json',\n",
       " 'Q0.01_W0.335_D0.35_T0.0036666666666666666.json',\n",
       " 'Q0.01_W0.335_D0.35_T0.005.json',\n",
       " 'Q0.01_W0.335_D0.5_T0.001.json',\n",
       " 'Q0.01_W0.335_D0.5_T0.002333333333333333.json',\n",
       " 'Q0.01_W0.335_D0.5_T0.0036666666666666666.json',\n",
       " 'Q0.01_W0.335_D0.5_T0.005.json',\n",
       " 'Q0.01_W0.5_D0.05_T0.001.json',\n",
       " 'Q0.01_W0.5_D0.05_T0.002333333333333333.json',\n",
       " 'Q0.01_W0.5_D0.05_T0.0036666666666666666.json',\n",
       " 'Q0.01_W0.5_D0.05_T0.005.json',\n",
       " 'Q0.01_W0.5_D0.2_T0.001.json',\n",
       " 'Q0.01_W0.5_D0.2_T0.002333333333333333.json',\n",
       " 'Q0.01_W0.5_D0.2_T0.0036666666666666666.json',\n",
       " 'Q0.01_W0.5_D0.2_T0.005.json',\n",
       " 'Q0.01_W0.5_D0.35_T0.001.json',\n",
       " 'Q0.01_W0.5_D0.35_T0.002333333333333333.json',\n",
       " 'Q0.01_W0.5_D0.35_T0.0036666666666666666.json',\n",
       " 'Q0.01_W0.5_D0.35_T0.005.json',\n",
       " 'Q0.01_W0.5_D0.5_T0.001.json',\n",
       " 'Q0.01_W0.5_D0.5_T0.002333333333333333.json',\n",
       " 'Q0.01_W0.5_D0.5_T0.0036666666666666666.json',\n",
       " 'Q0.01_W0.5_D0.5_T0.005.json',\n",
       " 'Q0.17333333333333334_W0.005_D0.05_T0.001.json',\n",
       " 'Q0.17333333333333334_W0.005_D0.05_T0.002333333333333333.json',\n",
       " 'Q0.17333333333333334_W0.005_D0.05_T0.0036666666666666666.json',\n",
       " 'Q0.17333333333333334_W0.005_D0.05_T0.005.json',\n",
       " 'Q0.17333333333333334_W0.005_D0.2_T0.001.json',\n",
       " 'Q0.17333333333333334_W0.005_D0.2_T0.002333333333333333.json',\n",
       " 'Q0.17333333333333334_W0.005_D0.2_T0.0036666666666666666.json',\n",
       " 'Q0.17333333333333334_W0.005_D0.2_T0.005.json',\n",
       " 'Q0.17333333333333334_W0.005_D0.35_T0.001.json',\n",
       " 'Q0.17333333333333334_W0.005_D0.35_T0.002333333333333333.json',\n",
       " 'Q0.17333333333333334_W0.005_D0.35_T0.0036666666666666666.json',\n",
       " 'Q0.17333333333333334_W0.005_D0.35_T0.005.json',\n",
       " 'Q0.17333333333333334_W0.005_D0.5_T0.001.json',\n",
       " 'Q0.17333333333333334_W0.005_D0.5_T0.002333333333333333.json',\n",
       " 'Q0.17333333333333334_W0.005_D0.5_T0.0036666666666666666.json',\n",
       " 'Q0.17333333333333334_W0.005_D0.5_T0.005.json',\n",
       " 'Q0.17333333333333334_W0.17_D0.05_T0.001.json',\n",
       " 'Q0.17333333333333334_W0.17_D0.05_T0.002333333333333333.json',\n",
       " 'Q0.17333333333333334_W0.17_D0.05_T0.0036666666666666666.json',\n",
       " 'Q0.17333333333333334_W0.17_D0.05_T0.005.json',\n",
       " 'Q0.17333333333333334_W0.17_D0.2_T0.001.json',\n",
       " 'Q0.17333333333333334_W0.17_D0.2_T0.002333333333333333.json',\n",
       " 'Q0.17333333333333334_W0.17_D0.2_T0.0036666666666666666.json',\n",
       " 'Q0.17333333333333334_W0.17_D0.2_T0.005.json',\n",
       " 'Q0.17333333333333334_W0.17_D0.35_T0.001.json',\n",
       " 'Q0.17333333333333334_W0.17_D0.35_T0.002333333333333333.json',\n",
       " 'Q0.17333333333333334_W0.17_D0.35_T0.0036666666666666666.json',\n",
       " 'Q0.17333333333333334_W0.17_D0.35_T0.005.json',\n",
       " 'Q0.17333333333333334_W0.17_D0.5_T0.001.json',\n",
       " 'Q0.17333333333333334_W0.17_D0.5_T0.002333333333333333.json',\n",
       " 'Q0.17333333333333334_W0.17_D0.5_T0.0036666666666666666.json',\n",
       " 'Q0.17333333333333334_W0.17_D0.5_T0.005.json',\n",
       " 'Q0.17333333333333334_W0.335_D0.05_T0.001.json',\n",
       " 'Q0.17333333333333334_W0.335_D0.05_T0.002333333333333333.json',\n",
       " 'Q0.17333333333333334_W0.335_D0.05_T0.0036666666666666666.json',\n",
       " 'Q0.17333333333333334_W0.335_D0.05_T0.005.json',\n",
       " 'Q0.17333333333333334_W0.335_D0.2_T0.001.json',\n",
       " 'Q0.17333333333333334_W0.335_D0.2_T0.002333333333333333.json',\n",
       " 'Q0.17333333333333334_W0.335_D0.2_T0.0036666666666666666.json',\n",
       " 'Q0.17333333333333334_W0.335_D0.2_T0.005.json',\n",
       " 'Q0.17333333333333334_W0.335_D0.35_T0.001.json',\n",
       " 'Q0.17333333333333334_W0.335_D0.35_T0.002333333333333333.json',\n",
       " 'Q0.17333333333333334_W0.335_D0.35_T0.0036666666666666666.json',\n",
       " 'Q0.17333333333333334_W0.335_D0.35_T0.005.json',\n",
       " 'Q0.17333333333333334_W0.335_D0.5_T0.001.json',\n",
       " 'Q0.17333333333333334_W0.335_D0.5_T0.002333333333333333.json',\n",
       " 'Q0.17333333333333334_W0.335_D0.5_T0.0036666666666666666.json',\n",
       " 'Q0.17333333333333334_W0.335_D0.5_T0.005.json',\n",
       " 'Q0.17333333333333334_W0.5_D0.05_T0.001.json',\n",
       " 'Q0.17333333333333334_W0.5_D0.05_T0.002333333333333333.json',\n",
       " 'Q0.17333333333333334_W0.5_D0.05_T0.0036666666666666666.json',\n",
       " 'Q0.17333333333333334_W0.5_D0.05_T0.005.json',\n",
       " 'Q0.17333333333333334_W0.5_D0.2_T0.001.json',\n",
       " 'Q0.17333333333333334_W0.5_D0.2_T0.002333333333333333.json',\n",
       " 'Q0.17333333333333334_W0.5_D0.2_T0.0036666666666666666.json',\n",
       " 'Q0.17333333333333334_W0.5_D0.2_T0.005.json',\n",
       " 'Q0.17333333333333334_W0.5_D0.35_T0.001.json',\n",
       " 'Q0.17333333333333334_W0.5_D0.35_T0.002333333333333333.json',\n",
       " 'Q0.17333333333333334_W0.5_D0.35_T0.0036666666666666666.json',\n",
       " 'Q0.17333333333333334_W0.5_D0.35_T0.005.json',\n",
       " 'Q0.17333333333333334_W0.5_D0.5_T0.001.json',\n",
       " 'Q0.17333333333333334_W0.5_D0.5_T0.002333333333333333.json',\n",
       " 'Q0.17333333333333334_W0.5_D0.5_T0.0036666666666666666.json',\n",
       " 'Q0.17333333333333334_W0.5_D0.5_T0.005.json',\n",
       " 'Q0.33666666666666667_W0.005_D0.05_T0.001.json',\n",
       " 'Q0.33666666666666667_W0.005_D0.05_T0.002333333333333333.json',\n",
       " 'Q0.33666666666666667_W0.005_D0.05_T0.0036666666666666666.json',\n",
       " 'Q0.33666666666666667_W0.005_D0.05_T0.005.json',\n",
       " 'Q0.33666666666666667_W0.005_D0.2_T0.001.json',\n",
       " 'Q0.33666666666666667_W0.005_D0.2_T0.002333333333333333.json',\n",
       " 'Q0.33666666666666667_W0.005_D0.2_T0.0036666666666666666.json',\n",
       " 'Q0.33666666666666667_W0.005_D0.2_T0.005.json',\n",
       " 'Q0.33666666666666667_W0.005_D0.35_T0.001.json',\n",
       " 'Q0.33666666666666667_W0.005_D0.35_T0.002333333333333333.json',\n",
       " 'Q0.33666666666666667_W0.005_D0.35_T0.0036666666666666666.json',\n",
       " 'Q0.33666666666666667_W0.005_D0.35_T0.005.json',\n",
       " 'Q0.33666666666666667_W0.005_D0.5_T0.001.json',\n",
       " 'Q0.33666666666666667_W0.005_D0.5_T0.002333333333333333.json',\n",
       " 'Q0.33666666666666667_W0.005_D0.5_T0.0036666666666666666.json',\n",
       " 'Q0.33666666666666667_W0.005_D0.5_T0.005.json',\n",
       " 'Q0.33666666666666667_W0.17_D0.05_T0.001.json',\n",
       " 'Q0.33666666666666667_W0.17_D0.05_T0.002333333333333333.json',\n",
       " 'Q0.33666666666666667_W0.17_D0.05_T0.0036666666666666666.json',\n",
       " 'Q0.33666666666666667_W0.17_D0.05_T0.005.json',\n",
       " 'Q0.33666666666666667_W0.17_D0.2_T0.001.json',\n",
       " 'Q0.33666666666666667_W0.17_D0.2_T0.002333333333333333.json',\n",
       " 'Q0.33666666666666667_W0.17_D0.2_T0.0036666666666666666.json',\n",
       " 'Q0.33666666666666667_W0.17_D0.2_T0.005.json',\n",
       " 'Q0.33666666666666667_W0.17_D0.35_T0.001.json',\n",
       " 'Q0.33666666666666667_W0.17_D0.35_T0.002333333333333333.json',\n",
       " 'Q0.33666666666666667_W0.17_D0.35_T0.0036666666666666666.json',\n",
       " 'Q0.33666666666666667_W0.17_D0.35_T0.005.json',\n",
       " 'Q0.33666666666666667_W0.17_D0.5_T0.001.json',\n",
       " 'Q0.33666666666666667_W0.17_D0.5_T0.002333333333333333.json',\n",
       " 'Q0.33666666666666667_W0.17_D0.5_T0.0036666666666666666.json',\n",
       " 'Q0.33666666666666667_W0.17_D0.5_T0.005.json',\n",
       " 'Q0.33666666666666667_W0.335_D0.05_T0.001.json',\n",
       " 'Q0.33666666666666667_W0.335_D0.05_T0.002333333333333333.json',\n",
       " 'Q0.33666666666666667_W0.335_D0.05_T0.0036666666666666666.json',\n",
       " 'Q0.33666666666666667_W0.335_D0.05_T0.005.json',\n",
       " 'Q0.33666666666666667_W0.335_D0.2_T0.001.json',\n",
       " 'Q0.33666666666666667_W0.335_D0.2_T0.002333333333333333.json',\n",
       " 'Q0.33666666666666667_W0.335_D0.2_T0.0036666666666666666.json',\n",
       " 'Q0.33666666666666667_W0.335_D0.2_T0.005.json',\n",
       " 'Q0.33666666666666667_W0.335_D0.35_T0.001.json',\n",
       " 'Q0.33666666666666667_W0.335_D0.35_T0.002333333333333333.json',\n",
       " 'Q0.33666666666666667_W0.335_D0.35_T0.0036666666666666666.json',\n",
       " 'Q0.33666666666666667_W0.335_D0.35_T0.005.json',\n",
       " 'Q0.33666666666666667_W0.335_D0.5_T0.001.json',\n",
       " 'Q0.33666666666666667_W0.335_D0.5_T0.002333333333333333.json',\n",
       " 'Q0.33666666666666667_W0.335_D0.5_T0.0036666666666666666.json',\n",
       " 'Q0.33666666666666667_W0.335_D0.5_T0.005.json',\n",
       " 'Q0.33666666666666667_W0.5_D0.05_T0.001.json',\n",
       " 'Q0.33666666666666667_W0.5_D0.05_T0.002333333333333333.json',\n",
       " 'Q0.33666666666666667_W0.5_D0.05_T0.0036666666666666666.json',\n",
       " 'Q0.33666666666666667_W0.5_D0.05_T0.005.json',\n",
       " 'Q0.33666666666666667_W0.5_D0.2_T0.001.json',\n",
       " 'Q0.33666666666666667_W0.5_D0.2_T0.002333333333333333.json',\n",
       " 'Q0.33666666666666667_W0.5_D0.2_T0.0036666666666666666.json',\n",
       " 'Q0.33666666666666667_W0.5_D0.2_T0.005.json',\n",
       " 'Q0.33666666666666667_W0.5_D0.35_T0.001.json',\n",
       " 'Q0.33666666666666667_W0.5_D0.35_T0.002333333333333333.json',\n",
       " 'Q0.33666666666666667_W0.5_D0.35_T0.0036666666666666666.json',\n",
       " 'Q0.33666666666666667_W0.5_D0.35_T0.005.json',\n",
       " 'Q0.33666666666666667_W0.5_D0.5_T0.001.json',\n",
       " 'Q0.33666666666666667_W0.5_D0.5_T0.002333333333333333.json',\n",
       " 'Q0.33666666666666667_W0.5_D0.5_T0.0036666666666666666.json',\n",
       " 'Q0.33666666666666667_W0.5_D0.5_T0.005.json',\n",
       " 'Q0.5_W0.005_D0.05_T0.001.json',\n",
       " 'Q0.5_W0.005_D0.05_T0.002333333333333333.json',\n",
       " 'Q0.5_W0.005_D0.05_T0.0036666666666666666.json',\n",
       " 'Q0.5_W0.005_D0.05_T0.005.json',\n",
       " 'Q0.5_W0.005_D0.2_T0.001.json',\n",
       " 'Q0.5_W0.005_D0.2_T0.002333333333333333.json',\n",
       " 'Q0.5_W0.005_D0.2_T0.0036666666666666666.json',\n",
       " 'Q0.5_W0.005_D0.2_T0.005.json',\n",
       " 'Q0.5_W0.005_D0.35_T0.001.json',\n",
       " 'Q0.5_W0.005_D0.35_T0.002333333333333333.json',\n",
       " 'Q0.5_W0.005_D0.35_T0.0036666666666666666.json',\n",
       " 'Q0.5_W0.005_D0.35_T0.005.json',\n",
       " 'Q0.5_W0.005_D0.5_T0.001.json',\n",
       " 'Q0.5_W0.005_D0.5_T0.002333333333333333.json',\n",
       " 'Q0.5_W0.005_D0.5_T0.0036666666666666666.json',\n",
       " 'Q0.5_W0.005_D0.5_T0.005.json',\n",
       " 'Q0.5_W0.17_D0.05_T0.001.json',\n",
       " 'Q0.5_W0.17_D0.05_T0.002333333333333333.json',\n",
       " 'Q0.5_W0.17_D0.05_T0.0036666666666666666.json',\n",
       " 'Q0.5_W0.17_D0.05_T0.005.json',\n",
       " 'Q0.5_W0.17_D0.2_T0.001.json',\n",
       " 'Q0.5_W0.17_D0.2_T0.002333333333333333.json',\n",
       " 'Q0.5_W0.17_D0.2_T0.0036666666666666666.json',\n",
       " 'Q0.5_W0.17_D0.2_T0.005.json',\n",
       " 'Q0.5_W0.17_D0.35_T0.001.json',\n",
       " 'Q0.5_W0.17_D0.35_T0.002333333333333333.json',\n",
       " 'Q0.5_W0.17_D0.35_T0.0036666666666666666.json',\n",
       " 'Q0.5_W0.17_D0.35_T0.005.json',\n",
       " 'Q0.5_W0.17_D0.5_T0.001.json',\n",
       " 'Q0.5_W0.17_D0.5_T0.002333333333333333.json',\n",
       " 'Q0.5_W0.17_D0.5_T0.0036666666666666666.json',\n",
       " 'Q0.5_W0.17_D0.5_T0.005.json',\n",
       " 'Q0.5_W0.335_D0.05_T0.001.json',\n",
       " 'Q0.5_W0.335_D0.05_T0.002333333333333333.json',\n",
       " 'Q0.5_W0.335_D0.05_T0.0036666666666666666.json',\n",
       " 'Q0.5_W0.335_D0.05_T0.005.json',\n",
       " 'Q0.5_W0.335_D0.2_T0.001.json',\n",
       " 'Q0.5_W0.335_D0.2_T0.002333333333333333.json',\n",
       " 'Q0.5_W0.335_D0.2_T0.0036666666666666666.json',\n",
       " 'Q0.5_W0.335_D0.2_T0.005.json',\n",
       " 'Q0.5_W0.335_D0.35_T0.001.json',\n",
       " 'Q0.5_W0.335_D0.35_T0.002333333333333333.json',\n",
       " 'Q0.5_W0.335_D0.35_T0.0036666666666666666.json',\n",
       " 'Q0.5_W0.335_D0.35_T0.005.json',\n",
       " 'Q0.5_W0.335_D0.5_T0.001.json',\n",
       " 'Q0.5_W0.335_D0.5_T0.002333333333333333.json',\n",
       " 'Q0.5_W0.335_D0.5_T0.0036666666666666666.json',\n",
       " 'Q0.5_W0.335_D0.5_T0.005.json',\n",
       " 'Q0.5_W0.5_D0.05_T0.001.json',\n",
       " 'Q0.5_W0.5_D0.05_T0.002333333333333333.json',\n",
       " 'Q0.5_W0.5_D0.05_T0.0036666666666666666.json',\n",
       " 'Q0.5_W0.5_D0.05_T0.005.json',\n",
       " 'Q0.5_W0.5_D0.2_T0.001.json',\n",
       " 'Q0.5_W0.5_D0.2_T0.002333333333333333.json',\n",
       " 'Q0.5_W0.5_D0.2_T0.0036666666666666666.json',\n",
       " 'Q0.5_W0.5_D0.2_T0.005.json',\n",
       " 'Q0.5_W0.5_D0.35_T0.001.json',\n",
       " 'Q0.5_W0.5_D0.35_T0.002333333333333333.json',\n",
       " 'Q0.5_W0.5_D0.35_T0.0036666666666666666.json',\n",
       " 'Q0.5_W0.5_D0.35_T0.005.json',\n",
       " 'Q0.5_W0.5_D0.5_T0.001.json',\n",
       " 'Q0.5_W0.5_D0.5_T0.002333333333333333.json',\n",
       " 'Q0.5_W0.5_D0.5_T0.0036666666666666666.json',\n",
       " 'Q0.5_W0.5_D0.5_T0.005.json']"
      ]
     },
     "execution_count": 184,
     "metadata": {},
     "output_type": "execute_result"
    }
   ],
   "source": [
    "# Get names of the 256 json's\n",
    "json_list = list(map(lambda x : x.split(\"/\")[-1], glob2.glob(\"avg_distance_data/*.json\")))\n",
    "json_list"
   ]
  },
  {
   "cell_type": "code",
   "execution_count": 160,
   "metadata": {},
   "outputs": [],
   "source": [
    "def get_matching_filenames(json_list, param_1, param_2, value_1, value_2):\n",
    "    matching_json_names = []\n",
    "    for i in range(len(json_list)):\n",
    "        if (json_list[i].find(param_1+str(value_1)) != -1) and (json_list[i].find(param_2+str(value_2)) != -1):\n",
    "            matching_json_names.append(json_list[i])\n",
    "    \n",
    "    return matching_json_names"
   ]
  },
  {
   "cell_type": "code",
   "execution_count": 8,
   "metadata": {},
   "outputs": [],
   "source": [
    "# # Test above function on 1 set of param pair values\n",
    "# names = get_matching_filenames(json_list, \"Q\", \"W\", 0.01, 0.005)\n",
    "# print(names)"
   ]
  },
  {
   "cell_type": "code",
   "execution_count": 194,
   "metadata": {},
   "outputs": [],
   "source": [
    "def get_ending_distances(json_file):\n",
    "    # Get the 10 ending values of a single json\n",
    "    with open(\"avg_distance_data/\" + json_file, \"r\") as f:\n",
    "        data = json.load(f)\n",
    "        # print(data)\n",
    "        \n",
    "    # For 1 JSON of 10 replicate swarms: going through its 10 lists\n",
    "    dist_list = []\n",
    "    for i in range(len(data)):\n",
    "        ending_dist = data[i][-1]\n",
    "        dist_list.append(ending_dist)\n",
    "        \n",
    "    dist_avg = np.median(dist_list)\n",
    "    dist_var = np.var(dist_list)\n",
    "    \n",
    "    return dist_avg, dist_var"
   ]
  },
  {
   "cell_type": "code",
   "execution_count": 196,
   "metadata": {},
   "outputs": [
    {
     "name": "stdout",
     "output_type": "stream",
     "text": [
      "(3.2352874738988193, 0.05203029797825346)\n"
     ]
    }
   ],
   "source": [
    "# Testing above function\n",
    "x = get_ending_distances(\"Q0.01_W0.5_D0.05_T0.001.json\")\n",
    "print(x)"
   ]
  },
  {
   "cell_type": "code",
   "execution_count": 220,
   "metadata": {},
   "outputs": [],
   "source": [
    "def get_mean_var(json_list, param_1, param_2, value_1, value_2):\n",
    "\n",
    "    # Load in a json list and get ending value of each list, then average and variance those 160 values\n",
    "    \n",
    "#     param_pair_distances = []\n",
    "    # print(len(param_pair_distances))\n",
    "    # print(param_pair_distances[0])\n",
    "\n",
    "    averages = []\n",
    "    variances = []\n",
    "    \n",
    "    names = get_matching_filenames(json_list, param_1, param_2, value_1, value_2)\n",
    "\n",
    "    for n in names:\n",
    "        # print(n)\n",
    "        distance_tuple = get_ending_distances(n)\n",
    "        # print(distance_tuple)\n",
    "        averages.append(distance_tuple[0])\n",
    "        variances.append(distance_tuple[1])\n",
    "\n",
    "#     # Merge lists in param_pair_distances\n",
    "#     merged = list(itertools.chain.from_iterable(param_pair_distances))\n",
    "#     # print(merged)\n",
    "#     merged_mean = np.mean(merged)\n",
    "#     # print(merged_mean)\n",
    "#     merged_var = np.var(merged)\n",
    "#     # print(merged_var)\n",
    "    \n",
    "#     return merged_mean, merged_var\n",
    "    return np.median(averages), np.median(variances)\n"
   ]
  },
  {
   "cell_type": "code",
   "execution_count": 221,
   "metadata": {},
   "outputs": [
    {
     "data": {
      "text/plain": [
       "(3.8353383151660907, 0.0364580586740878)"
      ]
     },
     "execution_count": 221,
     "metadata": {},
     "output_type": "execute_result"
    }
   ],
   "source": [
    "# Test above function\n",
    "get_mean_var(json_list, \"Q\", \"W\", 0.01, 0.5)"
   ]
  },
  {
   "cell_type": "code",
   "execution_count": 222,
   "metadata": {},
   "outputs": [
    {
     "data": {
      "text/plain": [
       "(0.026243124397164655, 9.92695974773759e-06)"
      ]
     },
     "execution_count": 222,
     "metadata": {},
     "output_type": "execute_result"
    }
   ],
   "source": [
    "get_mean_var(json_list, \"Q\", \"W\", 0.5, 0.005)"
   ]
  },
  {
   "cell_type": "code",
   "execution_count": 233,
   "metadata": {},
   "outputs": [],
   "source": [
    "# Iterate through different pairs of params and their values\n",
    "\n",
    "def compare_params(json_list, param_1, param_2, list_1, value_2):\n",
    "    # Create one column for a W values against 4 queen values\n",
    "    all_averages = []\n",
    "    all_variances = []\n",
    "    for item in list_1:\n",
    "        # print(item)\n",
    "        mean_var = get_mean_var(json_list, param_1, param_2, item, value_2)\n",
    "        # print(mean_var)\n",
    "        all_averages.append(mean_var[0])\n",
    "        all_variances.append(mean_var[1]) \n",
    "        \n",
    "    return all_averages, all_variances"
   ]
  },
  {
   "cell_type": "code",
   "execution_count": 234,
   "metadata": {
    "scrolled": false
   },
   "outputs": [
    {
     "data": {
      "text/plain": [
       "([2.5254249091788092,\n",
       "  0.028011907934131157,\n",
       "  0.025913910054951205,\n",
       "  0.026243124397164655],\n",
       " [0.39821232293201037,\n",
       "  1.233051424053944e-05,\n",
       "  8.204051649229273e-06,\n",
       "  9.92695974773759e-06])"
      ]
     },
     "execution_count": 234,
     "metadata": {},
     "output_type": "execute_result"
    }
   ],
   "source": [
    "# Test\n",
    "compare_params(json_list, \"Q\", \"W\", queen_bee_concentrations, 0.005)\n",
    "# test_variances = compare_params(json_list, \"Q\", \"W\", queen_bee_concentrations, 0.005)\n",
    "# test_means"
   ]
  },
  {
   "cell_type": "markdown",
   "metadata": {},
   "source": [
    "## Returning DF "
   ]
  },
  {
   "cell_type": "code",
   "execution_count": 247,
   "metadata": {},
   "outputs": [],
   "source": [
    "def get_dataframe(json_list, param_1, list_1, param_2, list_2, avg_or_var):\n",
    "    \n",
    "    # Get 4 lists of values contained in cumulative list\n",
    "    vals_list = []\n",
    "    for val in list_2:\n",
    "        if avg_or_var == \"avg\":\n",
    "            x = compare_params(json_list, param_1, param_2, list_1, val)[0]\n",
    "            vals_list.append(x)\n",
    "        elif avg_or_var == \"var\":\n",
    "            x = compare_params(json_list, param_1, param_2, list_1, val)[1]\n",
    "            vals_list.append(x)\n",
    "        \n",
    "    # Turn into dict\n",
    "    data = {}\n",
    "    for i, key in enumerate(list_2):\n",
    "        data[key] = vals_list[i]\n",
    "\n",
    "    # Turn into dataframe \n",
    "    df = pd.DataFrame(data, index=[0.01, 0.173, 0.337, 0.5])\n",
    "\n",
    "    return df\n"
   ]
  },
  {
   "cell_type": "code",
   "execution_count": 257,
   "metadata": {},
   "outputs": [
    {
     "name": "stdout",
     "output_type": "stream",
     "text": [
      "Q_W_avg_df:\n",
      "          0.005     0.170     0.335     0.500\n",
      "0.010  2.525425  3.859860  3.865905  3.835338\n",
      "0.173  0.028012  3.349665  3.650892  3.654042\n",
      "0.337  0.025914  3.011686  3.332751  3.615352\n",
      "0.500  0.026243  1.662977  3.123175  3.200595\n",
      "\n",
      "\n",
      "Q_W_var_df:\n",
      "          0.005     0.170     0.335     0.500\n",
      "0.010  0.398212  0.030516  0.038785  0.036458\n",
      "0.173  0.000012  0.148303  0.079385  0.060472\n",
      "0.337  0.000008  0.569134  0.500768  0.081253\n",
      "0.500  0.000010  0.041363  0.407682  0.266727\n",
      "\n",
      "\n"
     ]
    }
   ],
   "source": [
    "Q_W_avg_df = get_dataframe(json_list, \"Q\", queen_bee_concentrations, \"W\", worker_bee_concentrations, \"avg\")\n",
    "print(\"Q_W_avg_df:\")\n",
    "print(Q_W_avg_df)\n",
    "print(\"\\n\")\n",
    "\n",
    "Q_W_var_df = get_dataframe(json_list, \"Q\", queen_bee_concentrations, \"W\", worker_bee_concentrations, \"var\")\n",
    "print(\"Q_W_var_df:\")\n",
    "print(Q_W_var_df)\n",
    "print(\"\\n\")"
   ]
  },
  {
   "cell_type": "markdown",
   "metadata": {},
   "source": [
    "## Plotting heatmap from dataframe for a pair of params"
   ]
  },
  {
   "cell_type": "code",
   "execution_count": 399,
   "metadata": {},
   "outputs": [],
   "source": [
    "def plot_heatmap(df_avg, df_var, x_label, y_label, filename):\n",
    "    \n",
    "    sns.set(font_scale = 1.5)\n",
    "    \n",
    "    fig, (ax1, ax2) = plt.subplots(1, 2, sharex=True, sharey=False, figsize=(14,4))\n",
    "    \n",
    "    sns.heatmap(df_avg, cmap=\"Greens\", cbar_kws={'label': 'Average distance'}, ax=ax1)\n",
    "    ax1.set_xlabel(x_label)\n",
    "    ax1.set_ylabel(y_label)\n",
    "    ax1.set_title('Average distance from queen')\n",
    "    \n",
    "    sns.heatmap(df_var, cmap=\"Blues\", cbar_kws={'label': 'Variance distance'}, ax=ax2)\n",
    "    ax2.set_xlabel(x_label)\n",
    "    ax2.set_ylabel(y_label)\n",
    "    ax2.set_title('Variance distance from queen')\n",
    "\n",
    "    ax1.invert_yaxis()\n",
    "    ax2.invert_yaxis()\n",
    "    \n",
    "\n",
    "    # fig.text(0.5, -0., x_label, ha='center', va='center')\n",
    "    # fig.text(-0.02, -0.1, y_label, ha='center', va='center')\n",
    "    \n",
    "    plt.gcf().subplots_adjust(bottom=0.15)\n",
    "    # plt.title(plot_title)\n",
    "    # plt.savefig('figures/param_heatmap/{}.pdf'.format(filename))"
   ]
  },
  {
   "cell_type": "code",
   "execution_count": 400,
   "metadata": {},
   "outputs": [
    {
     "data": {
      "image/png": "[encoded data removed]",
      "text/plain": [
       "<matplotlib.figure.Figure at 0x1a1ecb9390>"
      ]
     },
     "metadata": {},
     "output_type": "display_data"
    }
   ],
   "source": [
    "plot_heatmap(Q_W_avg_df, Q_W_var_df, 'Worker concentration', 'Queen concentration', 'Queen_Worker')\n"
   ]
  },
  {
   "cell_type": "code",
   "execution_count": null,
   "metadata": {},
   "outputs": [],
   "source": []
  }
 ],
 "metadata": {
  "kernelspec": {
   "display_name": "Python 3",
   "language": "python",
   "name": "python3"
  },
  "language_info": {
   "codemirror_mode": {
    "name": "ipython",
    "version": 3
   },
   "file_extension": ".py",
   "mimetype": "text/x-python",
   "name": "python",
   "nbconvert_exporter": "python",
   "pygments_lexer": "ipython3",
   "version": "3.6.4"
  }
 },
 "nbformat": 4,
 "nbformat_minor": 2
}
