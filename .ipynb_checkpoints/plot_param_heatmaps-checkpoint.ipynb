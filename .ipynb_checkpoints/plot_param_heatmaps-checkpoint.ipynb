{
 "cells": [
  {
   "cell_type": "code",
   "execution_count": 1,
   "metadata": {},
   "outputs": [],
   "source": [
    "import numpy as np\n",
    "import glob2\n",
    "import matplotlib.pyplot as plt\n",
    "import os\n",
    "import json\n",
    "import itertools\n",
    "import pandas as pd\n",
    "import seaborn as sns"
   ]
  },
  {
   "cell_type": "code",
   "execution_count": 2,
   "metadata": {},
   "outputs": [
    {
     "name": "stdout",
     "output_type": "stream",
     "text": [
      "Q = [0.15]\n",
      "W = [0.0005, 0.001, 0.005, 0.01, 0.05, 0.1, 0.5]\n",
      "D = [0.05, 0.15, 0.25, 0.35, 0.45, 0.55]\n",
      "T = [0.005, 0.5]\n"
     ]
    }
   ],
   "source": [
    "# Four params and their values, each is a np array\n",
    "queen_bee_concentrations = [0.15]\n",
    "print(\"Q = {}\".format(queen_bee_concentrations))\n",
    "\n",
    "worker_bee_concentrations = [0.0005, 0.001, 0.005, 0.01, 0.05, 0.1, 0.5]\n",
    "print(\"W = {}\".format(worker_bee_concentrations))\n",
    "\n",
    "diffusion_coefficients = [0.05, 0.15, 0.25, 0.35, 0.45, 0.55]\n",
    "print(\"D = {}\".format(diffusion_coefficients))\n",
    "\n",
    "worker_bee_thresholds = [0.005, 0.5]\n",
    "print(\"T = {}\".format(worker_bee_thresholds))\n"
   ]
  },
  {
   "cell_type": "code",
   "execution_count": 3,
   "metadata": {},
   "outputs": [],
   "source": [
    "# Get names of all 64 json's\n",
    "json_list = list(map(lambda x : x.split(\"/\")[-1], glob2.glob(\"avg_distance_data/*.json\")))"
   ]
  },
  {
   "cell_type": "code",
   "execution_count": 4,
   "metadata": {},
   "outputs": [],
   "source": [
    "def get_matching_filenames(json_list, param_1, param_2, value_1, value_2):\n",
    "    matching_json_names = []\n",
    "    for i in range(len(json_list)):\n",
    "        if (json_list[i].find(param_1+str(value_1)) != -1) and (json_list[i].find(param_2+str(value_2)) != -1):\n",
    "            matching_json_names.append(json_list[i])\n",
    "    \n",
    "    return matching_json_names"
   ]
  },
  {
   "cell_type": "code",
   "execution_count": 5,
   "metadata": {},
   "outputs": [],
   "source": [
    "# # Test above function on 1 set of param pair values\n",
    "# names = get_matching_filenames(json_list, \"Q\", \"W\", 0.01, 0.005)\n",
    "# print(names)"
   ]
  },
  {
   "cell_type": "code",
   "execution_count": 5,
   "metadata": {},
   "outputs": [],
   "source": [
    "def get_ending_distances(json_file):\n",
    "    # Get the 10 ending values of a single json\n",
    "    with open(\"avg_distance_data/\" + json_file, \"r\") as f:\n",
    "        data = json.load(f)\n",
    "        # print(data)\n",
    "        \n",
    "    # For 1 JSON of 10 replicate swarms: going through its 10 lists\n",
    "    dist_list = []\n",
    "    for i in range(len(data)):\n",
    "        ending_dist = data[i][-1]\n",
    "        dist_list.append(ending_dist)\n",
    "        \n",
    "    dist_avg = np.median(dist_list)\n",
    "    dist_var = np.var(dist_list)\n",
    "    \n",
    "    return dist_avg, dist_var"
   ]
  },
  {
   "cell_type": "code",
   "execution_count": 6,
   "metadata": {},
   "outputs": [
    {
     "name": "stdout",
     "output_type": "stream",
     "text": [
      "(2.7230776961547707, 0.024433031511313923)\n"
     ]
    }
   ],
   "source": [
    "# Testing above function\n",
    "x = get_ending_distances(\"Q0.15_W0.1_D0.05_T0.5_wb1.json\")\n",
    "print(x)"
   ]
  },
  {
   "cell_type": "code",
   "execution_count": 7,
   "metadata": {},
   "outputs": [],
   "source": [
    "def get_mean_var(json_list, param_1, param_2, value_1, value_2):\n",
    "\n",
    "    # Load in a json list and get ending value of each list, then average and variance those 160 values\n",
    "    \n",
    "#     param_pair_distances = []\n",
    "    # print(len(param_pair_distances))\n",
    "    # print(param_pair_distances[0])\n",
    "\n",
    "    averages = []\n",
    "    variances = []\n",
    "    \n",
    "    names = get_matching_filenames(json_list, param_1, param_2, value_1, value_2)\n",
    "\n",
    "    for n in names:\n",
    "        # print(n)\n",
    "        distance_tuple = get_ending_distances(n)\n",
    "        # print(distance_tuple)\n",
    "        averages.append(distance_tuple[0])\n",
    "        variances.append(distance_tuple[1])\n",
    "\n",
    "#     # Merge lists in param_pair_distances\n",
    "#     merged = list(itertools.chain.from_iterable(param_pair_distances))\n",
    "#     # print(merged)\n",
    "#     merged_mean = np.mean(merged)\n",
    "#     # print(merged_mean)\n",
    "#     merged_var = np.var(merged)\n",
    "#     # print(merged_var)\n",
    "    \n",
    "#     return merged_mean, merged_var\n",
    "    return np.median(averages), np.median(variances)\n"
   ]
  },
  {
   "cell_type": "code",
   "execution_count": 33,
   "metadata": {},
   "outputs": [
    {
     "data": {
      "text/plain": [
       "(0.02030180855586016, 3.166003225406948e-06)"
      ]
     },
     "execution_count": 33,
     "metadata": {},
     "output_type": "execute_result"
    }
   ],
   "source": [
    "# Test above function\n",
    "get_mean_var(json_list, \"W\", \"D\", 0.0005, 0.5)"
   ]
  },
  {
   "cell_type": "code",
   "execution_count": 12,
   "metadata": {},
   "outputs": [
    {
     "data": {
      "text/plain": [
       "(0.026007821903811283, 1.1435108128874705e-05)"
      ]
     },
     "execution_count": 12,
     "metadata": {},
     "output_type": "execute_result"
    }
   ],
   "source": [
    "# Test above function\n",
    "get_mean_var(json_list, \"W\", \"T\", 0.01, 0.005)"
   ]
  },
  {
   "cell_type": "code",
   "execution_count": 13,
   "metadata": {},
   "outputs": [],
   "source": [
    "# Iterate through different pairs of params and their values\n",
    "\n",
    "def compare_params(json_list, param_1, param_2, list_1, value_2):\n",
    "    # Create one column for a W values against 4 queen values\n",
    "    all_averages = []\n",
    "    all_variances = []\n",
    "    for item in list_1:\n",
    "        # print(item)\n",
    "        mean_var = get_mean_var(json_list, param_1, param_2, item, value_2)\n",
    "        # print(mean_var)\n",
    "        all_averages.append(mean_var[0])\n",
    "        all_variances.append(mean_var[1]) \n",
    "        \n",
    "    return all_averages, all_variances"
   ]
  },
  {
   "cell_type": "code",
   "execution_count": 14,
   "metadata": {
    "scrolled": false
   },
   "outputs": [
    {
     "data": {
      "text/plain": [
       "([1.2686842764373598,\n",
       "  1.2595820269865574,\n",
       "  2.787128315996176,\n",
       "  2.7629544337546283,\n",
       "  2.7420343106873997,\n",
       "  2.9295929374857295,\n",
       "  3.1600467746956618],\n",
       " [0.017592813284658546,\n",
       "  0.7812284177150766,\n",
       "  0.07970662526931108,\n",
       "  0.019410108365687448,\n",
       "  0.040452531203664537,\n",
       "  0.020593981998673874,\n",
       "  0.010563710489283274])"
      ]
     },
     "execution_count": 14,
     "metadata": {},
     "output_type": "execute_result"
    }
   ],
   "source": [
    "# Test\n",
    "compare_params(json_list, \"W\", \"D\", worker_bee_concentrations, 0.05)\n",
    "# test_variances = compare_params(json_list, \"Q\", \"W\", queen_bee_concentrations, 0.005)\n",
    "# test_means"
   ]
  },
  {
   "cell_type": "markdown",
   "metadata": {},
   "source": [
    "## Returning DF "
   ]
  },
  {
   "cell_type": "code",
   "execution_count": 34,
   "metadata": {},
   "outputs": [],
   "source": [
    "def get_dataframe(json_list, param_1, list_1, param_2, list_2, avg_or_var, index_array):\n",
    "    \n",
    "    # Get 4 lists of values contained in cumulative list\n",
    "    vals_list = []\n",
    "    for val in list_2:\n",
    "        if avg_or_var == \"avg\":\n",
    "            x = compare_params(json_list, param_1, param_2, list_1, val)[0]\n",
    "            vals_list.append(x)\n",
    "        elif avg_or_var == \"var\":\n",
    "            x = compare_params(json_list, param_1, param_2, list_1, val)[1]\n",
    "            vals_list.append(x)\n",
    "        \n",
    "    # Turn into dict\n",
    "    data = {}\n",
    "    for i, key in enumerate(list_2):\n",
    "        if len(str(key)) > 7:\n",
    "            key = \"{0:.5f}\".format(key)\n",
    "            # print(key, type(key))\n",
    "            data[key] = vals_list[i]\n",
    "        else:\n",
    "            # print(key, type(key))\n",
    "            data[key] = vals_list[i]\n",
    "            \n",
    "    # Truncate labels in index_array\n",
    "    new_index_array = []\n",
    "    for j, label in enumerate(index_array):\n",
    "        if len(str(label)) > 7:\n",
    "            new_index_array.append(\"{0:.4f}\".format(label))\n",
    "        else:\n",
    "            new_index_array.append(label)\n",
    "        \n",
    "            \n",
    "    # Turn into dataframe \n",
    "    df = pd.DataFrame(data, index=[new_index_array])\n",
    "\n",
    "    return df\n"
   ]
  },
  {
   "cell_type": "markdown",
   "metadata": {},
   "source": [
    "### Queen vs Worker"
   ]
  },
  {
   "cell_type": "code",
   "execution_count": 21,
   "metadata": {},
   "outputs": [],
   "source": [
    "# Q_W_avg_df = get_dataframe(json_list, \"Q\", queen_bee_concentrations, \"W\", worker_bee_concentrations, \"avg\", [0.01, 0.173, 0.34, 0.5])\n",
    "# print(\"Q_W_avg_df:\")\n",
    "# print(Q_W_avg_df)\n",
    "# print(\"\\n\")\n",
    "\n",
    "# Q_W_var_df = get_dataframe(json_list, \"Q\", queen_bee_concentrations, \"W\", worker_bee_concentrations, \"var\", [0.01, 0.173, 0.34, 0.5])\n",
    "# print(\"Q_W_var_df:\")\n",
    "# print(Q_W_var_df)\n",
    "# print(\"\\n\")"
   ]
  },
  {
   "cell_type": "markdown",
   "metadata": {},
   "source": [
    "### Queen vs Coefficient"
   ]
  },
  {
   "cell_type": "code",
   "execution_count": 22,
   "metadata": {
    "scrolled": true
   },
   "outputs": [],
   "source": [
    "# Q_D_avg_df = get_dataframe(json_list, \"Q\", queen_bee_concentrations, \"D\", diffusion_coefficients, \"avg\", [0.01, 0.173, 0.34, 0.5])\n",
    "# print(\"Q_D_avg_df:\")\n",
    "# print(Q_D_avg_df)\n",
    "# print(\"\\n\")\n",
    "\n",
    "# Q_D_var_df = get_dataframe(json_list, \"Q\", queen_bee_concentrations, \"D\", diffusion_coefficients, \"var\", [0.01, 0.173, 0.34, 0.5])\n",
    "# print(\"Q_D_var_df:\")\n",
    "# print(Q_D_var_df)\n",
    "# print(\"\\n\")"
   ]
  },
  {
   "cell_type": "markdown",
   "metadata": {},
   "source": [
    "### Queen vs Threshold"
   ]
  },
  {
   "cell_type": "code",
   "execution_count": 25,
   "metadata": {
    "scrolled": true
   },
   "outputs": [],
   "source": [
    "# Q_T_avg_df = get_dataframe(json_list, \"Q\", queen_bee_concentrations, \"T\", worker_bee_thresholds, \"avg\", [0.01, 0.173, 0.34, 0.5])\n",
    "# print(\"Q_T_avg_df:\")\n",
    "# print(Q_T_avg_df)\n",
    "# print(\"\\n\")\n",
    "\n",
    "# Q_T_var_df = get_dataframe(json_list, \"Q\", queen_bee_concentrations, \"T\", worker_bee_thresholds, \"var\", [0.01, 0.173, 0.34, 0.5])\n",
    "# print(\"Q_T_var_df:\")\n",
    "# print(Q_T_var_df)\n",
    "# print(\"\\n\")"
   ]
  },
  {
   "cell_type": "markdown",
   "metadata": {},
   "source": [
    "### Worker vs Coefficient"
   ]
  },
  {
   "cell_type": "code",
   "execution_count": 26,
   "metadata": {},
   "outputs": [],
   "source": [
    "# W_D_avg_df = get_dataframe(json_list, \"W\", worker_bee_concentrations, \"D\", diffusion_coefficients, \"avg\", worker_bee_concentrations)\n",
    "# print(\"W_D_avg_df:\")\n",
    "# print(W_D_avg_df)\n",
    "# print(\"\\n\")\n",
    "\n",
    "# W_D_var_df = get_dataframe(json_list, \"W\", worker_bee_concentrations, \"D\", diffusion_coefficients, \"var\", worker_bee_concentrations)\n",
    "# print(\"W_D_var_df:\")\n",
    "# print(W_D_var_df)\n",
    "# print(\"\\n\")"
   ]
  },
  {
   "cell_type": "markdown",
   "metadata": {},
   "source": [
    "### Worker vs Threshold"
   ]
  },
  {
   "cell_type": "code",
   "execution_count": 64,
   "metadata": {},
   "outputs": [],
   "source": [
    "# W_T_avg_df = get_dataframe(json_list, \"W\", worker_bee_concentrations, \"T\", worker_bee_thresholds, \"avg\", worker_bee_concentrations)\n",
    "# print(\"W_T_avg_df:\")\n",
    "# print(W_T_avg_df)\n",
    "# print(\"\\n\")\n",
    "\n",
    "# W_T_var_df = get_dataframe(json_list, \"W\", worker_bee_concentrations, \"T\", worker_bee_thresholds, \"var\", worker_bee_concentrations)\n",
    "# print(\"W_T_var_df:\")\n",
    "# print(W_T_var_df)\n",
    "# print(\"\\n\")"
   ]
  },
  {
   "cell_type": "markdown",
   "metadata": {},
   "source": [
    "### Coefficient vs Threshold"
   ]
  },
  {
   "cell_type": "code",
   "execution_count": 65,
   "metadata": {},
   "outputs": [],
   "source": [
    "# D_T_avg_df = get_dataframe(json_list, \"D\", diffusion_coefficients, \"T\", worker_bee_thresholds, \"avg\", diffusion_coefficients)\n",
    "# print(\"D_T_avg_df:\")\n",
    "# print(D_T_avg_df)\n",
    "# print(\"\\n\")\n",
    "\n",
    "# D_T_var_df = get_dataframe(json_list, \"D\", diffusion_coefficients, \"T\", worker_bee_thresholds, \"var\", diffusion_coefficients)\n",
    "# print(\"D_T_var_df:\")\n",
    "# print(D_T_var_df)\n",
    "# print(\"\\n\")"
   ]
  },
  {
   "cell_type": "markdown",
   "metadata": {},
   "source": [
    "## Plotting heatmap from dataframe for a pair of params"
   ]
  },
  {
   "cell_type": "code",
   "execution_count": 62,
   "metadata": {},
   "outputs": [],
   "source": [
    "def plot_heatmap(df_avg, df_var, x_label, y_label, filename, t_value):\n",
    "    \n",
    "    sns.set(font_scale = 1.5)\n",
    "    \n",
    "    fig, (ax1, ax2) = plt.subplots(1, 2, sharex=True, sharey=False, figsize=(15,4))\n",
    "    \n",
    "    sns.heatmap(df_avg, cmap=\"Greens\", cbar_kws={'label': ''}, ax=ax1, vmin=0, vmax=4)\n",
    "    ax1.set_xlabel(x_label)\n",
    "    ax1.set_ylabel(y_label)\n",
    "    ax1.set_title('Average distance from queen')\n",
    "    \n",
    "    sns.heatmap(df_var, cmap=\"Blues\", cbar_kws={'label': ''}, ax=ax2, vmin=0, vmax=2)\n",
    "    ax2.set_xlabel(x_label)\n",
    "    ax2.set_ylabel(y_label)\n",
    "    ax2.set_title('Variance distance from queen')\n",
    "\n",
    "    ax1.invert_yaxis()\n",
    "    ax2.invert_yaxis()\n",
    "    \n",
    "    # ax1.set_xticks(x_ticks)\n",
    "\n",
    "    fig.text(0.5, 1.0, \"Worker activation threshold = {}\".format(t_value), ha='center', va='center')\n",
    "    # fig.text(-0.02, -0.1, y_label, ha='center', va='center')\n",
    "    \n",
    "    \n",
    "    plt.subplots_adjust(top=0.88)\n",
    "    \n",
    "    plt.savefig('figures/param_heatmap/{}.pdf'.format(filename), bbox_inches='tight')\n",
    "    "
   ]
  },
  {
   "cell_type": "markdown",
   "metadata": {},
   "source": [
    "## Re-plotting with 3 free parameters while Q is fixed"
   ]
  },
  {
   "cell_type": "code",
   "execution_count": 17,
   "metadata": {},
   "outputs": [
    {
     "data": {
      "text/plain": [
       "[0.005, 0.5]"
      ]
     },
     "execution_count": 17,
     "metadata": {},
     "output_type": "execute_result"
    }
   ],
   "source": [
    "worker_bee_thresholds"
   ]
  },
  {
   "cell_type": "code",
   "execution_count": 18,
   "metadata": {},
   "outputs": [],
   "source": [
    "# Get names of all json's for a single T value - do this 4 times - each T has 16 files\n",
    "\n",
    "jsons_T_1 = list(map(lambda x : x.split(\"/\")[-1], glob2.glob(\"avg_distance_data/*T{}*.json\".format(worker_bee_thresholds[0]))))\n",
    "jsons_T_2 = list(map(lambda x : x.split(\"/\")[-1], glob2.glob(\"avg_distance_data/*T{}*.json\".format(worker_bee_thresholds[1]))))\n",
    "# jsons_T_3 = list(map(lambda x : x.split(\"/\")[-1], glob2.glob(\"avg_distance_data/*T{}*.json\".format(worker_bee_thresholds[2]))))\n",
    "# jsons_T_4 = list(map(lambda x : x.split(\"/\")[-1], glob2.glob(\"avg_distance_data/*T{}*.json\".format(worker_bee_thresholds[3]))))\n"
   ]
  },
  {
   "cell_type": "code",
   "execution_count": 51,
   "metadata": {},
   "outputs": [],
   "source": [
    "# print(len(jsons_T_2))\n",
    "# jsons_T_2"
   ]
  },
  {
   "cell_type": "markdown",
   "metadata": {},
   "source": [
    "### T = 0.005 heatmaps for W vs D"
   ]
  },
  {
   "cell_type": "code",
   "execution_count": 35,
   "metadata": {},
   "outputs": [
    {
     "name": "stdout",
     "output_type": "stream",
     "text": [
      "W_D_avg_df:\n",
      "            0.05      0.15      0.25      0.35      0.45      0.55\n",
      "0.0005  0.029644  0.022854  0.020596  0.020308  0.020805  0.019868\n",
      "0.0010  0.184563  0.025317  0.020776  0.020184  0.020998  0.021549\n",
      "0.0050  2.966908  0.030425  0.025366  0.020922  0.021729  0.020908\n",
      "0.0100  3.016461  0.035501  0.028072  0.023943  0.022275  0.022064\n",
      "0.0500  3.056431  3.124047  3.037233  0.046471  0.030783  0.031963\n",
      "0.1000  3.136108  3.056393  3.414697  3.141948  2.015504  0.076433\n",
      "0.5000  3.184576  3.603304  3.881945  3.956420  3.756247  4.240622\n",
      "\n",
      "\n",
      "W_D_var_df:\n",
      "            0.05      0.15      0.25      0.35      0.45      0.55\n",
      "0.0005  0.007759  0.000005  0.000003  0.000007  0.000001  0.000003\n",
      "0.0010  1.542272  0.000005  0.000005  0.000004  0.000005  0.000007\n",
      "0.0050  0.107154  0.000011  0.000007  0.000002  0.000003  0.000004\n",
      "0.0100  0.019422  2.313832  0.000016  0.000007  0.000001  0.000005\n",
      "0.0500  0.005789  0.888875  1.029083  1.875526  0.204060  0.000467\n",
      "0.1000  0.016755  0.251418  1.098067  2.774976  2.251284  2.480743\n",
      "0.5000  0.017740  0.076511  0.093361  0.152304  0.098301  0.146606\n",
      "\n",
      "\n"
     ]
    }
   ],
   "source": [
    "W_D_avg_df_2 = get_dataframe(jsons_T_1, \"W\", worker_bee_concentrations, \"D\", diffusion_coefficients, \"avg\", worker_bee_concentrations)\n",
    "print(\"W_D_avg_df:\")\n",
    "print(W_D_avg_df_2)\n",
    "print(\"\\n\")\n",
    "\n",
    "W_D_var_df_2 = get_dataframe(jsons_T_1, \"W\", worker_bee_concentrations, \"D\", diffusion_coefficients, \"var\", worker_bee_concentrations)\n",
    "print(\"W_D_var_df:\")\n",
    "print(W_D_var_df_2)\n",
    "print(\"\\n\")"
   ]
  },
  {
   "cell_type": "code",
   "execution_count": 63,
   "metadata": {},
   "outputs": [
    {
     "data": {
      "image/png": "[encoded data removed]",
      "text/plain": [
       "<matplotlib.figure.Figure at 0x1a1f39d080>"
      ]
     },
     "metadata": {},
     "output_type": "display_data"
    }
   ],
   "source": [
    "plot_heatmap(W_D_avg_df_2, W_D_var_df_2, 'Diffusion coefficient', 'Worker concentration', \n",
    "             \"Threshold0.005_Worker_Coefficient\", 0.005)\n"
   ]
  },
  {
   "cell_type": "markdown",
   "metadata": {},
   "source": [
    "### T = 0.5 heatmaps for W vs D"
   ]
  },
  {
   "cell_type": "code",
   "execution_count": 37,
   "metadata": {},
   "outputs": [
    {
     "name": "stdout",
     "output_type": "stream",
     "text": [
      "W_D_avg_df:\n",
      "            0.05      0.15      0.25      0.35      0.45      0.55\n",
      "0.0005  2.507725  1.980065  0.031419  0.026071  0.023696  0.020736\n",
      "0.0010  2.334601  0.829419  0.030185  0.027564  0.023592  0.021433\n",
      "0.0050  2.607348  0.916643  0.028127  0.025114  0.023502  0.020186\n",
      "0.0100  2.509448  0.918899  0.028970  0.023731  0.021753  0.020767\n",
      "0.0500  2.427637  0.200783  0.032739  0.049348  0.032494  0.038159\n",
      "0.1000  2.723078  2.601975  3.246258  3.081940  3.644535  3.455052\n",
      "0.5000  3.135518  3.590851  4.099989  4.223398  4.214959  4.155926\n",
      "\n",
      "\n",
      "W_D_var_df:\n",
      "            0.05      0.15      0.25      0.35      0.45      0.55\n",
      "0.0005  0.027427  1.072497  0.047274  0.000010  0.000009  0.000003\n",
      "0.0010  0.020185  0.295333  0.005120  0.000008  0.000004  0.000003\n",
      "0.0050  0.052259  0.543612  0.000014  0.000009  0.000005  0.000004\n",
      "0.0100  0.019399  0.445961  0.086062  0.000005  0.000004  0.000005\n",
      "0.0500  0.075117  0.568541  0.212512  1.021734  0.000124  1.227107\n",
      "0.1000  0.024433  1.058680  1.440194  1.811173  0.077181  2.133802\n",
      "0.5000  0.003388  0.119623  0.013343  0.070158  0.061830  0.019883\n",
      "\n",
      "\n"
     ]
    }
   ],
   "source": [
    "W_D_avg_df_5 = get_dataframe(jsons_T_2, \"W\", worker_bee_concentrations, \"D\", diffusion_coefficients, \"avg\", worker_bee_concentrations)\n",
    "print(\"W_D_avg_df:\")\n",
    "print(W_D_avg_df_5)\n",
    "print(\"\\n\")\n",
    "\n",
    "W_D_var_df_5 = get_dataframe(jsons_T_2, \"W\", worker_bee_concentrations, \"D\", diffusion_coefficients, \"var\", worker_bee_concentrations)\n",
    "print(\"W_D_var_df:\")\n",
    "print(W_D_var_df_5)\n",
    "print(\"\\n\")"
   ]
  },
  {
   "cell_type": "code",
   "execution_count": null,
   "metadata": {},
   "outputs": [],
   "source": [
    "plot_heatmap(W_D_avg_df_5, W_D_var_df_5, 'Diffusion coefficient', 'Worker concentration', \n",
    "             \"Threshold0.5_Worker_Coefficient\", 0.5)\n"
   ]
  },
  {
   "cell_type": "code",
   "execution_count": null,
   "metadata": {},
   "outputs": [],
   "source": []
  }
 ],
 "metadata": {
  "kernelspec": {
   "display_name": "Python 3",
   "language": "python",
   "name": "python3"
  },
  "language_info": {
   "codemirror_mode": {
    "name": "ipython",
    "version": 3
   },
   "file_extension": ".py",
   "mimetype": "text/x-python",
   "name": "python",
   "nbconvert_exporter": "python",
   "pygments_lexer": "ipython3",
   "version": "3.6.4"
  }
 },
 "nbformat": 4,
 "nbformat_minor": 2
}
