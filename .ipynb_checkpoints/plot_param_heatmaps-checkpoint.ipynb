{
 "cells": [
  {
   "cell_type": "code",
   "execution_count": 25,
   "metadata": {},
   "outputs": [],
   "source": [
    "import numpy as np\n",
    "import glob2\n",
    "import matplotlib.pyplot as plt\n",
    "import os\n",
    "import json\n",
    "import itertools\n",
    "import pandas as pd\n",
    "import seaborn as sns"
   ]
  },
  {
   "cell_type": "code",
   "execution_count": 159,
   "metadata": {},
   "outputs": [],
   "source": [
    "# Four params and their values, each is a np array\n",
    "queen_bee_concentrations = np.linspace(0.01, 0.5, 4)\n",
    "worker_bee_concentrations = np.linspace(0.005, 0.5, 4)\n",
    "diffusion_coefficients = np.linspace(0.05, 0.5, 4)\n",
    "worker_bee_thresholds = np.linspace(0.001, 0.005, 4)"
   ]
  },
  {
   "cell_type": "code",
   "execution_count": 4,
   "metadata": {},
   "outputs": [],
   "source": [
    "# Get names of the 256 json's\n",
    "json_list = list(map(lambda x : x.split(\"/\")[-1], glob2.glob(\"avg_distance_data/*.json\")))"
   ]
  },
  {
   "cell_type": "code",
   "execution_count": 160,
   "metadata": {},
   "outputs": [],
   "source": [
    "def get_matching_filenames(json_list, param_1, param_2, value_1, value_2):\n",
    "    matching_json_names = []\n",
    "    for i in range(len(json_list)):\n",
    "        if (json_list[i].find(param_1+str(value_1)) != -1) and (json_list[i].find(param_2+str(value_2)) != -1):\n",
    "            matching_json_names.append(json_list[i])\n",
    "    \n",
    "    return matching_json_names"
   ]
  },
  {
   "cell_type": "code",
   "execution_count": 8,
   "metadata": {},
   "outputs": [],
   "source": [
    "# # Test above function on 1 set of param pair values\n",
    "# names = get_matching_filenames(json_list, \"Q\", \"W\", 0.01, 0.005)\n",
    "# print(names)"
   ]
  },
  {
   "cell_type": "code",
   "execution_count": 9,
   "metadata": {},
   "outputs": [],
   "source": [
    "def get_ending_distances(json_file):\n",
    "    # Get the 10 ending values of a single json\n",
    "    with open(\"avg_distance_data/\" + json_file, \"r\") as f:\n",
    "        data = json.load(f)\n",
    "        # print(data)\n",
    "        \n",
    "    # For 1 JSON of 10 replicate swarms: going through its 10 lists\n",
    "    dist_list = []\n",
    "    for i in range(len(data)):\n",
    "        ending_dist = data[i][-1]\n",
    "        dist_list.append(ending_dist)\n",
    "    return dist_list"
   ]
  },
  {
   "cell_type": "code",
   "execution_count": 13,
   "metadata": {},
   "outputs": [],
   "source": [
    "def get_mean_var(json_list, param_1, param_2, value_1, value_2):\n",
    "\n",
    "    # Load in a json list and get ending value of each list, then average and variance those 160 values\n",
    "    \n",
    "    param_pair_distances = []\n",
    "    # print(len(param_pair_distances))\n",
    "    # print(param_pair_distances[0])\n",
    "\n",
    "    names = get_matching_filenames(json_list, param_1, param_2, value_1, value_2)\n",
    "\n",
    "    for n in names:\n",
    "        # print(n)\n",
    "        distance_lists = get_ending_distances(n)\n",
    "        param_pair_distances.append(distance_lists)\n",
    "\n",
    "    # Merge lists in param_pair_distances\n",
    "    merged = list(itertools.chain.from_iterable(param_pair_distances))\n",
    "    # print(merged)\n",
    "    merged_mean = np.mean(merged)\n",
    "    # print(merged_mean)\n",
    "    merged_var = np.var(merged)\n",
    "    # print(merged_var)\n",
    "    \n",
    "    return merged_mean, merged_var"
   ]
  },
  {
   "cell_type": "code",
   "execution_count": 161,
   "metadata": {},
   "outputs": [
    {
     "data": {
      "text/plain": [
       "(0.7079110334942815, 1.4247220398511948)"
      ]
     },
     "execution_count": 161,
     "metadata": {},
     "output_type": "execute_result"
    }
   ],
   "source": [
    "# Test above function\n",
    "get_mean_var(json_list, \"Q\", \"W\", 0.5, 0.005)"
   ]
  },
  {
   "cell_type": "code",
   "execution_count": 113,
   "metadata": {},
   "outputs": [],
   "source": [
    "# Iterate through different pairs of params and their values\n",
    "\n",
    "def compare_params(json_list, param_1, param_2, list_1, value_2):\n",
    "    # Create one column for a W values against 4 queen values\n",
    "    Q_means = []\n",
    "    Q_variances = []\n",
    "    for item in list_1:\n",
    "        print(item)\n",
    "        mean_var = get_mean_var(json_list, param_1, param_2, item, value_2)\n",
    "        print(mean_var[0])\n",
    "        Q_means.append(mean_var[0])\n",
    "        Q_variances.append(mean_var[1]) \n",
    "    return Q_means, Q_variances"
   ]
  },
  {
   "cell_type": "code",
   "execution_count": 149,
   "metadata": {
    "scrolled": false
   },
   "outputs": [],
   "source": [
    "# # Test\n",
    "# test_means = compare_params(json_list, \"Q\", \"W\", queen_bee_concentrations, 0.005)[0]\n",
    "# test_variances = compare_params(json_list, \"Q\", \"W\", queen_bee_concentrations, 0.005)[1]\n",
    "# test_means"
   ]
  },
  {
   "cell_type": "code",
   "execution_count": 80,
   "metadata": {},
   "outputs": [],
   "source": [
    "# # Compare 4 Q values against each W value\n",
    "# d_means = {}\n",
    "# for j in worker_bee_concentrations:\n",
    "#     for i in queen_bee_concentrations:\n",
    "#         means = compare_params(json_list, \"Q\", \"W\", queen_bee_concentrations, j)[0]\n",
    "#         #print(means)\n",
    "#         d_means[i] = pd.Series(means, index=worker_bee_concentrations)\n",
    "# d_means"
   ]
  },
  {
   "cell_type": "markdown",
   "metadata": {},
   "source": [
    "## Write new function returning DF here"
   ]
  },
  {
   "cell_type": "code",
   "execution_count": null,
   "metadata": {},
   "outputs": [],
   "source": [
    "def get_dataframe(param_1, list_1, param_2, list_2, mean_or_var):\n",
    "    \n",
    "    return "
   ]
  },
  {
   "cell_type": "code",
   "execution_count": null,
   "metadata": {},
   "outputs": [],
   "source": []
  },
  {
   "cell_type": "code",
   "execution_count": null,
   "metadata": {},
   "outputs": [],
   "source": []
  },
  {
   "cell_type": "code",
   "execution_count": 91,
   "metadata": {},
   "outputs": [
    {
     "data": {
      "text/plain": [
       "[[1.8924136729503638,\n",
       "  0.7196448231949988,\n",
       "  0.7149058883422967,\n",
       "  0.7079110334942815],\n",
       " [3.675502619614292,\n",
       "  3.161416697244441,\n",
       "  2.1519669434526287,\n",
       "  1.6336494743494392],\n",
       " [3.694871417991803,\n",
       "  3.5221055311540965,\n",
       "  3.1262577829699665,\n",
       "  2.5211131327335914],\n",
       " [3.663372718312124, 3.5686854445005145, 3.44988626107407, 2.9554224948941963]]"
      ]
     },
     "execution_count": 91,
     "metadata": {},
     "output_type": "execute_result"
    }
   ],
   "source": [
    "vals_list = []\n",
    "for val in worker_bee_concentrations:\n",
    "    x = compare_params(json_list, \"Q\", \"W\", queen_bee_concentrations, val)[0]\n",
    "    vals_list.append(x)\n",
    "vals_list"
   ]
  },
  {
   "cell_type": "code",
   "execution_count": 119,
   "metadata": {},
   "outputs": [
    {
     "data": {
      "text/plain": [
       "{0.005: [1.8924136729503638,\n",
       "  0.7196448231949988,\n",
       "  0.7149058883422967,\n",
       "  0.7079110334942815],\n",
       " 0.17: [3.675502619614292,\n",
       "  3.161416697244441,\n",
       "  2.1519669434526287,\n",
       "  1.6336494743494392],\n",
       " 0.335: [3.694871417991803,\n",
       "  3.5221055311540965,\n",
       "  3.1262577829699665,\n",
       "  2.5211131327335914],\n",
       " 0.5: [3.663372718312124,\n",
       "  3.5686854445005145,\n",
       "  3.44988626107407,\n",
       "  2.9554224948941963]}"
      ]
     },
     "execution_count": 119,
     "metadata": {},
     "output_type": "execute_result"
    }
   ],
   "source": [
    "data = {}\n",
    "for i, key in enumerate(worker_bee_concentrations):\n",
    "    data[key] = vals_list[i]\n",
    "    \n",
    "data"
   ]
  },
  {
   "cell_type": "code",
   "execution_count": 136,
   "metadata": {},
   "outputs": [
    {
     "data": {
      "text/html": [
       "<div>\n",
       "<style scoped>\n",
       "    .dataframe tbody tr th:only-of-type {\n",
       "        vertical-align: middle;\n",
       "    }\n",
       "\n",
       "    .dataframe tbody tr th {\n",
       "        vertical-align: top;\n",
       "    }\n",
       "\n",
       "    .dataframe thead th {\n",
       "        text-align: right;\n",
       "    }\n",
       "</style>\n",
       "<table border=\"1\" class=\"dataframe\">\n",
       "  <thead>\n",
       "    <tr style=\"text-align: right;\">\n",
       "      <th></th>\n",
       "      <th>0.005</th>\n",
       "      <th>0.17</th>\n",
       "      <th>0.335</th>\n",
       "      <th>0.5</th>\n",
       "    </tr>\n",
       "  </thead>\n",
       "  <tbody>\n",
       "    <tr>\n",
       "      <th>0.010</th>\n",
       "      <td>1.892414</td>\n",
       "      <td>3.675503</td>\n",
       "      <td>3.694871</td>\n",
       "      <td>3.663373</td>\n",
       "    </tr>\n",
       "    <tr>\n",
       "      <th>0.173</th>\n",
       "      <td>0.719645</td>\n",
       "      <td>3.161417</td>\n",
       "      <td>3.522106</td>\n",
       "      <td>3.568685</td>\n",
       "    </tr>\n",
       "    <tr>\n",
       "      <th>0.337</th>\n",
       "      <td>0.714906</td>\n",
       "      <td>2.151967</td>\n",
       "      <td>3.126258</td>\n",
       "      <td>3.449886</td>\n",
       "    </tr>\n",
       "    <tr>\n",
       "      <th>0.500</th>\n",
       "      <td>0.707911</td>\n",
       "      <td>1.633649</td>\n",
       "      <td>2.521113</td>\n",
       "      <td>2.955422</td>\n",
       "    </tr>\n",
       "  </tbody>\n",
       "</table>\n",
       "</div>"
      ],
      "text/plain": [
       "          0.005     0.170     0.335     0.500\n",
       "0.010  1.892414  3.675503  3.694871  3.663373\n",
       "0.173  0.719645  3.161417  3.522106  3.568685\n",
       "0.337  0.714906  2.151967  3.126258  3.449886\n",
       "0.500  0.707911  1.633649  2.521113  2.955422"
      ]
     },
     "execution_count": 136,
     "metadata": {},
     "output_type": "execute_result"
    }
   ],
   "source": [
    "df_means = pd.DataFrame(data, index=[0.01, 0.173, 0.337, 0.5])\n",
    "df_means"
   ]
  },
  {
   "cell_type": "markdown",
   "metadata": {},
   "source": [
    "## Plotting heatmap from dataframe for a pair of params"
   ]
  },
  {
   "cell_type": "code",
   "execution_count": 156,
   "metadata": {},
   "outputs": [
    {
     "data": {
      "image/png": "[encoded data removed]",
      "text/plain": [
       "<matplotlib.figure.Figure at 0x1a1dab87f0>"
      ]
     },
     "metadata": {},
     "output_type": "display_data"
    }
   ],
   "source": [
    "sns.set(font_scale = 1.5)\n",
    "ax = sns.heatmap(df_means, cmap=\"Greens\", cbar_kws={'label': 'Distance from queen'})\n",
    "ax.invert_yaxis()\n",
    "ax.set_ylabel('Queen concentration')\n",
    "ax.set_xlabel('Worker concentration')\n",
    "plt.gcf().subplots_adjust(bottom=0.15)\n",
    "\n",
    "plt.savefig('Queen_Worker.pdf')"
   ]
  },
  {
   "cell_type": "code",
   "execution_count": null,
   "metadata": {},
   "outputs": [],
   "source": []
  }
 ],
 "metadata": {
  "kernelspec": {
   "display_name": "Python 3",
   "language": "python",
   "name": "python3"
  },
  "language_info": {
   "codemirror_mode": {
    "name": "ipython",
    "version": 3
   },
   "file_extension": ".py",
   "mimetype": "text/x-python",
   "name": "python",
   "nbconvert_exporter": "python",
   "pygments_lexer": "ipython3",
   "version": "3.6.4"
  }
 },
 "nbformat": 4,
 "nbformat_minor": 2
}
