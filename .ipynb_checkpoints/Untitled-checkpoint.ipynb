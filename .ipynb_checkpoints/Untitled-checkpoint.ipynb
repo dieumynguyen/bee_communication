{
 "cells": [
  {
   "cell_type": "code",
   "execution_count": 5,
   "metadata": {},
   "outputs": [],
   "source": [
    "# Imports\n",
    "import json\n",
    "import numpy as np\n",
    "import plotly.plotly as py\n",
    "import matplotlib as mpl\n",
    "mpl.use('Agg')\n",
    "from matplotlib import cycler\n",
    "import matplotlib.pyplot as plt\n",
    "import seaborn as sns\n",
    "import plotly.graph_objs as go\n",
    "import os\n",
    "import glob2\n",
    "import re\n",
    "import h5py\n",
    "\n",
    "from IPython.display import display"
   ]
  },
  {
   "cell_type": "code",
   "execution_count": 6,
   "metadata": {},
   "outputs": [],
   "source": [
    "experiment_dir = \"experiments/07M_15D-21H_30M_39S_Q0.15_W0.05_D0.35_T0.001_wb1/experiment0\""
   ]
  },
  {
   "cell_type": "code",
   "execution_count": 7,
   "metadata": {},
   "outputs": [],
   "source": [
    "with open(experiment_dir + \"/data/measurements.json\", \"r\") as f:\n",
    "    measurements = json.load(f)"
   ]
  },
  {
   "cell_type": "code",
   "execution_count": 11,
   "metadata": {},
   "outputs": [
    {
     "data": {
      "text/plain": [
       "[{'bias_x': -0.7071067806865474,\n",
       "  'bias_y': 0.7071067806865474,\n",
       "  'found_queen_direction': True,\n",
       "  'local_map': [[0.004354022221439842,\n",
       "    0.0039679235558104315,\n",
       "    0.0036126204690105257],\n",
       "   [0.00436855984468676, 0.0039811720361335, 0.003624682629615488],\n",
       "   [0.004378973569973187, 0.003990662310589216, 0.003633323108514091]],\n",
       "  'scenting': True,\n",
       "  'x': -0.03,\n",
       "  'y': 0.98},\n",
       " {'bias_x': -0.7071067806865474,\n",
       "  'bias_y': 0.7071067806865474,\n",
       "  'found_queen_direction': True,\n",
       "  'local_map': [[0.011580038898672741,\n",
       "    0.01080101352214857,\n",
       "    0.01006720218783146],\n",
       "   [0.011609025213614727, 0.010828049837171382, 0.010092401679452054],\n",
       "   [0.011629774136020643, 0.010847402914775957, 0.010110439926029384]],\n",
       "  'scenting': True,\n",
       "  'x': -0.03,\n",
       "  'y': 0.98},\n",
       " {'bias_x': -0.7071067806865474,\n",
       "  'bias_y': 0.7071067806865474,\n",
       "  'found_queen_direction': True,\n",
       "  'local_map': [[0.020306190263767666,\n",
       "    0.01920578339070798,\n",
       "    0.018154631372183726],\n",
       "   [0.020346844768742576, 0.019244234668113043, 0.018190978058878645],\n",
       "   [0.020375934184541623, 0.019271747555571643, 0.018216985006518537]],\n",
       "  'scenting': True,\n",
       "  'x': -0.03,\n",
       "  'y': 0.98},\n",
       " {'bias_x': -0.7071067806865474,\n",
       "  'bias_y': 0.7071067806865474,\n",
       "  'found_queen_direction': True,\n",
       "  'local_map': [[0.029038010852189575,\n",
       "    0.027720585148124508,\n",
       "    0.02645033382462756],\n",
       "   [0.02908655027501109, 0.027766916687649253, 0.02649453713854036],\n",
       "   [0.02912131114210557, 0.027800094167688544, 0.026526188592934236]],\n",
       "  'scenting': True,\n",
       "  'x': -0.03,\n",
       "  'y': 0.98},\n",
       " {'bias_x': -0.7071067806865474,\n",
       "  'bias_y': 0.7071067806865474,\n",
       "  'found_queen_direction': True,\n",
       "  'local_map': [[0.037053400178496794,\n",
       "    0.035607189050063257,\n",
       "    0.034203513500099474],\n",
       "   [0.03710721212112047, 0.03565886375250671, 0.03425311728283415],\n",
       "   [0.03714600472233375, 0.03569610272083736, 0.03428885192741464]],\n",
       "  'scenting': True,\n",
       "  'x': -0.03,\n",
       "  'y': 0.98},\n",
       " {'bias_x': -0.7071067806865474,\n",
       "  'bias_y': 0.7071067806865474,\n",
       "  'found_queen_direction': True,\n",
       "  'local_map': [[0.04467537667365427,\n",
       "    0.04309088818134948,\n",
       "    0.041552457812236585],\n",
       "   [0.04473642848046207, 0.04314946929239866, 0.041608672870707034],\n",
       "   [0.04478117797085933, 0.04319237521141394, 0.041649814958057224]],\n",
       "  'scenting': True,\n",
       "  'x': -0.03,\n",
       "  'y': 0.98}]"
      ]
     },
     "execution_count": 11,
     "metadata": {},
     "output_type": "execute_result"
    }
   ],
   "source": [
    "# While worker is scenting; position is constant during these 6 timesteps.\n",
    "measurements['position_history']['worker_1'][3:9]"
   ]
  },
  {
   "cell_type": "code",
   "execution_count": 28,
   "metadata": {},
   "outputs": [
    {
     "data": {
      "text/plain": [
       "array([[0.00435402, 0.00396792, 0.00361262],\n",
       "       [0.00436856, 0.00398117, 0.00362468],\n",
       "       [0.00437897, 0.00399066, 0.00363332]])"
      ]
     },
     "execution_count": 28,
     "metadata": {},
     "output_type": "execute_result"
    }
   ],
   "source": [
    "# Initial local map that activated scenting (when x,y of worker > T)\n",
    "local_map = measurements['position_history']['worker_1'][3]['local_map']\n",
    "local_map = np.array(local_map)\n",
    "local_map"
   ]
  },
  {
   "cell_type": "code",
   "execution_count": 38,
   "metadata": {},
   "outputs": [
    {
     "data": {
      "text/plain": [
       "0.0036126204690105257"
      ]
     },
     "execution_count": 38,
     "metadata": {},
     "output_type": "execute_result"
    }
   ],
   "source": [
    "# scent here\n",
    "local_map[-1+1, 1+1]"
   ]
  },
  {
   "cell_type": "code",
   "execution_count": 25,
   "metadata": {},
   "outputs": [],
   "source": [
    "current_c = first_map[1][1]"
   ]
  },
  {
   "cell_type": "code",
   "execution_count": 27,
   "metadata": {},
   "outputs": [
    {
     "data": {
      "text/plain": [
       "0.004378973569973187"
      ]
     },
     "execution_count": 27,
     "metadata": {},
     "output_type": "execute_result"
    }
   ],
   "source": [
    "max_concentration = np.max(local_map[np.where(local_map > current_c)])\n",
    "max_concentration"
   ]
  },
  {
   "cell_type": "code",
   "execution_count": 30,
   "metadata": {},
   "outputs": [
    {
     "data": {
      "text/plain": [
       "[array([2]), array([0])]"
      ]
     },
     "execution_count": 30,
     "metadata": {},
     "output_type": "execute_result"
    }
   ],
   "source": [
    "max_concentration_indices = list(np.where(local_map == max_concentration))\n",
    "max_concentration_indices"
   ]
  },
  {
   "cell_type": "code",
   "execution_count": 31,
   "metadata": {},
   "outputs": [
    {
     "data": {
      "text/plain": [
       "[1, -1]"
      ]
     },
     "execution_count": 31,
     "metadata": {},
     "output_type": "execute_result"
    }
   ],
   "source": [
    "adjusted_indices = [int(i)-1 for i in max_concentration_indices]\n",
    "adjusted_indices"
   ]
  },
  {
   "cell_type": "code",
   "execution_count": 32,
   "metadata": {},
   "outputs": [
    {
     "data": {
      "text/plain": [
       "{'x': 1, 'y': -1}"
      ]
     },
     "execution_count": 32,
     "metadata": {},
     "output_type": "execute_result"
    }
   ],
   "source": [
    "directions_to_queen = { \"x\" : adjusted_indices[0], \"y\": adjusted_indices[1] }\n",
    "directions_to_queen"
   ]
  },
  {
   "cell_type": "code",
   "execution_count": 33,
   "metadata": {},
   "outputs": [],
   "source": [
    "if (directions_to_queen[\"x\"] > 0):\n",
    "    bias_direction_x = -1\n",
    "elif (directions_to_queen[\"x\"] == 0):\n",
    "    bias_direction_x = 0\n",
    "else:\n",
    "    bias_direction_x = 1\n",
    "\n",
    "if (directions_to_queen[\"y\"] > 0):\n",
    "    bias_direction_y = -1\n",
    "elif (directions_to_queen[\"y\"] == 0):\n",
    "    bias_direction_y = 0\n",
    "else:\n",
    "    bias_direction_y = 1"
   ]
  },
  {
   "cell_type": "code",
   "execution_count": 34,
   "metadata": {},
   "outputs": [
    {
     "data": {
      "text/plain": [
       "1.4142135633730952"
      ]
     },
     "execution_count": 34,
     "metadata": {},
     "output_type": "execute_result"
    }
   ],
   "source": [
    "magn = np.sqrt(bias_direction_x**2 + bias_direction_y**2) + 1e-9\n",
    "magn"
   ]
  },
  {
   "cell_type": "code",
   "execution_count": 35,
   "metadata": {},
   "outputs": [],
   "source": [
    "w_b = 1\n",
    "\n",
    "# Update bias - unit vectors\n",
    "bias_x = w_b * (bias_direction_x / float(magn))\n",
    "bias_y = w_b * (bias_direction_y / float(magn))"
   ]
  },
  {
   "cell_type": "code",
   "execution_count": 36,
   "metadata": {},
   "outputs": [
    {
     "data": {
      "text/plain": [
       "(-0.7071067806865474, 0.7071067806865474)"
      ]
     },
     "execution_count": 36,
     "metadata": {},
     "output_type": "execute_result"
    }
   ],
   "source": [
    "bias_x, bias_y"
   ]
  },
  {
   "cell_type": "code",
   "execution_count": null,
   "metadata": {},
   "outputs": [],
   "source": []
  }
 ],
 "metadata": {
  "kernelspec": {
   "display_name": "Python 3",
   "language": "python",
   "name": "python3"
  },
  "language_info": {
   "codemirror_mode": {
    "name": "ipython",
    "version": 3
   },
   "file_extension": ".py",
   "mimetype": "text/x-python",
   "name": "python",
   "nbconvert_exporter": "python",
   "pygments_lexer": "ipython3",
   "version": "3.6.4"
  }
 },
 "nbformat": 4,
 "nbformat_minor": 2
}
