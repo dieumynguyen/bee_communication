{
 "cells": [
  {
   "cell_type": "markdown",
   "metadata": {},
   "source": [
    "### Goal: Get data from avg_distance_data/ and 1) find swarms that have average (over all bees) distance from queen  <0.1 and 2) the time step when those swarms reaches this plateau."
   ]
  },
  {
   "cell_type": "code",
   "execution_count": 104,
   "metadata": {},
   "outputs": [],
   "source": [
    "# Imports\n",
    "import json\n",
    "import numpy as np\n",
    "import plotly.plotly as py\n",
    "import matplotlib as mpl\n",
    "from matplotlib import cycler\n",
    "import matplotlib.pyplot as plt\n",
    "import seaborn as sns\n",
    "import plotly.graph_objs as go\n",
    "import os\n",
    "import glob2\n",
    "import re\n",
    "import pandas as pd"
   ]
  },
  {
   "cell_type": "code",
   "execution_count": 43,
   "metadata": {},
   "outputs": [],
   "source": [
    "# Try on this data of 2 Replicates\n",
    "with open(\"avg_distance_data/Q0.15_W0.001_D0.25_T0.5_wb1.json\", \"r\") as f:\n",
    "    data = json.load(f)"
   ]
  },
  {
   "cell_type": "code",
   "execution_count": 44,
   "metadata": {},
   "outputs": [
    {
     "data": {
      "text/plain": [
       "(10, 320)"
      ]
     },
     "execution_count": 44,
     "metadata": {},
     "output_type": "execute_result"
    }
   ],
   "source": [
    "len(data), len(data[0])"
   ]
  },
  {
   "cell_type": "markdown",
   "metadata": {},
   "source": [
    "Iterate over each of the 10 replicates. Find time step (index) of the first instance of the min value of data[replicate_i]"
   ]
  },
  {
   "cell_type": "code",
   "execution_count": 87,
   "metadata": {},
   "outputs": [
    {
     "data": {
      "text/plain": [
       "[(0.032723962546017685, 317),\n",
       " (0.033627590142541706, 304),\n",
       " (0.025042419111643052, 307),\n",
       " (0.025324015889787818, 292),\n",
       " (0.029386484918350646, 314),\n",
       " (0.027403602631760723, 311),\n",
       " (0.03351487489281753, 319),\n",
       " (0.02784497804594932, 315),\n",
       " (0.029805492338255225, 318),\n",
       " (0.2679270991963626, 319)]"
      ]
     },
     "execution_count": 87,
     "metadata": {},
     "output_type": "execute_result"
    }
   ],
   "source": [
    "def get_all_reps_mins(json_file):\n",
    "    \n",
    "    with open(\"avg_distance_data/{}\".format(json_file), \"r\") as f:\n",
    "        data = json.load(f)\n",
    "    \n",
    "    all_reps_mins = []\n",
    "    for rep_i in range(len(data)):\n",
    "        # print(\"Replicate {}:\".format(rep_i))\n",
    "        min_val = np.min(data[rep_i])\n",
    "        min_i = np.argmin(data[rep_i])\n",
    "        # print(min_val, min_i)\n",
    "        min_tuple = (min_val, min_i)\n",
    "        all_reps_mins.append(min_tuple)\n",
    "\n",
    "    return all_reps_mins\n",
    "\n",
    "get_all_reps_mins(\"Q0.15_W0.001_D0.25_T0.5_wb1.json\")"
   ]
  },
  {
   "cell_type": "markdown",
   "metadata": {},
   "source": [
    "Check if min_val > 0.03. If so, add to list; if not, replace it with NaN."
   ]
  },
  {
   "cell_type": "code",
   "execution_count": 189,
   "metadata": {},
   "outputs": [
    {
     "data": {
      "text/plain": [
       "{'min_indices': [nan, 289, nan, 317, nan, nan, nan, nan, nan, nan],\n",
       " 'min_vals': [2.5318201438605468,\n",
       "  0.03967018430272644,\n",
       "  2.4165678421699557,\n",
       "  0.04537689054013308,\n",
       "  2.2223225546287413,\n",
       "  2.2759121849525092,\n",
       "  2.358731806405144,\n",
       "  2.329446301031034,\n",
       "  2.2681525438537236,\n",
       "  2.0980881431357075]}"
      ]
     },
     "execution_count": 189,
     "metadata": {},
     "output_type": "execute_result"
    }
   ],
   "source": [
    "def check_min(json_file, max_dist):\n",
    "    \n",
    "    all_reps_mins = get_all_reps_mins(json_file)\n",
    "    \n",
    "    min_vals = []; min_indices = []\n",
    "    time_data = {}\n",
    "\n",
    "    for i, tup in enumerate(all_reps_mins):\n",
    "        if tup[0] <= max_dist:\n",
    "            min_vals.append(tup[0])\n",
    "            min_indices.append(tup[1])\n",
    "        else: \n",
    "            min_vals.append(tup[0])\n",
    "            min_indices.append(np.nan)\n",
    "\n",
    "        time_data[\"min_vals\"] = min_vals\n",
    "        time_data[\"min_indices\"] = min_indices\n",
    "        \n",
    "    return time_data\n",
    "\n",
    "time_data = check_min(\"Q0.15_W0.1_D0.55_T0.5_wb1.json\", max_dist=0.1)\n",
    "time_data"
   ]
  },
  {
   "cell_type": "markdown",
   "metadata": {},
   "source": [
    "If at least 6/10 of replicates != NaN, get average. Else, NaN for this set of params."
   ]
  },
  {
   "cell_type": "code",
   "execution_count": 238,
   "metadata": {},
   "outputs": [
    {
     "data": {
      "text/plain": [
       "313"
      ]
     },
     "execution_count": 238,
     "metadata": {},
     "output_type": "execute_result"
    }
   ],
   "source": [
    "def get_set_avg(json_file, max_dist, success_proportion):\n",
    "    \n",
    "    time_data = check_min(json_file, max_dist)\n",
    "    \n",
    "    param_set_avg = 0\n",
    "\n",
    "    count_successes = 0\n",
    "    # sum(value != np.nan for value in time_data[\"min_indices\"]) \n",
    "    for val in time_data[\"min_indices\"]:\n",
    "        if type(val) != type(np.nan):\n",
    "            count_successes += 1\n",
    "    # print(\"Not NaNs: {}\".format(count_successes))\n",
    "    \n",
    "    if count_successes > success_proportion:\n",
    "        param_set_avg = int(round(np.nanmean(time_data[\"min_indices\"])))\n",
    "    else: param_set_avg = np.nan\n",
    "\n",
    "    return param_set_avg\n",
    "    \n",
    "get_set_avg(\"Q0.15_W0.005_D0.25_T0.5_wb1.json\", max_dist=0.1, success_proportion=5)"
   ]
  },
  {
   "cell_type": "markdown",
   "metadata": {},
   "source": [
    "Write this avg value of all 84 sets of params to a json."
   ]
  },
  {
   "cell_type": "code",
   "execution_count": 239,
   "metadata": {},
   "outputs": [],
   "source": [
    "# Get all file names:\n",
    "all_jsons = list(map(lambda x : x.split(\"/\")[-1], glob2.glob(\"avg_distance_data/*T0.5*.json\")))\n",
    "\n",
    "# Store avgs for all 84 jsons\n",
    "store_avgs = {}\n",
    "for j_file in all_jsons:\n",
    "    store_avgs[j_file[:-5]] = get_set_avg(j_file, max_dist=0.1, success_proportion=5) "
   ]
  },
  {
   "cell_type": "code",
   "execution_count": 240,
   "metadata": {
    "scrolled": true
   },
   "outputs": [
    {
     "data": {
      "text/plain": [
       "(42,\n",
       " {'Q0.15_W0.0005_D0.05_T0.5_wb1': nan,\n",
       "  'Q0.15_W0.0005_D0.15_T0.5_wb1': nan,\n",
       "  'Q0.15_W0.0005_D0.25_T0.5_wb1': 309,\n",
       "  'Q0.15_W0.0005_D0.35_T0.5_wb1': 312,\n",
       "  'Q0.15_W0.0005_D0.45_T0.5_wb1': 312,\n",
       "  'Q0.15_W0.0005_D0.55_T0.5_wb1': 300,\n",
       "  'Q0.15_W0.001_D0.05_T0.5_wb1': nan,\n",
       "  'Q0.15_W0.001_D0.15_T0.5_wb1': nan,\n",
       "  'Q0.15_W0.001_D0.25_T0.5_wb1': 311,\n",
       "  'Q0.15_W0.001_D0.35_T0.5_wb1': 313,\n",
       "  'Q0.15_W0.001_D0.45_T0.5_wb1': 310,\n",
       "  'Q0.15_W0.001_D0.55_T0.5_wb1': 303,\n",
       "  'Q0.15_W0.005_D0.05_T0.5_wb1': nan,\n",
       "  'Q0.15_W0.005_D0.15_T0.5_wb1': nan,\n",
       "  'Q0.15_W0.005_D0.25_T0.5_wb1': 313,\n",
       "  'Q0.15_W0.005_D0.35_T0.5_wb1': 312,\n",
       "  'Q0.15_W0.005_D0.45_T0.5_wb1': 302,\n",
       "  'Q0.15_W0.005_D0.55_T0.5_wb1': 306,\n",
       "  'Q0.15_W0.01_D0.05_T0.5_wb1': nan,\n",
       "  'Q0.15_W0.01_D0.15_T0.5_wb1': nan,\n",
       "  'Q0.15_W0.01_D0.25_T0.5_wb1': 313,\n",
       "  'Q0.15_W0.01_D0.35_T0.5_wb1': 309,\n",
       "  'Q0.15_W0.01_D0.45_T0.5_wb1': 297,\n",
       "  'Q0.15_W0.01_D0.55_T0.5_wb1': 281,\n",
       "  'Q0.15_W0.05_D0.05_T0.5_wb1': nan,\n",
       "  'Q0.15_W0.05_D0.15_T0.5_wb1': nan,\n",
       "  'Q0.15_W0.05_D0.25_T0.5_wb1': 309,\n",
       "  'Q0.15_W0.05_D0.35_T0.5_wb1': 302,\n",
       "  'Q0.15_W0.05_D0.45_T0.5_wb1': 281,\n",
       "  'Q0.15_W0.05_D0.55_T0.5_wb1': 269,\n",
       "  'Q0.15_W0.1_D0.05_T0.5_wb1': nan,\n",
       "  'Q0.15_W0.1_D0.15_T0.5_wb1': nan,\n",
       "  'Q0.15_W0.1_D0.25_T0.5_wb1': nan,\n",
       "  'Q0.15_W0.1_D0.35_T0.5_wb1': nan,\n",
       "  'Q0.15_W0.1_D0.45_T0.5_wb1': nan,\n",
       "  'Q0.15_W0.1_D0.55_T0.5_wb1': nan,\n",
       "  'Q0.15_W0.5_D0.05_T0.5_wb1': nan,\n",
       "  'Q0.15_W0.5_D0.15_T0.5_wb1': nan,\n",
       "  'Q0.15_W0.5_D0.25_T0.5_wb1': nan,\n",
       "  'Q0.15_W0.5_D0.35_T0.5_wb1': nan,\n",
       "  'Q0.15_W0.5_D0.45_T0.5_wb1': nan,\n",
       "  'Q0.15_W0.5_D0.55_T0.5_wb1': nan})"
      ]
     },
     "execution_count": 240,
     "metadata": {},
     "output_type": "execute_result"
    }
   ],
   "source": [
    "len(store_avgs), store_avgs"
   ]
  },
  {
   "cell_type": "code",
   "execution_count": 241,
   "metadata": {},
   "outputs": [
    {
     "name": "stdout",
     "output_type": "stream",
     "text": [
      "Q = [0.15]\n",
      "W = [0.0005, 0.001, 0.005, 0.01, 0.05, 0.1, 0.5]\n",
      "D = [0.05, 0.15, 0.25, 0.35, 0.45, 0.55]\n",
      "T = [0.005, 0.5]\n"
     ]
    }
   ],
   "source": [
    "# Four params and their values, each is a np array\n",
    "queen_bee_concentrations = [0.15]\n",
    "print(\"Q = {}\".format(queen_bee_concentrations))\n",
    "\n",
    "worker_bee_concentrations = [0.0005, 0.001, 0.005, 0.01, 0.05, 0.1, 0.5]\n",
    "print(\"W = {}\".format(worker_bee_concentrations))\n",
    "\n",
    "diffusion_coefficients = [0.05, 0.15, 0.25, 0.35, 0.45, 0.55]\n",
    "print(\"D = {}\".format(diffusion_coefficients))\n",
    "\n",
    "worker_bee_thresholds = [0.005, 0.5]\n",
    "print(\"T = {}\".format(worker_bee_thresholds))\n"
   ]
  },
  {
   "cell_type": "code",
   "execution_count": 242,
   "metadata": {},
   "outputs": [
    {
     "name": "stdout",
     "output_type": "stream",
     "text": [
      "Q0.15_W0.0005_D0.25_T0.5_wb1\n",
      "309\n",
      "Q0.15_W0.001_D0.25_T0.5_wb1\n",
      "311\n",
      "Q0.15_W0.005_D0.25_T0.5_wb1\n",
      "313\n",
      "Q0.15_W0.01_D0.25_T0.5_wb1\n",
      "313\n",
      "Q0.15_W0.05_D0.25_T0.5_wb1\n",
      "309\n",
      "Q0.15_W0.1_D0.25_T0.5_wb1\n",
      "nan\n",
      "Q0.15_W0.5_D0.25_T0.5_wb1\n",
      "nan\n"
     ]
    },
    {
     "data": {
      "text/plain": [
       "[309, 311, 313, 313, 309, nan, nan]"
      ]
     },
     "execution_count": 242,
     "metadata": {},
     "output_type": "execute_result"
    }
   ],
   "source": [
    "def all_W_1_D(D_val):\n",
    "    # For 1 D vs. all W values\n",
    "    avgs_list = []\n",
    "    for param_set in store_avgs:\n",
    "        if \"D{}\".format(D_val) in param_set:\n",
    "            avgs = store_avgs[param_set]\n",
    "            print(param_set)\n",
    "            print(avgs)\n",
    "            avgs_list.append(avgs)\n",
    "\n",
    "    return avgs_list\n",
    "\n",
    "all_W_1_D(D_val=0.25)"
   ]
  },
  {
   "cell_type": "code",
   "execution_count": 248,
   "metadata": {},
   "outputs": [
    {
     "name": "stdout",
     "output_type": "stream",
     "text": [
      "Q0.15_W0.0005_D0.05_T0.5_wb1\n",
      "nan\n",
      "Q0.15_W0.001_D0.05_T0.5_wb1\n",
      "nan\n",
      "Q0.15_W0.005_D0.05_T0.5_wb1\n",
      "nan\n",
      "Q0.15_W0.01_D0.05_T0.5_wb1\n",
      "nan\n",
      "Q0.15_W0.05_D0.05_T0.5_wb1\n",
      "nan\n",
      "Q0.15_W0.1_D0.05_T0.5_wb1\n",
      "nan\n",
      "Q0.15_W0.5_D0.05_T0.5_wb1\n",
      "nan\n",
      "Q0.15_W0.0005_D0.15_T0.5_wb1\n",
      "nan\n",
      "Q0.15_W0.001_D0.15_T0.5_wb1\n",
      "nan\n",
      "Q0.15_W0.005_D0.15_T0.5_wb1\n",
      "nan\n",
      "Q0.15_W0.01_D0.15_T0.5_wb1\n",
      "nan\n",
      "Q0.15_W0.05_D0.15_T0.5_wb1\n",
      "nan\n",
      "Q0.15_W0.1_D0.15_T0.5_wb1\n",
      "nan\n",
      "Q0.15_W0.5_D0.15_T0.5_wb1\n",
      "nan\n",
      "Q0.15_W0.0005_D0.25_T0.5_wb1\n",
      "309\n",
      "Q0.15_W0.001_D0.25_T0.5_wb1\n",
      "311\n",
      "Q0.15_W0.005_D0.25_T0.5_wb1\n",
      "313\n",
      "Q0.15_W0.01_D0.25_T0.5_wb1\n",
      "313\n",
      "Q0.15_W0.05_D0.25_T0.5_wb1\n",
      "309\n",
      "Q0.15_W0.1_D0.25_T0.5_wb1\n",
      "nan\n",
      "Q0.15_W0.5_D0.25_T0.5_wb1\n",
      "nan\n",
      "Q0.15_W0.0005_D0.35_T0.5_wb1\n",
      "312\n",
      "Q0.15_W0.001_D0.35_T0.5_wb1\n",
      "313\n",
      "Q0.15_W0.005_D0.35_T0.5_wb1\n",
      "312\n",
      "Q0.15_W0.01_D0.35_T0.5_wb1\n",
      "309\n",
      "Q0.15_W0.05_D0.35_T0.5_wb1\n",
      "302\n",
      "Q0.15_W0.1_D0.35_T0.5_wb1\n",
      "nan\n",
      "Q0.15_W0.5_D0.35_T0.5_wb1\n",
      "nan\n",
      "Q0.15_W0.0005_D0.45_T0.5_wb1\n",
      "312\n",
      "Q0.15_W0.001_D0.45_T0.5_wb1\n",
      "310\n",
      "Q0.15_W0.005_D0.45_T0.5_wb1\n",
      "302\n",
      "Q0.15_W0.01_D0.45_T0.5_wb1\n",
      "297\n",
      "Q0.15_W0.05_D0.45_T0.5_wb1\n",
      "281\n",
      "Q0.15_W0.1_D0.45_T0.5_wb1\n",
      "nan\n",
      "Q0.15_W0.5_D0.45_T0.5_wb1\n",
      "nan\n",
      "Q0.15_W0.0005_D0.55_T0.5_wb1\n",
      "300\n",
      "Q0.15_W0.001_D0.55_T0.5_wb1\n",
      "303\n",
      "Q0.15_W0.005_D0.55_T0.5_wb1\n",
      "306\n",
      "Q0.15_W0.01_D0.55_T0.5_wb1\n",
      "281\n",
      "Q0.15_W0.05_D0.55_T0.5_wb1\n",
      "269\n",
      "Q0.15_W0.1_D0.55_T0.5_wb1\n",
      "nan\n",
      "Q0.15_W0.5_D0.55_T0.5_wb1\n",
      "nan\n"
     ]
    },
    {
     "data": {
      "text/plain": [
       "{0.05: [nan, nan, nan, nan, nan, nan, nan],\n",
       " 0.15: [nan, nan, nan, nan, nan, nan, nan],\n",
       " 0.25: [309, 311, 313, 313, 309, nan, nan],\n",
       " 0.35: [312, 313, 312, 309, 302, nan, nan],\n",
       " 0.45: [312, 310, 302, 297, 281, nan, nan],\n",
       " 0.55: [300, 303, 306, 281, 269, nan, nan]}"
      ]
     },
     "execution_count": 248,
     "metadata": {},
     "output_type": "execute_result"
    }
   ],
   "source": [
    "data = {}\n",
    "for i, d in enumerate(diffusion_coefficients):\n",
    "    all_W = all_W_1_D(d)\n",
    "    data[d] = all_W\n",
    "\n",
    "data"
   ]
  },
  {
   "cell_type": "code",
   "execution_count": 278,
   "metadata": {},
   "outputs": [
    {
     "data": {
      "text/html": [
       "<div>\n",
       "<style scoped>\n",
       "    .dataframe tbody tr th:only-of-type {\n",
       "        vertical-align: middle;\n",
       "    }\n",
       "\n",
       "    .dataframe tbody tr th {\n",
       "        vertical-align: top;\n",
       "    }\n",
       "\n",
       "    .dataframe thead th {\n",
       "        text-align: right;\n",
       "    }\n",
       "</style>\n",
       "<table border=\"1\" class=\"dataframe\">\n",
       "  <thead>\n",
       "    <tr style=\"text-align: right;\">\n",
       "      <th></th>\n",
       "      <th>0.05</th>\n",
       "      <th>0.15</th>\n",
       "      <th>0.25</th>\n",
       "      <th>0.35</th>\n",
       "      <th>0.45</th>\n",
       "      <th>0.55</th>\n",
       "    </tr>\n",
       "  </thead>\n",
       "  <tbody>\n",
       "    <tr>\n",
       "      <th>0</th>\n",
       "      <td>nan</td>\n",
       "      <td>nan</td>\n",
       "      <td>309</td>\n",
       "      <td>312</td>\n",
       "      <td>312</td>\n",
       "      <td>300</td>\n",
       "    </tr>\n",
       "    <tr>\n",
       "      <th>0</th>\n",
       "      <td>nan</td>\n",
       "      <td>nan</td>\n",
       "      <td>311</td>\n",
       "      <td>313</td>\n",
       "      <td>310</td>\n",
       "      <td>303</td>\n",
       "    </tr>\n",
       "    <tr>\n",
       "      <th>0</th>\n",
       "      <td>nan</td>\n",
       "      <td>nan</td>\n",
       "      <td>313</td>\n",
       "      <td>312</td>\n",
       "      <td>302</td>\n",
       "      <td>306</td>\n",
       "    </tr>\n",
       "    <tr>\n",
       "      <th>0</th>\n",
       "      <td>nan</td>\n",
       "      <td>nan</td>\n",
       "      <td>313</td>\n",
       "      <td>309</td>\n",
       "      <td>297</td>\n",
       "      <td>281</td>\n",
       "    </tr>\n",
       "    <tr>\n",
       "      <th>0</th>\n",
       "      <td>nan</td>\n",
       "      <td>nan</td>\n",
       "      <td>309</td>\n",
       "      <td>302</td>\n",
       "      <td>281</td>\n",
       "      <td>269</td>\n",
       "    </tr>\n",
       "    <tr>\n",
       "      <th>0</th>\n",
       "      <td>nan</td>\n",
       "      <td>nan</td>\n",
       "      <td>nan</td>\n",
       "      <td>nan</td>\n",
       "      <td>nan</td>\n",
       "      <td>nan</td>\n",
       "    </tr>\n",
       "    <tr>\n",
       "      <th>0</th>\n",
       "      <td>nan</td>\n",
       "      <td>nan</td>\n",
       "      <td>nan</td>\n",
       "      <td>nan</td>\n",
       "      <td>nan</td>\n",
       "      <td>nan</td>\n",
       "    </tr>\n",
       "  </tbody>\n",
       "</table>\n",
       "</div>"
      ],
      "text/plain": [
       "    0   0   0   0   0   1\n",
       "0 nan nan 309 312 312 300\n",
       "0 nan nan 311 313 310 303\n",
       "0 nan nan 313 312 302 306\n",
       "0 nan nan 313 309 297 281\n",
       "0 nan nan 309 302 281 269\n",
       "0 nan nan nan nan nan nan\n",
       "0 nan nan nan nan nan nan"
      ]
     },
     "execution_count": 278,
     "metadata": {},
     "output_type": "execute_result"
    }
   ],
   "source": [
    "df = pd.DataFrame(data, index=worker_bee_concentrations)\n",
    "df"
   ]
  },
  {
   "cell_type": "code",
   "execution_count": 281,
   "metadata": {},
   "outputs": [],
   "source": [
    "df2 = df.fillna(0)"
   ]
  },
  {
   "cell_type": "code",
   "execution_count": 289,
   "metadata": {},
   "outputs": [],
   "source": [
    "df2 = df2.astype(np.uint8)"
   ]
  },
  {
   "cell_type": "code",
   "execution_count": 296,
   "metadata": {},
   "outputs": [
    {
     "data": {
      "text/plain": [
       "Text(0.5,1,'Time and task efficiency of swarms')"
      ]
     },
     "execution_count": 296,
     "metadata": {},
     "output_type": "execute_result"
    },
    {
     "data": {
      "image/png": "[encoded data removed]",
      "text/plain": [
       "<matplotlib.figure.Figure at 0x1a1e076b00>"
      ]
     },
     "metadata": {},
     "output_type": "display_data"
    }
   ],
   "source": [
    "cmap = sns.cubehelix_palette(as_cmap=True, light=.9)\n",
    "sns.set(font_scale = 1.5)\n",
    "\n",
    "mask = df.isnull()\n",
    "ax = sns.heatmap(df2, mask=mask, linewidths=.1,\n",
    "                 cmap=cmap, annot=True, fmt=\"d\", annot_kws={\"size\": 13},\n",
    "                 cbar_kws={'label': 'Time to plateau (step)'})\n",
    "ax.invert_yaxis()\n",
    "ax.set_xlabel(\"Diffusion coefficient\")\n",
    "ax.set_ylabel(\"Worker concentration\")\n",
    "ax.set_title('Time and task efficiency of swarms')\n"
   ]
  },
  {
   "cell_type": "code",
   "execution_count": null,
   "metadata": {},
   "outputs": [],
   "source": []
  }
 ],
 "metadata": {
  "kernelspec": {
   "display_name": "Python 3",
   "language": "python",
   "name": "python3"
  },
  "language_info": {
   "codemirror_mode": {
    "name": "ipython",
    "version": 3
   },
   "file_extension": ".py",
   "mimetype": "text/x-python",
   "name": "python",
   "nbconvert_exporter": "python",
   "pygments_lexer": "ipython3",
   "version": "3.6.4"
  }
 },
 "nbformat": 4,
 "nbformat_minor": 2
}
