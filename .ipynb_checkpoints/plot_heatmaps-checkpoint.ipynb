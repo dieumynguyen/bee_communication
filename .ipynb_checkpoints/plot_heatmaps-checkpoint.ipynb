{
 "cells": [
  {
   "cell_type": "markdown",
   "metadata": {},
   "source": [
    "### Visual II. 2D phase diagram showing the end distances of swarms"
   ]
  },
  {
   "cell_type": "code",
   "execution_count": 158,
   "metadata": {},
   "outputs": [],
   "source": [
    "import numpy as np\n",
    "import glob2\n",
    "import matplotlib.pyplot as plt\n",
    "import os\n",
    "import json\n",
    "import itertools\n"
   ]
  },
  {
   "cell_type": "code",
   "execution_count": 103,
   "metadata": {},
   "outputs": [],
   "source": [
    "# Four params and their values, each is a np array\n",
    "queen_bee_concentrations = np.linspace(0.01, 0.5, 4)\n",
    "worker_bee_concentrations = np.linspace(0.005, 0.5, 4)\n",
    "diffusion_coefficients = np.linspace(0.05, 0.5, 4)\n",
    "worker_bee_thresholds = np.linspace(0.001, 0.005, 4)"
   ]
  },
  {
   "cell_type": "code",
   "execution_count": 104,
   "metadata": {},
   "outputs": [
    {
     "data": {
      "text/plain": [
       "array([0.01      , 0.17333333, 0.33666667, 0.5       ])"
      ]
     },
     "execution_count": 104,
     "metadata": {},
     "output_type": "execute_result"
    }
   ],
   "source": [
    "queen_bee_concentrations"
   ]
  },
  {
   "cell_type": "code",
   "execution_count": 111,
   "metadata": {},
   "outputs": [
    {
     "data": {
      "text/plain": [
       "array([0.005, 0.17 , 0.335, 0.5  ])"
      ]
     },
     "execution_count": 111,
     "metadata": {},
     "output_type": "execute_result"
    }
   ],
   "source": [
    "worker_bee_concentrations"
   ]
  },
  {
   "cell_type": "markdown",
   "metadata": {},
   "source": [
    "#### Get avg of the 10 replicate swarms' end avg distance from queen"
   ]
  },
  {
   "cell_type": "code",
   "execution_count": 106,
   "metadata": {},
   "outputs": [
    {
     "data": {
      "text/plain": [
       "str"
      ]
     },
     "execution_count": 106,
     "metadata": {},
     "output_type": "execute_result"
    }
   ],
   "source": [
    "# Get names of the 256 json's\n",
    "# json_list = list(map(lambda x : x.split(\"/\")[-1], glob2.glob(\"avg_distance_data/Q0.01_W0.005_D0.05_T0.001.json\")))\n",
    "json_list = list(map(lambda x : x.split(\"/\")[-1], glob2.glob(\"avg_distance_data/*.json\")))\n",
    "type(json_list[0])"
   ]
  },
  {
   "cell_type": "code",
   "execution_count": 90,
   "metadata": {},
   "outputs": [],
   "source": [
    "def split_filename(json_list):\n",
    "    for k in json_list:\n",
    "        start_char = \"j\"\n",
    "        k_new = k[:k.index(start_char)-1]\n",
    "        print(k_new.split(\"_\"))"
   ]
  },
  {
   "cell_type": "code",
   "execution_count": 91,
   "metadata": {},
   "outputs": [
    {
     "name": "stdout",
     "output_type": "stream",
     "text": [
      "['Q0.01', 'W0.005', 'D0.05', 'T0.001']\n"
     ]
    }
   ],
   "source": [
    "split_filename(json_list)"
   ]
  },
  {
   "cell_type": "markdown",
   "metadata": {},
   "source": [
    "Each tile is the average over 160 swarms of those parameters. "
   ]
  },
  {
   "cell_type": "code",
   "execution_count": 127,
   "metadata": {},
   "outputs": [],
   "source": [
    "# # For a pair of params\n",
    "# for i in range(len(json_list)):\n",
    "#     for q in queen_bee_concentrations:\n",
    "#         #print(q)\n",
    "#         for w in worker_bee_concentrations:\n",
    "#             print(w)\n",
    "# #             if (json_list[i].find(str(q)) != -1) and (json_list[i].find(str(w)) != -1):\n",
    "# #                 print(json_list[i])\n",
    "# #                 print(q, w)"
   ]
  },
  {
   "cell_type": "markdown",
   "metadata": {},
   "source": [
    "# Get matching json filenames"
   ]
  },
  {
   "cell_type": "code",
   "execution_count": 134,
   "metadata": {},
   "outputs": [
    {
     "name": "stdout",
     "output_type": "stream",
     "text": [
      "['Q0.01_W0.005_D0.05_T0.001.json', 'Q0.01_W0.005_D0.05_T0.002333333333333333.json', 'Q0.01_W0.005_D0.05_T0.0036666666666666666.json', 'Q0.01_W0.005_D0.05_T0.005.json', 'Q0.01_W0.005_D0.2_T0.001.json', 'Q0.01_W0.005_D0.2_T0.002333333333333333.json', 'Q0.01_W0.005_D0.2_T0.0036666666666666666.json', 'Q0.01_W0.005_D0.2_T0.005.json', 'Q0.01_W0.005_D0.35_T0.001.json', 'Q0.01_W0.005_D0.35_T0.002333333333333333.json', 'Q0.01_W0.005_D0.35_T0.0036666666666666666.json', 'Q0.01_W0.005_D0.35_T0.005.json', 'Q0.01_W0.005_D0.5_T0.001.json', 'Q0.01_W0.005_D0.5_T0.002333333333333333.json', 'Q0.01_W0.005_D0.5_T0.0036666666666666666.json', 'Q0.01_W0.005_D0.5_T0.005.json']\n"
     ]
    }
   ],
   "source": [
    "def get_matching_filenames(json_list, param_1, param_2, value_1, value_2):\n",
    "    matching_json_names = []\n",
    "    for i in range(len(json_list)):\n",
    "        if (json_list[i].find(param_1+str(value_1)) != -1) and (json_list[i].find(param_2+str(value_2)) != -1):\n",
    "            matching_json_names.append(json_list[i])\n",
    "    \n",
    "    return matching_json_names\n",
    "    \n",
    "names = get_matching_filenames(json_list, \"Q\", \"W\", 0.01, 0.005)\n",
    "print(names)"
   ]
  },
  {
   "cell_type": "markdown",
   "metadata": {},
   "source": [
    "# Load those 16 files: get end values of 160 lists"
   ]
  },
  {
   "cell_type": "code",
   "execution_count": 148,
   "metadata": {},
   "outputs": [],
   "source": [
    "def get_ending_distances(json_file):\n",
    "    # Get the 10 ending values of a single json\n",
    "    with open(\"avg_distance_data/\" + json_file, \"r\") as f:\n",
    "        data = json.load(f)\n",
    "        # print(data)\n",
    "        \n",
    "    # For 1 JSON of 10 replicate swarms: going through its 10 lists\n",
    "    dist_list = []\n",
    "    for i in range(len(data)):\n",
    "        ending_dist = data[i][-1]\n",
    "        dist_list.append(ending_dist)\n",
    "    return dist_list"
   ]
  },
  {
   "cell_type": "code",
   "execution_count": 170,
   "metadata": {},
   "outputs": [],
   "source": [
    "def get_mean_var(json_list, param_1, param_2, value_1, value_2):\n",
    "\n",
    "    # Load in a json list and get ending value of each list, then average and variance those 160 values\n",
    "    \n",
    "    param_pair_distances = []\n",
    "    # print(len(param_pair_distances))\n",
    "    # print(param_pair_distances[0])\n",
    "\n",
    "    names = get_matching_filenames(json_list, param_1, param_2, value_1, value_2)\n",
    "\n",
    "    for n in names:\n",
    "        # print(n)\n",
    "        distance_lists = get_ending_distances(n)\n",
    "        param_pair_distances.append(distance_lists)\n",
    "\n",
    "    # Merge lists in param_pair_distances\n",
    "    merged = list(itertools.chain.from_iterable(param_pair_distances))\n",
    "    # print(merged)\n",
    "    merged_mean = np.mean(merged)\n",
    "    print(merged_mean)\n",
    "    merged_var = np.var(merged)\n",
    "    print(merged_var)"
   ]
  },
  {
   "cell_type": "code",
   "execution_count": 171,
   "metadata": {},
   "outputs": [
    {
     "name": "stdout",
     "output_type": "stream",
     "text": [
      "1.8924136729503638\n",
      "1.7028258166431791\n"
     ]
    }
   ],
   "source": [
    "get_mean_var(json_list, \"Q\", \"W\", 0.01, 0.005)"
   ]
  },
  {
   "cell_type": "code",
   "execution_count": null,
   "metadata": {},
   "outputs": [],
   "source": []
  },
  {
   "cell_type": "code",
   "execution_count": null,
   "metadata": {},
   "outputs": [],
   "source": []
  },
  {
   "cell_type": "code",
   "execution_count": 62,
   "metadata": {},
   "outputs": [
    {
     "data": {
      "image/png": "[encoded data removed]",
      "text/plain": [
       "<matplotlib.figure.Figure at 0x1079c92e8>"
      ]
     },
     "metadata": {},
     "output_type": "display_data"
    }
   ],
   "source": [
    "# Sample plotting \n",
    "swarm_end_distance = np.random.random((4, 4))\n",
    "\n",
    "fig, ax = plt.subplots()\n",
    "#im = ax.imshow(swarm_end_distance)\n",
    "\n",
    "# We want to show all ticks...\n",
    "ax.set_xticks(np.arange(len(worker_concentration)))\n",
    "ax.set_yticks(np.arange(len(queen_concentration)))\n",
    "# ... and label them with the respective list entries\n",
    "ax.set_xticklabels(worker_concentration)\n",
    "ax.set_yticklabels(queen_concentration)\n",
    "\n",
    "heatmap = ax.pcolor(swarm_end_distance, cmap=plt.cm.Greens)\n",
    "\n",
    "# put the major ticks at the middle of each cell\n",
    "ax.set_xticks(np.arange(swarm_end_distance.shape[0])+0.5, minor=False)\n",
    "ax.set_yticks(np.arange(swarm_end_distance.shape[1])+0.5, minor=False)\n",
    "\n",
    "ax.set_xlabel('Worker concentration')\n",
    "ax.set_ylabel('Queen concentration')\n",
    "\n",
    "fig.colorbar(heatmap)\n",
    "fig.tight_layout()\n",
    "plt.title('Distance to queen across different parameter pairs')\n",
    "plt.show()"
   ]
  },
  {
   "cell_type": "code",
   "execution_count": 63,
   "metadata": {},
   "outputs": [],
   "source": []
  },
  {
   "cell_type": "code",
   "execution_count": null,
   "metadata": {},
   "outputs": [],
   "source": []
  }
 ],
 "metadata": {
  "kernelspec": {
   "display_name": "Python 3",
   "language": "python",
   "name": "python3"
  },
  "language_info": {
   "codemirror_mode": {
    "name": "ipython",
    "version": 3
   },
   "file_extension": ".py",
   "mimetype": "text/x-python",
   "name": "python",
   "nbconvert_exporter": "python",
   "pygments_lexer": "ipython3",
   "version": "3.6.4"
  }
 },
 "nbformat": 4,
 "nbformat_minor": 2
}
