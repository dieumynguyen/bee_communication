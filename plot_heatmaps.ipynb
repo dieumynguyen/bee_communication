{
 "cells": [
  {
   "cell_type": "markdown",
   "metadata": {},
   "source": [
    "### Visual II. 2D phase diagram showing the end distances of swarms"
   ]
  },
  {
   "cell_type": "code",
   "execution_count": 4,
   "metadata": {},
   "outputs": [],
   "source": [
    "import numpy as np"
   ]
  },
  {
   "cell_type": "code",
   "execution_count": 10,
   "metadata": {},
   "outputs": [],
   "source": [
    "# Four params and their values\n",
    "queen_bee_concentrations = np.linspace(0.01, 0.5, 4)\n",
    "worker_bee_concentrations = np.linspace(0.005, 0.5, 4)\n",
    "diffusion_coefficients = np.linspace(0.05, 0.5, 4)\n",
    "worker_bee_thresholds = np.linspace(0.001, 0.005, 4)"
   ]
  },
  {
   "cell_type": "code",
   "execution_count": 12,
   "metadata": {},
   "outputs": [
    {
     "data": {
      "text/plain": [
       "array([[0.86082679, 0.67330112, 0.25612201],\n",
       "       [0.77880836, 0.48739234, 0.74497085],\n",
       "       [0.52803255, 0.86850153, 0.19827606]])"
      ]
     },
     "execution_count": 12,
     "metadata": {},
     "output_type": "execute_result"
    }
   ],
   "source": [
    "# Get avg of the 10 replicate swarms' end avg distance from queen\n",
    "swarm_end_distance = np.random.random((3, 3))\n",
    "swarm_end_distance"
   ]
  },
  {
   "cell_type": "code",
   "execution_count": null,
   "metadata": {},
   "outputs": [],
   "source": []
  }
 ],
 "metadata": {
  "kernelspec": {
   "display_name": "Python 3",
   "language": "python",
   "name": "python3"
  },
  "language_info": {
   "codemirror_mode": {
    "name": "ipython",
    "version": 3
   },
   "file_extension": ".py",
   "mimetype": "text/x-python",
   "name": "python",
   "nbconvert_exporter": "python",
   "pygments_lexer": "ipython3",
   "version": "3.6.4"
  }
 },
 "nbformat": 4,
 "nbformat_minor": 2
}
