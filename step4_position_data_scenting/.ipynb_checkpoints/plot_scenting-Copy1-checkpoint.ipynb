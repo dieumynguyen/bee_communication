{
 "cells": [
  {
   "cell_type": "markdown",
   "metadata": {},
   "source": [
    "# I. Plot number of scenting bees over time"
   ]
  },
  {
   "cell_type": "code",
   "execution_count": 1,
   "metadata": {},
   "outputs": [],
   "source": [
    "import json\n",
    "import numpy as np\n",
    "import plotly.plotly as py\n",
    "import matplotlib as mpl\n",
    "from matplotlib import cycler\n",
    "mpl.use('Agg')\n",
    "import matplotlib.pyplot as plt\n",
    "import seaborn as sns\n",
    "import plotly.graph_objs as go\n",
    "import os\n",
    "import glob2\n",
    "import re\n",
    "import os\n",
    "import random"
   ]
  },
  {
   "cell_type": "code",
   "execution_count": 2,
   "metadata": {},
   "outputs": [],
   "source": [
    "plt.style.use('seaborn-white')\n",
    "plt.rcParams['font.sans-serif'] = \"Arial\"\n",
    "plt.rcParams['font.size'] = 14\n",
    "plt.rcParams['axes.labelsize'] = 14\n",
    "plt.rcParams['axes.labelweight'] = 'normal'\n",
    "plt.rcParams['xtick.labelsize'] = 14\n",
    "plt.rcParams['ytick.labelsize'] = 14\n",
    "plt.rcParams['legend.fontsize'] = 10\n",
    "plt.rcParams['figure.titlesize'] = 14\n",
    "plt.rcParams['lines.linewidth'] = 1\n",
    "params = {\"ytick.color\" : \"#000000\",\n",
    "          \"xtick.color\" : \"#000000\",\n",
    "          \"axes.labelcolor\" : \"#000000\",\n",
    "          \"axes.edgecolor\" : \"#000000\",\n",
    "          \"text.color\": \"#000000\"}\n",
    "plt.rcParams.update(params)"
   ]
  },
  {
   "cell_type": "markdown",
   "metadata": {},
   "source": [
    "### Load in JSON from combine_replicates.py and pull out position_history data"
   ]
  },
  {
   "cell_type": "markdown",
   "metadata": {},
   "source": [
    "### Plot average number of scenting bees (across all replicates) over time"
   ]
  },
  {
   "cell_type": "markdown",
   "metadata": {},
   "source": [
    "Processing 20-replicate json:"
   ]
  },
  {
   "cell_type": "code",
   "execution_count": 3,
   "metadata": {},
   "outputs": [],
   "source": [
    "def scenting_all_replicates(json_file):\n",
    "    \n",
    "    ''' Get data from the combine_replicates: Get dict of 20 keys, each has data for 50 bees over 160 timesteps '''\n",
    "    \n",
    "    with open(\"position_data/\" + json_file, \"r\") as f:\n",
    "        position_data = json.load(f)\n",
    "    \n",
    "\n",
    "    all_replicates = {}\n",
    "    for replicate_i in range(len(position_data)):\n",
    "    # for replicate_i in range(1):\n",
    "        \n",
    "        ### Get scenting for all bees over 160 timesteps\n",
    "        scenting_all_bees = []\n",
    "        \n",
    "        for bee in range(1,51):\n",
    "            # Get list of one bee's scenting over 160 timesteps\n",
    "            scenting_1_bee = []\n",
    "            for i in range(0, 320):\n",
    "                scenting = position_data[replicate_i][\"worker_{}\".format(bee)][i][\"scenting\"]\n",
    "                scenting_1_bee.append(scenting)\n",
    "\n",
    "            scenting_all_bees.append(scenting_1_bee)\n",
    "            \n",
    "        all_replicates[\"Replicate {}\".format(replicate_i+1)] = scenting_all_bees\n",
    "        \n",
    "\n",
    "    return all_replicates"
   ]
  },
  {
   "cell_type": "markdown",
   "metadata": {},
   "source": [
    "#### For each replicate, count number of scenting bees over time"
   ]
  },
  {
   "cell_type": "code",
   "execution_count": 4,
   "metadata": {},
   "outputs": [],
   "source": [
    "def count_scenting_bees(json_file, replicate_i):\n",
    "    \n",
    "    all_reps_data = scenting_all_replicates(json_file)\n",
    "    \n",
    "    # 1 worker over time: scenting_all_replicates(\"Q0.15_W0.4_D0.2_T0.005_wb1.json\")[\"Replicate 1\"][0]\n",
    "\n",
    "    all_bees = []\n",
    "    for bee_i in range(len(all_reps_data[\"Replicate {}\".format(replicate_i)])):  # 50\n",
    "        # Loop over time steps\n",
    "        one_bee = []\n",
    "        for t_i in range(len(all_reps_data[\"Replicate {}\".format(replicate_i)][0])):   # 160\n",
    "            one_worker_one_t = all_reps_data[\"Replicate {}\".format(replicate_i)][bee_i][t_i]\n",
    "            one_bee.append(one_worker_one_t)\n",
    "        all_bees.append(one_bee)\n",
    "        \n",
    "        \n",
    "    # Combine all separate lists for bees into this list; each list inside is a timestep over all bees\n",
    "    ### Get scenting for all bees over all time\n",
    "    over_all_time = []\n",
    "\n",
    "    # Loop over all timesteps\n",
    "    for time_i in range(len(all_bees[0])):\n",
    "        # Loop over each of 50 lists in scenting_all_bees  \n",
    "        one_t = []\n",
    "        for bee_i in range(len(all_bees)):\n",
    "            scenting = all_bees[bee_i][time_i]\n",
    "            one_t.append(scenting)\n",
    "        over_all_time.append(one_t)\n",
    "        \n",
    "    ### Count scenting bees in swarm over time\n",
    "    swarm_over_time = []\n",
    "    for t in over_all_time:\n",
    "        scenting_true = sum(t)\n",
    "        swarm_over_time.append(scenting_true)\n",
    "        \n",
    "    return swarm_over_time"
   ]
  },
  {
   "cell_type": "markdown",
   "metadata": {},
   "source": [
    "### Then, get 20 \"count_scenting_bees\" lists for the 20 replicates. At each t, find average, min, max. "
   ]
  },
  {
   "cell_type": "code",
   "execution_count": 5,
   "metadata": {},
   "outputs": [],
   "source": [
    "def get_avg_min_max(json_file):\n",
    "    all_replicates = []\n",
    "    for i in range(1, 11):\n",
    "        count_list = count_scenting_bees(json_file, i)\n",
    "        all_replicates.append(count_list)\n",
    "        \n",
    "#     # Combine all replicates into list of 160 lists\n",
    "#     combined_by_t = []\n",
    "#     for t in (all_replicates[0]):\n",
    "#         combined_by_rep = []\n",
    "#         for rep in range(len(all_replicates)):\n",
    "#             scenting_at_t = all_replicates[rep][t]\n",
    "#             combined_by_rep.append(scenting_at_t)\n",
    "\n",
    "#         combined_by_t.append(combined_by_rep)\n",
    "\n",
    "#     # Get avg, min, max\n",
    "#     avg_list = []; min_list = []; max_list = []\n",
    "#     for l in combined_by_t:\n",
    "#         avg_list.append(np.mean(l))\n",
    "#         min_list.append(np.min(l))\n",
    "#         max_list.append(np.max(l))\n",
    "    \n",
    "#     data = {\n",
    "#         \"all\" : avg_list,\n",
    "#         \"min\" : min_list,\n",
    "#         \"max\" : max_list\n",
    "#     }\n",
    "    \n",
    "    return all_replicates"
   ]
  },
  {
   "cell_type": "markdown",
   "metadata": {},
   "source": [
    "### Plot"
   ]
  },
  {
   "cell_type": "code",
   "execution_count": 6,
   "metadata": {},
   "outputs": [],
   "source": [
    "def standardize_filenames(fname):\n",
    "    # fname = \"Q0.15_W0.0005_D0.5_T0.005_wb1.json\"\n",
    "    split_list = fname.split(\"_\")\n",
    "\n",
    "    new_name = \"\"\n",
    "    for item in split_list:\n",
    "        if \"Q\" in item:\n",
    "            new_name += item + \"_\"\n",
    "        elif \"W\" in item and len(item) < 7:\n",
    "            new_length = 7 - len(item)\n",
    "            new_name += item + \"0\"*new_length + \"_\"\n",
    "        elif \"D\" in item and len(item) < 6:\n",
    "            new_length = 6 - len(item)\n",
    "            new_name += item + \"0\"*new_length + \"_\"\n",
    "        elif \"T\" in item and len(item) < 7:\n",
    "            new_length = 7 - len(item)\n",
    "            new_name += item + \"0\"*new_length + \"_\"\n",
    "        elif \"wb\" in item:\n",
    "            new_name += item\n",
    "        else:\n",
    "            new_name += item + \"_\"\n",
    "\n",
    "    return new_name"
   ]
  },
  {
   "cell_type": "code",
   "execution_count": 18,
   "metadata": {},
   "outputs": [],
   "source": [
    "# Standardize filenames\n",
    "path = '/Users/dieumynguyen/Desktop/Projects/bee_communication/step4_position_data_scenting/position_data'\n",
    "files = os.listdir(path)\n",
    "for file in files:\n",
    "    os.rename(os.path.join(path, file), os.path.join(path, standardize_filenames(file)))\n",
    "    \n",
    "# Get list of files in correct order\n",
    "reps_list = list(map(lambda x : x.split(\"/\")[-1], glob2.glob(\"position_data/*T0.5*.json\")))\n",
    "reps_list = reps_list[::-1]\n",
    "updated_reps_list = sorted(reps_list, key = lambda x: (x.split(\"_\")[1], x[2]))[::-1]"
   ]
  },
  {
   "cell_type": "code",
   "execution_count": 17,
   "metadata": {},
   "outputs": [
    {
     "name": "stdout",
     "output_type": "stream",
     "text": [
      "0 done processing Q0.15_W0.5000_D0.005_T0.5000_wb1.json\n",
      "1 done processing Q0.15_W0.5000_D0.010_T0.5000_wb1.json\n",
      "2 done processing Q0.15_W0.5000_D0.050_T0.5000_wb1.json\n",
      "3 done processing Q0.15_W0.5000_D0.100_T0.5000_wb1.json\n",
      "4 done processing Q0.15_W0.5000_D0.500_T0.5000_wb1.json\n",
      "5 done processing Q0.15_W0.5000_D1.000_T0.5000_wb1.json\n",
      "6 done processing Q0.15_W0.1000_D0.005_T0.5000_wb1.json\n",
      "7 done processing Q0.15_W0.1000_D0.010_T0.5000_wb1.json\n",
      "8 done processing Q0.15_W0.1000_D0.050_T0.5000_wb1.json\n",
      "9 done processing Q0.15_W0.1000_D0.100_T0.5000_wb1.json\n",
      "10 done processing Q0.15_W0.1000_D0.500_T0.5000_wb1.json\n",
      "11 done processing Q0.15_W0.1000_D1.000_T0.5000_wb1.json\n",
      "12 done processing Q0.15_W0.0500_D0.005_T0.5000_wb1.json\n",
      "13 done processing Q0.15_W0.0500_D0.010_T0.5000_wb1.json\n",
      "14 done processing Q0.15_W0.0500_D0.050_T0.5000_wb1.json\n",
      "15 done processing Q0.15_W0.0500_D0.100_T0.5000_wb1.json\n",
      "16 done processing Q0.15_W0.0500_D0.500_T0.5000_wb1.json\n",
      "17 done processing Q0.15_W0.0500_D1.000_T0.5000_wb1.json\n",
      "18 done processing Q0.15_W0.0100_D0.005_T0.5000_wb1.json\n",
      "19 done processing Q0.15_W0.0100_D0.010_T0.5000_wb1.json\n",
      "20 done processing Q0.15_W0.0100_D0.050_T0.5000_wb1.json\n",
      "21 done processing Q0.15_W0.0100_D0.100_T0.5000_wb1.json\n",
      "22 done processing Q0.15_W0.0100_D0.500_T0.5000_wb1.json\n",
      "23 done processing Q0.15_W0.0100_D1.000_T0.5000_wb1.json\n",
      "24 done processing Q0.15_W0.0050_D0.005_T0.5000_wb1.json\n",
      "25 done processing Q0.15_W0.0050_D0.010_T0.5000_wb1.json\n",
      "26 done processing Q0.15_W0.0050_D0.050_T0.5000_wb1.json\n",
      "27 done processing Q0.15_W0.0050_D0.100_T0.5000_wb1.json\n",
      "28 done processing Q0.15_W0.0050_D0.500_T0.5000_wb1.json\n",
      "29 done processing Q0.15_W0.0050_D1.000_T0.5000_wb1.json\n",
      "30 done processing Q0.15_W0.0010_D0.005_T0.5000_wb1.json\n",
      "31 done processing Q0.15_W0.0010_D0.010_T0.5000_wb1.json\n",
      "32 done processing Q0.15_W0.0010_D0.050_T0.5000_wb1.json\n",
      "33 done processing Q0.15_W0.0010_D0.100_T0.5000_wb1.json\n",
      "34 done processing Q0.15_W0.0010_D0.500_T0.5000_wb1.json\n",
      "35 done processing Q0.15_W0.0010_D1.000_T0.5000_wb1.json\n",
      "36 done processing Q0.15_W0.0005_D0.005_T0.5000_wb1.json\n",
      "37 done processing Q0.15_W0.0005_D0.010_T0.5000_wb1.json\n",
      "38 done processing Q0.15_W0.0005_D0.050_T0.5000_wb1.json\n",
      "39 done processing Q0.15_W0.0005_D0.100_T0.5000_wb1.json\n",
      "40 done processing Q0.15_W0.0005_D0.500_T0.5000_wb1.json\n",
      "41 done processing Q0.15_W0.0005_D1.000_T0.5000_wb1.json\n"
     ]
    }
   ],
   "source": [
    "# Start plotting!\n",
    "fig, axes = plt.subplots(7, 6, sharex=True, sharey=True, figsize=(30,20))\n",
    "\n",
    "# Plot subplots\n",
    "for j, ax in enumerate(axes.flatten()):\n",
    "    \n",
    "    data = get_avg_min_max(updated_reps_list[j])\n",
    "    \n",
    "    print(\"{} done processing {}\".format(j, updated_reps_list[j]))\n",
    "    \n",
    "    # filename = str(updated_reps_list[j][:-10])\n",
    "    \n",
    "    # Plotting\n",
    "    ax.spines['right'].set_visible(False)\n",
    "    ax.spines['top'].set_visible(False)\n",
    "\n",
    "    # List of random ints from 0-20\n",
    "    randoms = random.sample(range(0, 5), 5)\n",
    "    \n",
    "    colormap = mpl.cm.Set2.colors\n",
    "    # l_styles = ['-','--','-','--','-']\n",
    "    \n",
    "    x = np.linspace(0, 320, num=320)\n",
    "    \n",
    "    # for i, d in enumerate(data):\n",
    "    for r in range(len(randoms)):\n",
    "        ax.plot(x, data[randoms[r]], label='Swarm {}'.format(r+1), color=colormap[r], linestyle=\"--\")\n",
    "        plt.fill_between(x, data[randoms[r]], alpha=0.8, color=colormap[r])\n",
    "\n",
    "        ax.xaxis.set_major_locator(plt.MaxNLocator(5))\n",
    "        ax.yaxis.set_major_locator(plt.MaxNLocator(5))\n",
    "        \n",
    "        plt.xlim(0, 320)\n",
    "        plt.ylim(0, 50)\n",
    "        ax.set_title('{}'.format(updated_reps_list[j][6:-5]), fontsize=16)\n",
    "    \n",
    "# Add one legend\n",
    "handles, labels = ax.get_legend_handles_labels()\n",
    "fig.legend(handles, labels, loc=7, fontsize=15, borderpad=0.2)\n",
    "\n",
    "# Add x and y labels for all\n",
    "ax = fig.add_subplot(111, frameon=False)\n",
    "ax.set_xticks([])\n",
    "ax.set_yticks([])\n",
    "ax.set_xlabel('Time (step)', labelpad=35, fontsize=20) # Use argument `labelpad` to move label downwards.\n",
    "ax.set_ylabel('Number of scenting bees', labelpad=35, fontsize=20)\n",
    "\n",
    "fig.subplots_adjust(wspace=0.15, hspace=0.2)\n",
    "\n",
    "# Save figure as a single pdf\n",
    "plt.savefig(\"/Users/dieumynguyen/Desktop/Projects/bee_communication/figures/distance_to_queen/Threshold0.5_AllScenting.pdf\", transparent=True)\n",
    "\n",
    "    \n",
    "    \n",
    "    "
   ]
  },
  {
   "cell_type": "code",
   "execution_count": null,
   "metadata": {},
   "outputs": [],
   "source": []
  }
 ],
 "metadata": {
  "kernelspec": {
   "display_name": "Python 3",
   "language": "python",
   "name": "python3"
  },
  "language_info": {
   "codemirror_mode": {
    "name": "ipython",
    "version": 3
   },
   "file_extension": ".py",
   "mimetype": "text/x-python",
   "name": "python",
   "nbconvert_exporter": "python",
   "pygments_lexer": "ipython3",
   "version": "3.6.4"
  }
 },
 "nbformat": 4,
 "nbformat_minor": 2
}
