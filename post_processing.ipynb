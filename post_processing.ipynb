{
 "cells": [
  {
   "cell_type": "code",
   "execution_count": 219,
   "metadata": {
    "collapsed": true
   },
   "outputs": [],
   "source": [
    "# Imports\n",
    "import json\n",
    "import numpy as np\n",
    "import plotly.plotly as py\n",
    "import matplotlib.pyplot as plt\n",
    "import seaborn as sns\n",
    "import plotly.graph_objs as go\n",
    "import os\n",
    "import glob2\n",
    "import re"
   ]
  },
  {
   "cell_type": "markdown",
   "metadata": {},
   "source": [
    "### Load in data from a single experiment (1 set of parameters)"
   ]
  },
  {
   "cell_type": "code",
   "execution_count": 310,
   "metadata": {
    "collapsed": true
   },
   "outputs": [],
   "source": [
    "def load_config_measurements(experiment_dir, replicate_i):\n",
    "\n",
    "    ''' This function loads in data from a single experiment given \n",
    "    the directory path and replicate number. Returns a dictionary \n",
    "    of a single replicate containing: model parameter configurations, \n",
    "    distance from queen & from other workers. \n",
    "    '''\n",
    "    \n",
    "    # Load config.json\n",
    "    with open(experiment_dir + \"/config.json\", \"r\") as f:\n",
    "        config_dict = json.load(f)\n",
    "        \n",
    "    # Pull out params of interest from config.json\n",
    "    D = config_dict['diffusion_coefficient']\n",
    "    Q = config_dict['swarm_parameters']['queen_bee_concentration']\n",
    "    W = config_dict['swarm_parameters']['worker_bee_concentration']\n",
    "    T = config_dict['swarm_parameters']['worker_bee_threshold']\n",
    "    \n",
    "    # Load measurements.json\n",
    "    with open(experiment_dir + \"/data/measurements.json\", \"r\") as f:\n",
    "        measurements = json.load(f)\n",
    "        \n",
    "    # Pull out params of interest from measurements.json\n",
    "    distance_from_queen = measurements['distance_from_queen']\n",
    "    distance_from_others = measurements['distance_from_others']\n",
    "    \n",
    "    # Create dict \n",
    "    parameters = ['diffusion_coefficient', 'queen_bee_concentration',\n",
    "         'worker_bee_concentration', 'worker_bee_threshold',\n",
    "         'distance_from_queen', 'distance_from_others']\n",
    "    values = [D, Q, W, T, distance_from_queen, distance_from_others]\n",
    "    experiment_dict = dict(zip([p for p in parameters], values))\n",
    "    outer_dict = {\"Replicate {}\".format(replicate_i) : experiment_dict}\n",
    "    \n",
    "    return outer_dict"
   ]
  },
  {
   "cell_type": "code",
   "execution_count": 298,
   "metadata": {},
   "outputs": [
    {
     "data": {
      "text/plain": [
       "0.01"
      ]
     },
     "execution_count": 298,
     "metadata": {},
     "output_type": "execute_result"
    }
   ],
   "source": [
    "# Test above function\n",
    "experiment_dir = \"experiments/run1/experiment0_Q0.01_W0.005_D0.05_T0.001\"\n",
    "d = load_config_measurements(experiment_dir, 1)\n",
    "d[\"Replicate 1\"]['queen_bee_concentration']"
   ]
  },
  {
   "cell_type": "markdown",
   "metadata": {},
   "source": [
    "### Store all (10) replicates of a single set of parameters in a list. Save to a JSON file. Ultimately, total: 256 JSON files of different parameter combinations. "
   ]
  },
  {
   "cell_type": "code",
   "execution_count": 360,
   "metadata": {
    "collapsed": true
   },
   "outputs": [],
   "source": [
    "def combine_replicates(data_folders, param_set):\n",
    "    ''' This function finds replicates of a set of parameters across\n",
    "    all experiment runs. Iteratively calls the function \n",
    "    \"load_config_measurements\" to create a dictionary for a single \n",
    "    replicate. Then combine all replicates' data into a list, and write\n",
    "    to a JSON file for further data analysis. Will run this 256 times for\n",
    "    256 sets. \n",
    "    '''\n",
    "    \n",
    "    # List to contain all replicates\n",
    "    all_replicates = []\n",
    "    \n",
    "    # If find the param_set in a data_folders[i], get the index of\n",
    "    # that data_folders[i] \n",
    "    data_folder_i = []\n",
    "    for i in range(len(data_folders)):\n",
    "        found_index = data_folders[i].find(param_set)\n",
    "        if found_index != -1:\n",
    "            # print(i)\n",
    "            data_folder_i.append(i)\n",
    "            \n",
    "    # Load data using \"load_config_measurements\"\n",
    "    for j in range(len(data_folder_i)):\n",
    "        data = load_config_measurements(data_folders[data_folder_i[j]], j)\n",
    "        all_replicates.append(data)\n",
    "    \n",
    "    # Truncate string \"param_set\" to save as name for json file\n",
    "    truncate_name = param_set[12:]\n",
    "    \n",
    "    # Write the cumulative list containing all replicates to JSON\n",
    "    with open('combined_replicates/{}.json'.format(truncate_name), 'w') as outfile:\n",
    "        json.dump(all_replicates, outfile)\n",
    "    \n",
    "    return None"
   ]
  },
  {
   "cell_type": "code",
   "execution_count": 364,
   "metadata": {},
   "outputs": [],
   "source": [
    "# Test above function using 2 lists below\n",
    "for k in sets_list:\n",
    "    save_lists_json = combine_replicates(data_folders, k)"
   ]
  },
  {
   "cell_type": "code",
   "execution_count": 365,
   "metadata": {},
   "outputs": [
    {
     "data": {
      "text/plain": [
       "['experiments/run1/experiment0_Q0.01_W0.005_D0.05_T0.001',\n",
       " 'experiments/run1/experiment1_Q0.5_W0.005_D0.05_T0.001',\n",
       " 'experiments/run2/experiment0_Q0.01_W0.005_D0.05_T0.001',\n",
       " 'experiments/run2/experiment1_Q0.5_W0.005_D0.05_T0.001']"
      ]
     },
     "execution_count": 365,
     "metadata": {},
     "output_type": "execute_result"
    }
   ],
   "source": [
    "# All data folders: ultimately 2560\n",
    "data_folders = glob2.glob(\"experiments/run*/*\")\n",
    "data_folders\n",
    "\n",
    "# Other ways:\n",
    "# data_folders = list(map(lambda x : x.split(\"/\")[-1], glob2.glob(\"experiments/run*/*\")))\n",
    "# data_folders = [ele.split(\"/\")[-1] for ele in glob2.glob(\"experiments/run*/*\")]"
   ]
  },
  {
   "cell_type": "code",
   "execution_count": 366,
   "metadata": {},
   "outputs": [
    {
     "data": {
      "text/plain": [
       "['experiment0_Q0.01_W0.005_D0.05_T0.001',\n",
       " 'experiment1_Q0.5_W0.005_D0.05_T0.001']"
      ]
     },
     "execution_count": 366,
     "metadata": {},
     "output_type": "execute_result"
    }
   ],
   "source": [
    "# List of 256 unique sets of parameters\n",
    "sets_list = next(os.walk('experiments/run1'))[1]\n",
    "sets_list"
   ]
  },
  {
   "cell_type": "markdown",
   "metadata": {},
   "source": [
    "### I. Workers' average distance from the queen"
   ]
  },
  {
   "cell_type": "code",
   "execution_count": 201,
   "metadata": {},
   "outputs": [],
   "source": [
    "# Get average distance from queen over time of a single swarm\n",
    "average_distances = []\n",
    "for avg in measurements['distance_from_queen']:\n",
    "    average_distances.append(avg['average'])    "
   ]
  },
  {
   "cell_type": "code",
   "execution_count": 202,
   "metadata": {},
   "outputs": [
    {
     "data": {
      "image/png": "[encoded data removed]",
      "text/plain": [
       "<matplotlib.figure.Figure at 0x113840a20>"
      ]
     },
     "metadata": {},
     "output_type": "display_data"
    }
   ],
   "source": [
    "plt.plot(average_distances)\n",
    "plt.xlabel('Timesteps')\n",
    "plt.ylabel('Average distance')\n",
    "plt.title('Swarm average distance from queen over time')\n",
    "plt.show()"
   ]
  },
  {
   "cell_type": "markdown",
   "metadata": {},
   "source": [
    "### II. 2D phase diagram showing the plateau values of swarms"
   ]
  },
  {
   "cell_type": "code",
   "execution_count": 111,
   "metadata": {},
   "outputs": [],
   "source": [
    "queen_concentration = [0.01, 0.255, 0.5]\n",
    "worker_concentration = [0.005, 0.2525, 0.5]\n",
    "swarm_end_distance = np.random.random((3, 3))"
   ]
  },
  {
   "cell_type": "code",
   "execution_count": 176,
   "metadata": {},
   "outputs": [
    {
     "data": {
      "image/png": "[encoded data removed]",
      "text/plain": [
       "<matplotlib.figure.Figure at 0x11cd27240>"
      ]
     },
     "metadata": {},
     "output_type": "display_data"
    }
   ],
   "source": [
    "fig, ax = plt.subplots()\n",
    "#im = ax.imshow(swarm_end_distance)\n",
    "\n",
    "# We want to show all ticks...\n",
    "ax.set_xticks(np.arange(len(worker_concentration)))\n",
    "ax.set_yticks(np.arange(len(queen_concentration)))\n",
    "# ... and label them with the respective list entries\n",
    "ax.set_xticklabels(worker_concentration)\n",
    "ax.set_yticklabels(queen_concentration)\n",
    "\n",
    "heatmap = ax.pcolor(swarm_end_distance, cmap=plt.cm.Greens)\n",
    "\n",
    "# put the major ticks at the middle of each cell\n",
    "ax.set_xticks(np.arange(swarm_end_distance.shape[0])+0.5, minor=False)\n",
    "ax.set_yticks(np.arange(swarm_end_distance.shape[1])+0.5, minor=False)\n",
    "\n",
    "ax.set_xlabel('Worker initial concentration')\n",
    "ax.set_ylabel('Queen initial concentration')\n",
    "\n",
    "fig.colorbar(heatmap)\n",
    "fig.tight_layout()\n",
    "plt.title('Swarm final average distance to queen across different parameter sets')\n",
    "plt.show()"
   ]
  },
  {
   "cell_type": "markdown",
   "metadata": {},
   "source": [
    "### III. Distance between workers over time"
   ]
  },
  {
   "cell_type": "code",
   "execution_count": null,
   "metadata": {
    "collapsed": true
   },
   "outputs": [],
   "source": []
  },
  {
   "cell_type": "code",
   "execution_count": null,
   "metadata": {
    "collapsed": true
   },
   "outputs": [],
   "source": []
  }
 ],
 "metadata": {
  "kernelspec": {
   "display_name": "Python 3",
   "language": "python",
   "name": "python3"
  },
  "language_info": {
   "codemirror_mode": {
    "name": "ipython",
    "version": 3
   },
   "file_extension": ".py",
   "mimetype": "text/x-python",
   "name": "python",
   "nbconvert_exporter": "python",
   "pygments_lexer": "ipython3",
   "version": "3.6.2"
  }
 },
 "nbformat": 4,
 "nbformat_minor": 2
}
