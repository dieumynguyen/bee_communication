{
 "cells": [
  {
   "cell_type": "code",
   "execution_count": 14,
   "metadata": {},
   "outputs": [],
   "source": [
    "import h5py\n",
    "import numpy as np"
   ]
  },
  {
   "cell_type": "code",
   "execution_count": 3,
   "metadata": {},
   "outputs": [],
   "source": [
    "file = \"/Users/dieumynguyen/Desktop/Projects/bee_communication/experiments/06M_01D-17H_16M_03S/experiment0/data/concentration_maps/concentration_map_history_0.h5\""
   ]
  },
  {
   "cell_type": "code",
   "execution_count": 34,
   "metadata": {},
   "outputs": [],
   "source": [
    "# The timestep when arena is filled with high pheromones\n",
    "file2 = \"/Users/dieumynguyen/Desktop/Projects/bee_communication/experiments/06M_01D-17H_16M_03S/experiment0/data/concentration_maps/concentration_map_history_100.h5\""
   ]
  },
  {
   "cell_type": "code",
   "execution_count": 35,
   "metadata": {},
   "outputs": [],
   "source": [
    "f = h5py.File(file, 'r')\n",
    "f2 = h5py.File(file2, \"r\")"
   ]
  },
  {
   "cell_type": "code",
   "execution_count": 5,
   "metadata": {},
   "outputs": [
    {
     "data": {
      "text/plain": [
       "KeysView(<HDF5 file \"concentration_map_history_0.h5\" (mode r)>)"
      ]
     },
     "execution_count": 5,
     "metadata": {},
     "output_type": "execute_result"
    }
   ],
   "source": [
    "f.keys()"
   ]
  },
  {
   "cell_type": "code",
   "execution_count": 36,
   "metadata": {},
   "outputs": [],
   "source": [
    "dset = f.get('concentration_map_history')\n",
    "dset2 = f2.get('concentration_map_history')"
   ]
  },
  {
   "cell_type": "code",
   "execution_count": 37,
   "metadata": {},
   "outputs": [
    {
     "data": {
      "text/plain": [
       "<HDF5 dataset \"concentration_map_history\": shape (601, 601), type \"<f8\">"
      ]
     },
     "execution_count": 37,
     "metadata": {},
     "output_type": "execute_result"
    }
   ],
   "source": [
    "dset2"
   ]
  },
  {
   "cell_type": "code",
   "execution_count": 38,
   "metadata": {},
   "outputs": [],
   "source": [
    "dset_np = np.array(dset)\n",
    "dset_np2 = np.array(dset2)"
   ]
  },
  {
   "cell_type": "code",
   "execution_count": 40,
   "metadata": {},
   "outputs": [
    {
     "data": {
      "text/plain": [
       "(601, 601)"
      ]
     },
     "execution_count": 40,
     "metadata": {},
     "output_type": "execute_result"
    }
   ],
   "source": [
    "dset_np2.shape"
   ]
  },
  {
   "cell_type": "markdown",
   "metadata": {},
   "source": [
    "Each h5 file for a set of params contains the concentration for the 6x6 arena for one timestep."
   ]
  },
  {
   "cell_type": "code",
   "execution_count": 43,
   "metadata": {},
   "outputs": [
    {
     "data": {
      "text/plain": [
       "array([[1.41541544e-112, 3.33054969e-112, 7.81460557e-112, ...,\n",
       "        7.81460557e-112, 3.33054969e-112, 1.41541544e-112],\n",
       "       [3.33054969e-112, 7.83696494e-112, 1.83881928e-111, ...,\n",
       "        1.83881928e-111, 7.83696494e-112, 3.33054969e-112],\n",
       "       [7.81460557e-112, 1.83881928e-111, 4.31449724e-111, ...,\n",
       "        4.31449724e-111, 1.83881928e-111, 7.81460557e-112],\n",
       "       ...,\n",
       "       [7.81460557e-112, 1.83881928e-111, 4.31449724e-111, ...,\n",
       "        4.31449724e-111, 1.83881928e-111, 7.81460557e-112],\n",
       "       [3.33054969e-112, 7.83696494e-112, 1.83881928e-111, ...,\n",
       "        1.83881928e-111, 7.83696494e-112, 3.33054969e-112],\n",
       "       [1.41541544e-112, 3.33054969e-112, 7.81460557e-112, ...,\n",
       "        7.81460557e-112, 3.33054969e-112, 1.41541544e-112]])"
      ]
     },
     "execution_count": 43,
     "metadata": {},
     "output_type": "execute_result"
    }
   ],
   "source": [
    "dset_np"
   ]
  },
  {
   "cell_type": "code",
   "execution_count": 44,
   "metadata": {},
   "outputs": [
    {
     "data": {
      "text/plain": [
       "array([[5.72719863, 5.7061118 , 5.68497987, ..., 5.64523881, 5.64902153,\n",
       "        5.65267117],\n",
       "       [5.71519201, 5.69415763, 5.67307839, ..., 5.62692187, 5.63069261,\n",
       "        5.63433093],\n",
       "       [5.70315413, 5.68217245, 5.66114617, ..., 5.60858188, 5.61234084,\n",
       "        5.61596807],\n",
       "       ...,\n",
       "       [6.01792681, 6.00028216, 5.98257726, ..., 8.19521403, 8.22165763,\n",
       "        8.24797295],\n",
       "       [6.02019298, 6.00249859, 5.98474427, ..., 8.20141214, 8.22783203,\n",
       "        8.25412347],\n",
       "       [6.02238843, 6.00464423, 5.98684041, ..., 8.20743801, 8.23383346,\n",
       "        8.26010029]])"
      ]
     },
     "execution_count": 44,
     "metadata": {},
     "output_type": "execute_result"
    }
   ],
   "source": [
    "dset_np2"
   ]
  },
  {
   "cell_type": "code",
   "execution_count": 46,
   "metadata": {},
   "outputs": [
    {
     "data": {
      "text/plain": [
       "(1.4154154437639726e-112, 2.1424329022020934)"
      ]
     },
     "execution_count": 46,
     "metadata": {},
     "output_type": "execute_result"
    }
   ],
   "source": [
    "dset_np.min(), dset_np2.min()"
   ]
  },
  {
   "cell_type": "code",
   "execution_count": 47,
   "metadata": {},
   "outputs": [
    {
     "data": {
      "text/plain": [
       "(0.670820386541733, 8.260100286841649)"
      ]
     },
     "execution_count": 47,
     "metadata": {},
     "output_type": "execute_result"
    }
   ],
   "source": [
    "dset_np.max(), dset_np2.max(), "
   ]
  },
  {
   "cell_type": "code",
   "execution_count": 48,
   "metadata": {},
   "outputs": [
    {
     "data": {
      "text/plain": [
       "(0.004084183321311261, 3.185511554126123)"
      ]
     },
     "execution_count": 48,
     "metadata": {},
     "output_type": "execute_result"
    }
   ],
   "source": [
    "# Get average pheromone concentration across the whole arena in this timestep\n",
    "np.mean(dset_np), np.mean(dset_np2)"
   ]
  },
  {
   "cell_type": "code",
   "execution_count": null,
   "metadata": {},
   "outputs": [],
   "source": []
  }
 ],
 "metadata": {
  "kernelspec": {
   "display_name": "Python 3",
   "language": "python",
   "name": "python3"
  },
  "language_info": {
   "codemirror_mode": {
    "name": "ipython",
    "version": 3
   },
   "file_extension": ".py",
   "mimetype": "text/x-python",
   "name": "python",
   "nbconvert_exporter": "python",
   "pygments_lexer": "ipython3",
   "version": "3.6.4"
  }
 },
 "nbformat": 4,
 "nbformat_minor": 2
}
