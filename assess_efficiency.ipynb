{
 "cells": [
  {
   "cell_type": "markdown",
   "metadata": {},
   "source": [
    "### Goal: Get data from avg_distance_data/ and 1) find swarms that have average (over all bees) distance from queen  <0.1 and 2) the time step when those swarms reaches this plateau."
   ]
  },
  {
   "cell_type": "code",
   "execution_count": 16,
   "metadata": {},
   "outputs": [],
   "source": [
    "# Imports\n",
    "import json\n",
    "import numpy as np\n",
    "import plotly.plotly as py\n",
    "import matplotlib as mpl\n",
    "from matplotlib import cycler\n",
    "import matplotlib.pyplot as plt\n",
    "import seaborn as sns\n",
    "import plotly.graph_objs as go\n",
    "import os\n",
    "import glob2\n",
    "import re"
   ]
  },
  {
   "cell_type": "code",
   "execution_count": 43,
   "metadata": {},
   "outputs": [],
   "source": [
    "# Try on this data of 2 Replicates\n",
    "with open(\"avg_distance_data/Q0.15_W0.001_D0.25_T0.5_wb1.json\", \"r\") as f:\n",
    "    data = json.load(f)"
   ]
  },
  {
   "cell_type": "code",
   "execution_count": 44,
   "metadata": {},
   "outputs": [
    {
     "data": {
      "text/plain": [
       "(10, 320)"
      ]
     },
     "execution_count": 44,
     "metadata": {},
     "output_type": "execute_result"
    }
   ],
   "source": [
    "len(data), len(data[0])"
   ]
  },
  {
   "cell_type": "markdown",
   "metadata": {},
   "source": [
    "Iterate over each of the 10 replicates. Find time step (index) of the first instance of the min value of data[replicate_i]"
   ]
  },
  {
   "cell_type": "code",
   "execution_count": 45,
   "metadata": {},
   "outputs": [
    {
     "data": {
      "text/plain": [
       "[(0.032723962546017685, 317),\n",
       " (0.033627590142541706, 304),\n",
       " (0.025042419111643052, 307),\n",
       " (0.025324015889787818, 292),\n",
       " (0.029386484918350646, 314),\n",
       " (0.027403602631760723, 311),\n",
       " (0.03351487489281753, 319),\n",
       " (0.02784497804594932, 315),\n",
       " (0.029805492338255225, 318),\n",
       " (0.2679270991963626, 319)]"
      ]
     },
     "execution_count": 45,
     "metadata": {},
     "output_type": "execute_result"
    }
   ],
   "source": [
    "all_reps_mins = []\n",
    "for rep_i in range(len(data)):\n",
    "    # print(\"Replicate {}:\".format(rep_i))\n",
    "    min_val = np.min(data[rep_i])\n",
    "    min_i = np.argmin(data[rep_i])\n",
    "    # print(min_val, min_i)\n",
    "    min_tuple = (min_val, min_i)\n",
    "    all_reps_mins.append(min_tuple)\n",
    "    \n",
    "all_reps_mins"
   ]
  },
  {
   "cell_type": "markdown",
   "metadata": {},
   "source": [
    "Check if min_val > 0.03. If so, add to list; if not, replace it with NaN."
   ]
  },
  {
   "cell_type": "code",
   "execution_count": 56,
   "metadata": {},
   "outputs": [
    {
     "name": "stdout",
     "output_type": "stream",
     "text": [
      "[0.032723962546017685, 0.033627590142541706, 0.025042419111643052, 0.025324015889787818, 0.029386484918350646, 0.027403602631760723, 0.03351487489281753, 0.02784497804594932, 0.029805492338255225, 0.2679270991963626] [317, 304, 307, 292, 314, 311, 319, 315, 318, 'NaN'] \n",
      "\n",
      "{'Replicate 1': [], 'Replicate 2': [], 'Replicate 3': [], 'Replicate 4': [], 'Replicate 5': [], 'Replicate 6': [], 'Replicate 7': [], 'Replicate 8': [], 'Replicate 9': [], 'Replicate 10': []}\n"
     ]
    }
   ],
   "source": [
    "min_vals = []; min_indices = []\n",
    "time_data = {}\n",
    "\n",
    "for i, tup in enumerate(all_reps_mins):\n",
    "    if tup[0] <= 0.1:\n",
    "        # print(tup)\n",
    "        min_vals.append(tup[0])\n",
    "        min_indices.append(tup[1])\n",
    "    else: \n",
    "        min_vals.append(tup[0])\n",
    "        min_indices.append(\"NaN\")\n",
    "        \n",
    "    time_data[\"Replicate {}\".format(i+1)] = []\n",
    "\n",
    "print(min_vals, min_indices, \"\\n\")     \n",
    "print(time_data)"
   ]
  },
  {
   "cell_type": "code",
   "execution_count": null,
   "metadata": {},
   "outputs": [],
   "source": []
  }
 ],
 "metadata": {
  "kernelspec": {
   "display_name": "Python 3",
   "language": "python",
   "name": "python3"
  },
  "language_info": {
   "codemirror_mode": {
    "name": "ipython",
    "version": 3
   },
   "file_extension": ".py",
   "mimetype": "text/x-python",
   "name": "python",
   "nbconvert_exporter": "python",
   "pygments_lexer": "ipython3",
   "version": "3.6.4"
  }
 },
 "nbformat": 4,
 "nbformat_minor": 2
}
