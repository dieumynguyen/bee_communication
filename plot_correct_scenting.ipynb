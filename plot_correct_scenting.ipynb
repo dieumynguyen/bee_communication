{
 "cells": [
  {
   "cell_type": "markdown",
   "metadata": {},
   "source": [
    "# Plot number of bees scenting away from queen (0,0)\n",
    "\n",
    "Goal: Plot proportion of correctly scenting bees / total scenting bees."
   ]
  },
  {
   "cell_type": "code",
   "execution_count": 1,
   "metadata": {},
   "outputs": [],
   "source": [
    "# Imports\n",
    "import json\n",
    "import numpy as np\n",
    "import plotly.plotly as py\n",
    "import matplotlib as mpl\n",
    "from matplotlib import cycler\n",
    "import matplotlib.pyplot as plt\n",
    "import seaborn as sns\n",
    "import plotly.graph_objs as go\n",
    "import os\n",
    "import glob2\n",
    "import re\n",
    "import random\n",
    "from sklearn.preprocessing import normalize\n",
    "import math\n"
   ]
  },
  {
   "cell_type": "code",
   "execution_count": 2,
   "metadata": {},
   "outputs": [],
   "source": [
    "# # Use the data generated in position_data\n",
    "# with open(\"position_data/Q0.15_W0.005_D0.55_T0.005_wb1.json\", \"r\") as f:\n",
    "#     position_data = json.load(f)"
   ]
  },
  {
   "cell_type": "code",
   "execution_count": 3,
   "metadata": {},
   "outputs": [],
   "source": [
    "# # Replicate, bee, time step\n",
    "# len(position_data), len(position_data[0]), len(position_data[0][\"worker_1\"])"
   ]
  },
  {
   "cell_type": "markdown",
   "metadata": {},
   "source": [
    "Look at all the scenting timesteps of a single worker. It stays still for those 6 timesteps, so all same position and bias."
   ]
  },
  {
   "cell_type": "code",
   "execution_count": 4,
   "metadata": {},
   "outputs": [],
   "source": [
    "def scenting_of_1_bee_all_t(position_data, replicate_i, worker_i):\n",
    "    ''' Look at one replicate: a bee's scenting, position, and bias info over \n",
    "    all time steps and determine if bee is scenting correctly away from queen \n",
    "    at 0,0. Return a list of length of all time steps (e.g. 320) showing T or \n",
    "    F for that bee.\n",
    "    '''\n",
    "    \n",
    "#     with open(\"position_data/{}\".format(json_name), \"r\") as f:\n",
    "#         position_data = json.load(f)\n",
    "    \n",
    "    correct_scenting_1_bee_all_t = []\n",
    "    CORRECT_SCENTING_THRESHOLD = -0.5\n",
    "\n",
    "    # k = 0\n",
    "    for t_i, t_info in enumerate(position_data[replicate_i][\"worker_{}\".format(worker_i)]):\n",
    "        scenting = position_data[replicate_i][\"worker_{}\".format(worker_i)][t_i][\"scenting\"]\n",
    "\n",
    "    #     if k > 100:\n",
    "    #         break\n",
    "\n",
    "        if scenting == True: \n",
    "            bias = (position_data[replicate_i][\"worker_{}\".format(worker_i)][t_i][\"bias_x\"], position_data[replicate_i][\"worker_{}\".format(worker_i)][t_i][\"bias_y\"])\n",
    "            # print(\"bias_xy: {}\".format(bias))\n",
    "            position = (position_data[replicate_i][\"worker_{}\".format(worker_i)][t_i][\"x\"], position_data[replicate_i][\"worker_{}\".format(worker_i)][t_i][\"y\"])\n",
    "            # print(\"position: {}\".format(position))\n",
    "\n",
    "            # Determine if scenting in queen's direction\n",
    "            r = -np.array(position)         # Negative of vector Worker to Queen\n",
    "            u_r = r / np.linalg.norm(r)     # Unit vector \n",
    "\n",
    "            # Get dot product of direction W->Q unit vector and the unit vector of scenting direction\n",
    "            similarity = np.dot(u_r, bias)  # bound between -1 and 1\n",
    "            # print(\"Similarity: {} \\n\".format(similarity))\n",
    "\n",
    "            # If within threshold allowed, bee is scenting correctly\n",
    "            correct_scenting = True if similarity <= CORRECT_SCENTING_THRESHOLD else False\n",
    "\n",
    "            # If correct_scenting, add True to correct_scenting_1_bee_all_t, else False\n",
    "            correct_scenting_1_bee_all_t.append(True) if correct_scenting == True else correct_scenting_1_bee_all_t.append(False)\n",
    "\n",
    "    #         k += 1\n",
    "\n",
    "    #         if k % 1 == 0:\n",
    "\n",
    "    #             plt.title(similarity)\n",
    "    #             plt.scatter([0], [0], c='k')\n",
    "    #             plt.scatter(*position, c='r')\n",
    "    #             plt.quiver(*position, *bias)\n",
    "    #             plt.quiver(*position, *u_r)\n",
    "    #             plt.quiver(*position, *-u_r)\n",
    "    #             plt.xlim([-0.5, 0.5])\n",
    "    #             plt.ylim([-1, 3]) \n",
    "    #             plt.figure()\n",
    "\n",
    "        else: \n",
    "            correct_scenting_1_bee_all_t.append(False)\n",
    "            \n",
    "    return correct_scenting_1_bee_all_t"
   ]
  },
  {
   "cell_type": "code",
   "execution_count": 9,
   "metadata": {},
   "outputs": [],
   "source": [
    "# Test function\n",
    "json_name = \"Q0.15_W0.5_D0.55_T0.5_wb1.json\"\n",
    "with open(\"position_data/{}\".format(json_name), \"r\") as f:\n",
    "    position_data = json.load(f)\n",
    "        \n",
    "one_bee_over_t = scenting_of_1_bee_all_t(position_data, replicate_i=0, worker_i=9)\n",
    "# one_bee_over_t"
   ]
  },
  {
   "cell_type": "markdown",
   "metadata": {},
   "source": [
    "Get correct_scenting_1_bee_all_t lists for all 50 workers in one replicate json. Then average over all 10 replicates to get one cumulative list."
   ]
  },
  {
   "cell_type": "code",
   "execution_count": 14,
   "metadata": {},
   "outputs": [],
   "source": [
    "def scenting_of_all_bees_all_t(position_data, rep_i):\n",
    "    \n",
    "    ''' Correct scenting info for all bees over all time for a single replicate. \n",
    "    Get list of length 50, each list inside is length 320 (all t). \n",
    "    Count number of scenting bees at each timestep. Return this list\n",
    "    of length 320. '''\n",
    "\n",
    "    all_bees_all_t = []\n",
    "\n",
    "    for bee_i, bee_info in enumerate(position_data[rep_i]):\n",
    "        one_bee = scenting_of_1_bee_all_t(position_data, replicate_i=rep_i, worker_i=bee_i+1)\n",
    "        all_bees_all_t.append(one_bee)\n",
    "        \n",
    "    # Count number of correctly scenting bees over time \n",
    "    # Combine all separate lists for bees into this list; each list inside is a timestep over all bees\n",
    "    ### Get scenting for all bees over all time\n",
    "    over_all_time = []\n",
    "\n",
    "    # Loop over all timesteps\n",
    "    for time_i in range(len(all_bees_all_t[0])):\n",
    "        # print(time_i)\n",
    "        # Loop over each of 50 lists in all_bees_all_t  \n",
    "        one_t = []\n",
    "        for bee_i in range(len(all_bees_all_t)):\n",
    "            scenting = all_bees_all_t[bee_i][time_i]\n",
    "            one_t.append(scenting)\n",
    "        over_all_time.append(one_t)\n",
    "        \n",
    "    ### Count scenting bees in swarm over time\n",
    "    swarm_over_time = []\n",
    "    for t in over_all_time:\n",
    "        scenting_true = sum(t)\n",
    "        swarm_over_time.append(scenting_true)\n",
    "        \n",
    "    return swarm_over_time"
   ]
  },
  {
   "cell_type": "code",
   "execution_count": 17,
   "metadata": {},
   "outputs": [
    {
     "data": {
      "text/plain": [
       "320"
      ]
     },
     "execution_count": 17,
     "metadata": {},
     "output_type": "execute_result"
    }
   ],
   "source": [
    "# Test function\n",
    "all_bees_over_t = scenting_of_all_bees_all_t(position_data, 1)\n",
    "len(all_bees_over_t)"
   ]
  },
  {
   "cell_type": "code",
   "execution_count": 29,
   "metadata": {},
   "outputs": [],
   "source": [
    "def scenting_of_all_replicates(json_name):\n",
    "    \n",
    "    ''' Correct scenting info for all replicates. \n",
    "    Return list of length [number of replicates] '''\n",
    "    \n",
    "    with open(\"position_data/{}\".format(json_name), \"r\") as f:\n",
    "        position_data = json.load(f)\n",
    "    \n",
    "    all_reps = []\n",
    "    for rep_i in range(len(position_data)):\n",
    "        rep_lists = scenting_of_all_bees_all_t(position_data, rep_i)\n",
    "        all_reps.append(rep_lists)\n",
    "        \n",
    "    # Write to json\n",
    "    with open('correct_scenting_data/{}'.format(json_name), 'w') as outfile:\n",
    "        json.dump(all_reps, outfile)\n",
    "\n",
    "    return None"
   ]
  },
  {
   "cell_type": "code",
   "execution_count": 33,
   "metadata": {},
   "outputs": [],
   "source": [
    "# Test function\n",
    "json_name = \"Q0.15_W0.5_D0.55_T0.5_wb1.json\"\n",
    "scenting_of_all_replicates(json_name)"
   ]
  },
  {
   "cell_type": "code",
   "execution_count": 35,
   "metadata": {},
   "outputs": [
    {
     "name": "stdout",
     "output_type": "stream",
     "text": [
      "1. Saving correct scenting for: Q0.15_W0.0005_D0.05_T0.005_wb1.json\n",
      "2. Saving correct scenting for: Q0.15_W0.0005_D0.05_T0.5_wb1.json\n",
      "3. Saving correct scenting for: Q0.15_W0.0005_D0.15_T0.005_wb1.json\n",
      "4. Saving correct scenting for: Q0.15_W0.0005_D0.15_T0.5_wb1.json\n",
      "5. Saving correct scenting for: Q0.15_W0.0005_D0.25_T0.005_wb1.json\n",
      "6. Saving correct scenting for: Q0.15_W0.0005_D0.25_T0.5_wb1.json\n",
      "7. Saving correct scenting for: Q0.15_W0.0005_D0.35_T0.005_wb1.json\n",
      "8. Saving correct scenting for: Q0.15_W0.0005_D0.35_T0.5_wb1.json\n",
      "9. Saving correct scenting for: Q0.15_W0.0005_D0.45_T0.005_wb1.json\n",
      "10. Saving correct scenting for: Q0.15_W0.0005_D0.45_T0.5_wb1.json\n",
      "11. Saving correct scenting for: Q0.15_W0.0005_D0.55_T0.005_wb1.json\n",
      "12. Saving correct scenting for: Q0.15_W0.0005_D0.55_T0.5_wb1.json\n",
      "13. Saving correct scenting for: Q0.15_W0.001_D0.05_T0.005_wb1.json\n",
      "14. Saving correct scenting for: Q0.15_W0.001_D0.05_T0.5_wb1.json\n",
      "15. Saving correct scenting for: Q0.15_W0.001_D0.15_T0.005_wb1.json\n",
      "16. Saving correct scenting for: Q0.15_W0.001_D0.15_T0.5_wb1.json\n",
      "17. Saving correct scenting for: Q0.15_W0.001_D0.25_T0.005_wb1.json\n",
      "18. Saving correct scenting for: Q0.15_W0.001_D0.25_T0.5_wb1.json\n",
      "19. Saving correct scenting for: Q0.15_W0.001_D0.35_T0.005_wb1.json\n",
      "20. Saving correct scenting for: Q0.15_W0.001_D0.35_T0.5_wb1.json\n",
      "21. Saving correct scenting for: Q0.15_W0.001_D0.45_T0.005_wb1.json\n",
      "22. Saving correct scenting for: Q0.15_W0.001_D0.45_T0.5_wb1.json\n",
      "23. Saving correct scenting for: Q0.15_W0.001_D0.55_T0.005_wb1.json\n",
      "24. Saving correct scenting for: Q0.15_W0.001_D0.55_T0.5_wb1.json\n",
      "25. Saving correct scenting for: Q0.15_W0.005_D0.05_T0.005_wb1.json\n",
      "26. Saving correct scenting for: Q0.15_W0.005_D0.05_T0.5_wb1.json\n",
      "27. Saving correct scenting for: Q0.15_W0.005_D0.15_T0.005_wb1.json\n",
      "28. Saving correct scenting for: Q0.15_W0.005_D0.15_T0.5_wb1.json\n",
      "29. Saving correct scenting for: Q0.15_W0.005_D0.25_T0.005_wb1.json\n",
      "30. Saving correct scenting for: Q0.15_W0.005_D0.25_T0.5_wb1.json\n",
      "31. Saving correct scenting for: Q0.15_W0.005_D0.35_T0.005_wb1.json\n",
      "32. Saving correct scenting for: Q0.15_W0.005_D0.35_T0.5_wb1.json\n",
      "33. Saving correct scenting for: Q0.15_W0.005_D0.45_T0.005_wb1.json\n",
      "34. Saving correct scenting for: Q0.15_W0.005_D0.45_T0.5_wb1.json\n",
      "35. Saving correct scenting for: Q0.15_W0.005_D0.55_T0.005_wb1.json\n",
      "36. Saving correct scenting for: Q0.15_W0.005_D0.55_T0.5_wb1.json\n",
      "37. Saving correct scenting for: Q0.15_W0.01_D0.05_T0.005_wb1.json\n",
      "38. Saving correct scenting for: Q0.15_W0.01_D0.05_T0.5_wb1.json\n",
      "39. Saving correct scenting for: Q0.15_W0.01_D0.15_T0.005_wb1.json\n",
      "40. Saving correct scenting for: Q0.15_W0.01_D0.15_T0.5_wb1.json\n",
      "41. Saving correct scenting for: Q0.15_W0.01_D0.25_T0.005_wb1.json\n",
      "42. Saving correct scenting for: Q0.15_W0.01_D0.25_T0.5_wb1.json\n",
      "43. Saving correct scenting for: Q0.15_W0.01_D0.35_T0.005_wb1.json\n",
      "44. Saving correct scenting for: Q0.15_W0.01_D0.35_T0.5_wb1.json\n",
      "45. Saving correct scenting for: Q0.15_W0.01_D0.45_T0.005_wb1.json\n",
      "46. Saving correct scenting for: Q0.15_W0.01_D0.45_T0.5_wb1.json\n",
      "47. Saving correct scenting for: Q0.15_W0.01_D0.55_T0.005_wb1.json\n",
      "48. Saving correct scenting for: Q0.15_W0.01_D0.55_T0.5_wb1.json\n",
      "49. Saving correct scenting for: Q0.15_W0.05_D0.05_T0.005_wb1.json\n",
      "50. Saving correct scenting for: Q0.15_W0.05_D0.05_T0.5_wb1.json\n",
      "51. Saving correct scenting for: Q0.15_W0.05_D0.15_T0.005_wb1.json\n",
      "52. Saving correct scenting for: Q0.15_W0.05_D0.15_T0.5_wb1.json\n",
      "53. Saving correct scenting for: Q0.15_W0.05_D0.25_T0.005_wb1.json\n",
      "54. Saving correct scenting for: Q0.15_W0.05_D0.25_T0.5_wb1.json\n",
      "55. Saving correct scenting for: Q0.15_W0.05_D0.35_T0.005_wb1.json\n",
      "56. Saving correct scenting for: Q0.15_W0.05_D0.35_T0.5_wb1.json\n",
      "57. Saving correct scenting for: Q0.15_W0.05_D0.45_T0.005_wb1.json\n",
      "58. Saving correct scenting for: Q0.15_W0.05_D0.45_T0.5_wb1.json\n",
      "59. Saving correct scenting for: Q0.15_W0.05_D0.55_T0.005_wb1.json\n",
      "60. Saving correct scenting for: Q0.15_W0.05_D0.55_T0.5_wb1.json\n",
      "61. Saving correct scenting for: Q0.15_W0.1_D0.05_T0.005_wb1.json\n",
      "62. Saving correct scenting for: Q0.15_W0.1_D0.05_T0.5_wb1.json\n",
      "63. Saving correct scenting for: Q0.15_W0.1_D0.15_T0.005_wb1.json\n",
      "64. Saving correct scenting for: Q0.15_W0.1_D0.15_T0.5_wb1.json\n",
      "65. Saving correct scenting for: Q0.15_W0.1_D0.25_T0.005_wb1.json\n",
      "66. Saving correct scenting for: Q0.15_W0.1_D0.25_T0.5_wb1.json\n",
      "67. Saving correct scenting for: Q0.15_W0.1_D0.35_T0.005_wb1.json\n",
      "68. Saving correct scenting for: Q0.15_W0.1_D0.35_T0.5_wb1.json\n",
      "69. Saving correct scenting for: Q0.15_W0.1_D0.45_T0.005_wb1.json\n",
      "70. Saving correct scenting for: Q0.15_W0.1_D0.45_T0.5_wb1.json\n",
      "71. Saving correct scenting for: Q0.15_W0.1_D0.55_T0.005_wb1.json\n",
      "72. Saving correct scenting for: Q0.15_W0.1_D0.55_T0.5_wb1.json\n",
      "73. Saving correct scenting for: Q0.15_W0.5_D0.05_T0.005_wb1.json\n",
      "74. Saving correct scenting for: Q0.15_W0.5_D0.05_T0.5_wb1.json\n",
      "75. Saving correct scenting for: Q0.15_W0.5_D0.15_T0.005_wb1.json\n",
      "76. Saving correct scenting for: Q0.15_W0.5_D0.15_T0.5_wb1.json\n",
      "77. Saving correct scenting for: Q0.15_W0.5_D0.25_T0.005_wb1.json\n",
      "78. Saving correct scenting for: Q0.15_W0.5_D0.25_T0.5_wb1.json\n",
      "79. Saving correct scenting for: Q0.15_W0.5_D0.35_T0.005_wb1.json\n",
      "80. Saving correct scenting for: Q0.15_W0.5_D0.35_T0.5_wb1.json\n",
      "81. Saving correct scenting for: Q0.15_W0.5_D0.45_T0.005_wb1.json\n",
      "82. Saving correct scenting for: Q0.15_W0.5_D0.45_T0.5_wb1.json\n",
      "83. Saving correct scenting for: Q0.15_W0.5_D0.55_T0.005_wb1.json\n",
      "84. Saving correct scenting for: Q0.15_W0.5_D0.55_T0.5_wb1.json\n"
     ]
    }
   ],
   "source": [
    "# Get data for all sets of params\n",
    "data_list = list(map(lambda x : x.split(\"/\")[-1], \n",
    "                glob2.glob(\"position_data/*\")))\n",
    "    \n",
    "for i, d in enumerate(data_list):\n",
    "    print(\"{}. Saving correct scenting for: {}\".format(i+1, d))\n",
    "    d_list = scenting_of_all_replicates(d)"
   ]
  },
  {
   "cell_type": "markdown",
   "metadata": {},
   "source": [
    "### Get proportion of correctly scenting bees"
   ]
  },
  {
   "cell_type": "code",
   "execution_count": 37,
   "metadata": {},
   "outputs": [],
   "source": [
    "with open(\"scenting_all_data/Q0.15_W0.5_D0.55_T0.5_wb1.json.json\", \"r\") as f:\n",
    "    scenting_all_data = json.load(f)\n",
    "    \n",
    "with open(\"scenting_correct_data/Q0.15_W0.5_D0.55_T0.5_wb1.json\", \"r\") as f:\n",
    "    scenting_correct_data = json.load(f)\n",
    "    "
   ]
  },
  {
   "cell_type": "code",
   "execution_count": 40,
   "metadata": {},
   "outputs": [
    {
     "data": {
      "text/plain": [
       "(10, 10)"
      ]
     },
     "execution_count": 40,
     "metadata": {},
     "output_type": "execute_result"
    }
   ],
   "source": [
    "len(scenting_all_data), len(scenting_correct_data)"
   ]
  },
  {
   "cell_type": "code",
   "execution_count": 41,
   "metadata": {},
   "outputs": [
    {
     "data": {
      "text/plain": [
       "(320, 320)"
      ]
     },
     "execution_count": 41,
     "metadata": {},
     "output_type": "execute_result"
    }
   ],
   "source": [
    "len(scenting_all_data[0]), len(scenting_correct_data[0])"
   ]
  },
  {
   "cell_type": "code",
   "execution_count": 82,
   "metadata": {},
   "outputs": [],
   "source": [
    "def get_proportions(scenting_all_data, scenting_correct_data, replicate_i):\n",
    "    \n",
    "    ''' For one replicate. '''\n",
    "    \n",
    "#     with open(\"scenting_all_data/{}\".format(all_json), \"r\") as f:\n",
    "#         scenting_all_data = json.load(f)\n",
    "    \n",
    "#     with open(\"scenting_correct_data/{}\".format(correct_json), \"r\") as f:\n",
    "#         scenting_correct_data = json.load(f)\n",
    "    \n",
    "    \n",
    "    # List of 10 replicates' proportions of correct over t\n",
    "    correct_proportions = []\n",
    "\n",
    "    # Over 1 replicate's 320 time steps\n",
    "    for i in range(len(scenting_all_data[replicate_i])):\n",
    "        all_scenting = scenting_all_data[replicate_i][i]\n",
    "        correct_scenting = scenting_correct_data[replicate_i][i]\n",
    "        # print(all_scenting, correct_scenting)\n",
    "\n",
    "        if all_scenting != 0:\n",
    "            proportion = correct_scenting / all_scenting\n",
    "            # print(proportion)\n",
    "            # print(\"\\n\")\n",
    "            correct_proportions.append(proportion)\n",
    "        else:\n",
    "            correct_proportions.append(0)\n",
    "\n",
    "    return correct_proportions"
   ]
  },
  {
   "cell_type": "code",
   "execution_count": 83,
   "metadata": {},
   "outputs": [],
   "source": [
    "# get_proportions(\"Q0.15_W0.5_D0.55_T0.5_wb1.json.json\", \"Q0.15_W0.5_D0.55_T0.5_wb1.json\")"
   ]
  },
  {
   "cell_type": "markdown",
   "metadata": {},
   "source": [
    "Get all 10 replicates for a param set."
   ]
  },
  {
   "cell_type": "code",
   "execution_count": 92,
   "metadata": {},
   "outputs": [],
   "source": [
    "def get_proportions_all_reps(all_json, correct_json):\n",
    "    \n",
    "    with open(\"scenting_all_data/{}\".format(all_json), \"r\") as f:\n",
    "        scenting_all = json.load(f)\n",
    "\n",
    "    with open(\"scenting_correct_data/{}\".format(correct_json), \"r\") as f:\n",
    "        scenting_correct = json.load(f)\n",
    "        \n",
    "    proportions_all_reps = []\n",
    "    for i in range(len(scenting_all)):\n",
    "        proportions_1_rep = get_proportions(scenting_all, scenting_correct, i)\n",
    "        proportions_all_reps.append(proportions_1_rep)\n",
    "        \n",
    "    return proportions_all_reps"
   ]
  },
  {
   "cell_type": "code",
   "execution_count": 97,
   "metadata": {},
   "outputs": [
    {
     "data": {
      "text/plain": [
       "(10, 320)"
      ]
     },
     "execution_count": 97,
     "metadata": {},
     "output_type": "execute_result"
    }
   ],
   "source": [
    "x = get_proportions_all_reps(\"Q0.15_W0.5_D0.55_T0.5_wb1.json.json\", \"Q0.15_W0.5_D0.55_T0.5_wb1.json\")\n",
    "len(x), len(x[0])"
   ]
  },
  {
   "cell_type": "code",
   "execution_count": 69,
   "metadata": {},
   "outputs": [
    {
     "name": "stdout",
     "output_type": "stream",
     "text": [
      "1. Getting proportions for: Q0.15_W0.0005_D0.05_T0.005_wb1.json\n",
      "2. Getting proportions for: Q0.15_W0.0005_D0.05_T0.5_wb1.json\n",
      "3. Getting proportions for: Q0.15_W0.0005_D0.15_T0.005_wb1.json\n",
      "4. Getting proportions for: Q0.15_W0.0005_D0.15_T0.5_wb1.json\n",
      "5. Getting proportions for: Q0.15_W0.0005_D0.25_T0.005_wb1.json\n",
      "6. Getting proportions for: Q0.15_W0.0005_D0.25_T0.5_wb1.json\n",
      "7. Getting proportions for: Q0.15_W0.0005_D0.35_T0.005_wb1.json\n",
      "8. Getting proportions for: Q0.15_W0.0005_D0.35_T0.5_wb1.json\n",
      "9. Getting proportions for: Q0.15_W0.0005_D0.45_T0.005_wb1.json\n",
      "10. Getting proportions for: Q0.15_W0.0005_D0.45_T0.5_wb1.json\n",
      "11. Getting proportions for: Q0.15_W0.0005_D0.55_T0.005_wb1.json\n",
      "12. Getting proportions for: Q0.15_W0.0005_D0.55_T0.5_wb1.json\n",
      "13. Getting proportions for: Q0.15_W0.001_D0.05_T0.005_wb1.json\n",
      "14. Getting proportions for: Q0.15_W0.001_D0.05_T0.5_wb1.json\n",
      "15. Getting proportions for: Q0.15_W0.001_D0.15_T0.005_wb1.json\n",
      "16. Getting proportions for: Q0.15_W0.001_D0.15_T0.5_wb1.json\n",
      "17. Getting proportions for: Q0.15_W0.001_D0.25_T0.005_wb1.json\n",
      "18. Getting proportions for: Q0.15_W0.001_D0.25_T0.5_wb1.json\n",
      "19. Getting proportions for: Q0.15_W0.001_D0.35_T0.005_wb1.json\n",
      "20. Getting proportions for: Q0.15_W0.001_D0.35_T0.5_wb1.json\n",
      "21. Getting proportions for: Q0.15_W0.001_D0.45_T0.005_wb1.json\n",
      "22. Getting proportions for: Q0.15_W0.001_D0.45_T0.5_wb1.json\n",
      "23. Getting proportions for: Q0.15_W0.001_D0.55_T0.005_wb1.json\n",
      "24. Getting proportions for: Q0.15_W0.001_D0.55_T0.5_wb1.json\n",
      "25. Getting proportions for: Q0.15_W0.005_D0.05_T0.005_wb1.json\n",
      "26. Getting proportions for: Q0.15_W0.005_D0.05_T0.5_wb1.json\n",
      "27. Getting proportions for: Q0.15_W0.005_D0.15_T0.005_wb1.json\n",
      "28. Getting proportions for: Q0.15_W0.005_D0.15_T0.5_wb1.json\n",
      "29. Getting proportions for: Q0.15_W0.005_D0.25_T0.005_wb1.json\n",
      "30. Getting proportions for: Q0.15_W0.005_D0.25_T0.5_wb1.json\n",
      "31. Getting proportions for: Q0.15_W0.005_D0.35_T0.005_wb1.json\n",
      "32. Getting proportions for: Q0.15_W0.005_D0.35_T0.5_wb1.json\n",
      "33. Getting proportions for: Q0.15_W0.005_D0.45_T0.005_wb1.json\n",
      "34. Getting proportions for: Q0.15_W0.005_D0.45_T0.5_wb1.json\n",
      "35. Getting proportions for: Q0.15_W0.005_D0.55_T0.005_wb1.json\n",
      "36. Getting proportions for: Q0.15_W0.005_D0.55_T0.5_wb1.json\n",
      "37. Getting proportions for: Q0.15_W0.01_D0.05_T0.005_wb1.json\n",
      "38. Getting proportions for: Q0.15_W0.01_D0.05_T0.5_wb1.json\n",
      "39. Getting proportions for: Q0.15_W0.01_D0.15_T0.005_wb1.json\n",
      "40. Getting proportions for: Q0.15_W0.01_D0.15_T0.5_wb1.json\n",
      "41. Getting proportions for: Q0.15_W0.01_D0.25_T0.005_wb1.json\n",
      "42. Getting proportions for: Q0.15_W0.01_D0.25_T0.5_wb1.json\n",
      "43. Getting proportions for: Q0.15_W0.01_D0.35_T0.005_wb1.json\n",
      "44. Getting proportions for: Q0.15_W0.01_D0.35_T0.5_wb1.json\n",
      "45. Getting proportions for: Q0.15_W0.01_D0.45_T0.005_wb1.json\n",
      "46. Getting proportions for: Q0.15_W0.01_D0.45_T0.5_wb1.json\n",
      "47. Getting proportions for: Q0.15_W0.01_D0.55_T0.005_wb1.json\n",
      "48. Getting proportions for: Q0.15_W0.01_D0.55_T0.5_wb1.json\n",
      "49. Getting proportions for: Q0.15_W0.05_D0.05_T0.005_wb1.json\n",
      "50. Getting proportions for: Q0.15_W0.05_D0.05_T0.5_wb1.json\n",
      "51. Getting proportions for: Q0.15_W0.05_D0.15_T0.005_wb1.json\n",
      "52. Getting proportions for: Q0.15_W0.05_D0.15_T0.5_wb1.json\n",
      "53. Getting proportions for: Q0.15_W0.05_D0.25_T0.005_wb1.json\n",
      "54. Getting proportions for: Q0.15_W0.05_D0.25_T0.5_wb1.json\n",
      "55. Getting proportions for: Q0.15_W0.05_D0.35_T0.005_wb1.json\n",
      "56. Getting proportions for: Q0.15_W0.05_D0.35_T0.5_wb1.json\n",
      "57. Getting proportions for: Q0.15_W0.05_D0.45_T0.005_wb1.json\n",
      "58. Getting proportions for: Q0.15_W0.05_D0.45_T0.5_wb1.json\n",
      "59. Getting proportions for: Q0.15_W0.05_D0.55_T0.005_wb1.json\n",
      "60. Getting proportions for: Q0.15_W0.05_D0.55_T0.5_wb1.json\n",
      "61. Getting proportions for: Q0.15_W0.1_D0.05_T0.005_wb1.json\n",
      "62. Getting proportions for: Q0.15_W0.1_D0.05_T0.5_wb1.json\n",
      "63. Getting proportions for: Q0.15_W0.1_D0.15_T0.005_wb1.json\n",
      "64. Getting proportions for: Q0.15_W0.1_D0.15_T0.5_wb1.json\n",
      "65. Getting proportions for: Q0.15_W0.1_D0.25_T0.005_wb1.json\n",
      "66. Getting proportions for: Q0.15_W0.1_D0.25_T0.5_wb1.json\n",
      "67. Getting proportions for: Q0.15_W0.1_D0.35_T0.005_wb1.json\n",
      "68. Getting proportions for: Q0.15_W0.1_D0.35_T0.5_wb1.json\n",
      "69. Getting proportions for: Q0.15_W0.1_D0.45_T0.005_wb1.json\n",
      "70. Getting proportions for: Q0.15_W0.1_D0.45_T0.5_wb1.json\n",
      "71. Getting proportions for: Q0.15_W0.1_D0.55_T0.005_wb1.json\n",
      "72. Getting proportions for: Q0.15_W0.1_D0.55_T0.5_wb1.json\n",
      "73. Getting proportions for: Q0.15_W0.5_D0.05_T0.005_wb1.json\n",
      "74. Getting proportions for: Q0.15_W0.5_D0.05_T0.5_wb1.json\n",
      "75. Getting proportions for: Q0.15_W0.5_D0.15_T0.005_wb1.json\n",
      "76. Getting proportions for: Q0.15_W0.5_D0.15_T0.5_wb1.json\n",
      "77. Getting proportions for: Q0.15_W0.5_D0.25_T0.005_wb1.json\n",
      "78. Getting proportions for: Q0.15_W0.5_D0.25_T0.5_wb1.json\n",
      "79. Getting proportions for: Q0.15_W0.5_D0.35_T0.005_wb1.json\n",
      "80. Getting proportions for: Q0.15_W0.5_D0.35_T0.5_wb1.json\n",
      "81. Getting proportions for: Q0.15_W0.5_D0.45_T0.005_wb1.json\n",
      "82. Getting proportions for: Q0.15_W0.5_D0.45_T0.5_wb1.json\n",
      "83. Getting proportions for: Q0.15_W0.5_D0.55_T0.005_wb1.json\n",
      "84. Getting proportions for: Q0.15_W0.5_D0.55_T0.5_wb1.json\n"
     ]
    }
   ],
   "source": [
    "# For all param sets\n",
    "all_list = list(map(lambda x : x.split(\"/\")[-1], glob2.glob(\"scenting_all_data/*\")))\n",
    "correct_list = list(map(lambda x : x.split(\"/\")[-1], glob2.glob(\"scenting_correct_data/*\")))\n",
    "    \n",
    "all_sets_proportions = []\n",
    "for i in range(len(all_list)):\n",
    "    print(\"{}. Getting proportions for: {}\".format(i+1, correct_list[i]))\n",
    "    p_list = get_proportions_all_reps(all_list[i], correct_list[i])\n",
    "    all_sets_proportions.append(p_list)"
   ]
  },
  {
   "cell_type": "code",
   "execution_count": 90,
   "metadata": {},
   "outputs": [
    {
     "data": {
      "text/plain": [
       "84"
      ]
     },
     "execution_count": 90,
     "metadata": {},
     "output_type": "execute_result"
    }
   ],
   "source": [
    "len(all_reps_proportions)"
   ]
  },
  {
   "cell_type": "code",
   "execution_count": null,
   "metadata": {},
   "outputs": [],
   "source": []
  }
 ],
 "metadata": {
  "kernelspec": {
   "display_name": "Python 3",
   "language": "python",
   "name": "python3"
  },
  "language_info": {
   "codemirror_mode": {
    "name": "ipython",
    "version": 3
   },
   "file_extension": ".py",
   "mimetype": "text/x-python",
   "name": "python",
   "nbconvert_exporter": "python",
   "pygments_lexer": "ipython3",
   "version": "3.6.4"
  }
 },
 "nbformat": 4,
 "nbformat_minor": 2
}
