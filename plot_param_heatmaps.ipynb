{
 "cells": [
  {
   "cell_type": "code",
   "execution_count": 1,
   "metadata": {},
   "outputs": [],
   "source": [
    "import numpy as np\n",
    "import glob2\n",
    "import matplotlib.pyplot as plt\n",
    "import os\n",
    "import json\n",
    "import itertools\n",
    "import pandas as pd\n",
    "import seaborn as sns"
   ]
  },
  {
   "cell_type": "code",
   "execution_count": 2,
   "metadata": {},
   "outputs": [
    {
     "name": "stdout",
     "output_type": "stream",
     "text": [
      "W = [0.005 0.17  0.335 0.5  ]\n",
      "D = [0.05 0.2  0.35 0.5 ]\n",
      "T = [0.001      0.00233333 0.00366667 0.005     ]\n"
     ]
    }
   ],
   "source": [
    "# Four params and their values, each is a np array\n",
    "queen_bee_concentrations = np.linspace(0.01, 0.5, 4)\n",
    "# print(\"Q = {}\".format(queen_bee_concentrations))\n",
    "\n",
    "worker_bee_concentrations = np.linspace(0.005, 0.5, 4)\n",
    "print(\"W = {}\".format(worker_bee_concentrations))\n",
    "\n",
    "diffusion_coefficients = np.linspace(0.05, 0.5, 4)\n",
    "print(\"D = {}\".format(diffusion_coefficients))\n",
    "\n",
    "worker_bee_thresholds = np.linspace(0.001, 0.005, 4)\n",
    "print(\"T = {}\".format(worker_bee_thresholds))\n"
   ]
  },
  {
   "cell_type": "code",
   "execution_count": 24,
   "metadata": {},
   "outputs": [],
   "source": [
    "# Get names of all 64 json's\n",
    "json_list = list(map(lambda x : x.split(\"/\")[-1], glob2.glob(\"avg_distance_data/*.json\")))"
   ]
  },
  {
   "cell_type": "code",
   "execution_count": 4,
   "metadata": {},
   "outputs": [],
   "source": [
    "def get_matching_filenames(json_list, param_1, param_2, value_1, value_2):\n",
    "    matching_json_names = []\n",
    "    for i in range(len(json_list)):\n",
    "        if (json_list[i].find(param_1+str(value_1)) != -1) and (json_list[i].find(param_2+str(value_2)) != -1):\n",
    "            matching_json_names.append(json_list[i])\n",
    "    \n",
    "    return matching_json_names"
   ]
  },
  {
   "cell_type": "code",
   "execution_count": 8,
   "metadata": {},
   "outputs": [],
   "source": [
    "# # Test above function on 1 set of param pair values\n",
    "# names = get_matching_filenames(json_list, \"Q\", \"W\", 0.01, 0.005)\n",
    "# print(names)"
   ]
  },
  {
   "cell_type": "code",
   "execution_count": 5,
   "metadata": {},
   "outputs": [],
   "source": [
    "def get_ending_distances(json_file):\n",
    "    # Get the 10 ending values of a single json\n",
    "    with open(\"avg_distance_data/\" + json_file, \"r\") as f:\n",
    "        data = json.load(f)\n",
    "        # print(data)\n",
    "        \n",
    "    # For 1 JSON of 10 replicate swarms: going through its 10 lists\n",
    "    dist_list = []\n",
    "    for i in range(len(data)):\n",
    "        ending_dist = data[i][-1]\n",
    "        dist_list.append(ending_dist)\n",
    "        \n",
    "    dist_avg = np.median(dist_list)\n",
    "    dist_var = np.var(dist_list)\n",
    "    \n",
    "    return dist_avg, dist_var"
   ]
  },
  {
   "cell_type": "code",
   "execution_count": 7,
   "metadata": {},
   "outputs": [
    {
     "name": "stdout",
     "output_type": "stream",
     "text": [
      "(3.654189784839139, 0.06466756133447867)\n"
     ]
    }
   ],
   "source": [
    "# Testing above function\n",
    "x = get_ending_distances(\"Q0.17333333333333334_W0.5_D0.2_T0.001.json\")\n",
    "print(x)"
   ]
  },
  {
   "cell_type": "code",
   "execution_count": 8,
   "metadata": {},
   "outputs": [],
   "source": [
    "def get_mean_var(json_list, param_1, param_2, value_1, value_2):\n",
    "\n",
    "    # Load in a json list and get ending value of each list, then average and variance those 160 values\n",
    "    \n",
    "#     param_pair_distances = []\n",
    "    # print(len(param_pair_distances))\n",
    "    # print(param_pair_distances[0])\n",
    "\n",
    "    averages = []\n",
    "    variances = []\n",
    "    \n",
    "    names = get_matching_filenames(json_list, param_1, param_2, value_1, value_2)\n",
    "\n",
    "    for n in names:\n",
    "        # print(n)\n",
    "        distance_tuple = get_ending_distances(n)\n",
    "        # print(distance_tuple)\n",
    "        averages.append(distance_tuple[0])\n",
    "        variances.append(distance_tuple[1])\n",
    "\n",
    "#     # Merge lists in param_pair_distances\n",
    "#     merged = list(itertools.chain.from_iterable(param_pair_distances))\n",
    "#     # print(merged)\n",
    "#     merged_mean = np.mean(merged)\n",
    "#     # print(merged_mean)\n",
    "#     merged_var = np.var(merged)\n",
    "#     # print(merged_var)\n",
    "    \n",
    "#     return merged_mean, merged_var\n",
    "    return np.median(averages), np.median(variances)\n"
   ]
  },
  {
   "cell_type": "code",
   "execution_count": 16,
   "metadata": {},
   "outputs": [
    {
     "data": {
      "text/plain": [
       "(0.022955878097973385, 6.441175532668336e-06)"
      ]
     },
     "execution_count": 16,
     "metadata": {},
     "output_type": "execute_result"
    }
   ],
   "source": [
    "# Test above function\n",
    "get_mean_var(json_list, \"W\", \"D\", 0.005, 0.5)"
   ]
  },
  {
   "cell_type": "code",
   "execution_count": 17,
   "metadata": {},
   "outputs": [
    {
     "data": {
      "text/plain": [
       "(3.7363824070477496, 0.06047213153547721)"
      ]
     },
     "execution_count": 17,
     "metadata": {},
     "output_type": "execute_result"
    }
   ],
   "source": [
    "# Test above function\n",
    "get_mean_var(json_list, \"W\", \"T\", 0.5, 0.001)"
   ]
  },
  {
   "cell_type": "code",
   "execution_count": 18,
   "metadata": {},
   "outputs": [],
   "source": [
    "# Iterate through different pairs of params and their values\n",
    "\n",
    "def compare_params(json_list, param_1, param_2, list_1, value_2):\n",
    "    # Create one column for a W values against 4 queen values\n",
    "    all_averages = []\n",
    "    all_variances = []\n",
    "    for item in list_1:\n",
    "        # print(item)\n",
    "        mean_var = get_mean_var(json_list, param_1, param_2, item, value_2)\n",
    "        # print(mean_var)\n",
    "        all_averages.append(mean_var[0])\n",
    "        all_variances.append(mean_var[1]) \n",
    "        \n",
    "    return all_averages, all_variances"
   ]
  },
  {
   "cell_type": "code",
   "execution_count": 22,
   "metadata": {
    "scrolled": false
   },
   "outputs": [
    {
     "data": {
      "text/plain": [
       "([2.8743878225241737, 3.150664040496416, 3.178686720176358, 3.144458254656927],\n",
       " [0.12124700233577942,\n",
       "  0.01940788889699916,\n",
       "  0.011929965610283009,\n",
       "  0.013791541970146003])"
      ]
     },
     "execution_count": 22,
     "metadata": {},
     "output_type": "execute_result"
    }
   ],
   "source": [
    "# Test\n",
    "compare_params(json_list, \"W\", \"D\", worker_bee_concentrations, 0.05)\n",
    "# test_variances = compare_params(json_list, \"Q\", \"W\", queen_bee_concentrations, 0.005)\n",
    "# test_means"
   ]
  },
  {
   "cell_type": "markdown",
   "metadata": {},
   "source": [
    "## Returning DF "
   ]
  },
  {
   "cell_type": "code",
   "execution_count": 23,
   "metadata": {},
   "outputs": [],
   "source": [
    "def get_dataframe(json_list, param_1, list_1, param_2, list_2, avg_or_var, index_array):\n",
    "    \n",
    "    # Get 4 lists of values contained in cumulative list\n",
    "    vals_list = []\n",
    "    for val in list_2:\n",
    "        if avg_or_var == \"avg\":\n",
    "            x = compare_params(json_list, param_1, param_2, list_1, val)[0]\n",
    "            vals_list.append(x)\n",
    "        elif avg_or_var == \"var\":\n",
    "            x = compare_params(json_list, param_1, param_2, list_1, val)[1]\n",
    "            vals_list.append(x)\n",
    "        \n",
    "    # Turn into dict\n",
    "    data = {}\n",
    "    for i, key in enumerate(list_2):\n",
    "        if len(str(key)) >= 5:\n",
    "            key = \"{0:.3f}\".format(key)\n",
    "            # print(key, type(key))\n",
    "            data[key] = vals_list[i]\n",
    "        else:\n",
    "            # print(key, type(key))\n",
    "            data[key] = vals_list[i]\n",
    "            \n",
    "    # Turn into dataframe \n",
    "    df = pd.DataFrame(data, index=[index_array])\n",
    "\n",
    "    return df\n"
   ]
  },
  {
   "cell_type": "markdown",
   "metadata": {},
   "source": [
    "### Queen vs Worker"
   ]
  },
  {
   "cell_type": "code",
   "execution_count": 42,
   "metadata": {},
   "outputs": [
    {
     "name": "stderr",
     "output_type": "stream",
     "text": [
      "/Users/dieumynguyen/anaconda3/lib/python3.6/site-packages/numpy/core/fromnumeric.py:2957: RuntimeWarning: Mean of empty slice.\n",
      "  out=out, **kwargs)\n",
      "/Users/dieumynguyen/anaconda3/lib/python3.6/site-packages/numpy/core/_methods.py:80: RuntimeWarning: invalid value encountered in double_scalars\n",
      "  ret = ret.dtype.type(ret / rcount)\n"
     ]
    },
    {
     "name": "stdout",
     "output_type": "stream",
     "text": [
      "Q_W_avg_df:\n",
      "          0.005      0.17     0.335       0.5\n",
      "0.010       NaN       NaN       NaN       NaN\n",
      "0.173  0.028012  3.349665  3.650892  3.654042\n",
      "0.340       NaN       NaN       NaN       NaN\n",
      "0.500       NaN       NaN       NaN       NaN\n",
      "\n",
      "\n",
      "Q_W_var_df:\n",
      "          0.005      0.17     0.335       0.5\n",
      "0.010       NaN       NaN       NaN       NaN\n",
      "0.173  0.000012  0.148303  0.079385  0.060472\n",
      "0.340       NaN       NaN       NaN       NaN\n",
      "0.500       NaN       NaN       NaN       NaN\n",
      "\n",
      "\n"
     ]
    }
   ],
   "source": [
    "Q_W_avg_df = get_dataframe(json_list, \"Q\", queen_bee_concentrations, \"W\", worker_bee_concentrations, \"avg\", [0.01, 0.173, 0.34, 0.5])\n",
    "print(\"Q_W_avg_df:\")\n",
    "print(Q_W_avg_df)\n",
    "print(\"\\n\")\n",
    "\n",
    "Q_W_var_df = get_dataframe(json_list, \"Q\", queen_bee_concentrations, \"W\", worker_bee_concentrations, \"var\", [0.01, 0.173, 0.34, 0.5])\n",
    "print(\"Q_W_var_df:\")\n",
    "print(Q_W_var_df)\n",
    "print(\"\\n\")"
   ]
  },
  {
   "cell_type": "markdown",
   "metadata": {},
   "source": [
    "### Queen vs Coefficient"
   ]
  },
  {
   "cell_type": "code",
   "execution_count": 61,
   "metadata": {
    "scrolled": true
   },
   "outputs": [],
   "source": [
    "# Q_D_avg_df = get_dataframe(json_list, \"Q\", queen_bee_concentrations, \"D\", diffusion_coefficients, \"avg\", [0.01, 0.173, 0.34, 0.5])\n",
    "# print(\"Q_D_avg_df:\")\n",
    "# print(Q_D_avg_df)\n",
    "# print(\"\\n\")\n",
    "\n",
    "# Q_D_var_df = get_dataframe(json_list, \"Q\", queen_bee_concentrations, \"D\", diffusion_coefficients, \"var\", [0.01, 0.173, 0.34, 0.5])\n",
    "# print(\"Q_D_var_df:\")\n",
    "# print(Q_D_var_df)\n",
    "# print(\"\\n\")"
   ]
  },
  {
   "cell_type": "markdown",
   "metadata": {},
   "source": [
    "### Queen vs Threshold"
   ]
  },
  {
   "cell_type": "code",
   "execution_count": 62,
   "metadata": {
    "scrolled": true
   },
   "outputs": [],
   "source": [
    "# Q_T_avg_df = get_dataframe(json_list, \"Q\", queen_bee_concentrations, \"T\", worker_bee_thresholds, \"avg\", [0.01, 0.173, 0.34, 0.5])\n",
    "# print(\"Q_T_avg_df:\")\n",
    "# print(Q_T_avg_df)\n",
    "# print(\"\\n\")\n",
    "\n",
    "# Q_T_var_df = get_dataframe(json_list, \"Q\", queen_bee_concentrations, \"T\", worker_bee_thresholds, \"var\", [0.01, 0.173, 0.34, 0.5])\n",
    "# print(\"Q_T_var_df:\")\n",
    "# print(Q_T_var_df)\n",
    "# print(\"\\n\")"
   ]
  },
  {
   "cell_type": "markdown",
   "metadata": {},
   "source": [
    "### Worker vs Coefficient"
   ]
  },
  {
   "cell_type": "code",
   "execution_count": 63,
   "metadata": {},
   "outputs": [],
   "source": [
    "# W_D_avg_df = get_dataframe(json_list, \"W\", worker_bee_concentrations, \"D\", diffusion_coefficients, \"avg\", worker_bee_concentrations)\n",
    "# print(\"W_D_avg_df:\")\n",
    "# print(W_D_avg_df)\n",
    "# print(\"\\n\")\n",
    "\n",
    "# W_D_var_df = get_dataframe(json_list, \"W\", worker_bee_concentrations, \"D\", diffusion_coefficients, \"var\", worker_bee_concentrations)\n",
    "# print(\"W_D_var_df:\")\n",
    "# print(W_D_var_df)\n",
    "# print(\"\\n\")"
   ]
  },
  {
   "cell_type": "markdown",
   "metadata": {},
   "source": [
    "### Worker vs Threshold"
   ]
  },
  {
   "cell_type": "code",
   "execution_count": 64,
   "metadata": {},
   "outputs": [],
   "source": [
    "# W_T_avg_df = get_dataframe(json_list, \"W\", worker_bee_concentrations, \"T\", worker_bee_thresholds, \"avg\", worker_bee_concentrations)\n",
    "# print(\"W_T_avg_df:\")\n",
    "# print(W_T_avg_df)\n",
    "# print(\"\\n\")\n",
    "\n",
    "# W_T_var_df = get_dataframe(json_list, \"W\", worker_bee_concentrations, \"T\", worker_bee_thresholds, \"var\", worker_bee_concentrations)\n",
    "# print(\"W_T_var_df:\")\n",
    "# print(W_T_var_df)\n",
    "# print(\"\\n\")"
   ]
  },
  {
   "cell_type": "markdown",
   "metadata": {},
   "source": [
    "### Coefficient vs Threshold"
   ]
  },
  {
   "cell_type": "code",
   "execution_count": 65,
   "metadata": {},
   "outputs": [],
   "source": [
    "# D_T_avg_df = get_dataframe(json_list, \"D\", diffusion_coefficients, \"T\", worker_bee_thresholds, \"avg\", diffusion_coefficients)\n",
    "# print(\"D_T_avg_df:\")\n",
    "# print(D_T_avg_df)\n",
    "# print(\"\\n\")\n",
    "\n",
    "# D_T_var_df = get_dataframe(json_list, \"D\", diffusion_coefficients, \"T\", worker_bee_thresholds, \"var\", diffusion_coefficients)\n",
    "# print(\"D_T_var_df:\")\n",
    "# print(D_T_var_df)\n",
    "# print(\"\\n\")"
   ]
  },
  {
   "cell_type": "markdown",
   "metadata": {},
   "source": [
    "## Plotting heatmap from dataframe for a pair of params"
   ]
  },
  {
   "cell_type": "code",
   "execution_count": 101,
   "metadata": {},
   "outputs": [],
   "source": [
    "def plot_heatmap(df_avg, df_var, x_label, y_label, filename, t_value):\n",
    "    \n",
    "    sns.set(font_scale = 1.5)\n",
    "    \n",
    "    fig, (ax1, ax2) = plt.subplots(1, 2, sharex=True, sharey=False, figsize=(14,4))\n",
    "    \n",
    "    sns.heatmap(df_avg, cmap=\"Greens\", cbar_kws={'label': 'Average distance'}, ax=ax1)\n",
    "    ax1.set_xlabel(x_label)\n",
    "    ax1.set_ylabel(y_label)\n",
    "    ax1.set_title('Average distance from queen')\n",
    "    \n",
    "    sns.heatmap(df_var, cmap=\"Blues\", cbar_kws={'label': 'Variance distance'}, ax=ax2)\n",
    "    ax2.set_xlabel(x_label)\n",
    "    ax2.set_ylabel(y_label)\n",
    "    ax2.set_title('Variance distance from queen')\n",
    "\n",
    "    ax1.invert_yaxis()\n",
    "    ax2.invert_yaxis()\n",
    "    \n",
    "    # ax1.set_xticks(x_ticks)\n",
    "\n",
    "    fig.text(0.5, 0., \"Worker activation threshold = {}\".format(t_value), ha='center', va='center')\n",
    "    # fig.text(-0.02, -0.1, y_label, ha='center', va='center')\n",
    "    \n",
    "    \n",
    "    plt.gcf().subplots_adjust(bottom=0.20)\n",
    "    # plt.title(plot_title)\n",
    "    plt.savefig('figures/param_heatmap/{}.pdf'.format(filename))"
   ]
  },
  {
   "cell_type": "code",
   "execution_count": 79,
   "metadata": {},
   "outputs": [],
   "source": [
    "# plot_heatmap(Q_W_avg_df, Q_W_var_df, 'Worker concentration', 'Queen concentration', 'Queen_Worker')\n"
   ]
  },
  {
   "cell_type": "code",
   "execution_count": 80,
   "metadata": {},
   "outputs": [],
   "source": [
    "# plot_heatmap(Q_D_avg_df, Q_D_var_df, 'Diffusion coefficient', 'Queen concentration', 'Queen_Coefficient')\n"
   ]
  },
  {
   "cell_type": "code",
   "execution_count": 81,
   "metadata": {},
   "outputs": [],
   "source": [
    "# plot_heatmap(Q_T_avg_df, Q_T_var_df, 'Activation threshold', 'Queen concentration', 'Queen_Threshold')"
   ]
  },
  {
   "cell_type": "code",
   "execution_count": 82,
   "metadata": {},
   "outputs": [],
   "source": [
    "# plot_heatmap(W_D_avg_df, W_D_var_df, 'Diffusion coefficient', 'Worker concentration', \"Worker_Coefficient\")\n"
   ]
  },
  {
   "cell_type": "code",
   "execution_count": 83,
   "metadata": {},
   "outputs": [],
   "source": [
    "# plot_heatmap(W_T_avg_df, W_T_var_df, 'Activation threshold', 'Worker concentration', \"Worker_Threshold\")\n"
   ]
  },
  {
   "cell_type": "code",
   "execution_count": 84,
   "metadata": {},
   "outputs": [],
   "source": [
    "# plot_heatmap(D_T_avg_df, D_T_var_df, 'Activation threshold', 'Diffusion coefficient', \"Coefficient_Threshold\")"
   ]
  },
  {
   "cell_type": "markdown",
   "metadata": {},
   "source": [
    "## Re-plotting with 3 free parameters while Q is fixed"
   ]
  },
  {
   "cell_type": "code",
   "execution_count": 91,
   "metadata": {},
   "outputs": [
    {
     "data": {
      "text/plain": [
       "0.001"
      ]
     },
     "execution_count": 91,
     "metadata": {},
     "output_type": "execute_result"
    }
   ],
   "source": [
    "worker_bee_thresholds[0]"
   ]
  },
  {
   "cell_type": "code",
   "execution_count": 92,
   "metadata": {},
   "outputs": [],
   "source": [
    "# Get names of all json's for a single T value - do this 4 times - each T has 16 files\n",
    "\n",
    "jsons_T_1 = list(map(lambda x : x.split(\"/\")[-1], glob2.glob(\"avg_distance_data/*T{}.json\".format(worker_bee_thresholds[0]))))\n",
    "# jsons_T_2 = list(map(lambda x : x.split(\"/\")[-1], glob2.glob(\"avg_distance_data/*.json\")))\n",
    "# jsons_T_3 = list(map(lambda x : x.split(\"/\")[-1], glob2.glob(\"avg_distance_data/*.json\")))\n",
    "# jsons_T_4 = list(map(lambda x : x.split(\"/\")[-1], glob2.glob(\"avg_distance_data/*.json\")))"
   ]
  },
  {
   "cell_type": "code",
   "execution_count": 93,
   "metadata": {},
   "outputs": [
    {
     "data": {
      "text/plain": [
       "['Q0.17333333333333334_W0.005_D0.05_T0.001.json',\n",
       " 'Q0.17333333333333334_W0.005_D0.2_T0.001.json',\n",
       " 'Q0.17333333333333334_W0.005_D0.35_T0.001.json',\n",
       " 'Q0.17333333333333334_W0.005_D0.5_T0.001.json',\n",
       " 'Q0.17333333333333334_W0.17_D0.05_T0.001.json',\n",
       " 'Q0.17333333333333334_W0.17_D0.2_T0.001.json',\n",
       " 'Q0.17333333333333334_W0.17_D0.35_T0.001.json',\n",
       " 'Q0.17333333333333334_W0.17_D0.5_T0.001.json',\n",
       " 'Q0.17333333333333334_W0.335_D0.05_T0.001.json',\n",
       " 'Q0.17333333333333334_W0.335_D0.2_T0.001.json',\n",
       " 'Q0.17333333333333334_W0.335_D0.35_T0.001.json',\n",
       " 'Q0.17333333333333334_W0.335_D0.5_T0.001.json',\n",
       " 'Q0.17333333333333334_W0.5_D0.05_T0.001.json',\n",
       " 'Q0.17333333333333334_W0.5_D0.2_T0.001.json',\n",
       " 'Q0.17333333333333334_W0.5_D0.35_T0.001.json',\n",
       " 'Q0.17333333333333334_W0.5_D0.5_T0.001.json']"
      ]
     },
     "execution_count": 93,
     "metadata": {},
     "output_type": "execute_result"
    }
   ],
   "source": [
    "jsons_T_1"
   ]
  },
  {
   "cell_type": "markdown",
   "metadata": {},
   "source": [
    "### T = 0.001 heatmaps for W vs D"
   ]
  },
  {
   "cell_type": "code",
   "execution_count": 94,
   "metadata": {},
   "outputs": [
    {
     "name": "stdout",
     "output_type": "stream",
     "text": [
      "W_D_avg_df:\n",
      "           0.05      0.20      0.35      0.50\n",
      "0.005  2.916626  0.031652  0.023642  0.022520\n",
      "0.170  3.309629  3.466017  3.492921  3.390288\n",
      "0.335  3.229457  3.577624  3.882615  3.648283\n",
      "0.500  3.224092  3.654190  3.818575  3.879653\n",
      "\n",
      "\n",
      "W_D_var_df:\n",
      "           0.05      0.20      0.35      0.50\n",
      "0.005  0.214729  0.000017  0.000002  0.000005\n",
      "0.170  0.039639  0.761280  0.647708  0.105561\n",
      "0.335  0.015453  1.145309  0.028880  0.109541\n",
      "0.500  0.012875  0.064668  0.056277  0.268176\n",
      "\n",
      "\n"
     ]
    }
   ],
   "source": [
    "W_D_avg_df_2 = get_dataframe(jsons_T_1, \"W\", worker_bee_concentrations, \"D\", diffusion_coefficients, \"avg\", worker_bee_concentrations)\n",
    "print(\"W_D_avg_df:\")\n",
    "print(W_D_avg_df_2)\n",
    "print(\"\\n\")\n",
    "\n",
    "W_D_var_df_2 = get_dataframe(jsons_T_1, \"W\", worker_bee_concentrations, \"D\", diffusion_coefficients, \"var\", worker_bee_concentrations)\n",
    "print(\"W_D_var_df:\")\n",
    "print(W_D_var_df_2)\n",
    "print(\"\\n\")"
   ]
  },
  {
   "cell_type": "code",
   "execution_count": 102,
   "metadata": {},
   "outputs": [
    {
     "data": {
      "image/png": "[encoded data removed]",
      "text/plain": [
       "<matplotlib.figure.Figure at 0x1a1f5d7c18>"
      ]
     },
     "metadata": {},
     "output_type": "display_data"
    }
   ],
   "source": [
    "plot_heatmap(W_D_avg_df_2, W_D_var_df_2, 'Diffusion coefficient', 'Worker concentration', \n",
    "             \"Threshold_0.001_Worker_Coefficient\", 0.001)\n"
   ]
  },
  {
   "cell_type": "code",
   "execution_count": null,
   "metadata": {},
   "outputs": [],
   "source": []
  }
 ],
 "metadata": {
  "kernelspec": {
   "display_name": "Python 3",
   "language": "python",
   "name": "python3"
  },
  "language_info": {
   "codemirror_mode": {
    "name": "ipython",
    "version": 3
   },
   "file_extension": ".py",
   "mimetype": "text/x-python",
   "name": "python",
   "nbconvert_exporter": "python",
   "pygments_lexer": "ipython3",
   "version": "3.6.4"
  }
 },
 "nbformat": 4,
 "nbformat_minor": 2
}
